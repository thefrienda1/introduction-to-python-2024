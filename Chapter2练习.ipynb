{
 "cells": [
  {
   "cell_type": "markdown",
   "id": "dcbc4f79-b218-4e30-a497-df42bb4edf47",
   "metadata": {},
   "source": [
    "## *2.1 简单消息*"
   ]
  },
  {
   "cell_type": "code",
   "execution_count": 2,
   "id": "1f4a67e8-7e60-4d28-91e6-244f721a30ed",
   "metadata": {
    "execution": {
     "iopub.execute_input": "2024-04-09T09:58:17.344395Z",
     "iopub.status.busy": "2024-04-09T09:58:17.344395Z",
     "iopub.status.idle": "2024-04-09T09:58:17.348041Z",
     "shell.execute_reply": "2024-04-09T09:58:17.348041Z",
     "shell.execute_reply.started": "2024-04-09T09:58:17.344395Z"
    }
   },
   "outputs": [
    {
     "name": "stdout",
     "output_type": "stream",
     "text": [
      "I don't want to study.\n"
     ]
    }
   ],
   "source": [
    "message = 'I don\\'t want to study.'\n",
    "print(message)"
   ]
  },
  {
   "cell_type": "markdown",
   "id": "ddbd19bc-f2af-4c61-b65b-b5e3a7f9710d",
   "metadata": {},
   "source": [
    "## *2.2 多条简单消息*"
   ]
  },
  {
   "cell_type": "code",
   "execution_count": 3,
   "id": "2366ed28-945f-4707-99da-c9dfada0fa0f",
   "metadata": {
    "execution": {
     "iopub.execute_input": "2024-04-09T09:59:08.100650Z",
     "iopub.status.busy": "2024-04-09T09:59:08.100650Z",
     "iopub.status.idle": "2024-04-09T09:59:08.104692Z",
     "shell.execute_reply": "2024-04-09T09:59:08.104692Z",
     "shell.execute_reply.started": "2024-04-09T09:59:08.100650Z"
    }
   },
   "outputs": [
    {
     "name": "stdout",
     "output_type": "stream",
     "text": [
      "I don't want to study.\n",
      "Me, too.\n"
     ]
    }
   ],
   "source": [
    "message = 'I don\\'t want to study.'\n",
    "print(message)\n",
    "message = 'Me, too.'\n",
    "print(message)"
   ]
  },
  {
   "cell_type": "markdown",
   "id": "ccca2a35-0733-4b27-bf64-65029f417ba3",
   "metadata": {},
   "source": [
    "## *2.3 个性化消息*"
   ]
  },
  {
   "cell_type": "code",
   "execution_count": 5,
   "id": "bc45c095-2310-44bc-89fd-cb7ee6a78cf8",
   "metadata": {
    "execution": {
     "iopub.execute_input": "2024-04-09T10:01:22.571638Z",
     "iopub.status.busy": "2024-04-09T10:01:22.571638Z",
     "iopub.status.idle": "2024-04-09T10:01:22.574985Z",
     "shell.execute_reply": "2024-04-09T10:01:22.574985Z",
     "shell.execute_reply.started": "2024-04-09T10:01:22.571638Z"
    }
   },
   "outputs": [
    {
     "name": "stdout",
     "output_type": "stream",
     "text": [
      "What's your name,Jack?\n"
     ]
    }
   ],
   "source": [
    "name = 'jack'\n",
    "print(f\"What's your name,{name.title()}?\")"
   ]
  },
  {
   "cell_type": "markdown",
   "id": "4efe3c5f-240a-4517-8ff9-8484e9a402b0",
   "metadata": {},
   "source": [
    "## *2.4 调整名字的大小写*"
   ]
  },
  {
   "cell_type": "code",
   "execution_count": 7,
   "id": "4d337584-1ad8-456c-a6b1-f064883a6f89",
   "metadata": {
    "execution": {
     "iopub.execute_input": "2024-04-09T10:02:31.620887Z",
     "iopub.status.busy": "2024-04-09T10:02:31.619887Z",
     "iopub.status.idle": "2024-04-09T10:02:31.624421Z",
     "shell.execute_reply": "2024-04-09T10:02:31.624421Z",
     "shell.execute_reply.started": "2024-04-09T10:02:31.620887Z"
    }
   },
   "outputs": [
    {
     "name": "stdout",
     "output_type": "stream",
     "text": [
      "Luo Tianyi\n",
      "LUO TIANYI\n",
      "luo tianyi\n"
     ]
    }
   ],
   "source": [
    "name = 'luo tianyi'\n",
    "print(name.title())\n",
    "print(name.upper())\n",
    "print(name.lower())"
   ]
  },
  {
   "cell_type": "markdown",
   "id": "c373f19c-7aea-42ea-97b3-311a842ed247",
   "metadata": {},
   "source": [
    "## *2.5 名言1*"
   ]
  },
  {
   "cell_type": "code",
   "execution_count": 8,
   "id": "c384f5a4-b25e-4b7b-a81a-91c31544f32d",
   "metadata": {
    "execution": {
     "iopub.execute_input": "2024-04-09T10:04:07.466963Z",
     "iopub.status.busy": "2024-04-09T10:04:07.466963Z",
     "iopub.status.idle": "2024-04-09T10:04:07.470607Z",
     "shell.execute_reply": "2024-04-09T10:04:07.470607Z",
     "shell.execute_reply.started": "2024-04-09T10:04:07.466963Z"
    }
   },
   "outputs": [
    {
     "name": "stdout",
     "output_type": "stream",
     "text": [
      "Otto once said,'Jungle, is this your fault?'\n"
     ]
    }
   ],
   "source": [
    "print(\"Otto once said,'Jungle, is this your fault?'\")"
   ]
  },
  {
   "cell_type": "markdown",
   "id": "f06b9ab8-1ecc-47d7-a27c-0a01d8d8410f",
   "metadata": {},
   "source": [
    "## *2.6 名言2*"
   ]
  },
  {
   "cell_type": "code",
   "execution_count": 10,
   "id": "4905cd03-8f70-4d99-b6a0-cb306d66025a",
   "metadata": {
    "execution": {
     "iopub.execute_input": "2024-04-09T10:05:53.730211Z",
     "iopub.status.busy": "2024-04-09T10:05:53.730211Z",
     "iopub.status.idle": "2024-04-09T10:05:53.733769Z",
     "shell.execute_reply": "2024-04-09T10:05:53.733769Z",
     "shell.execute_reply.started": "2024-04-09T10:05:53.730211Z"
    }
   },
   "outputs": [
    {
     "name": "stdout",
     "output_type": "stream",
     "text": [
      "Luo Tianyi once said, Jungle, is this your fault?\n"
     ]
    }
   ],
   "source": [
    "famous_person = 'otto'\n",
    "message = 'Jungle, is this your fault?'\n",
    "print(f\"{name.title()} once said, {message}\")"
   ]
  },
  {
   "cell_type": "markdown",
   "id": "b04183a1-f58f-47d3-b761-408e9fbf5524",
   "metadata": {},
   "source": [
    "## *2.7 删除人名中的空白*"
   ]
  },
  {
   "cell_type": "code",
   "execution_count": 34,
   "id": "a40e7bb5-44d6-42ba-90dc-ad8f9012d6ff",
   "metadata": {
    "execution": {
     "iopub.execute_input": "2024-04-09T10:15:06.737471Z",
     "iopub.status.busy": "2024-04-09T10:15:06.737471Z",
     "iopub.status.idle": "2024-04-09T10:15:06.743291Z",
     "shell.execute_reply": "2024-04-09T10:15:06.743291Z",
     "shell.execute_reply.started": "2024-04-09T10:15:06.737471Z"
    }
   },
   "outputs": [
    {
     "name": "stdout",
     "output_type": "stream",
     "text": [
      "  \t luo \n",
      "tianyi  \n",
      "  \t luo \n",
      "tianyi\n",
      "luo \n",
      "tianyi  \n",
      "luo \n",
      "tianyi\n"
     ]
    }
   ],
   "source": [
    "name = '  \\t luo \\ntianyi  '\n",
    "print(name)\n",
    "print(name.rstrip())\n",
    "print(name.lstrip())\n",
    "print(name.strip())"
   ]
  },
  {
   "cell_type": "markdown",
   "id": "574f1534-632a-468d-a668-ba7c08a64b2f",
   "metadata": {},
   "source": [
    "## *2.8 文件扩展名*"
   ]
  },
  {
   "cell_type": "code",
   "execution_count": 35,
   "id": "bc1c8cbf-7206-4922-be1c-2cb5b8f59dd0",
   "metadata": {
    "execution": {
     "iopub.execute_input": "2024-04-09T10:17:29.734002Z",
     "iopub.status.busy": "2024-04-09T10:17:29.734002Z",
     "iopub.status.idle": "2024-04-09T10:17:29.737345Z",
     "shell.execute_reply": "2024-04-09T10:17:29.737345Z",
     "shell.execute_reply.started": "2024-04-09T10:17:29.734002Z"
    }
   },
   "outputs": [
    {
     "name": "stdout",
     "output_type": "stream",
     "text": [
      "python_notes\n"
     ]
    }
   ],
   "source": [
    "filename = 'python_notes.txt'\n",
    "print(filename.removesuffix('.txt'))"
   ]
  },
  {
   "cell_type": "markdown",
   "id": "67cee665-e9a3-4b91-ab4a-33dbbb330fd8",
   "metadata": {},
   "source": [
    "## *2.9 数字8*"
   ]
  },
  {
   "cell_type": "code",
   "execution_count": 37,
   "id": "3ab6ae7e-61b1-4c4f-94c6-24d7266b89e4",
   "metadata": {
    "execution": {
     "iopub.execute_input": "2024-04-09T10:18:50.848666Z",
     "iopub.status.busy": "2024-04-09T10:18:50.848666Z",
     "iopub.status.idle": "2024-04-09T10:18:50.853020Z",
     "shell.execute_reply": "2024-04-09T10:18:50.852447Z",
     "shell.execute_reply.started": "2024-04-09T10:18:50.848666Z"
    }
   },
   "outputs": [
    {
     "name": "stdout",
     "output_type": "stream",
     "text": [
      "8\n",
      "8\n",
      "8\n",
      "8.0\n"
     ]
    }
   ],
   "source": [
    "print(4+4)\n",
    "print(10-2)\n",
    "print(2*2*2)\n",
    "print(16/2)"
   ]
  },
  {
   "cell_type": "markdown",
   "id": "1b54a94b-d6e0-4948-af25-97ff16a15cde",
   "metadata": {},
   "source": [
    "## *2.10 最喜欢的数*"
   ]
  },
  {
   "cell_type": "code",
   "execution_count": 38,
   "id": "6675af77-8241-4b0a-ae82-7b225f4722b1",
   "metadata": {
    "execution": {
     "iopub.execute_input": "2024-04-09T10:20:56.492407Z",
     "iopub.status.busy": "2024-04-09T10:20:56.492407Z",
     "iopub.status.idle": "2024-04-09T10:20:56.495435Z",
     "shell.execute_reply": "2024-04-09T10:20:56.495435Z",
     "shell.execute_reply.started": "2024-04-09T10:20:56.492407Z"
    }
   },
   "outputs": [
    {
     "name": "stdout",
     "output_type": "stream",
     "text": [
      "My favorite number is 13.\n"
     ]
    }
   ],
   "source": [
    "num = 13\n",
    "print(f'My favorite number is {num}.')"
   ]
  },
  {
   "cell_type": "markdown",
   "id": "f46784df-08cf-4a23-94e1-9b11147b5278",
   "metadata": {},
   "source": [
    "## *2.11 添加注释*"
   ]
  },
  {
   "cell_type": "code",
   "execution_count": 39,
   "id": "ec146c79-859c-4ccc-8664-768ce701b6d9",
   "metadata": {
    "execution": {
     "iopub.execute_input": "2024-04-09T10:21:55.242889Z",
     "iopub.status.busy": "2024-04-09T10:21:55.242889Z",
     "iopub.status.idle": "2024-04-09T10:21:55.256157Z",
     "shell.execute_reply": "2024-04-09T10:21:55.256157Z",
     "shell.execute_reply.started": "2024-04-09T10:21:55.242889Z"
    }
   },
   "outputs": [
    {
     "name": "stdout",
     "output_type": "stream",
     "text": [
      "python_notes\n"
     ]
    }
   ],
   "source": [
    "# removeprefix删除前缀，removesuffix删除后缀\n",
    "filename = 'python_notes.txt'\n",
    "print(filename.removesuffix('.txt'))"
   ]
  },
  {
   "cell_type": "markdown",
   "id": "b7a9ee19-5a90-4799-89e4-d8c046789ed5",
   "metadata": {},
   "source": [
    "## *2.12 Python之禅*"
   ]
  },
  {
   "cell_type": "code",
   "execution_count": 40,
   "id": "59fd902c-8b84-4cc5-bd27-c7f65c57bd60",
   "metadata": {
    "execution": {
     "iopub.execute_input": "2024-04-09T10:22:08.904562Z",
     "iopub.status.busy": "2024-04-09T10:22:08.904562Z",
     "iopub.status.idle": "2024-04-09T10:22:08.911370Z",
     "shell.execute_reply": "2024-04-09T10:22:08.911370Z",
     "shell.execute_reply.started": "2024-04-09T10:22:08.904562Z"
    }
   },
   "outputs": [
    {
     "name": "stdout",
     "output_type": "stream",
     "text": [
      "The Zen of Python, by Tim Peters\n",
      "\n",
      "Beautiful is better than ugly.\n",
      "Explicit is better than implicit.\n",
      "Simple is better than complex.\n",
      "Complex is better than complicated.\n",
      "Flat is better than nested.\n",
      "Sparse is better than dense.\n",
      "Readability counts.\n",
      "Special cases aren't special enough to break the rules.\n",
      "Although practicality beats purity.\n",
      "Errors should never pass silently.\n",
      "Unless explicitly silenced.\n",
      "In the face of ambiguity, refuse the temptation to guess.\n",
      "There should be one-- and preferably only one --obvious way to do it.\n",
      "Although that way may not be obvious at first unless you're Dutch.\n",
      "Now is better than never.\n",
      "Although never is often better than *right* now.\n",
      "If the implementation is hard to explain, it's a bad idea.\n",
      "If the implementation is easy to explain, it may be a good idea.\n",
      "Namespaces are one honking great idea -- let's do more of those!\n"
     ]
    }
   ],
   "source": [
    "import this"
   ]
  },
  {
   "cell_type": "code",
   "execution_count": null,
   "id": "361f7f50-9a09-4bae-9c99-10337d32cf0f",
   "metadata": {},
   "outputs": [],
   "source": []
  }
 ],
 "metadata": {
  "kernelspec": {
   "display_name": "Python 3 (ipykernel)",
   "language": "python",
   "name": "python3"
  },
  "language_info": {
   "codemirror_mode": {
    "name": "ipython",
    "version": 3
   },
   "file_extension": ".py",
   "mimetype": "text/x-python",
   "name": "python",
   "nbconvert_exporter": "python",
   "pygments_lexer": "ipython3",
   "version": "3.11.7"
  }
 },
 "nbformat": 4,
 "nbformat_minor": 5
}
