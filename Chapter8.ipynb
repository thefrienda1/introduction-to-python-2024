{
 "cells": [
  {
   "cell_type": "markdown",
   "id": "c10b5cb9-9efa-4b02-b845-d05f67405e19",
   "metadata": {},
   "source": [
    "# **第8章 函数**"
   ]
  },
  {
   "cell_type": "markdown",
   "id": "070ad86e-62dc-4065-95f6-25cccee226c8",
   "metadata": {},
   "source": [
    "## **8.1 定义函数**"
   ]
  },
  {
   "cell_type": "code",
   "execution_count": 4,
   "id": "addf4d0b-d331-4a25-8782-f60053718a6d",
   "metadata": {
    "execution": {
     "iopub.execute_input": "2024-04-12T01:54:55.388314Z",
     "iopub.status.busy": "2024-04-12T01:54:55.388314Z",
     "iopub.status.idle": "2024-04-12T01:54:55.393095Z",
     "shell.execute_reply": "2024-04-12T01:54:55.392535Z",
     "shell.execute_reply.started": "2024-04-12T01:54:55.388314Z"
    }
   },
   "outputs": [
    {
     "name": "stdout",
     "output_type": "stream",
     "text": [
      "Hello!\n"
     ]
    }
   ],
   "source": [
    "def greet_user():\n",
    "    \"\"\"显示简单的问候语\"\"\"\n",
    "    print(\"Hello!\")\n",
    "\n",
    "greet_user()"
   ]
  },
  {
   "cell_type": "code",
   "execution_count": 5,
   "id": "2ee9e113-d5b9-49ad-a3b2-f45c22ebe191",
   "metadata": {
    "execution": {
     "iopub.execute_input": "2024-04-12T01:55:10.564172Z",
     "iopub.status.busy": "2024-04-12T01:55:10.564172Z",
     "iopub.status.idle": "2024-04-12T01:55:10.567372Z",
     "shell.execute_reply": "2024-04-12T01:55:10.567372Z",
     "shell.execute_reply.started": "2024-04-12T01:55:10.564172Z"
    }
   },
   "outputs": [
    {
     "name": "stdout",
     "output_type": "stream",
     "text": [
      "Hello!\n"
     ]
    }
   ],
   "source": [
    "greet_user()"
   ]
  },
  {
   "cell_type": "markdown",
   "id": "9c7d7703-7dc0-4cae-b2ff-8f89d626032a",
   "metadata": {},
   "source": [
    "### **8.1.1 向函数传递信息**"
   ]
  },
  {
   "cell_type": "code",
   "execution_count": 8,
   "id": "510114d5-3f8e-4634-a7b2-02c32d6fd140",
   "metadata": {
    "execution": {
     "iopub.execute_input": "2024-04-12T01:59:45.622308Z",
     "iopub.status.busy": "2024-04-12T01:59:45.622308Z",
     "iopub.status.idle": "2024-04-12T01:59:45.640014Z",
     "shell.execute_reply": "2024-04-12T01:59:45.640014Z",
     "shell.execute_reply.started": "2024-04-12T01:59:45.622308Z"
    }
   },
   "outputs": [
    {
     "name": "stdout",
     "output_type": "stream",
     "text": [
      "Hello,Jesse!\n",
      "Hello,Sarah!\n"
     ]
    }
   ],
   "source": [
    "def greet_user(username):\n",
    "    \"\"\"显示简单的问候语并以用户名为抬头\"\"\"\n",
    "    print(f\"Hello,{username.title()}!\")\n",
    "greet_user('jesse')\n",
    "greet_user('sarah')"
   ]
  },
  {
   "cell_type": "markdown",
   "id": "a0466b4a-1d51-4bb6-ac15-3f955e5387ca",
   "metadata": {},
   "source": [
    "### **8.1.2 实参和形参**"
   ]
  },
  {
   "cell_type": "code",
   "execution_count": null,
   "id": "7b548b6c-9f06-43ca-a195-f591a87346ae",
   "metadata": {},
   "outputs": [],
   "source": [
    "#变量username是一个形参，值'jesse'是一个实参，我们将实参传递给函数，这个值被赋给了形参"
   ]
  },
  {
   "cell_type": "markdown",
   "id": "107856ef-350c-4a3f-a52c-0626058ad755",
   "metadata": {},
   "source": [
    "## **8.2 传递实参**"
   ]
  },
  {
   "cell_type": "markdown",
   "id": "bacea276-185d-4a8a-9f81-33431eaaddb1",
   "metadata": {},
   "source": [
    "### **8.2.1 位置实参**"
   ]
  },
  {
   "cell_type": "code",
   "execution_count": 1,
   "id": "d9e61be5-ac66-44e2-944e-bddb8d33b25e",
   "metadata": {
    "execution": {
     "iopub.execute_input": "2024-04-22T11:58:15.541833Z",
     "iopub.status.busy": "2024-04-22T11:58:15.541833Z",
     "iopub.status.idle": "2024-04-22T11:58:15.551704Z",
     "shell.execute_reply": "2024-04-22T11:58:15.551704Z",
     "shell.execute_reply.started": "2024-04-22T11:58:15.541833Z"
    }
   },
   "outputs": [
    {
     "name": "stdout",
     "output_type": "stream",
     "text": [
      "\n",
      "I have a hamster.\n",
      "My hamster's name is Harry.\n",
      "\n",
      "I have a cat.\n",
      "My cat's name is Kitty.\n",
      "\n",
      "I have a harry.\n",
      "My harry's name is Hamster.\n"
     ]
    }
   ],
   "source": [
    "def describe_pet(animal_type, pet_name):\n",
    "    \"\"\"显示宠物的信息\"\"\"\n",
    "    print(f\"\\nI have a {animal_type}.\")\n",
    "    print(f\"My {animal_type}'s name is {pet_name.title()}.\")\n",
    "\n",
    "#位置实参即一一对应\n",
    "describe_pet('hamster', 'harry')\n",
    "describe_pet('cat', 'kitty')\n",
    "describe_pet('harry', 'hamster')"
   ]
  },
  {
   "cell_type": "markdown",
   "id": "4d792033-134a-4df1-8df2-ce6774972f9b",
   "metadata": {},
   "source": [
    "### **8.2.2 关键字实参**"
   ]
  },
  {
   "cell_type": "code",
   "execution_count": 13,
   "id": "a6250972-ac57-48e9-ab97-fa5a28bcfb6f",
   "metadata": {
    "execution": {
     "iopub.execute_input": "2024-04-12T02:46:41.896418Z",
     "iopub.status.busy": "2024-04-12T02:46:41.896418Z",
     "iopub.status.idle": "2024-04-12T02:46:41.901327Z",
     "shell.execute_reply": "2024-04-12T02:46:41.901327Z",
     "shell.execute_reply.started": "2024-04-12T02:46:41.896418Z"
    }
   },
   "outputs": [
    {
     "name": "stdout",
     "output_type": "stream",
     "text": [
      "\n",
      "I have a hamster.\n",
      "My hamster's name is Harry.\n",
      "\n",
      "I have a hamster.\n",
      "My hamster's name is Harry.\n"
     ]
    }
   ],
   "source": [
    "def describe_pet(animal_type, pet_name):\n",
    "    \"\"\"显示宠物的信息\"\"\"\n",
    "    print(f\"\\nI have a {animal_type}.\")\n",
    "    print(f\"My {animal_type}'s name is {pet_name.title()}.\")\n",
    "\n",
    "describe_pet(animal_type='hamster', pet_name='harry')\n",
    "#名值对，在实参中将名称与值相关联，无需考虑顺序\n",
    "describe_pet(pet_name='harry',animal_type='hamster')"
   ]
  },
  {
   "cell_type": "markdown",
   "id": "1f472ae3-eb95-4404-a30a-988bb6e889f8",
   "metadata": {},
   "source": [
    "### **8.2.3 默认值**"
   ]
  },
  {
   "cell_type": "code",
   "execution_count": 19,
   "id": "b25ffd05-ef2b-47bd-bb1f-55567168b4e8",
   "metadata": {
    "execution": {
     "iopub.execute_input": "2024-04-12T02:57:24.411869Z",
     "iopub.status.busy": "2024-04-12T02:57:24.411869Z",
     "iopub.status.idle": "2024-04-12T02:57:24.416497Z",
     "shell.execute_reply": "2024-04-12T02:57:24.416497Z",
     "shell.execute_reply.started": "2024-04-12T02:57:24.411869Z"
    }
   },
   "outputs": [
    {
     "name": "stdout",
     "output_type": "stream",
     "text": [
      "\n",
      "I have a dog.\n",
      "My dog's name is Lucy.\n",
      "\n",
      "I have a dog.\n",
      "My dog's name is Lucy.\n",
      "\n",
      "I have a cat.\n",
      "My cat's name is Lucy.\n"
     ]
    }
   ],
   "source": [
    "#必须先列出没有默认值的形参\n",
    "def describe_pet(pet_name,animal_type='dog'):\n",
    "    \"\"\"显示宠物的信息\"\"\"\n",
    "    print(f\"\\nI have a {animal_type}.\")\n",
    "    print(f\"My {animal_type}'s name is {pet_name.title()}.\")\n",
    "\n",
    "describe_pet(pet_name='lucy')\n",
    "describe_pet('lucy')\n",
    "describe_pet(pet_name='lucy',animal_type='cat')"
   ]
  },
  {
   "cell_type": "markdown",
   "id": "081fd2ec-17fa-4fb0-b41a-bd7e052a9388",
   "metadata": {},
   "source": [
    "### **8.2.4 等效的函数调用**"
   ]
  },
  {
   "cell_type": "code",
   "execution_count": 2,
   "id": "7d8442ff-dc75-4333-8e16-b30e6fcfbc24",
   "metadata": {
    "execution": {
     "iopub.execute_input": "2024-04-22T14:10:16.109106Z",
     "iopub.status.busy": "2024-04-22T14:10:16.109106Z",
     "iopub.status.idle": "2024-04-22T14:10:16.116828Z",
     "shell.execute_reply": "2024-04-22T14:10:16.116828Z",
     "shell.execute_reply.started": "2024-04-22T14:10:16.109106Z"
    }
   },
   "outputs": [
    {
     "name": "stdout",
     "output_type": "stream",
     "text": [
      "\n",
      "I have a dog.\n",
      "My dog's name is Lucy.\n",
      "\n",
      "I have a dog.\n",
      "My dog's name is Lucy.\n",
      "\n",
      "I have a cat.\n",
      "My cat's name is Lucy.\n",
      "\n",
      "I have a hamsetr.\n",
      "My hamsetr's name is Harry.\n",
      "\n",
      "I have a hamster.\n",
      "My hamster's name is Harry.\n"
     ]
    }
   ],
   "source": [
    "def describe_pet(pet_name,animal_type='dog'):\n",
    "    \"\"\"显示宠物的信息\"\"\"\n",
    "    print(f\"\\nI have a {animal_type}.\")\n",
    "    print(f\"My {animal_type}'s name is {pet_name.title()}.\")\n",
    "\n",
    "describe_pet(pet_name='lucy')#关键字实参\n",
    "describe_pet('lucy')#位置实参\n",
    "describe_pet(pet_name='lucy',animal_type='cat')#关键字\n",
    "describe_pet('harry','hamsetr')#位置\n",
    "describe_pet(animal_type='hamster',pet_name='harry')#关键字"
   ]
  },
  {
   "cell_type": "markdown",
   "id": "9dd0c4ad-6642-4e41-95e1-02d0b40bdf18",
   "metadata": {},
   "source": [
    "### **8.2.5 避免实参错误**"
   ]
  },
  {
   "cell_type": "code",
   "execution_count": 4,
   "id": "8e9d2415-35f7-4d2e-897e-dbf11edb5124",
   "metadata": {
    "execution": {
     "iopub.execute_input": "2024-04-22T14:11:41.127648Z",
     "iopub.status.busy": "2024-04-22T14:11:41.126651Z",
     "iopub.status.idle": "2024-04-22T14:11:41.144141Z",
     "shell.execute_reply": "2024-04-22T14:11:41.143133Z",
     "shell.execute_reply.started": "2024-04-22T14:11:41.127648Z"
    }
   },
   "outputs": [
    {
     "ename": "TypeError",
     "evalue": "describe_pet() missing 2 required positional arguments: 'pet_name' and 'animal_type'",
     "output_type": "error",
     "traceback": [
      "\u001b[1;31m---------------------------------------------------------------------------\u001b[0m",
      "\u001b[1;31mTypeError\u001b[0m                                 Traceback (most recent call last)",
      "Cell \u001b[1;32mIn[4], line 6\u001b[0m\n\u001b[0;32m      4\u001b[0m     \u001b[38;5;28mprint\u001b[39m(\u001b[38;5;124mf\u001b[39m\u001b[38;5;124m\"\u001b[39m\u001b[38;5;124mMy \u001b[39m\u001b[38;5;132;01m{\u001b[39;00manimal_type\u001b[38;5;132;01m}\u001b[39;00m\u001b[38;5;124m'\u001b[39m\u001b[38;5;124ms name is \u001b[39m\u001b[38;5;132;01m{\u001b[39;00mpet_name\u001b[38;5;241m.\u001b[39mtitle()\u001b[38;5;132;01m}\u001b[39;00m\u001b[38;5;124m.\u001b[39m\u001b[38;5;124m\"\u001b[39m)\n\u001b[0;32m      5\u001b[0m \u001b[38;5;66;03m#未指定实参出现错误\u001b[39;00m\n\u001b[1;32m----> 6\u001b[0m describe_pet()\n",
      "\u001b[1;31mTypeError\u001b[0m: describe_pet() missing 2 required positional arguments: 'pet_name' and 'animal_type'"
     ]
    }
   ],
   "source": [
    "def describe_pet(pet_name,animal_type):\n",
    "    \"\"\"显示宠物的信息\"\"\"\n",
    "    print(f\"\\nI have a {animal_type}.\")\n",
    "    print(f\"My {animal_type}'s name is {pet_name.title()}.\")\n",
    "#未指定实参出现错误\n",
    "describe_pet()"
   ]
  },
  {
   "cell_type": "markdown",
   "id": "312ce5ea-c9b1-45f7-a793-dd852664d50a",
   "metadata": {},
   "source": [
    "## **8.3 返回值**"
   ]
  },
  {
   "cell_type": "markdown",
   "id": "75b77b8c-f37b-4426-9b2a-ea5fdaf3b12d",
   "metadata": {},
   "source": [
    "### **8.3.1 返回简单的值**"
   ]
  },
  {
   "cell_type": "code",
   "execution_count": 22,
   "id": "d083db32-f42a-45bc-b1f0-6843e092d2c0",
   "metadata": {
    "execution": {
     "iopub.execute_input": "2024-04-12T03:16:17.071053Z",
     "iopub.status.busy": "2024-04-12T03:16:17.071053Z",
     "iopub.status.idle": "2024-04-12T03:16:17.075959Z",
     "shell.execute_reply": "2024-04-12T03:16:17.075959Z",
     "shell.execute_reply.started": "2024-04-12T03:16:17.071053Z"
    }
   },
   "outputs": [
    {
     "name": "stdout",
     "output_type": "stream",
     "text": [
      "Jimi Hendrix\n"
     ]
    }
   ],
   "source": [
    "def get_formatted_name(first_name, last_name):\n",
    "    \"\"\"返回标准格式的姓名\"\"\"\n",
    "    full_name = f\"{first_name} {last_name}\"#将姓名赋给fullname\n",
    "    return full_name.title()#返回大写的fullname\n",
    "\n",
    "musician = get_formatted_name('jimi','hendrix')\n",
    "print(musician)"
   ]
  },
  {
   "cell_type": "markdown",
   "id": "f481da12-2b80-470d-985c-d599b8a924cf",
   "metadata": {},
   "source": [
    "### **8.3.2 让实参变成可选的**"
   ]
  },
  {
   "cell_type": "code",
   "execution_count": 23,
   "id": "ebcb3181-4b82-4214-99c8-33faabc06097",
   "metadata": {
    "execution": {
     "iopub.execute_input": "2024-04-12T03:20:50.477424Z",
     "iopub.status.busy": "2024-04-12T03:20:50.477424Z",
     "iopub.status.idle": "2024-04-12T03:20:50.483506Z",
     "shell.execute_reply": "2024-04-12T03:20:50.482506Z",
     "shell.execute_reply.started": "2024-04-12T03:20:50.477424Z"
    }
   },
   "outputs": [
    {
     "name": "stdout",
     "output_type": "stream",
     "text": [
      "Jimi Lee Hendrix\n"
     ]
    }
   ],
   "source": [
    "def get_formatted_name(first_name, middle_name, last_name):\n",
    "    \"\"\"返回标准格式的姓名\"\"\"\n",
    "    full_name = f\"{first_name} {middle_name} {last_name}\"\n",
    "    return full_name.title()\n",
    "\n",
    "musician = get_formatted_name('jimi','lee','hendrix')\n",
    "print(musician)"
   ]
  },
  {
   "cell_type": "code",
   "execution_count": 5,
   "id": "c74b839f-e415-499f-be55-e3050543fff9",
   "metadata": {
    "execution": {
     "iopub.execute_input": "2024-04-22T14:17:47.936696Z",
     "iopub.status.busy": "2024-04-22T14:17:47.936696Z",
     "iopub.status.idle": "2024-04-22T14:17:47.949680Z",
     "shell.execute_reply": "2024-04-22T14:17:47.949680Z",
     "shell.execute_reply.started": "2024-04-22T14:17:47.936696Z"
    }
   },
   "outputs": [
    {
     "name": "stdout",
     "output_type": "stream",
     "text": [
      "Jimi Hendrix\n",
      "Jimi Lee Hendrix\n"
     ]
    }
   ],
   "source": [
    "def get_formatted_name(first_name, last_name, middle_name=''):#给形参middle指定一个空字符串默认值\n",
    "    \"\"\"返回标准格式的姓名\"\"\"\n",
    "    #如果middlename不为空，那么输出三个，否则输出两个\n",
    "    if middle_name:\n",
    "        full_name = f\"{first_name} {middle_name} {last_name}\"\n",
    "    else:\n",
    "        full_name = f\"{first_name} {last_name}\"\n",
    "    return full_name.title()\n",
    "\n",
    "musician = get_formatted_name('jimi','hendrix')\n",
    "print(musician)\n",
    "musician = get_formatted_name('jimi','hendrix','lee')\n",
    "print(musician)"
   ]
  },
  {
   "cell_type": "markdown",
   "id": "8d6ca6e8-0e1e-4f40-b182-a51b5e1389d1",
   "metadata": {},
   "source": [
    "### **8.3.3 返回字典**"
   ]
  },
  {
   "cell_type": "code",
   "execution_count": 6,
   "id": "bd22dae2-183e-4de0-b920-17b123984943",
   "metadata": {
    "execution": {
     "iopub.execute_input": "2024-04-22T14:28:27.571860Z",
     "iopub.status.busy": "2024-04-22T14:28:27.570863Z",
     "iopub.status.idle": "2024-04-22T14:28:27.576282Z",
     "shell.execute_reply": "2024-04-22T14:28:27.576282Z",
     "shell.execute_reply.started": "2024-04-22T14:28:27.571860Z"
    }
   },
   "outputs": [
    {
     "name": "stdout",
     "output_type": "stream",
     "text": [
      "{'first': 'jimi', 'last': 'hendrix'}\n",
      "{'first': 'jimi', 'last': 'hendrix', 'age': 11}\n"
     ]
    }
   ],
   "source": [
    "def build_person(first_name, last_name,age=''):\n",
    "    \"\"\"返回一个字典，其中包含有关一个人的信息\"\"\"\n",
    "    person = {'first': first_name, 'last': last_name}\n",
    "    #age形参为可选，如果有age，则将其存储至字典\n",
    "    if age:\n",
    "        person['age'] = age\n",
    "    return person\n",
    "\n",
    "musician = build_person('jimi','hendrix')\n",
    "print(musician)\n",
    "musician = build_person('jimi','hendrix',age=11)\n",
    "print(musician)"
   ]
  },
  {
   "cell_type": "markdown",
   "id": "c82103a9-7257-484a-9e32-2dc6c4487afd",
   "metadata": {},
   "source": [
    "### **8.3.4 结合使用函数和while循环**"
   ]
  },
  {
   "cell_type": "code",
   "execution_count": 31,
   "id": "ad40319b-6a5d-4bf9-97ea-8aa8f02d390e",
   "metadata": {
    "execution": {
     "iopub.execute_input": "2024-04-12T03:41:43.358090Z",
     "iopub.status.busy": "2024-04-12T03:41:43.358090Z",
     "iopub.status.idle": "2024-04-12T03:42:12.114228Z",
     "shell.execute_reply": "2024-04-12T03:42:12.113226Z",
     "shell.execute_reply.started": "2024-04-12T03:41:43.358090Z"
    }
   },
   "outputs": [
    {
     "name": "stdout",
     "output_type": "stream",
     "text": [
      "\n",
      "Please tell me your name:\n",
      "(enter 'q' at any time to quit)\n"
     ]
    },
    {
     "name": "stdin",
     "output_type": "stream",
     "text": [
      "First name: si\n",
      "Last name: wei\n"
     ]
    },
    {
     "name": "stdout",
     "output_type": "stream",
     "text": [
      "Hello, Si Wei\n",
      "\n",
      "Please tell me your name:\n",
      "(enter 'q' at any time to quit)\n"
     ]
    },
    {
     "name": "stdin",
     "output_type": "stream",
     "text": [
      "First name: li\n",
      "Last name: hua\n"
     ]
    },
    {
     "name": "stdout",
     "output_type": "stream",
     "text": [
      "Hello, Li Hua\n",
      "\n",
      "Please tell me your name:\n",
      "(enter 'q' at any time to quit)\n"
     ]
    },
    {
     "name": "stdin",
     "output_type": "stream",
     "text": [
      "First name: q\n"
     ]
    }
   ],
   "source": [
    "def get_formatted_name(first_name, last_name):\n",
    "    \"\"\"返回标准格式的姓名\"\"\"\n",
    "    full_name = f\"{first_name} {last_name}\"\n",
    "    return full_name.title()\n",
    "\n",
    "while True:\n",
    "    print(\"\\nPlease tell me your name:\")\n",
    "    print(\"(enter 'q' at any time to quit)\")\n",
    "    f_name = input(\"First name:\")\n",
    "    if f_name == 'q':\n",
    "        break\n",
    "    l_name = input(\"Last name:\")\n",
    "    if l_name == 'q':\n",
    "        break\n",
    "\n",
    "    formatted_name = get_formatted_name(f_name, l_name)\n",
    "    print(f\"Hello, {formatted_name}\")\n",
    "    "
   ]
  },
  {
   "cell_type": "markdown",
   "id": "2063f354-51fe-4493-8568-708984afec24",
   "metadata": {},
   "source": [
    "## **8.4 传递列表**"
   ]
  },
  {
   "cell_type": "code",
   "execution_count": 7,
   "id": "3c7638b1-cac4-4000-be8e-5472d0ea3a44",
   "metadata": {
    "execution": {
     "iopub.execute_input": "2024-04-22T14:30:54.228997Z",
     "iopub.status.busy": "2024-04-22T14:30:54.228997Z",
     "iopub.status.idle": "2024-04-22T14:30:54.234858Z",
     "shell.execute_reply": "2024-04-22T14:30:54.233859Z",
     "shell.execute_reply.started": "2024-04-22T14:30:54.228997Z"
    }
   },
   "outputs": [
    {
     "name": "stdout",
     "output_type": "stream",
     "text": [
      "Hello, Alice!\n",
      "Hello, Jack!\n",
      "Hello, Peter!\n"
     ]
    }
   ],
   "source": [
    "def greet_users(names):\n",
    "    \"\"\"向列表中的每个用户发出简单问候\"\"\"\n",
    "    #直接创建列表names\n",
    "    for name in names:\n",
    "        msg = f\"Hello, {name.title()}!\"\n",
    "        print(msg)\n",
    "\n",
    "usernames = ['alice','jack','peter']\n",
    "greet_users(usernames)"
   ]
  },
  {
   "cell_type": "markdown",
   "id": "1462fd30-abd4-42c1-a217-456dfb28abc5",
   "metadata": {},
   "source": [
    "### **8.4.1 在函数中修改列表**"
   ]
  },
  {
   "cell_type": "code",
   "execution_count": 33,
   "id": "77cd2ae1-4081-488c-bb36-8917ac47659a",
   "metadata": {
    "execution": {
     "iopub.execute_input": "2024-04-14T04:33:13.633650Z",
     "iopub.status.busy": "2024-04-14T04:33:13.632653Z",
     "iopub.status.idle": "2024-04-14T04:33:13.650392Z",
     "shell.execute_reply": "2024-04-14T04:33:13.650392Z",
     "shell.execute_reply.started": "2024-04-14T04:33:13.633650Z"
    }
   },
   "outputs": [
    {
     "name": "stdout",
     "output_type": "stream",
     "text": [
      "Printing model: dodecahedron\n",
      "Printing model: robot pendant\n",
      "Printing model: phone case\n",
      "\n",
      "The following models have been printed:\n",
      "dodecahedron\n",
      "robot pendant\n",
      "phone case\n"
     ]
    }
   ],
   "source": [
    "unprinted_designs = ['phone case', 'robot pendant', 'dodecahedron']\n",
    "completed_models = []\n",
    "while unprinted_designs:\n",
    "    current_design = unprinted_designs.pop()\n",
    "    print(f\"Printing model: {current_design}\")\n",
    "    completed_models.append(current_design)\n",
    "print(\"\\nThe following models have been printed:\")\n",
    "for completed_model in completed_models:\n",
    "    print(completed_model)"
   ]
  },
  {
   "cell_type": "code",
   "execution_count": 8,
   "id": "8996a63f-e288-4327-930e-1655afd162dd",
   "metadata": {
    "execution": {
     "iopub.execute_input": "2024-04-23T05:59:41.720002Z",
     "iopub.status.busy": "2024-04-23T05:59:41.720002Z",
     "iopub.status.idle": "2024-04-23T05:59:41.726446Z",
     "shell.execute_reply": "2024-04-23T05:59:41.725662Z",
     "shell.execute_reply.started": "2024-04-23T05:59:41.720002Z"
    }
   },
   "outputs": [
    {
     "name": "stdout",
     "output_type": "stream",
     "text": [
      "Printing model: dodecahedron\n",
      "Printing model: robot pendant\n",
      "Printing model: phone case\n",
      "\n",
      "The following models have been printed:\n",
      "dodecahedron\n",
      "robot pendant\n",
      "phone case\n"
     ]
    }
   ],
   "source": [
    "def print_models(unprinted_designs, completed_models):\n",
    "    \"\"\"\n",
    "    模拟打印每个设计，直到没有未打印的设计为止\n",
    "    打印每个设计后，都将其移到列表completed_models中\n",
    "    \"\"\"\n",
    "    #当unprinted_designs不为空列表时，循环一直进行下去\n",
    "    while unprinted_designs:\n",
    "        current_design = unprinted_designs.pop()#将未打印的列表通过pop方法删除末尾并将其赋给一个变量\n",
    "        print(f\"Printing model: {current_design}\")\n",
    "        completed_models.append(current_design)\n",
    "\n",
    "def show_completed_models(completed_models):\n",
    "    \"\"\"显示打印好的所有模型\"\"\"\n",
    "    print(\"\\nThe following models have been printed:\")\n",
    "    for completed_model in completed_models:\n",
    "        print(completed_model)\n",
    "\n",
    "unprinted_designs = ['phone case', 'robot pendant', 'dodecahedron']\n",
    "completed_models = []\n",
    "\n",
    "print_models(unprinted_designs, completed_models)\n",
    "show_completed_models(completed_models)"
   ]
  },
  {
   "cell_type": "markdown",
   "id": "5599ed64-9a73-42e8-9985-6ba9d8f7f57d",
   "metadata": {},
   "source": [
    "### **8.4.2 禁止函数修改列表**"
   ]
  },
  {
   "cell_type": "code",
   "execution_count": 9,
   "id": "63e95cd7-b32f-4f10-861b-8c7af971812a",
   "metadata": {
    "execution": {
     "iopub.execute_input": "2024-04-23T06:02:36.630099Z",
     "iopub.status.busy": "2024-04-23T06:02:36.630099Z",
     "iopub.status.idle": "2024-04-23T06:02:36.636344Z",
     "shell.execute_reply": "2024-04-23T06:02:36.635345Z",
     "shell.execute_reply.started": "2024-04-23T06:02:36.630099Z"
    }
   },
   "outputs": [
    {
     "name": "stdout",
     "output_type": "stream",
     "text": [
      "Printing model: dodecahedron\n",
      "Printing model: robot pendant\n",
      "Printing model: phone case\n",
      "['phone case', 'robot pendant', 'dodecahedron']\n"
     ]
    }
   ],
   "source": [
    "def print_models(unprinted_designs, completed_models):\n",
    "    \"\"\"\n",
    "    模拟打印每个设计，直到没有未打印的设计为止\n",
    "    打印每个设计后，都将其移到列表completed_models中\n",
    "    \"\"\"\n",
    "    while unprinted_designs:\n",
    "        current_design = unprinted_designs.pop()\n",
    "        print(f\"Printing model: {current_design}\")\n",
    "        completed_models.append(current_design)\n",
    "\n",
    "unprinted_designs = ['phone case', 'robot pendant', 'dodecahedron']\n",
    "completed_models = []\n",
    "#在形参中使用未打印列表的拷贝，可以保留原列表\n",
    "print_models(unprinted_designs[:], completed_models)\n",
    "print(unprinted_designs)"
   ]
  },
  {
   "cell_type": "markdown",
   "id": "37a6f39f-0f93-4bbb-a7f0-946243b71c18",
   "metadata": {},
   "source": [
    "## **8.5 传递任意数量的实参**"
   ]
  },
  {
   "cell_type": "code",
   "execution_count": 6,
   "id": "f79f5565-494c-425c-a0d6-267ed440aee7",
   "metadata": {
    "execution": {
     "iopub.execute_input": "2024-04-16T10:37:48.951092Z",
     "iopub.status.busy": "2024-04-16T10:37:48.951092Z",
     "iopub.status.idle": "2024-04-16T10:37:48.955262Z",
     "shell.execute_reply": "2024-04-16T10:37:48.955262Z",
     "shell.execute_reply.started": "2024-04-16T10:37:48.951092Z"
    }
   },
   "outputs": [
    {
     "name": "stdout",
     "output_type": "stream",
     "text": [
      "('pepperoni',)\n",
      "('mushrooms', 'green peppers', 'extra cheese')\n"
     ]
    }
   ],
   "source": [
    "#一个*创建元组\n",
    "def make_pizza(*toppings):\n",
    "    \"\"\"打印顾客点的所有配料\"\"\"\n",
    "    print(toppings)\n",
    "\n",
    "make_pizza('pepperoni')\n",
    "make_pizza('mushrooms', 'green peppers', 'extra cheese')"
   ]
  },
  {
   "cell_type": "code",
   "execution_count": 4,
   "id": "17fa2b4d-a128-4665-8d3d-e6d17278ef33",
   "metadata": {
    "execution": {
     "iopub.execute_input": "2024-04-16T10:23:59.566005Z",
     "iopub.status.busy": "2024-04-16T10:23:59.566005Z",
     "iopub.status.idle": "2024-04-16T10:23:59.571112Z",
     "shell.execute_reply": "2024-04-16T10:23:59.570602Z",
     "shell.execute_reply.started": "2024-04-16T10:23:59.566005Z"
    }
   },
   "outputs": [
    {
     "name": "stdout",
     "output_type": "stream",
     "text": [
      "\n",
      "Making a pizza with the following toppings:\n",
      "-pepperoni\n",
      "\n",
      "Making a pizza with the following toppings:\n",
      "-mushrooms\n",
      "-green peppers\n",
      "-extra cheese\n"
     ]
    }
   ],
   "source": [
    "def make_pizza(*toppings):\n",
    "    \"\"\"概述要制作的披萨\"\"\"\n",
    "    print(\"\\nMaking a pizza with the following toppings:\")\n",
    "    for topping in toppings:\n",
    "        print(f\"-{topping}\")\n",
    "\n",
    "make_pizza('pepperoni')\n",
    "make_pizza('mushrooms', 'green peppers', 'extra cheese')"
   ]
  },
  {
   "cell_type": "markdown",
   "id": "8969d99c-3240-4daf-a421-4940579c5179",
   "metadata": {},
   "source": [
    "### **8.5.1 结合使用位置实参和任意数量的实参**"
   ]
  },
  {
   "cell_type": "code",
   "execution_count": 10,
   "id": "f3d9f3b9-b249-499a-913f-c8ff8dc9eec2",
   "metadata": {
    "execution": {
     "iopub.execute_input": "2024-04-23T06:04:06.276761Z",
     "iopub.status.busy": "2024-04-23T06:04:06.276761Z",
     "iopub.status.idle": "2024-04-23T06:04:06.281422Z",
     "shell.execute_reply": "2024-04-23T06:04:06.281422Z",
     "shell.execute_reply.started": "2024-04-23T06:04:06.276761Z"
    }
   },
   "outputs": [
    {
     "name": "stdout",
     "output_type": "stream",
     "text": [
      "\n",
      "Making a 16-inch pizza with the following toppings:\n",
      "-pepperoni\n",
      "\n",
      "Making a 12-inch pizza with the following toppings:\n",
      "-mushrroms\n",
      "-green peppers\n",
      "-extra cheese\n"
     ]
    }
   ],
   "source": [
    "def make_pizza(size, *toppings):\n",
    "    \"\"\"概述要制作的披萨\"\"\"\n",
    "    print(f\"\\nMaking a {size}-inch pizza with the following toppings:\")\n",
    "    for topping in toppings:\n",
    "        print(f\"-{topping}\")\n",
    "\n",
    "#第一个形参无*，所以实参第一个对应第一个形参，第二个形参有*，余下的实参皆对应第二个形参\n",
    "make_pizza(16, 'pepperoni')\n",
    "make_pizza(12, 'mushrroms', 'green peppers', 'extra cheese')"
   ]
  },
  {
   "cell_type": "markdown",
   "id": "410ce7c7-a07e-44fb-81c8-f7fceb9dc6eb",
   "metadata": {},
   "source": [
    "### **8.5.2 使用任意数量的关键字实参**"
   ]
  },
  {
   "cell_type": "code",
   "execution_count": 7,
   "id": "bbcc9a01-4301-4ab9-9565-95ad41f1c5a4",
   "metadata": {
    "execution": {
     "iopub.execute_input": "2024-04-16T10:52:56.403324Z",
     "iopub.status.busy": "2024-04-16T10:52:56.402328Z",
     "iopub.status.idle": "2024-04-16T10:52:56.407161Z",
     "shell.execute_reply": "2024-04-16T10:52:56.407161Z",
     "shell.execute_reply.started": "2024-04-16T10:52:56.403324Z"
    }
   },
   "outputs": [
    {
     "name": "stdout",
     "output_type": "stream",
     "text": [
      "{'location': 'princeton', 'field': 'physics', 'first_name': 'albert', 'last_name': 'einstein'}\n"
     ]
    }
   ],
   "source": [
    "#两个**创建字典\n",
    "def build_profile(first, last, **user_info):\n",
    "    \"\"\"创建一个字典，其中包含我们知道的有关用户的一切\"\"\"\n",
    "    user_info['first_name'] = first\n",
    "    user_info['last_name'] = last\n",
    "    return user_info\n",
    "\n",
    "user_profile = build_profile('albert', 'einstein', \n",
    "                             location='princeton', \n",
    "                             field='physics')\n",
    "print(user_profile)"
   ]
  },
  {
   "cell_type": "markdown",
   "id": "ade9d23d-0275-4619-95fd-c1a7b2ed75bd",
   "metadata": {},
   "source": [
    "## **8.6 将函数存储在模块中**"
   ]
  },
  {
   "cell_type": "markdown",
   "id": "047c1fd6-e0a5-44f8-9dc6-e5d13480775c",
   "metadata": {},
   "source": [
    "### **8.6.1 导入整个模块**"
   ]
  },
  {
   "cell_type": "code",
   "execution_count": 8,
   "id": "27f6dc0d-a678-49a6-8c12-5977fc886b65",
   "metadata": {
    "execution": {
     "iopub.execute_input": "2024-04-16T11:03:47.119844Z",
     "iopub.status.busy": "2024-04-16T11:03:47.119844Z",
     "iopub.status.idle": "2024-04-16T11:03:47.135250Z",
     "shell.execute_reply": "2024-04-16T11:03:47.135250Z",
     "shell.execute_reply.started": "2024-04-16T11:03:47.119844Z"
    }
   },
   "outputs": [
    {
     "name": "stdout",
     "output_type": "stream",
     "text": [
      "\n",
      "Making a pizza with the following toppings:\n",
      "-16\n",
      "-pepperoni\n",
      "\n",
      "Making a pizza with the following toppings:\n",
      "-12\n",
      "-mushrooms\n",
      "-green peppers\n",
      "-extra cheese\n"
     ]
    }
   ],
   "source": [
    "import pizza\n",
    "\n",
    "pizza.make_pizza(16, 'pepperoni')\n",
    "pizza.make_pizza(12, 'mushrooms', 'green peppers', 'extra cheese')\n",
    "\n",
    "# module_name.function_name()"
   ]
  },
  {
   "cell_type": "markdown",
   "id": "db6e3c73-95aa-4f9f-b7ed-6321db64e465",
   "metadata": {},
   "source": [
    "### **8.6.2 导入特定的函数**"
   ]
  },
  {
   "cell_type": "code",
   "execution_count": 9,
   "id": "c2cc35e4-7810-4439-8939-61accae80342",
   "metadata": {
    "execution": {
     "iopub.execute_input": "2024-04-16T11:11:40.497595Z",
     "iopub.status.busy": "2024-04-16T11:11:40.497595Z",
     "iopub.status.idle": "2024-04-16T11:11:40.501599Z",
     "shell.execute_reply": "2024-04-16T11:11:40.501599Z",
     "shell.execute_reply.started": "2024-04-16T11:11:40.497595Z"
    }
   },
   "outputs": [
    {
     "name": "stdout",
     "output_type": "stream",
     "text": [
      "\n",
      "Making a pizza with the following toppings:\n",
      "-16\n",
      "-pepperoni\n",
      "\n",
      "Making a pizza with the following toppings:\n",
      "-12\n",
      "-mushrooms\n",
      "-green peppers\n",
      "-extra cheese\n"
     ]
    }
   ],
   "source": [
    "# from module_name import function_name\n",
    "# from module_name import functiion_0, function_1, function_2\n",
    "from pizza import make_pizza\n",
    "\n",
    "make_pizza(16, 'pepperoni')\n",
    "make_pizza(12, 'mushrooms', 'green peppers', 'extra cheese')"
   ]
  },
  {
   "cell_type": "markdown",
   "id": "a0446663-c20f-4022-9c19-c2d744caf3ce",
   "metadata": {},
   "source": [
    "### **8.6.3 使用as给函数指定别名**"
   ]
  },
  {
   "cell_type": "code",
   "execution_count": 10,
   "id": "2f9b97de-0cd4-4521-bc99-c78f37003960",
   "metadata": {
    "execution": {
     "iopub.execute_input": "2024-04-16T11:13:57.314094Z",
     "iopub.status.busy": "2024-04-16T11:13:57.314094Z",
     "iopub.status.idle": "2024-04-16T11:13:57.317994Z",
     "shell.execute_reply": "2024-04-16T11:13:57.317994Z",
     "shell.execute_reply.started": "2024-04-16T11:13:57.314094Z"
    }
   },
   "outputs": [
    {
     "name": "stdout",
     "output_type": "stream",
     "text": [
      "\n",
      "Making a pizza with the following toppings:\n",
      "-16\n",
      "-pepperoni\n",
      "\n",
      "Making a pizza with the following toppings:\n",
      "-12\n",
      "-mushrooms\n",
      "-green peppers\n",
      "-extra cheese\n"
     ]
    }
   ],
   "source": [
    "from pizza import make_pizza as mp\n",
    "\n",
    "make_pizza(16, 'pepperoni')\n",
    "make_pizza(12, 'mushrooms', 'green peppers', 'extra cheese')"
   ]
  },
  {
   "cell_type": "markdown",
   "id": "0296d169-f4cf-4da1-b9ca-9c2c2a74cb81",
   "metadata": {},
   "source": [
    "### **8.6.4 使用as给模块指定别名**"
   ]
  },
  {
   "cell_type": "code",
   "execution_count": 11,
   "id": "e55e8c33-a1c1-4ccd-97a5-c455c9ffbcd6",
   "metadata": {
    "execution": {
     "iopub.execute_input": "2024-04-16T11:15:05.105319Z",
     "iopub.status.busy": "2024-04-16T11:15:05.105319Z",
     "iopub.status.idle": "2024-04-16T11:15:05.110577Z",
     "shell.execute_reply": "2024-04-16T11:15:05.109578Z",
     "shell.execute_reply.started": "2024-04-16T11:15:05.105319Z"
    }
   },
   "outputs": [
    {
     "name": "stdout",
     "output_type": "stream",
     "text": [
      "\n",
      "Making a pizza with the following toppings:\n",
      "-16\n",
      "-pepperoni\n",
      "\n",
      "Making a pizza with the following toppings:\n",
      "-12\n",
      "-mushrooms\n",
      "-green peppers\n",
      "-extra cheese\n"
     ]
    }
   ],
   "source": [
    "import pizza as p\n",
    "p.make_pizza(16, 'pepperoni')\n",
    "p.make_pizza(12, 'mushrooms', 'green peppers', 'extra cheese')"
   ]
  },
  {
   "cell_type": "markdown",
   "id": "88fefcc5-c135-4399-b08b-3e650df5ecdd",
   "metadata": {},
   "source": [
    "### **8.6.5 导入模块中的所有函数**"
   ]
  },
  {
   "cell_type": "code",
   "execution_count": 12,
   "id": "d9819b09-ff9e-4eed-8b22-43741d1a2126",
   "metadata": {
    "execution": {
     "iopub.execute_input": "2024-04-16T11:16:49.752565Z",
     "iopub.status.busy": "2024-04-16T11:16:49.752565Z",
     "iopub.status.idle": "2024-04-16T11:16:49.756438Z",
     "shell.execute_reply": "2024-04-16T11:16:49.756438Z",
     "shell.execute_reply.started": "2024-04-16T11:16:49.752565Z"
    }
   },
   "outputs": [
    {
     "name": "stdout",
     "output_type": "stream",
     "text": [
      "\n",
      "Making a pizza with the following toppings:\n",
      "-16\n",
      "-pepperoni\n",
      "\n",
      "Making a pizza with the following toppings:\n",
      "-12\n",
      "-mushrooms\n",
      "-green peppers\n",
      "-extra cheese\n"
     ]
    }
   ],
   "source": [
    "from pizza import *\n",
    "\n",
    "make_pizza(16, 'pepperoni')\n",
    "make_pizza(12, 'mushrooms', 'green peppers', 'extra cheese')"
   ]
  },
  {
   "cell_type": "markdown",
   "id": "1694ded2-0826-4edc-8f57-653f65a5bd46",
   "metadata": {},
   "source": [
    "# **练习**"
   ]
  },
  {
   "cell_type": "markdown",
   "id": "3da23d66-288f-44c4-aaec-6ef5c66fa268",
   "metadata": {},
   "source": [
    "## *8.1 消息*"
   ]
  },
  {
   "cell_type": "code",
   "execution_count": 15,
   "id": "45bb01df-c8f6-4f28-a689-4c3e3b84c7b0",
   "metadata": {
    "execution": {
     "iopub.execute_input": "2024-04-16T11:25:15.873490Z",
     "iopub.status.busy": "2024-04-16T11:25:15.872494Z",
     "iopub.status.idle": "2024-04-16T11:25:15.876770Z",
     "shell.execute_reply": "2024-04-16T11:25:15.876770Z",
     "shell.execute_reply.started": "2024-04-16T11:25:15.873490Z"
    }
   },
   "outputs": [
    {
     "name": "stdout",
     "output_type": "stream",
     "text": [
      "The theme of Chapter 8 is function.\n"
     ]
    }
   ],
   "source": [
    "def display_message():\n",
    "    \"\"\"显示本章的主题\"\"\"\n",
    "    print(\"The theme of Chapter 8 is function.\")\n",
    "\n",
    "display_message()"
   ]
  },
  {
   "cell_type": "markdown",
   "id": "b274e28c-2714-42ff-80d9-38bd482e6875",
   "metadata": {},
   "source": [
    "## *8.2 喜欢的书*"
   ]
  },
  {
   "cell_type": "code",
   "execution_count": 16,
   "id": "940aced2-1954-4f6e-9c76-08f9881c2347",
   "metadata": {
    "execution": {
     "iopub.execute_input": "2024-04-16T11:27:37.609533Z",
     "iopub.status.busy": "2024-04-16T11:27:37.608533Z",
     "iopub.status.idle": "2024-04-16T11:27:37.613770Z",
     "shell.execute_reply": "2024-04-16T11:27:37.613770Z",
     "shell.execute_reply.started": "2024-04-16T11:27:37.609533Z"
    }
   },
   "outputs": [
    {
     "name": "stdout",
     "output_type": "stream",
     "text": [
      "One of my favorite books is Three body.\n"
     ]
    }
   ],
   "source": [
    "def favorite_book(title):\n",
    "    \"\"\"显示喜欢的书\"\"\"\n",
    "    print(f\"One of my favorite books is {title}.\")\n",
    "\n",
    "favorite_book('Three body')"
   ]
  },
  {
   "cell_type": "markdown",
   "id": "316c7f14-2d03-4424-baaa-524d59e34268",
   "metadata": {},
   "source": [
    "## *8.3 T恤*"
   ]
  },
  {
   "cell_type": "code",
   "execution_count": 11,
   "id": "ce9e0b4a-a6e9-43f0-9346-9f21306e024e",
   "metadata": {
    "execution": {
     "iopub.execute_input": "2024-04-23T06:22:10.043031Z",
     "iopub.status.busy": "2024-04-23T06:22:10.043031Z",
     "iopub.status.idle": "2024-04-23T06:22:10.048881Z",
     "shell.execute_reply": "2024-04-23T06:22:10.048881Z",
     "shell.execute_reply.started": "2024-04-23T06:22:10.043031Z"
    }
   },
   "outputs": [
    {
     "name": "stdout",
     "output_type": "stream",
     "text": [
      "The shirt with \"fuck\" is large.\n",
      "The shirt with \"duck\" is small.\n"
     ]
    }
   ],
   "source": [
    "def make_shirt(size, word):\n",
    "    \"\"\"概述T恤的尺码和字样\"\"\"\n",
    "    print(f\"The shirt with \\\"{word}\\\" is {size}.\")\n",
    "\n",
    "make_shirt('large', 'fuck')#位置实参\n",
    "make_shirt(word='duck', size='small')#关键字实参"
   ]
  },
  {
   "cell_type": "markdown",
   "id": "49602777-0e49-4f45-9935-bfb4d53fa59d",
   "metadata": {},
   "source": [
    "## *8.4 大号T恤*"
   ]
  },
  {
   "cell_type": "code",
   "execution_count": 13,
   "id": "7fdcd9de-67d4-403d-acad-b8f1349393c3",
   "metadata": {
    "execution": {
     "iopub.execute_input": "2024-04-23T06:23:36.203482Z",
     "iopub.status.busy": "2024-04-23T06:23:36.203482Z",
     "iopub.status.idle": "2024-04-23T06:23:36.209465Z",
     "shell.execute_reply": "2024-04-23T06:23:36.208458Z",
     "shell.execute_reply.started": "2024-04-23T06:23:36.203482Z"
    }
   },
   "outputs": [
    {
     "name": "stdout",
     "output_type": "stream",
     "text": [
      "The shirt with \"I love Python\" is large.\n",
      "The shirt with \"I love Python\" is medium.\n",
      "The shirt with \"fuck\" is large.\n"
     ]
    }
   ],
   "source": [
    "def make_shirt(size='large', word='I love Python'):#两个形参都指定了默认值\n",
    "    \"\"\"概述T恤的尺码和字样\"\"\"\n",
    "    print(f\"The shirt with \\\"{word}\\\" is {size}.\")\n",
    "\n",
    "make_shirt()\n",
    "make_shirt('medium')#只更改了一个形参的默认值，按照位置实参所以更改了尺寸\n",
    "make_shirt(word='fuck')"
   ]
  },
  {
   "cell_type": "markdown",
   "id": "4d2b4758-9260-4d67-be0f-62f39b6c4ca5",
   "metadata": {},
   "source": [
    "## *8.5 城市*"
   ]
  },
  {
   "cell_type": "code",
   "execution_count": 27,
   "id": "bc5ebb9a-5031-4d23-9519-ac8d40591e25",
   "metadata": {
    "execution": {
     "iopub.execute_input": "2024-04-16T12:06:27.735680Z",
     "iopub.status.busy": "2024-04-16T12:06:27.735680Z",
     "iopub.status.idle": "2024-04-16T12:06:27.739972Z",
     "shell.execute_reply": "2024-04-16T12:06:27.739972Z",
     "shell.execute_reply.started": "2024-04-16T12:06:27.735680Z"
    }
   },
   "outputs": [
    {
     "name": "stdout",
     "output_type": "stream",
     "text": [
      "Nanjing is in China.\n",
      "Beijing is in China.\n",
      "Tokyo is in Japan.\n"
     ]
    }
   ],
   "source": [
    "def describe_city(city, country='China'):\n",
    "    \"\"\"描述城市所属的国家\"\"\"\n",
    "    print(f\"{city.title()} is in {country}.\")\n",
    "\n",
    "describe_city('nanjing')\n",
    "describe_city('beijing')\n",
    "describe_city('tokyo', 'Japan')"
   ]
  },
  {
   "cell_type": "markdown",
   "id": "f1aee9ef-8b53-4f09-bfd4-ee954569833f",
   "metadata": {},
   "source": [
    "## *8.6 城市名*"
   ]
  },
  {
   "cell_type": "code",
   "execution_count": 30,
   "id": "a76895dd-ece3-4893-b81b-638ea80a3ba9",
   "metadata": {
    "execution": {
     "iopub.execute_input": "2024-04-17T06:15:57.547708Z",
     "iopub.status.busy": "2024-04-17T06:15:57.546712Z",
     "iopub.status.idle": "2024-04-17T06:15:57.553020Z",
     "shell.execute_reply": "2024-04-17T06:15:57.552018Z",
     "shell.execute_reply.started": "2024-04-17T06:15:57.547708Z"
    }
   },
   "outputs": [
    {
     "name": "stdout",
     "output_type": "stream",
     "text": [
      "\"Newyork, America\"\n",
      "\"Nanjing, China\"\n",
      "\"Tokyo, Japan\"\n"
     ]
    }
   ],
   "source": [
    "def city_country(city,country):\n",
    "    \"\"\"返回城市和它所属的国家\"\"\"\n",
    "    cc = f'\"{city}, {country}\"'\n",
    "    return cc.title()\n",
    "\n",
    "cc_0 = city_country('newyork', 'america')\n",
    "print(cc_0)\n",
    "cc_1 = city_country('nanjing', 'china')\n",
    "print(cc_1)\n",
    "cc_2 = city_country('tokyo', 'japan')\n",
    "print(cc_2)"
   ]
  },
  {
   "cell_type": "markdown",
   "id": "5988cbd2-9576-4d37-a158-8934bdce8c74",
   "metadata": {},
   "source": [
    "## *8.7 专辑*"
   ]
  },
  {
   "cell_type": "code",
   "execution_count": 14,
   "id": "2b7ac4aa-f87a-41a4-a5e7-f65755023e13",
   "metadata": {
    "execution": {
     "iopub.execute_input": "2024-04-23T06:27:43.910417Z",
     "iopub.status.busy": "2024-04-23T06:27:43.910417Z",
     "iopub.status.idle": "2024-04-23T06:27:43.918409Z",
     "shell.execute_reply": "2024-04-23T06:27:43.917404Z",
     "shell.execute_reply.started": "2024-04-23T06:27:43.910417Z"
    }
   },
   "outputs": [
    {
     "name": "stdout",
     "output_type": "stream",
     "text": [
      "{'singer': 'Linkin Park', 'album': 'Lost'}\n",
      "{'singer': 'Eminem', 'album': 'For the moment', 'number of songs': 6}\n",
      "{'singer': 'Fall Out Boy', 'album': 'Centuries'}\n"
     ]
    }
   ],
   "source": [
    "def make_album(singer_name, album_name, song_num=''):#song_num指定空格为默认值，其为可选\n",
    "    \"\"\"返回一个字典，其中包含歌手名和专辑名\"\"\"\n",
    "    album = {'singer': singer_name, 'album': album_name}#创建一个字典，形参作为键的值\n",
    "    if song_num:\n",
    "        album['number of songs'] = song_num\n",
    "    return album\n",
    "\n",
    "album_0 = make_album('Linkin Park', 'Lost')\n",
    "print(album_0)\n",
    "album_1 = make_album('Eminem', 'For the moment', 6)\n",
    "print(album_1)\n",
    "album_2 = make_album('Fall Out Boy', 'Centuries')\n",
    "print(album_2)"
   ]
  },
  {
   "cell_type": "markdown",
   "id": "6fe0c70d-ba4e-4802-a95c-a27baea21c9e",
   "metadata": {},
   "source": [
    "## *8.8 用户的专辑*"
   ]
  },
  {
   "cell_type": "code",
   "execution_count": 35,
   "id": "c938cb28-20f7-45ec-94ad-028193b3f1f8",
   "metadata": {
    "execution": {
     "iopub.execute_input": "2024-04-17T07:02:10.670166Z",
     "iopub.status.busy": "2024-04-17T07:02:10.669169Z",
     "iopub.status.idle": "2024-04-17T07:02:34.414698Z",
     "shell.execute_reply": "2024-04-17T07:02:34.413699Z",
     "shell.execute_reply.started": "2024-04-17T07:02:10.670166Z"
    }
   },
   "outputs": [
    {
     "name": "stdout",
     "output_type": "stream",
     "text": [
      "\n",
      "Please enter the name of singer and album\n",
      "(enter 'q' at any time to quit)\n"
     ]
    },
    {
     "name": "stdin",
     "output_type": "stream",
     "text": [
      "Singer's name: Eminem\n",
      "The name of album: For the moment\n"
     ]
    },
    {
     "name": "stdout",
     "output_type": "stream",
     "text": [
      "{'singer': 'Eminem', 'album': 'For the moment'}\n",
      "\n",
      "Please enter the name of singer and album\n",
      "(enter 'q' at any time to quit)\n"
     ]
    },
    {
     "name": "stdin",
     "output_type": "stream",
     "text": [
      "Singer's name: Linkin Park\n",
      "The name of album: Lost\n"
     ]
    },
    {
     "name": "stdout",
     "output_type": "stream",
     "text": [
      "{'singer': 'Linkin Park', 'album': 'Lost'}\n",
      "\n",
      "Please enter the name of singer and album\n",
      "(enter 'q' at any time to quit)\n"
     ]
    },
    {
     "name": "stdin",
     "output_type": "stream",
     "text": [
      "Singer's name: q\n"
     ]
    }
   ],
   "source": [
    "def make_album(singer_name, album_name, song_num=''):\n",
    "    \"\"\"返回一个字典，其中包含歌手名和专辑名\"\"\"\n",
    "    album = {'singer': singer_name, 'album': album_name}\n",
    "    if song_num:\n",
    "        album['number of songs'] = song_num\n",
    "    return album\n",
    "\n",
    "while True:\n",
    "    print(\"\\nPlease enter the name of singer and album\")\n",
    "    print(\"(enter 'q' at any time to quit)\")\n",
    "\n",
    "    s_name = input(\"Singer's name:\")\n",
    "    if s_name == 'q':\n",
    "        break\n",
    "\n",
    "    b_name = input(\"The name of album:\")\n",
    "    if b_name == 'q':\n",
    "        break\n",
    "\n",
    "    album = make_album(s_name, b_name)\n",
    "    print(album)"
   ]
  },
  {
   "cell_type": "markdown",
   "id": "2cf6d9f3-28e2-4f66-8fe8-f8c01f65be35",
   "metadata": {},
   "source": [
    "## *8.9 消息*"
   ]
  },
  {
   "cell_type": "code",
   "execution_count": 15,
   "id": "51c6aef1-bd30-4faa-962e-f362e3717a78",
   "metadata": {
    "execution": {
     "iopub.execute_input": "2024-04-23T06:29:30.681062Z",
     "iopub.status.busy": "2024-04-23T06:29:30.681062Z",
     "iopub.status.idle": "2024-04-23T06:29:30.701341Z",
     "shell.execute_reply": "2024-04-23T06:29:30.700334Z",
     "shell.execute_reply.started": "2024-04-23T06:29:30.681062Z"
    }
   },
   "outputs": [
    {
     "name": "stdout",
     "output_type": "stream",
     "text": [
      "Hello, Alice!\n",
      "Please move your bike.\n",
      "Thank you!\n"
     ]
    }
   ],
   "source": [
    "def show_messages(messages):\n",
    "    \"\"\"打印列表中的所有消息\"\"\"\n",
    "    for message in messages:#创建列表messages并遍历列表\n",
    "        print(message)\n",
    "\n",
    "msg = ['Hello, Alice!', 'Please move your bike.', 'Thank you!']\n",
    "show_messages(msg)"
   ]
  },
  {
   "cell_type": "markdown",
   "id": "383ebc31-52dd-4c84-a262-72872266a11b",
   "metadata": {},
   "source": [
    "## *8.10 发送消息*"
   ]
  },
  {
   "cell_type": "code",
   "execution_count": 39,
   "id": "0fd82bb8-067a-4509-9a84-1f8470e93218",
   "metadata": {
    "execution": {
     "iopub.execute_input": "2024-04-17T07:27:53.870215Z",
     "iopub.status.busy": "2024-04-17T07:27:53.870215Z",
     "iopub.status.idle": "2024-04-17T07:27:53.875882Z",
     "shell.execute_reply": "2024-04-17T07:27:53.875882Z",
     "shell.execute_reply.started": "2024-04-17T07:27:53.870215Z"
    }
   },
   "outputs": [
    {
     "name": "stdout",
     "output_type": "stream",
     "text": [
      "Hello, Alice!\n",
      "Please move your bike.\n",
      "Thank you!\n",
      "[]\n",
      "['Thank you!', 'Please move your bike.', 'Hello, Alice!']\n"
     ]
    }
   ],
   "source": [
    "def send_messages(messages, sent_messages):\n",
    "    \"\"\"将消息打印出来后移到列表sent_messages中\"\"\"\n",
    "    for message in messages:\n",
    "        print(message)\n",
    "    while messages:\n",
    "        sent_message = messages.pop()\n",
    "        sent_messages.append(sent_message)\n",
    "    \n",
    "messages = ['Hello, Alice!', 'Please move your bike.', 'Thank you!']\n",
    "sent_messages = []\n",
    "send_messages(messages, sent_messages)\n",
    "print(messages)\n",
    "print(sent_messages)"
   ]
  },
  {
   "cell_type": "markdown",
   "id": "86fe28d7-5c2d-4c44-a691-983366465813",
   "metadata": {},
   "source": [
    "## *8.11 消息归档*"
   ]
  },
  {
   "cell_type": "code",
   "execution_count": 40,
   "id": "d5cdf1da-7b2e-4c94-a28d-c181377e2dd0",
   "metadata": {
    "execution": {
     "iopub.execute_input": "2024-04-17T07:32:39.746077Z",
     "iopub.status.busy": "2024-04-17T07:32:39.746077Z",
     "iopub.status.idle": "2024-04-17T07:32:39.762088Z",
     "shell.execute_reply": "2024-04-17T07:32:39.762088Z",
     "shell.execute_reply.started": "2024-04-17T07:32:39.746077Z"
    }
   },
   "outputs": [
    {
     "name": "stdout",
     "output_type": "stream",
     "text": [
      "Hello, Alice!\n",
      "Please move your bike.\n",
      "Thank you!\n",
      "['Hello, Alice!', 'Please move your bike.', 'Thank you!']\n",
      "['Thank you!', 'Please move your bike.', 'Hello, Alice!']\n"
     ]
    }
   ],
   "source": [
    "def send_messages(messages, sent_messages):\n",
    "    \"\"\"将消息打印出来后移到列表sent_messages中\"\"\"\n",
    "    for message in messages:\n",
    "        print(message)\n",
    "    while messages:\n",
    "        sent_message = messages.pop()\n",
    "        sent_messages.append(sent_message)\n",
    "    \n",
    "messages = ['Hello, Alice!', 'Please move your bike.', 'Thank you!']\n",
    "sent_messages = []\n",
    "send_messages(messages[:], sent_messages)\n",
    "print(messages)\n",
    "print(sent_messages)"
   ]
  },
  {
   "cell_type": "markdown",
   "id": "c513564e-fb41-438d-9410-fb92b26b8527",
   "metadata": {},
   "source": [
    "## *8.12 三明治*"
   ]
  },
  {
   "cell_type": "code",
   "execution_count": 41,
   "id": "016f3450-13ba-4979-94ec-79ad0764a639",
   "metadata": {
    "execution": {
     "iopub.execute_input": "2024-04-17T07:45:52.048588Z",
     "iopub.status.busy": "2024-04-17T07:45:52.048588Z",
     "iopub.status.idle": "2024-04-17T07:45:52.057740Z",
     "shell.execute_reply": "2024-04-17T07:45:52.057740Z",
     "shell.execute_reply.started": "2024-04-17T07:45:52.048588Z"
    }
   },
   "outputs": [
    {
     "name": "stdout",
     "output_type": "stream",
     "text": [
      "\n",
      "Making a sandwich with the following toppings:\n",
      "-pepperoni\n",
      "\n",
      "Making a sandwich with the following toppings:\n",
      "-pepperoni\n",
      "-egg\n",
      "\n",
      "Making a sandwich with the following toppings:\n",
      "-pepperoni\n",
      "-egg\n",
      "-yogurt\n"
     ]
    }
   ],
   "source": [
    "def make_sandwich(*toppings):\n",
    "    \"\"\"概述顾客所点的三明治\"\"\"\n",
    "    print(\"\\nMaking a sandwich with the following toppings:\")\n",
    "    for topping in toppings:\n",
    "        print(f\"-{topping}\")\n",
    "\n",
    "make_sandwich('pepperoni')\n",
    "make_sandwich('pepperoni', 'egg')\n",
    "make_sandwich('pepperoni', 'egg', 'yogurt')"
   ]
  },
  {
   "cell_type": "markdown",
   "id": "fafa3541-67a6-4dca-8bdd-df88d4eccecb",
   "metadata": {},
   "source": [
    "## *8.13 用户简介*"
   ]
  },
  {
   "cell_type": "code",
   "execution_count": 43,
   "id": "23202a5d-4024-476a-903b-44e55b5f476f",
   "metadata": {
    "execution": {
     "iopub.execute_input": "2024-04-17T07:53:54.730861Z",
     "iopub.status.busy": "2024-04-17T07:53:54.730861Z",
     "iopub.status.idle": "2024-04-17T07:53:54.742039Z",
     "shell.execute_reply": "2024-04-17T07:53:54.742039Z",
     "shell.execute_reply.started": "2024-04-17T07:53:54.730861Z"
    }
   },
   "outputs": [
    {
     "name": "stdout",
     "output_type": "stream",
     "text": [
      "{'location': 'nanjing', 'hobby': 'photography', 'skill': 'sleeping', 'first_name': 'Si', 'last_name': 'Wei'}\n"
     ]
    }
   ],
   "source": [
    "def build_profile(first, last, **user_info):\n",
    "    \"\"\"创建一个字典，其中包含我们知道的有关用户的一切\"\"\"\n",
    "    user_info['first_name'] = first\n",
    "    user_info['last_name'] = last\n",
    "    return user_info\n",
    "\n",
    "user_profile = build_profile('Si', 'Wei', \n",
    "                             location='nanjing', \n",
    "                             hobby='photography',\n",
    "                            skill='sleeping')\n",
    "print(user_profile)"
   ]
  },
  {
   "cell_type": "markdown",
   "id": "15432a52-c8f0-47ba-80f2-47720f691a08",
   "metadata": {},
   "source": [
    "## *8.14 汽车*"
   ]
  },
  {
   "cell_type": "code",
   "execution_count": 44,
   "id": "5273ee28-4daf-4d0a-814d-225b95c2b21d",
   "metadata": {
    "execution": {
     "iopub.execute_input": "2024-04-17T08:04:06.185419Z",
     "iopub.status.busy": "2024-04-17T08:04:06.185419Z",
     "iopub.status.idle": "2024-04-17T08:04:06.193238Z",
     "shell.execute_reply": "2024-04-17T08:04:06.193238Z",
     "shell.execute_reply.started": "2024-04-17T08:04:06.185419Z"
    }
   },
   "outputs": [
    {
     "name": "stdout",
     "output_type": "stream",
     "text": [
      "{'color': 'white', 'price': '18w', 'manufacturer': 'BMW', 'model': 'outback'}\n"
     ]
    }
   ],
   "source": [
    "def build_profile(manufacturer, model, **car_info):\n",
    "    \"\"\"创建一个字典，其中包含我们知道的有关汽车的一切\"\"\"\n",
    "    car_info['manufacturer'] = manufacturer\n",
    "    car_info['model'] = model\n",
    "    return car_info\n",
    "\n",
    "car_profile = build_profile('BMW', 'outback', color='white', price='18w')\n",
    "print(car_profile)"
   ]
  },
  {
   "cell_type": "markdown",
   "id": "1c7abe7f-59ab-442e-ae67-db59cd277c51",
   "metadata": {},
   "source": [
    "## *8.15 打印模型*"
   ]
  },
  {
   "cell_type": "code",
   "execution_count": 48,
   "id": "288fa668-6483-4d7e-849c-e70b9d21c083",
   "metadata": {
    "execution": {
     "iopub.execute_input": "2024-04-17T08:13:04.667280Z",
     "iopub.status.busy": "2024-04-17T08:13:04.666283Z",
     "iopub.status.idle": "2024-04-17T08:13:04.677849Z",
     "shell.execute_reply": "2024-04-17T08:13:04.677849Z",
     "shell.execute_reply.started": "2024-04-17T08:13:04.667280Z"
    }
   },
   "outputs": [
    {
     "name": "stdout",
     "output_type": "stream",
     "text": [
      "Printing model: dodecahedron\n",
      "Printing model: robot pendant\n",
      "Printing model: phone case\n",
      "\n",
      "The following models have been printed:\n",
      "dodecahedron\n",
      "robot pendant\n",
      "phone case\n"
     ]
    }
   ],
   "source": [
    "import printing_functions\n",
    "\n",
    "unprinted_designs = ['phone case', 'robot pendant', 'dodecahedron']\n",
    "completed_models = []\n",
    "\n",
    "printing_functions.print_models(unprinted_designs, completed_models)\n",
    "printing_functions.show_completed_models(completed_models)"
   ]
  },
  {
   "cell_type": "markdown",
   "id": "fbc06639-6128-499a-b34a-388cb9750ff9",
   "metadata": {},
   "source": [
    "## *8.16 导入*"
   ]
  },
  {
   "cell_type": "code",
   "execution_count": 49,
   "id": "fbc9398a-d4cd-4db8-823d-13bb00df4af0",
   "metadata": {
    "execution": {
     "iopub.execute_input": "2024-04-17T08:15:44.630827Z",
     "iopub.status.busy": "2024-04-17T08:15:44.630827Z",
     "iopub.status.idle": "2024-04-17T08:15:44.640427Z",
     "shell.execute_reply": "2024-04-17T08:15:44.640427Z",
     "shell.execute_reply.started": "2024-04-17T08:15:44.630827Z"
    }
   },
   "outputs": [
    {
     "name": "stdout",
     "output_type": "stream",
     "text": [
      "\n",
      "Making a sandwich with the following toppings:\n",
      "-egg\n",
      "-cheese\n"
     ]
    }
   ],
   "source": [
    "import sandwich\n",
    "sandwich.make_sandwich('egg', 'cheese')"
   ]
  },
  {
   "cell_type": "code",
   "execution_count": 50,
   "id": "8c50a665-62a8-44ae-9b2f-7cc9335c33d6",
   "metadata": {
    "execution": {
     "iopub.execute_input": "2024-04-17T08:16:25.655256Z",
     "iopub.status.busy": "2024-04-17T08:16:25.655256Z",
     "iopub.status.idle": "2024-04-17T08:16:25.658573Z",
     "shell.execute_reply": "2024-04-17T08:16:25.658573Z",
     "shell.execute_reply.started": "2024-04-17T08:16:25.655256Z"
    }
   },
   "outputs": [
    {
     "name": "stdout",
     "output_type": "stream",
     "text": [
      "\n",
      "Making a sandwich with the following toppings:\n",
      "-egg\n"
     ]
    }
   ],
   "source": [
    "from sandwich import make_sandwich\n",
    "make_sandwich('egg')"
   ]
  },
  {
   "cell_type": "code",
   "execution_count": 51,
   "id": "a4c1f2a4-8068-4cd3-a56a-a2aa3c22ee12",
   "metadata": {
    "execution": {
     "iopub.execute_input": "2024-04-17T08:17:27.860649Z",
     "iopub.status.busy": "2024-04-17T08:17:27.860649Z",
     "iopub.status.idle": "2024-04-17T08:17:27.864613Z",
     "shell.execute_reply": "2024-04-17T08:17:27.864613Z",
     "shell.execute_reply.started": "2024-04-17T08:17:27.860649Z"
    }
   },
   "outputs": [
    {
     "name": "stdout",
     "output_type": "stream",
     "text": [
      "\n",
      "Making a sandwich with the following toppings:\n",
      "-egg\n"
     ]
    }
   ],
   "source": [
    "from sandwich import make_sandwich as ms\n",
    "ms('egg')"
   ]
  },
  {
   "cell_type": "code",
   "execution_count": 52,
   "id": "0230aa71-67bf-4b49-9804-625b102986e1",
   "metadata": {
    "execution": {
     "iopub.execute_input": "2024-04-17T12:15:29.651024Z",
     "iopub.status.busy": "2024-04-17T12:15:29.651024Z",
     "iopub.status.idle": "2024-04-17T12:15:29.654944Z",
     "shell.execute_reply": "2024-04-17T12:15:29.654944Z",
     "shell.execute_reply.started": "2024-04-17T12:15:29.651024Z"
    }
   },
   "outputs": [
    {
     "name": "stdout",
     "output_type": "stream",
     "text": [
      "\n",
      "Making a sandwich with the following toppings:\n",
      "-egg\n"
     ]
    }
   ],
   "source": [
    "import sandwich as s\n",
    "s.make_sandwich('egg')"
   ]
  },
  {
   "cell_type": "code",
   "execution_count": 53,
   "id": "80a7526b-31bc-40e4-b1b4-c8100fe5e5b7",
   "metadata": {
    "execution": {
     "iopub.execute_input": "2024-04-17T12:16:58.733301Z",
     "iopub.status.busy": "2024-04-17T12:16:58.733301Z",
     "iopub.status.idle": "2024-04-17T12:16:58.736600Z",
     "shell.execute_reply": "2024-04-17T12:16:58.736600Z",
     "shell.execute_reply.started": "2024-04-17T12:16:58.733301Z"
    }
   },
   "outputs": [
    {
     "name": "stdout",
     "output_type": "stream",
     "text": [
      "\n",
      "Making a sandwich with the following toppings:\n",
      "-egg\n"
     ]
    }
   ],
   "source": [
    "from sandwich import *\n",
    "make_sandwich('egg')"
   ]
  }
 ],
 "metadata": {
  "kernelspec": {
   "display_name": "Python 3 (ipykernel)",
   "language": "python",
   "name": "python3"
  },
  "language_info": {
   "codemirror_mode": {
    "name": "ipython",
    "version": 3
   },
   "file_extension": ".py",
   "mimetype": "text/x-python",
   "name": "python",
   "nbconvert_exporter": "python",
   "pygments_lexer": "ipython3",
   "version": "3.11.7"
  }
 },
 "nbformat": 4,
 "nbformat_minor": 5
}
