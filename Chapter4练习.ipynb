{
 "cells": [
  {
   "cell_type": "markdown",
   "id": "7e171063-7eef-4ebd-8c28-32d92a43df93",
   "metadata": {},
   "source": [
    "## *4.1 比萨*"
   ]
  },
  {
   "cell_type": "code",
   "execution_count": 3,
   "id": "b6ef9e89-98dd-4fd1-b64c-c3e98f705752",
   "metadata": {},
   "outputs": [
    {
     "name": "stdout",
     "output_type": "stream",
     "text": [
      "pepperoni pizza\n",
      "I really like pepperoni pizza.\n",
      "potato pizza\n",
      "I really like potato pizza.\n",
      "beef pizza\n",
      "I really like beef pizza.\n",
      "I really love pizza!\n"
     ]
    }
   ],
   "source": [
    "pizzas = ['pepperoni pizza','potato pizza','beef pizza']\n",
    "for pizza in pizzas:\n",
    "    print(pizza)\n",
    "    print(f'I really like {pizza}.')\n",
    "print('I really love pizza!')"
   ]
  },
  {
   "cell_type": "markdown",
   "id": "b75f9064-b9ef-4608-880c-0705825e8f5c",
   "metadata": {},
   "source": [
    "## *4.2 动物*"
   ]
  },
  {
   "cell_type": "code",
   "execution_count": 4,
   "id": "2b6531e4-0479-4236-bf08-3e503050fd3f",
   "metadata": {},
   "outputs": [
    {
     "name": "stdout",
     "output_type": "stream",
     "text": [
      "pig\n",
      "A pig would make a great cuisine.\n",
      "cattle\n",
      "A cattle would make a great cuisine.\n",
      "sheep\n",
      "A sheep would make a great cuisine.\n",
      "Any of these animals would make a great cuisine!\n"
     ]
    }
   ],
   "source": [
    "animals = ['pig','cattle','sheep']\n",
    "for animal in animals:\n",
    "    print(animal)\n",
    "    print(f'A {animal} would make a great cuisine.')\n",
    "print('Any of these animals would make a great cuisine!')"
   ]
  },
  {
   "cell_type": "markdown",
   "id": "25648e07-ac5c-4fcb-ae07-eb8ebd29f595",
   "metadata": {},
   "source": [
    "## *4.3 数到20*"
   ]
  },
  {
   "cell_type": "code",
   "execution_count": 5,
   "id": "c9abe9a4-f4e2-4c8d-b57c-58d1a63e8c3b",
   "metadata": {},
   "outputs": [
    {
     "name": "stdout",
     "output_type": "stream",
     "text": [
      "1\n",
      "2\n",
      "3\n",
      "4\n",
      "5\n",
      "6\n",
      "7\n",
      "8\n",
      "9\n",
      "10\n",
      "11\n",
      "12\n",
      "13\n",
      "14\n",
      "15\n",
      "16\n",
      "17\n",
      "18\n",
      "19\n",
      "20\n"
     ]
    }
   ],
   "source": [
    "for num in range(1,21):\n",
    "    print(num)"
   ]
  },
  {
   "cell_type": "markdown",
   "id": "c14daf4d-f083-45ac-960b-935f0570aef1",
   "metadata": {},
   "source": [
    "## *4.4 100万*"
   ]
  },
  {
   "cell_type": "markdown",
   "id": "6ab198f5-9ca9-48ea-9241-6f3093cdb490",
   "metadata": {},
   "source": [
    "## *4.5 100万求和*"
   ]
  },
  {
   "cell_type": "code",
   "execution_count": 10,
   "id": "56f58c6c-3a3b-42a7-8e1e-b5bd07f23334",
   "metadata": {},
   "outputs": [
    {
     "name": "stdout",
     "output_type": "stream",
     "text": [
      "1\n",
      "1000000\n",
      "500000500000\n"
     ]
    }
   ],
   "source": [
    "nums = list(range(1,1000001))\n",
    "print(min(nums))\n",
    "print(max(nums))\n",
    "print(sum(nums))"
   ]
  },
  {
   "cell_type": "markdown",
   "id": "cb655f1f-3088-40e0-b56d-2bbaca91efbd",
   "metadata": {},
   "source": [
    "## *4.6 奇数*"
   ]
  },
  {
   "cell_type": "code",
   "execution_count": 11,
   "id": "3587090a-f383-47cc-b02a-54e627816e21",
   "metadata": {},
   "outputs": [
    {
     "name": "stdout",
     "output_type": "stream",
     "text": [
      "1\n",
      "3\n",
      "5\n",
      "7\n",
      "9\n",
      "11\n",
      "13\n",
      "15\n",
      "17\n",
      "19\n"
     ]
    }
   ],
   "source": [
    "nums = list(range(1,20,2))\n",
    "for num in nums:\n",
    "    print(num)"
   ]
  },
  {
   "cell_type": "markdown",
   "id": "8674e855-f6d0-44eb-b7ae-843956504989",
   "metadata": {},
   "source": [
    "## *4.7 3的倍数*"
   ]
  },
  {
   "cell_type": "code",
   "execution_count": 12,
   "id": "12adb598-362a-4f48-b6d8-79ae5f027b3b",
   "metadata": {},
   "outputs": [
    {
     "name": "stdout",
     "output_type": "stream",
     "text": [
      "3\n",
      "6\n",
      "9\n",
      "12\n",
      "15\n",
      "18\n",
      "21\n",
      "24\n",
      "27\n",
      "30\n"
     ]
    }
   ],
   "source": [
    "nums = list(range(3,31,3))\n",
    "for num in nums:\n",
    "    print(num)"
   ]
  },
  {
   "cell_type": "markdown",
   "id": "b9d001af-5318-4ae9-9cb3-6ec8110c79b3",
   "metadata": {},
   "source": [
    "## *4.8 立方*"
   ]
  },
  {
   "cell_type": "code",
   "execution_count": 14,
   "id": "60352106-ac78-4cc5-be77-b2323e2131c8",
   "metadata": {},
   "outputs": [
    {
     "name": "stdout",
     "output_type": "stream",
     "text": [
      "[1, 8, 27, 64, 125, 216, 343, 512, 729, 1000]\n",
      "1\n",
      "8\n",
      "27\n",
      "64\n",
      "125\n",
      "216\n",
      "343\n",
      "512\n",
      "729\n",
      "1000\n"
     ]
    }
   ],
   "source": [
    "nums = []\n",
    "for value in range(1,11):\n",
    "    nums.append(value**3)\n",
    "print(nums)\n",
    "for num in nums:\n",
    "    print(num)"
   ]
  },
  {
   "cell_type": "markdown",
   "id": "4501a96e-0c7b-4d8a-b09a-02067dd99516",
   "metadata": {},
   "source": [
    "## *4.9 立方推导式*"
   ]
  },
  {
   "cell_type": "code",
   "execution_count": 15,
   "id": "45ffdcfd-8428-4045-bfde-eca29ab3df21",
   "metadata": {},
   "outputs": [
    {
     "name": "stdout",
     "output_type": "stream",
     "text": [
      "[1, 8, 27, 64, 125, 216, 343, 512, 729, 1000]\n"
     ]
    }
   ],
   "source": [
    "nums = [value**3 for value in range(1,11)]\n",
    "print(nums)"
   ]
  },
  {
   "cell_type": "markdown",
   "id": "df243622-31d6-4ac8-9040-512cc442873c",
   "metadata": {},
   "source": [
    "## *4.10 切片*"
   ]
  },
  {
   "cell_type": "code",
   "execution_count": 23,
   "id": "9fceb641-cbf0-4ea8-b976-52f506730f6d",
   "metadata": {},
   "outputs": [
    {
     "name": "stdout",
     "output_type": "stream",
     "text": [
      "[1, 8, 27, 64, 125, 216, 343, 512, 729, 1000]\n",
      "The first three items in the list are:\n",
      "1\n",
      "8\n",
      "27\n",
      "Three items from the middle of the list are:\n",
      "125\n",
      "216\n",
      "343\n",
      "The last three items in the list are:\n",
      "512\n",
      "729\n",
      "1000\n"
     ]
    }
   ],
   "source": [
    "nums = [value**3 for value in range(1,11)]\n",
    "print(nums)\n",
    "print('The first three items in the list are:')\n",
    "for first_num in nums[0:3]:\n",
    "    print(first_num)\n",
    "print('Three items from the middle of the list are:')\n",
    "for middle_num in nums[4:7]:\n",
    "    print(middle_num)\n",
    "print('The last three items in the list are:')\n",
    "for last_num in nums[-3:]:\n",
    "    print(last_num)"
   ]
  },
  {
   "cell_type": "markdown",
   "id": "dd753cad-5fce-4538-bae7-dcb5fc88b461",
   "metadata": {},
   "source": [
    "## *4.11 你的比萨，我的比萨*"
   ]
  },
  {
   "cell_type": "code",
   "execution_count": 24,
   "id": "6e6a4c76-2bc4-4375-93a3-c9eacdd95527",
   "metadata": {},
   "outputs": [
    {
     "name": "stdout",
     "output_type": "stream",
     "text": [
      "My favorite pizzas are:\n",
      "pepperoni pizza\n",
      "potato pizza\n",
      "beef pizza\n",
      "chicken pizza\n",
      "My friend' favorite pizzas are:\n",
      "pepperoni pizza\n",
      "potato pizza\n",
      "beef pizza\n",
      "fish pizza\n"
     ]
    }
   ],
   "source": [
    "pizzas = ['pepperoni pizza','potato pizza','beef pizza']\n",
    "friend_pizzas = pizzas[:]\n",
    "pizzas.append('chicken pizza')\n",
    "friend_pizzas.append('fish pizza')\n",
    "print('My favorite pizzas are:')\n",
    "for pizza in pizzas:\n",
    "    print(pizza)\n",
    "print('My friend\\' favorite pizzas are:')\n",
    "for friend_pizza in friend_pizzas:\n",
    "    print(friend_pizza)"
   ]
  },
  {
   "cell_type": "markdown",
   "id": "1d8b8730-89a4-49ec-9f59-16021758f640",
   "metadata": {},
   "source": [
    "## *4.12 使用多个循环*"
   ]
  },
  {
   "cell_type": "code",
   "execution_count": 26,
   "id": "7155f4e4-3418-42bb-aeb8-72492f209716",
   "metadata": {},
   "outputs": [
    {
     "name": "stdout",
     "output_type": "stream",
     "text": [
      "pizza\n",
      "falafel\n",
      "carrot cake\n",
      "pizza\n",
      "falafel\n",
      "carrot cake\n"
     ]
    }
   ],
   "source": [
    "my_foods = ['pizza','falafel','carrot cake']\n",
    "for food in my_foods:\n",
    "    print(food)\n",
    "for foods in my_foods:\n",
    "    print(foods)"
   ]
  },
  {
   "cell_type": "markdown",
   "id": "18841edc-9fad-44d3-ac41-e66d7a95dcf6",
   "metadata": {},
   "source": [
    "## *4.13 自助餐*"
   ]
  },
  {
   "cell_type": "code",
   "execution_count": 30,
   "id": "8aeca3d8-7bd7-4126-b837-600ed192abbf",
   "metadata": {},
   "outputs": [
    {
     "name": "stdout",
     "output_type": "stream",
     "text": [
      "cakes\n",
      "noodles\n",
      "meats\n",
      "fruits\n",
      "vegetables\n",
      "rice\n",
      "hot pots\n",
      "meats\n",
      "fruits\n",
      "vegetables\n"
     ]
    }
   ],
   "source": [
    "foods = ('cakes','noodles','meats','fruits','vegetables')\n",
    "for food in foods:\n",
    "    print(food)\n",
    "\n",
    "foods = ('rice','hot pots','meats','fruits','vegetables')\n",
    "for food in foods:\n",
    "    print(food)"
   ]
  }
 ],
 "metadata": {
  "kernelspec": {
   "display_name": "Python 3 (ipykernel)",
   "language": "python",
   "name": "python3"
  },
  "language_info": {
   "codemirror_mode": {
    "name": "ipython",
    "version": 3
   },
   "file_extension": ".py",
   "mimetype": "text/x-python",
   "name": "python",
   "nbconvert_exporter": "python",
   "pygments_lexer": "ipython3",
   "version": "3.11.7"
  }
 },
 "nbformat": 4,
 "nbformat_minor": 5
}
