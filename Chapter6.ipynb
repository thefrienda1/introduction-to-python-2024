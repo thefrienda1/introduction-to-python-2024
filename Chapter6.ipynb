{
 "cells": [
  {
   "cell_type": "markdown",
   "id": "8c40ba02-c11d-4e6c-b27d-95bc683bb923",
   "metadata": {},
   "source": [
    "# **第6章 字典**"
   ]
  },
  {
   "cell_type": "markdown",
   "id": "b95a0039-4253-40f1-9b0e-f55ef9ad555f",
   "metadata": {},
   "source": [
    "## **6.1 一个简单的字典**"
   ]
  },
  {
   "cell_type": "code",
   "execution_count": 1,
   "id": "7f1036c8-857a-4966-803c-f287c71e6be8",
   "metadata": {},
   "outputs": [
    {
     "name": "stdout",
     "output_type": "stream",
     "text": [
      "green\n",
      "5\n"
     ]
    }
   ],
   "source": [
    "alien_0 = {'color':'green','points':5}\n",
    "print(alien_0['color'])\n",
    "print(alien_0['points'])"
   ]
  },
  {
   "cell_type": "markdown",
   "id": "e03b679e-f626-4b75-9955-c3b72cd5007c",
   "metadata": {},
   "source": [
    "## **6.2 使用字典**"
   ]
  },
  {
   "cell_type": "code",
   "execution_count": null,
   "id": "db49d0ad-703b-46db-bbb0-9c890c190f0a",
   "metadata": {},
   "outputs": [],
   "source": [
    "alien_0 = {'color':'green','points':5}\n",
    "#字典是一系列键值对，其中冒号前的为键，冒号后的为与键相关联的值，值可以是任意python对象"
   ]
  },
  {
   "cell_type": "markdown",
   "id": "63d183d7-a294-4bb9-bc70-8cd1cd47bd37",
   "metadata": {},
   "source": [
    "### **6.2.1 访问字典中的值**"
   ]
  },
  {
   "cell_type": "code",
   "execution_count": 2,
   "id": "e49b552b-841c-41fe-842e-3e15373419f1",
   "metadata": {},
   "outputs": [
    {
     "name": "stdout",
     "output_type": "stream",
     "text": [
      "You just earned 5 points!\n"
     ]
    }
   ],
   "source": [
    "alien_0 = {'color':'green','points':5}\n",
    "new_points = alien_0['points']\n",
    "print(f'You just earned {new_points} points!')"
   ]
  },
  {
   "cell_type": "markdown",
   "id": "4fe1f9f7-e70d-4139-99fe-03ae485bedb6",
   "metadata": {},
   "source": [
    "### **6.2.2 添加键值对**"
   ]
  },
  {
   "cell_type": "code",
   "execution_count": 4,
   "id": "bf629af1-c1b9-4344-90b0-914ddbd7e17e",
   "metadata": {},
   "outputs": [
    {
     "name": "stdout",
     "output_type": "stream",
     "text": [
      "{'color': 'green', 'points': 5}\n",
      "{'color': 'green', 'points': 5, 'x_position': 0, 'y_position': 25}\n"
     ]
    }
   ],
   "source": [
    "alien_0 = {'color':'green','points':5}\n",
    "print(alien_0)\n",
    "alien_0['x_position'] = 0\n",
    "alien_0['y_position'] = 25\n",
    "print(alien_0)"
   ]
  },
  {
   "cell_type": "markdown",
   "id": "1522af41-d1a2-4431-9382-7f5f98f3b2c1",
   "metadata": {},
   "source": [
    "### **6.2.3 从创建一个空字典开始**"
   ]
  },
  {
   "cell_type": "code",
   "execution_count": 5,
   "id": "885864db-e458-4482-b15e-b22cb68cb1d0",
   "metadata": {},
   "outputs": [
    {
     "name": "stdout",
     "output_type": "stream",
     "text": [
      "{'color': 'green', 'points': 5}\n"
     ]
    }
   ],
   "source": [
    "alien_0 = {}\n",
    "alien_0['color'] = 'green'\n",
    "alien_0['points'] = 5\n",
    "print(alien_0)"
   ]
  },
  {
   "cell_type": "markdown",
   "id": "7f39e74e-81ca-43e9-b14b-3520894b278c",
   "metadata": {},
   "source": [
    "### **6.2.4 修改字典中的值**"
   ]
  },
  {
   "cell_type": "code",
   "execution_count": 9,
   "id": "83393427-5a6c-49f3-9775-80dcac27e2a6",
   "metadata": {},
   "outputs": [
    {
     "name": "stdout",
     "output_type": "stream",
     "text": [
      "The alien is green.\n",
      "The alien is now yellow.\n"
     ]
    }
   ],
   "source": [
    "alien_0 = {'color':'green','points':5}\n",
    "print(f\"The alien is {alien_0['color']}.\")\n",
    "alien_0['color'] = 'yellow'\n",
    "print(f\"The alien is now {alien_0['color']}.\")"
   ]
  },
  {
   "cell_type": "code",
   "execution_count": 15,
   "id": "96dbe3d0-f1b9-4ac7-9ffd-2d9e9b9be4c6",
   "metadata": {},
   "outputs": [
    {
     "name": "stdout",
     "output_type": "stream",
     "text": [
      "Original position:0\n",
      "New position: 2\n"
     ]
    }
   ],
   "source": [
    "alien_0 = {'x_p':0,'y_p':25,'speed':'medium'}\n",
    "print(f\"Original position:{alien_0['x_p']}\")\n",
    "#向右移动外星人\n",
    "#根据当前速度确定将外星人移动多远\n",
    "if alien_0['speed'] == 'slow':\n",
    "    x_increment = 1\n",
    "elif alien_0['speed'] == 'medium':\n",
    "    x_increment = 2\n",
    "else:\n",
    "    x_increment = 3\n",
    "alien_0['x_p'] = alien_0['x_p'] + x_increment\n",
    "print(f\"New position: {alien_0['x_p']}\")"
   ]
  },
  {
   "cell_type": "markdown",
   "id": "4169a7cd-13de-4726-9731-d89e351d11a6",
   "metadata": {},
   "source": [
    "### **6.2.5 删除键值对**"
   ]
  },
  {
   "cell_type": "code",
   "execution_count": 17,
   "id": "4f0da1c9-687e-485b-bfe6-43385360f65c",
   "metadata": {},
   "outputs": [
    {
     "name": "stdout",
     "output_type": "stream",
     "text": [
      "{'color': 'green', 'points': 5}\n",
      "{'color': 'green'}\n"
     ]
    }
   ],
   "source": [
    "alien_0 = {'color':'green','points':5}\n",
    "print(alien_0)\n",
    "del alien_0['points']\n",
    "print(alien_0)"
   ]
  },
  {
   "cell_type": "markdown",
   "id": "417171ce-38ed-478d-9f5b-a6c8b9054fb8",
   "metadata": {},
   "source": [
    "### **6.2.6 由类似的对象组成的字典**"
   ]
  },
  {
   "cell_type": "code",
   "execution_count": 20,
   "id": "1a5dbe39-e99f-44ec-9899-11a9e20e530b",
   "metadata": {},
   "outputs": [
    {
     "name": "stdout",
     "output_type": "stream",
     "text": [
      "Sarah's favorite language is C.\n"
     ]
    }
   ],
   "source": [
    "favorite_languages = {\n",
    "    'jen':'python',\n",
    "    'sarah':'c',\n",
    "    'edward':'rust',\n",
    "    'phil':'pytjon',\n",
    "    }\n",
    "language = favorite_languages['sarah'].title()\n",
    "print(f\"Sarah's favorite language is {language}.\")"
   ]
  },
  {
   "cell_type": "markdown",
   "id": "ce770b27-f2e6-43b3-82f0-c5b6a6bc97d3",
   "metadata": {},
   "source": [
    "### **6.2.7 使用get（）来访问值**"
   ]
  },
  {
   "cell_type": "code",
   "execution_count": 21,
   "id": "4f7107f2-ffa6-402b-be63-4ec375f14b60",
   "metadata": {},
   "outputs": [
    {
     "ename": "KeyError",
     "evalue": "'points'",
     "output_type": "error",
     "traceback": [
      "\u001b[1;31m---------------------------------------------------------------------------\u001b[0m",
      "\u001b[1;31mKeyError\u001b[0m                                  Traceback (most recent call last)",
      "Cell \u001b[1;32mIn[21], line 2\u001b[0m\n\u001b[0;32m      1\u001b[0m alien_0 \u001b[38;5;241m=\u001b[39m {\u001b[38;5;124m'\u001b[39m\u001b[38;5;124mcolor\u001b[39m\u001b[38;5;124m'\u001b[39m:\u001b[38;5;124m'\u001b[39m\u001b[38;5;124mgreen\u001b[39m\u001b[38;5;124m'\u001b[39m,\u001b[38;5;124m'\u001b[39m\u001b[38;5;124mspeed\u001b[39m\u001b[38;5;124m'\u001b[39m:\u001b[38;5;124m'\u001b[39m\u001b[38;5;124mslow\u001b[39m\u001b[38;5;124m'\u001b[39m}\n\u001b[1;32m----> 2\u001b[0m \u001b[38;5;28mprint\u001b[39m(alien_0[\u001b[38;5;124m'\u001b[39m\u001b[38;5;124mpoints\u001b[39m\u001b[38;5;124m'\u001b[39m])\n",
      "\u001b[1;31mKeyError\u001b[0m: 'points'"
     ]
    }
   ],
   "source": [
    "alien_0 = {'color':'green','speed':'slow'}\n",
    "print(alien_0['points'])"
   ]
  },
  {
   "cell_type": "code",
   "execution_count": 24,
   "id": "2ae779c0-b113-40f2-95f4-bce46591ae87",
   "metadata": {},
   "outputs": [
    {
     "name": "stdout",
     "output_type": "stream",
     "text": [
      "No point value assinged\n"
     ]
    }
   ],
   "source": [
    "alien_0 = {'color':'green','speed':'slow'}\n",
    "point_value = alien_0.get('points','No point value assinged')\n",
    "#为避免报错 使用get（）方法 第一个参数用于指定键，第二个参数为当指定的键不存在时要返回的值\n",
    "print(point_value)"
   ]
  },
  {
   "cell_type": "code",
   "execution_count": 25,
   "id": "e89d91a7-21bc-4bf3-878c-05eced386127",
   "metadata": {},
   "outputs": [
    {
     "name": "stdout",
     "output_type": "stream",
     "text": [
      "5\n"
     ]
    }
   ],
   "source": [
    "alien_0 = {'color':'green','points':5}\n",
    "point_value = alien_0.get('points','No point value assinged')\n",
    "print(point_value)"
   ]
  },
  {
   "cell_type": "code",
   "execution_count": 26,
   "id": "cef6456a-b169-4520-8dea-725e942bf78d",
   "metadata": {},
   "outputs": [
    {
     "name": "stdout",
     "output_type": "stream",
     "text": [
      "None\n"
     ]
    }
   ],
   "source": [
    "alien_0 = {'color':'green','speed':'slow'}\n",
    "point_value = alien_0.get('points')\n",
    "print(point_value)"
   ]
  },
  {
   "cell_type": "markdown",
   "id": "5beb154b-7f77-466a-a35d-e8cece839af1",
   "metadata": {},
   "source": [
    "## **6.3 遍历字典**"
   ]
  },
  {
   "cell_type": "markdown",
   "id": "502e3fc6-d637-4c68-a833-e1fd78bfdcc1",
   "metadata": {},
   "source": [
    "### **6.3.1 遍历所有的键值对**"
   ]
  },
  {
   "cell_type": "code",
   "execution_count": 30,
   "id": "53638668-331e-4e05-af42-fcc8a286fed1",
   "metadata": {},
   "outputs": [
    {
     "name": "stdout",
     "output_type": "stream",
     "text": [
      "\n",
      "Key: username\n",
      "Value: efermi\n",
      "\n",
      "Key: first\n",
      "Value: enrico\n",
      "\n",
      "Key: last\n",
      "Value: fermi\n",
      "Jen loves Python\n",
      "Sarah loves C\n",
      "Edward loves Rust\n",
      "Phil loves Pytjon\n"
     ]
    }
   ],
   "source": [
    "user_0 = {\n",
    "    'username':'efermi',\n",
    "    'first':'enrico',\n",
    "    'last':'fermi',\n",
    "    }\n",
    "for k,v in user_0.items():\n",
    "    print(f\"\\nKey: {k}\")\n",
    "    print(f\"Value: {v}\")\n",
    "\n",
    "favorite_languages = {\n",
    "    'jen':'python',\n",
    "    'sarah':'c',\n",
    "    'edward':'rust',\n",
    "    'phil':'pytjon',\n",
    "    }\n",
    "for name,language in favorite_languages.items():\n",
    "    print(f\"{name.title()} loves {language.title()}\")"
   ]
  },
  {
   "cell_type": "markdown",
   "id": "2091f277-4014-43d8-abf2-a90e9acb4112",
   "metadata": {},
   "source": [
    "### **6.3.2 遍历字典中的所有键**"
   ]
  },
  {
   "cell_type": "code",
   "execution_count": 31,
   "id": "732dd9de-39b8-4740-b450-ecdbd9a038a2",
   "metadata": {},
   "outputs": [
    {
     "name": "stdout",
     "output_type": "stream",
     "text": [
      "Jen\n",
      "Sarah\n",
      "Edward\n",
      "Phil\n"
     ]
    }
   ],
   "source": [
    "favorite_languages = {\n",
    "    'jen':'python',\n",
    "    'sarah':'c',\n",
    "    'edward':'rust',\n",
    "    'phil':'pytjon',\n",
    "    }\n",
    "for name in favorite_languages.keys():\n",
    "    print(name.title())"
   ]
  },
  {
   "cell_type": "code",
   "execution_count": 32,
   "id": "bc3c638a-2102-41e8-a113-0d801f22355a",
   "metadata": {},
   "outputs": [
    {
     "name": "stdout",
     "output_type": "stream",
     "text": [
      "Jen\n",
      "Sarah\n",
      "Edward\n",
      "Phil\n"
     ]
    }
   ],
   "source": [
    "favorite_languages = {\n",
    "    'jen':'python',\n",
    "    'sarah':'c',\n",
    "    'edward':'rust',\n",
    "    'phil':'pytjon',\n",
    "    }\n",
    "for name in favorite_languages:\n",
    "    print(name.title())\n",
    "#默认遍历所有键"
   ]
  },
  {
   "cell_type": "code",
   "execution_count": 35,
   "id": "570fe3a2-bf75-4446-bc8d-999f8c053fa6",
   "metadata": {},
   "outputs": [
    {
     "name": "stdout",
     "output_type": "stream",
     "text": [
      "Hi, Jen\n",
      "Hi, Sarah\n",
      "\tSarah, I see you love C!\n",
      "Hi, Edward\n",
      "Hi, Phil\n",
      "\tPhil, I see you love Pytjon!\n",
      "Erin, please take our poll!\n"
     ]
    }
   ],
   "source": [
    "favorite_languages = {\n",
    "    'jen':'python',\n",
    "    'sarah':'c',\n",
    "    'edward':'rust',\n",
    "    'phil':'pytjon',\n",
    "    }\n",
    "friends = ['sarah','phil']\n",
    "for name in favorite_languages:\n",
    "    print(f\"Hi, {name.title()}\")\n",
    "    if name in friends:\n",
    "        language = favorite_languages[name].title()\n",
    "        #后面的name为变量，而非字符串\n",
    "        print(f\"\\t{name.title()}, I see you love {language}!\")\n",
    "if 'erin' not in favorite_languages.keys():\n",
    "    print(\"Erin, please take our poll!\")"
   ]
  },
  {
   "cell_type": "markdown",
   "id": "ef4bcd09-5a76-47d9-90b4-51485c2afb8d",
   "metadata": {},
   "source": [
    "### **6.3.3 按特定的顺序遍历字典中的所有键**"
   ]
  },
  {
   "cell_type": "code",
   "execution_count": 37,
   "id": "7af12dd7-4660-4768-8115-ae828453cf62",
   "metadata": {},
   "outputs": [
    {
     "name": "stdout",
     "output_type": "stream",
     "text": [
      "Edward, thank you for taking the poll.\n",
      "Jen, thank you for taking the poll.\n",
      "Phil, thank you for taking the poll.\n",
      "Sarah, thank you for taking the poll.\n"
     ]
    }
   ],
   "source": [
    "favorite_languages = {\n",
    "    'jen':'python',\n",
    "    'sarah':'c',\n",
    "    'edward':'rust',\n",
    "    'phil':'pytjon',\n",
    "    }\n",
    "for name in sorted(favorite_languages.keys()):\n",
    "    print(f\"{name.title()}, thank you for taking the poll.\")"
   ]
  },
  {
   "cell_type": "markdown",
   "id": "af96ad0c-c4d2-444a-8be2-5e073f6877ca",
   "metadata": {},
   "source": [
    "### **6.3.4 遍历字典中的所有值**"
   ]
  },
  {
   "cell_type": "code",
   "execution_count": 40,
   "id": "75652091-4420-41dc-9104-9fe687659fbc",
   "metadata": {},
   "outputs": [
    {
     "name": "stdout",
     "output_type": "stream",
     "text": [
      "The following languages have been mentioned:\n",
      "Python\n",
      "C\n",
      "Rust\n",
      "Python\n"
     ]
    }
   ],
   "source": [
    "favorite_languages = {\n",
    "    'jen':'python',\n",
    "    'sarah':'c',\n",
    "    'edward':'rust',\n",
    "    'phil':'python',\n",
    "    }\n",
    "print(\"The following languages have been mentioned:\")\n",
    "for language in favorite_languages.values():\n",
    "    print(language.title())"
   ]
  },
  {
   "cell_type": "code",
   "execution_count": 41,
   "id": "f9ee239a-e659-492f-aa28-445db40792cc",
   "metadata": {},
   "outputs": [
    {
     "name": "stdout",
     "output_type": "stream",
     "text": [
      "The following languages have been mentioned:\n",
      "Rust\n",
      "C\n",
      "Python\n"
     ]
    }
   ],
   "source": [
    "#使用集合set确保值无重复\n",
    "favorite_languages = {\n",
    "    'jen':'python',\n",
    "    'sarah':'c',\n",
    "    'edward':'rust',\n",
    "    'phil':'python',\n",
    "    }\n",
    "print(\"The following languages have been mentioned:\")\n",
    "for language in set(favorite_languages.values()):\n",
    "    print(language.title())"
   ]
  },
  {
   "cell_type": "code",
   "execution_count": 43,
   "id": "3c67650c-0516-4219-a80a-7b04633c7e0a",
   "metadata": {},
   "outputs": [
    {
     "name": "stdout",
     "output_type": "stream",
     "text": [
      "{'c', 'java', 'python'}\n"
     ]
    }
   ],
   "source": [
    "#集合，花括号，无键值对\n",
    "languages = {'python','java','c'}\n",
    "print(languages)"
   ]
  },
  {
   "cell_type": "markdown",
   "id": "26149afa-8dc0-428c-b1a3-6050d71dc0f9",
   "metadata": {},
   "source": [
    "## **6.4 嵌套**"
   ]
  },
  {
   "cell_type": "markdown",
   "id": "9e649138-77a8-4a2a-834e-a0ce03ffa1f7",
   "metadata": {},
   "source": [
    "### **6.4.1 字典列表**"
   ]
  },
  {
   "cell_type": "code",
   "execution_count": 45,
   "id": "093b6c21-97a2-4c7a-a787-c4a5b05dd512",
   "metadata": {},
   "outputs": [
    {
     "name": "stdout",
     "output_type": "stream",
     "text": [
      "{'color': 'green', 'points': 5}\n",
      "{'color': 'yellow', 'points': 10}\n",
      "{'color': 'red', 'points': 15}\n"
     ]
    }
   ],
   "source": [
    "alien_0 = {'color': 'green','points': 5}\n",
    "alien_1 = {'color': 'yellow','points': 10}\n",
    "alien_2 = {'color': 'red','points': 15}\n",
    "aliens = [alien_0,alien_1,alien_2]\n",
    "for alien in aliens:\n",
    "    print(alien)"
   ]
  },
  {
   "cell_type": "code",
   "execution_count": 55,
   "id": "a3ae3f7f-05da-4d14-bf03-9b879422a7ab",
   "metadata": {},
   "outputs": [
    {
     "name": "stdout",
     "output_type": "stream",
     "text": [
      "{'color': 'yellow', 'points': 10, 'speed': 'medium'}\n",
      "{'color': 'yellow', 'points': 10, 'speed': 'medium'}\n",
      "{'color': 'yellow', 'points': 10, 'speed': 'medium'}\n",
      "{'color': 'green', 'points': 5, 'speed': 'slow'}\n",
      "{'color': 'green', 'points': 5, 'speed': 'slow'}\n",
      "…\n",
      "Total number of aliens: 30\n"
     ]
    }
   ],
   "source": [
    "aliens = []\n",
    "for alien_number in range(30):\n",
    "    new_alien = {'color': 'green', 'points':5, 'speed': 'slow'}\n",
    "    aliens.append(new_alien)\n",
    "for alien in aliens[:3]:\n",
    "    if alien['color'] == 'green':\n",
    "        alien['color'] = 'yellow'\n",
    "        alien['speed'] = 'medium'\n",
    "        alien['points'] = 10\n",
    "    elif alien['color'] == 'yellow':\n",
    "        alien['color'] = 'red'\n",
    "        alien['speed'] = 'fast'\n",
    "        alien['points'] = 15\n",
    "for alien in aliens[:5]:\n",
    "    print(alien)\n",
    "print('…')\n",
    "print(f'Total number of aliens: {len(aliens)}')"
   ]
  },
  {
   "cell_type": "code",
   "execution_count": 56,
   "id": "e2faa1ed-4061-47d1-901d-517c760a2331",
   "metadata": {},
   "outputs": [
    {
     "name": "stdout",
     "output_type": "stream",
     "text": [
      "{'color': 'red', 'points': 15, 'speed': 'fast'}\n",
      "{'color': 'red', 'points': 15, 'speed': 'fast'}\n",
      "{'color': 'red', 'points': 15, 'speed': 'fast'}\n",
      "{'color': 'green', 'points': 5, 'speed': 'slow'}\n",
      "{'color': 'green', 'points': 5, 'speed': 'slow'}\n",
      "…\n",
      "Total number of aliens: 30\n"
     ]
    }
   ],
   "source": [
    "aliens = []\n",
    "for alien_number in range(30):\n",
    "    new_alien = {'color': 'green', 'points':5, 'speed': 'slow'}\n",
    "    aliens.append(new_alien)\n",
    "for alien in aliens[:3]:\n",
    "    if alien['color'] == 'green':\n",
    "        alien['color'] = 'yellow'\n",
    "        alien['speed'] = 'medium'\n",
    "        alien['points'] = 10\n",
    "    if alien['color'] == 'yellow':\n",
    "        alien['color'] = 'red'\n",
    "        alien['speed'] = 'fast'\n",
    "        alien['points'] = 15\n",
    "for alien in aliens[:5]:\n",
    "    print(alien)\n",
    "print('…')\n",
    "print(f'Total number of aliens: {len(aliens)}')"
   ]
  },
  {
   "cell_type": "markdown",
   "id": "4c6bf729-f903-4716-afa4-3b68074135ae",
   "metadata": {},
   "source": [
    "### **6.4.2 在字典中存储列表**"
   ]
  },
  {
   "cell_type": "code",
   "execution_count": 60,
   "id": "bb7ae290-11e6-4e18-8d7f-bb50c130b884",
   "metadata": {},
   "outputs": [
    {
     "name": "stdout",
     "output_type": "stream",
     "text": [
      "You ordered a thick-crust pizzawith the following toppings:\n",
      "\tmushrooms\n",
      "\textrs cheese\n"
     ]
    }
   ],
   "source": [
    "pizza = {\n",
    "    'crust': 'thick',\n",
    "    'toppings': ['mushrooms','extrs cheese'],\n",
    "    }\n",
    "print(f\"You ordered a {pizza['crust']}-crust pizza\" \n",
    "    \"with the following toppings:\")\n",
    "for topping in pizza['toppings']:\n",
    "    print(f'\\t{topping}')"
   ]
  },
  {
   "cell_type": "code",
   "execution_count": 3,
   "id": "3d244438-ce12-44a6-b55c-2d73b7360367",
   "metadata": {
    "execution": {
     "iopub.execute_input": "2024-04-09T07:53:49.994847Z",
     "iopub.status.busy": "2024-04-09T07:53:49.994847Z",
     "iopub.status.idle": "2024-04-09T07:53:50.001658Z",
     "shell.execute_reply": "2024-04-09T07:53:50.001658Z",
     "shell.execute_reply.started": "2024-04-09T07:53:49.994847Z"
    }
   },
   "outputs": [
    {
     "name": "stdout",
     "output_type": "stream",
     "text": [
      "\n",
      "Jen's favorite languages are:\n",
      "\tPython\n",
      "\tRust\n",
      "\n",
      "Sarah's favorite languages are:\n",
      "\tC\n",
      "\n",
      "Edward's favorite languages are:\n",
      "\tRust\n",
      "\tGo\n",
      "\n",
      "Phil's favorite languages are:\n",
      "\tPython\n",
      "\tHaskell\n"
     ]
    }
   ],
   "source": [
    "favorite_languages = {\n",
    "    'jen':['python','rust'],\n",
    "    'sarah':['c'],\n",
    "    'edward':['rust','go'],\n",
    "    'phil':['python','haskell'],\n",
    "    }\n",
    "\n",
    "for name,languages in favorite_languages.items():\n",
    "    print(f\"\\n{name.title()}'s favorite languages are:\")\n",
    "    for language in languages:\n",
    "        print(f\"\\t{language.title()}\")"
   ]
  },
  {
   "cell_type": "markdown",
   "id": "62ff8105-53d4-45c5-b0c0-a15bd65909e0",
   "metadata": {},
   "source": [
    "### **6.4.3 在字典中存储字典**"
   ]
  },
  {
   "cell_type": "code",
   "execution_count": 80,
   "id": "e4f24d42-be06-47bd-9462-55b21f5163fb",
   "metadata": {},
   "outputs": [
    {
     "name": "stdout",
     "output_type": "stream",
     "text": [
      "\n",
      "Username: aeinstein\n",
      "\tFull name: Albert Einstein\n",
      "\tLocation: Princeton\n",
      "\n",
      "Username: mcurie\n",
      "\tFull name: Marie Curie\n",
      "\tLocation: Paris\n"
     ]
    }
   ],
   "source": [
    "users = {\n",
    "    'aeinstein': {\n",
    "        'first': 'albert',\n",
    "        'last': 'einstein',\n",
    "        'location': 'princeton',\n",
    "        },\n",
    "\n",
    "    'mcurie': {\n",
    "        'first': 'marie',\n",
    "        'last': 'curie',\n",
    "        'location': 'paris',\n",
    "        }\n",
    "    }\n",
    "for username, user_info in users.items():\n",
    "    print(f\"\\nUsername: {username}\")\n",
    "    full_name = f\"{user_info['first']} {user_info['last']}\"\n",
    "    location = user_info['location']\n",
    "\n",
    "    print(f\"\\tFull name: {full_name.title()}\")\n",
    "    print(f\"\\tLocation: {location.title()}\")"
   ]
  },
  {
   "cell_type": "markdown",
   "id": "75aca5ab-be5f-4045-a548-573efd82375c",
   "metadata": {},
   "source": [
    "# **练习**"
   ]
  },
  {
   "cell_type": "markdown",
   "id": "b559606e-063f-4e17-8c69-b05c38da3518",
   "metadata": {},
   "source": [
    "## *6.1 人*"
   ]
  },
  {
   "cell_type": "code",
   "execution_count": 82,
   "id": "5aa346a2-8dd6-451f-b1bf-16434f9a32d8",
   "metadata": {
    "execution": {
     "iopub.execute_input": "2024-04-08T09:23:10.964833Z",
     "iopub.status.busy": "2024-04-08T09:23:10.964833Z",
     "iopub.status.idle": "2024-04-08T09:23:10.971028Z",
     "shell.execute_reply": "2024-04-08T09:23:10.971028Z",
     "shell.execute_reply.started": "2024-04-08T09:23:10.964833Z"
    }
   },
   "outputs": [
    {
     "name": "stdout",
     "output_type": "stream",
     "text": [
      "wei\n",
      "si\n",
      "20\n",
      "nanjing\n"
     ]
    }
   ],
   "source": [
    "person_0 = {'first_name': 'wei','last_name': 'si','age': 20,'city': 'nanjing'}\n",
    "print(person_0['first_name'])\n",
    "print(person_0['last_name'])\n",
    "print(person_0['age'])\n",
    "print(person_0['city'])"
   ]
  },
  {
   "cell_type": "markdown",
   "id": "35f27e38-0357-4af0-ab18-787602adfa43",
   "metadata": {},
   "source": [
    "## *6.2 喜欢的数1*"
   ]
  },
  {
   "cell_type": "code",
   "execution_count": 84,
   "id": "a42156bd-fd81-4b03-b5f7-5b5a39b9c2cd",
   "metadata": {
    "execution": {
     "iopub.execute_input": "2024-04-08T09:29:09.519709Z",
     "iopub.status.busy": "2024-04-08T09:29:09.519709Z",
     "iopub.status.idle": "2024-04-08T09:29:09.526984Z",
     "shell.execute_reply": "2024-04-08T09:29:09.526984Z",
     "shell.execute_reply.started": "2024-04-08T09:29:09.519709Z"
    }
   },
   "outputs": [
    {
     "name": "stdout",
     "output_type": "stream",
     "text": [
      "Faker loves 1.\n",
      "Zeus loves 2.\n",
      "Oner loves 3.\n",
      "Gumayusi loves 4.\n",
      "Keria loves 5.\n"
     ]
    }
   ],
   "source": [
    "nums = {'faker': 1,'zeus': 2,'oner': 3,'gumayusi': 4,'keria': 5}\n",
    "for name,num in nums.items():\n",
    "    print(f\"{name.title()} loves {num}.\")"
   ]
  },
  {
   "cell_type": "markdown",
   "id": "30bf6542-ae2d-4a39-b2d4-03b1d56715d2",
   "metadata": {},
   "source": [
    "## *6.3 词汇表1*"
   ]
  },
  {
   "cell_type": "code",
   "execution_count": 85,
   "id": "d96067e0-1895-44ef-8fdf-056d3c0283ab",
   "metadata": {
    "execution": {
     "iopub.execute_input": "2024-04-08T09:37:35.210307Z",
     "iopub.status.busy": "2024-04-08T09:37:35.210307Z",
     "iopub.status.idle": "2024-04-08T09:37:35.219203Z",
     "shell.execute_reply": "2024-04-08T09:37:35.219203Z",
     "shell.execute_reply.started": "2024-04-08T09:37:35.210307Z"
    }
   },
   "outputs": [
    {
     "name": "stdout",
     "output_type": "stream",
     "text": [
      "\n",
      "variable:变量\n",
      "\n",
      "loop:循环\n",
      "\n",
      "function:函数\n",
      "\n",
      "append:追加\n",
      "\n",
      "remove:移除\n"
     ]
    }
   ],
   "source": [
    "program = {'variable': '变量', 'loop': '循环','function': '函数','append': '追加','remove':'移除'}\n",
    "for k in program.keys():\n",
    "    print(f\"\\n{k}:{program[k]}\")"
   ]
  },
  {
   "cell_type": "markdown",
   "id": "6e53d8d2-0fb9-417b-a5c7-338f14a59357",
   "metadata": {},
   "source": [
    "## *6.4 词汇表2*"
   ]
  },
  {
   "cell_type": "code",
   "execution_count": 1,
   "id": "b57a3381-a7d4-42b5-a2fd-7205a3680ebe",
   "metadata": {
    "execution": {
     "iopub.execute_input": "2024-04-08T15:24:07.416302Z",
     "iopub.status.busy": "2024-04-08T15:24:07.415352Z",
     "iopub.status.idle": "2024-04-08T15:24:07.425816Z",
     "shell.execute_reply": "2024-04-08T15:24:07.425816Z",
     "shell.execute_reply.started": "2024-04-08T15:24:07.416302Z"
    }
   },
   "outputs": [
    {
     "name": "stdout",
     "output_type": "stream",
     "text": [
      "\n",
      "variable:变量\n",
      "\n",
      "loop:循环\n",
      "\n",
      "function:函数\n",
      "\n",
      "append:追加\n",
      "\n",
      "remove:移除\n",
      "\n",
      "print:函数调用\n",
      "\n",
      "get:访问值\n",
      "\n",
      "pop:删除\n",
      "\n",
      "insert:插入\n",
      "\n",
      "sort:排序\n"
     ]
    }
   ],
   "source": [
    "program = {'variable': '变量', 'loop': '循环','function': '函数','append': '追加','remove':'移除'}\n",
    "program['print'] = '函数调用'\n",
    "program['get'] = '访问值'\n",
    "program['pop'] = '删除'\n",
    "program['insert'] = '插入'\n",
    "program['sort'] = '排序'\n",
    "for k in program.keys():\n",
    "    print(f\"\\n{k}:{program[k]}\")"
   ]
  },
  {
   "cell_type": "markdown",
   "id": "035af04d-2abb-41f7-b0a8-47d02c4556da",
   "metadata": {},
   "source": [
    "## *6.5 河流*"
   ]
  },
  {
   "cell_type": "code",
   "execution_count": 5,
   "id": "2c0c05db-1f87-44a7-bd57-b477e7a4db49",
   "metadata": {
    "execution": {
     "iopub.execute_input": "2024-04-08T15:33:43.416385Z",
     "iopub.status.busy": "2024-04-08T15:33:43.416385Z",
     "iopub.status.idle": "2024-04-08T15:33:43.420856Z",
     "shell.execute_reply": "2024-04-08T15:33:43.420856Z",
     "shell.execute_reply.started": "2024-04-08T15:33:43.416385Z"
    }
   },
   "outputs": [
    {
     "name": "stdout",
     "output_type": "stream",
     "text": [
      "The Yangtze River runs through China.\n",
      "The Nile runs through Egypt.\n",
      "The Ganges River runs through India.\n",
      "yangtze river\n",
      "nile\n",
      "ganges river\n",
      "china\n",
      "egypt\n",
      "india\n"
     ]
    }
   ],
   "source": [
    "rivers = {'yangtze river': 'china','nile': 'egypt', 'ganges river': 'india'}\n",
    "for river,country in rivers.items():\n",
    "    print(f\"The {river.title()} runs through {country.title()}.\")\n",
    "for river in rivers.keys():\n",
    "    print(river)\n",
    "for country in rivers.values():\n",
    "    print(country)"
   ]
  },
  {
   "cell_type": "markdown",
   "id": "ac3092a2-8a8f-4134-83ee-9e11dcf4a988",
   "metadata": {},
   "source": [
    "## *6.6 调查*"
   ]
  },
  {
   "cell_type": "code",
   "execution_count": 6,
   "id": "06e9d769-c781-4635-9997-cbf25c5d56e1",
   "metadata": {
    "execution": {
     "iopub.execute_input": "2024-04-09T05:51:41.723075Z",
     "iopub.status.busy": "2024-04-09T05:51:41.723075Z",
     "iopub.status.idle": "2024-04-09T05:51:41.756640Z",
     "shell.execute_reply": "2024-04-09T05:51:41.755637Z",
     "shell.execute_reply.started": "2024-04-09T05:51:41.723075Z"
    }
   },
   "outputs": [
    {
     "name": "stdout",
     "output_type": "stream",
     "text": [
      "Jen,thank you for taking the poll.\n",
      "Sarah,thank you for taking the poll.\n",
      "Edward,thank you for taking the poll.\n",
      "Phil,thank you for taking the poll.\n",
      "Ali,please take the poll.\n",
      "Jack,please take the poll.\n"
     ]
    }
   ],
   "source": [
    "favorite_languages = {\n",
    "    'jen':'python',\n",
    "    'sarah':'c',\n",
    "    'edward':'rust',\n",
    "    'phil':'pytjon',\n",
    "    }\n",
    "names = ['jen','sarah','edward','phil','ali','jack']\n",
    "for name in names:\n",
    "    if name in favorite_languages.keys():\n",
    "        print(f\"{name.title()},thank you for taking the poll.\")\n",
    "    else:\n",
    "        print(f\"{name.title()},please take the poll.\")"
   ]
  },
  {
   "cell_type": "markdown",
   "id": "d9ecf16a-a98c-4974-9368-bb8e75ae09ce",
   "metadata": {},
   "source": [
    "## *6.7 人们*"
   ]
  },
  {
   "cell_type": "code",
   "execution_count": 8,
   "id": "3750de80-21cc-4afe-903b-e17ea11e7d2e",
   "metadata": {
    "execution": {
     "iopub.execute_input": "2024-04-09T06:01:50.233622Z",
     "iopub.status.busy": "2024-04-09T06:01:50.232622Z",
     "iopub.status.idle": "2024-04-09T06:01:50.238061Z",
     "shell.execute_reply": "2024-04-09T06:01:50.238061Z",
     "shell.execute_reply.started": "2024-04-09T06:01:50.232622Z"
    }
   },
   "outputs": [
    {
     "name": "stdout",
     "output_type": "stream",
     "text": [
      "{'first_name': 'wei', 'last_name': 'si', 'age': 20, 'city': 'nanjing'}\n",
      "{'first_name': 'jack', 'last_name': 'smith', 'age': 21, 'city': 'london'}\n",
      "{'first_name': 'tianyi', 'last_name': 'luo', 'age': 16, 'city': 'shanghai'}\n"
     ]
    }
   ],
   "source": [
    "person_0 = {'first_name': 'wei','last_name': 'si','age': 20,'city': 'nanjing'}\n",
    "person_1 = {'first_name': 'jack','last_name': 'smith','age': 21,'city': 'london'}\n",
    "person_2 = {'first_name': 'tianyi','last_name': 'luo','age': 16,'city': 'shanghai'}\n",
    "people = [person_0, person_1, person_2]\n",
    "for person in people:\n",
    "    print(person)"
   ]
  },
  {
   "cell_type": "markdown",
   "id": "0d8403c5-3478-4c8f-8954-8c4eff89e337",
   "metadata": {},
   "source": [
    "## *6.8 宠物*"
   ]
  },
  {
   "cell_type": "code",
   "execution_count": 10,
   "id": "a3ff0be9-973c-43ce-bf6e-6dafc4a7d4ad",
   "metadata": {
    "execution": {
     "iopub.execute_input": "2024-04-09T06:05:24.379437Z",
     "iopub.status.busy": "2024-04-09T06:05:24.378426Z",
     "iopub.status.idle": "2024-04-09T06:05:24.382956Z",
     "shell.execute_reply": "2024-04-09T06:05:24.382956Z",
     "shell.execute_reply.started": "2024-04-09T06:05:24.379437Z"
    }
   },
   "outputs": [
    {
     "name": "stdout",
     "output_type": "stream",
     "text": [
      "{'kind': 'dog', 'master': 'jack'}\n",
      "{'kind': 'cat', 'master': 'alice'}\n",
      "{'kind': 'pig', 'master': 'monkey'}\n"
     ]
    }
   ],
   "source": [
    "pet_0 = {'kind':'dog', 'master':'jack'}\n",
    "pet_1 = {'kind':'cat', 'master':'alice'}\n",
    "pet_2 = {'kind':'pig', 'master':'monkey'}\n",
    "pets = [pet_0,pet_1,pet_2]\n",
    "for pet in pets:\n",
    "    print(pet)"
   ]
  },
  {
   "cell_type": "markdown",
   "id": "6a4ed0eb-cf5f-4ecd-9f76-2f98ac08f9bb",
   "metadata": {},
   "source": [
    "## *6.9 喜欢的地方*"
   ]
  },
  {
   "cell_type": "code",
   "execution_count": 53,
   "id": "689a0d3d-fed5-4335-b749-58048bd7c469",
   "metadata": {
    "execution": {
     "iopub.execute_input": "2024-04-09T07:05:30.742578Z",
     "iopub.status.busy": "2024-04-09T07:05:30.742578Z",
     "iopub.status.idle": "2024-04-09T07:05:30.746442Z",
     "shell.execute_reply": "2024-04-09T07:05:30.746442Z",
     "shell.execute_reply.started": "2024-04-09T07:05:30.742578Z"
    }
   },
   "outputs": [
    {
     "name": "stdout",
     "output_type": "stream",
     "text": [
      "\n",
      "Jack's favorite places are:\n",
      "\tLondon\n",
      "\tShanghai\n",
      "\n",
      "Alice's favorite places are:\n",
      "\tBeijing\n",
      "\tNanjing\n",
      "\n",
      "Peter's favorite places are:\n",
      "\tParis\n"
     ]
    }
   ],
   "source": [
    "favorite_places = {\n",
    "                'jack':['london', 'shanghai'], \n",
    "                'alice':['beijing','nanjing'], \n",
    "                'peter':['paris'],\n",
    "                  }\n",
    "for name,places in favorite_places.items():\n",
    "    print(f\"\\n{name.title()}'s favorite places are:\")\n",
    "    for place in places:\n",
    "        print(f\"\\t{place.title()}\")"
   ]
  },
  {
   "cell_type": "markdown",
   "id": "5fe1c7a3-6c41-44ea-8b50-ea191334cb3b",
   "metadata": {},
   "source": [
    "## *6.10 喜欢的数2*"
   ]
  },
  {
   "cell_type": "code",
   "execution_count": 17,
   "id": "7518ba64-f683-4842-b85d-b1a851b2e8b2",
   "metadata": {
    "execution": {
     "iopub.execute_input": "2024-04-09T06:19:07.854133Z",
     "iopub.status.busy": "2024-04-09T06:19:07.854133Z",
     "iopub.status.idle": "2024-04-09T06:19:07.871734Z",
     "shell.execute_reply": "2024-04-09T06:19:07.871734Z",
     "shell.execute_reply.started": "2024-04-09T06:19:07.854133Z"
    }
   },
   "outputs": [
    {
     "name": "stdout",
     "output_type": "stream",
     "text": [
      "\n",
      "Faker's favorite numbers are:\n",
      "\t1\n",
      "\t111\n",
      "\n",
      "Zeus's favorite numbers are:\n",
      "\t2\n",
      "\t222\n",
      "\n",
      "Oner's favorite numbers are:\n",
      "\t3\n",
      "\t333\n",
      "\n",
      "Gumayusi's favorite numbers are:\n",
      "\t4\n",
      "\t444\n",
      "\n",
      "Keria's favorite numbers are:\n",
      "\t5\n",
      "\t555\n"
     ]
    }
   ],
   "source": [
    "nums = {'faker': [1,111],'zeus': [2,222],'oner': [3,333],'gumayusi': [4,444],'keria': [5,555]}\n",
    "for name,nums in nums.items():\n",
    "    print(f\"\\n{name.title()}'s favorite numbers are:\")\n",
    "    for num in nums:\n",
    "        print(f\"\\t{num}\")"
   ]
  },
  {
   "cell_type": "markdown",
   "id": "0e1c1c7a-3d2d-488c-8c4f-d17ab9b959bb",
   "metadata": {},
   "source": [
    "## *6.11 城市*"
   ]
  },
  {
   "cell_type": "code",
   "execution_count": 18,
   "id": "d8baad28-ef5f-4468-96e9-b4048a07219b",
   "metadata": {
    "execution": {
     "iopub.execute_input": "2024-04-09T06:34:22.715049Z",
     "iopub.status.busy": "2024-04-09T06:34:22.715049Z",
     "iopub.status.idle": "2024-04-09T06:34:22.733713Z",
     "shell.execute_reply": "2024-04-09T06:34:22.733713Z",
     "shell.execute_reply.started": "2024-04-09T06:34:22.715049Z"
    }
   },
   "outputs": [
    {
     "name": "stdout",
     "output_type": "stream",
     "text": [
      "\n",
      "City: Nanjing\n",
      "\tCountry: China\n",
      "\tPopulation: 954.7w\n",
      "\tFact: Beautiful\n",
      "\n",
      "City: Newyork\n",
      "\tCountry: America\n",
      "\tPopulation: 834w\n",
      "\tFact: Rich\n",
      "\n",
      "City: London\n",
      "\tCountry: English\n",
      "\tPopulation: 800w\n",
      "\tFact: Wet\n"
     ]
    }
   ],
   "source": [
    "cities = {\n",
    "    'nanjing': {\n",
    "        'country': 'china',\n",
    "        'population': '954.7w',\n",
    "        'fact': 'beautiful',\n",
    "        },\n",
    "    'newyork': {\n",
    "        'country': 'america',\n",
    "        'population': '834w',\n",
    "        'fact': 'rich',\n",
    "        },\n",
    "    'london': {\n",
    "        'country': 'english',\n",
    "        'population': '800w',\n",
    "        'fact': 'wet',\n",
    "        },\n",
    "    }\n",
    "for city,info in cities.items():\n",
    "    print(f\"\\nCity: {city.title()}\")\n",
    "    print(f\"\\tCountry: {info['country'].title()}\")\n",
    "    print(f\"\\tPopulation: {info['population']}\")\n",
    "    print(f\"\\tFact: {info['fact'].title()}\")"
   ]
  },
  {
   "cell_type": "markdown",
   "id": "d0b78476-6c3d-464d-a916-49b3e5288f6d",
   "metadata": {},
   "source": [
    "## *6.12 扩展*"
   ]
  },
  {
   "cell_type": "code",
   "execution_count": 21,
   "id": "0c90c818-8c2f-4092-9337-b3943133551e",
   "metadata": {
    "execution": {
     "iopub.execute_input": "2024-04-09T06:49:10.791673Z",
     "iopub.status.busy": "2024-04-09T06:49:10.791673Z",
     "iopub.status.idle": "2024-04-09T06:49:10.809467Z",
     "shell.execute_reply": "2024-04-09T06:49:10.809467Z",
     "shell.execute_reply.started": "2024-04-09T06:49:10.791673Z"
    }
   },
   "outputs": [
    {
     "name": "stdout",
     "output_type": "stream",
     "text": [
      "{'aeinstein': {'first': 'albert', 'last': 'einstein', 'location': 'princeton'}, 'mcurie': {'first': 'marie', 'last': 'curie', 'location': 'paris'}, 'thefrienda': {'first': 'wei', 'last': 'si', 'location': 'nanjing'}}\n",
      "\n",
      "Username: aeinstein\n",
      "\tFull name: Albert Einstein\n",
      "\tLocation: Princeton\n",
      "\n",
      "Username: mcurie\n",
      "\tFull name: Marie Curie\n",
      "\tLocation: Paris\n",
      "\n",
      "Username: thefrienda\n",
      "\tFull name: Wei Si\n",
      "\tLocation: Nanjing\n"
     ]
    }
   ],
   "source": [
    "users = {\n",
    "    'aeinstein': {\n",
    "        'first': 'albert',\n",
    "        'last': 'einstein',\n",
    "        'location': 'princeton',\n",
    "        },\n",
    "\n",
    "    'mcurie': {\n",
    "        'first': 'marie',\n",
    "        'last': 'curie',\n",
    "        'location': 'paris',\n",
    "        }\n",
    "    }\n",
    "users['thefrienda'] = {'first': 'wei', 'last': 'si', 'location': 'nanjing'}\n",
    "print(users)\n",
    "for username, user_info in users.items():\n",
    "    print(f\"\\nUsername: {username}\")\n",
    "    print(f\"\\tFull name: {user_info['first'].title()} {user_info['last'].title()}\")\n",
    "    print(f\"\\tLocation: {user_info['location'].title()}\")"
   ]
  }
 ],
 "metadata": {
  "kernelspec": {
   "display_name": "Python 3 (ipykernel)",
   "language": "python",
   "name": "python3"
  },
  "language_info": {
   "codemirror_mode": {
    "name": "ipython",
    "version": 3
   },
   "file_extension": ".py",
   "mimetype": "text/x-python",
   "name": "python",
   "nbconvert_exporter": "python",
   "pygments_lexer": "ipython3",
   "version": "3.11.7"
  }
 },
 "nbformat": 4,
 "nbformat_minor": 5
}
