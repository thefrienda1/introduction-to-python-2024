{
 "cells": [
  {
   "cell_type": "markdown",
   "id": "6e3486f4-b528-4b3a-a6ed-887d2ca6f87a",
   "metadata": {},
   "source": [
    "# **第3章 列表简介**"
   ]
  },
  {
   "cell_type": "markdown",
   "id": "c313d904-00e9-4b1f-8f76-65ddb592c302",
   "metadata": {},
   "source": [
    "## **3.1 列表是什么**"
   ]
  },
  {
   "cell_type": "code",
   "execution_count": 3,
   "id": "040ef637-96bc-432b-939e-879e614d22be",
   "metadata": {},
   "outputs": [
    {
     "name": "stdout",
     "output_type": "stream",
     "text": [
      "['trek', 'cannondale', 'redline', 'giant']\n",
      "trek\n",
      "Trek\n"
     ]
    }
   ],
   "source": [
    "bikes=['trek','cannondale','redline','giant']\n",
    "print(bikes)\n",
    "print(bikes[0])\n",
    "print(bikes[0].title())"
   ]
  },
  {
   "cell_type": "code",
   "execution_count": 7,
   "id": "cd1254bd-ebe2-4426-82d7-ef011a67ea9b",
   "metadata": {},
   "outputs": [
    {
     "name": "stdout",
     "output_type": "stream",
     "text": [
      "cannondale\n",
      "giant\n",
      "giant\n",
      "redline\n"
     ]
    }
   ],
   "source": [
    "bikes=['trek','cannondale','redline','giant']\n",
    "print(bikes[1])\n",
    "print(bikes[3])\n",
    "print(bikes[-1])\n",
    "print(bikes[-2])"
   ]
  },
  {
   "cell_type": "code",
   "execution_count": 9,
   "id": "39ebc217-a98d-4d90-9500-a6a0247696e0",
   "metadata": {},
   "outputs": [
    {
     "name": "stdout",
     "output_type": "stream",
     "text": [
      "My first bike was a Giant.\n"
     ]
    }
   ],
   "source": [
    "bikes=['trek','cannondale','redline','giant']\n",
    "message=f\"My first bike was a {bikes[3].title()}.\"\n",
    "print(message)"
   ]
  },
  {
   "cell_type": "markdown",
   "id": "7f5fb565-1115-460d-95c7-694b6dce2400",
   "metadata": {},
   "source": [
    "## **3.2 修改 添加和删除元素**"
   ]
  },
  {
   "cell_type": "code",
   "execution_count": 11,
   "id": "897bfa21-86fd-4473-9e31-3e84cd2b7b79",
   "metadata": {},
   "outputs": [
    {
     "name": "stdout",
     "output_type": "stream",
     "text": [
      "['genshin', 'lol', 'dota']\n",
      "['pvz', 'lol', 'dota']\n"
     ]
    }
   ],
   "source": [
    "# 修改列表元素\n",
    "games=['genshin','lol','dota']\n",
    "print(games)\n",
    "games[0]='pvz'\n",
    "print(games)"
   ]
  },
  {
   "cell_type": "code",
   "execution_count": 14,
   "id": "2e3ca55d-8273-43d3-837e-dce3c656e681",
   "metadata": {},
   "outputs": [
    {
     "name": "stdout",
     "output_type": "stream",
     "text": [
      "['pvz', 'lol', 'dota']\n",
      "['pvz', 'lol', 'dota', 'genshin']\n"
     ]
    }
   ],
   "source": [
    "# 列表末尾添加元素 append方法（）\n",
    "games=['pvz','lol','dota']\n",
    "print(games)\n",
    "games.append('genshin')\n",
    "print(games)"
   ]
  },
  {
   "cell_type": "code",
   "execution_count": 15,
   "id": "182f45d5-8cc5-4940-9615-528f64360ea1",
   "metadata": {},
   "outputs": [
    {
     "name": "stdout",
     "output_type": "stream",
     "text": [
      "['pvz', 'lol', 'dota']\n"
     ]
    }
   ],
   "source": [
    "games=[]\n",
    "games.append('pvz')\n",
    "games.append('lol')\n",
    "games.append('dota')\n",
    "print(games)"
   ]
  },
  {
   "cell_type": "code",
   "execution_count": 21,
   "id": "90a533ab-4b2e-4643-9cd6-388cb08784a2",
   "metadata": {},
   "outputs": [
    {
     "name": "stdout",
     "output_type": "stream",
     "text": [
      "['genshin', 'pvz', 'lol', 'dota']\n",
      "['genshin', 'mc', 'pvz', 'lol', 'dota']\n",
      "['genshin', 'mc', 'lolm', 'pvz', 'lol', 'dota']\n"
     ]
    }
   ],
   "source": [
    "# 在列表中插入元素 insert方法（）\n",
    "games=['pvz','lol','dota']\n",
    "games.insert(0,'genshin')\n",
    "print(games)\n",
    "games.insert(1,'mc')\n",
    "print(games)\n",
    "games.insert(2,'lolm')\n",
    "print(games)"
   ]
  },
  {
   "cell_type": "code",
   "execution_count": 24,
   "id": "54d09aaf-8b3b-4aae-a22c-65d412790a6d",
   "metadata": {},
   "outputs": [
    {
     "name": "stdout",
     "output_type": "stream",
     "text": [
      "['lol', 'pvz', 'dota']\n",
      "['pvz', 'dota']\n",
      "['nju', 'pku']\n"
     ]
    }
   ],
   "source": [
    "# 从列表中删除元素 del语句 指导索引 删除后无法访问\n",
    "games=['lol','pvz','dota']\n",
    "print(games)\n",
    "del games[0]\n",
    "print(games)\n",
    "\n",
    "schools=['nju','pku','seu']\n",
    "del schools[2]\n",
    "print(schools)"
   ]
  },
  {
   "cell_type": "code",
   "execution_count": 26,
   "id": "9eded27f-9e8f-4d6c-9537-b5660e780059",
   "metadata": {},
   "outputs": [
    {
     "name": "stdout",
     "output_type": "stream",
     "text": [
      "['lol', 'pvz', 'dota']\n",
      "['lol', 'pvz']\n",
      "dota\n",
      " My favorite school is nju.\n"
     ]
    }
   ],
   "source": [
    "# 从列表中删除元素 pop方法（） 删除列表末尾元素 接着使用它的值\n",
    "games=['lol','pvz','dota']\n",
    "print(games)\n",
    "popped_games=games.pop()\n",
    "print(games)\n",
    "print(popped_games)\n",
    "\n",
    "schools=['pku','seu','nju']\n",
    "popped_school=schools.pop()\n",
    "print(f\" My favorite school is {popped_school}.\")"
   ]
  },
  {
   "cell_type": "code",
   "execution_count": 28,
   "id": "ea816946-ff09-4af8-8b82-509209c7dd5f",
   "metadata": {},
   "outputs": [
    {
     "name": "stdout",
     "output_type": "stream",
     "text": [
      "My favorite game is lol\n"
     ]
    }
   ],
   "source": [
    "# 删除列表中任意位置的元素 pop()方法加索引\n",
    "games=['lol','pvz','dota']\n",
    "popped_game=games.pop(0)\n",
    "print(f\"My favorite game is {popped_game}\")"
   ]
  },
  {
   "cell_type": "code",
   "execution_count": 30,
   "id": "460b88ef-818d-45a3-82be-d64ac8b81467",
   "metadata": {},
   "outputs": [
    {
     "name": "stdout",
     "output_type": "stream",
     "text": [
      "['lol', 'mc', 'pvz']\n",
      "['lol', 'pvz']\n"
     ]
    }
   ],
   "source": [
    "# 根据值删除元素 remove方法（）\n",
    "games=['lol','mc','pvz']\n",
    "print(games)\n",
    "games.remove('mc')\n",
    "print(games)"
   ]
  },
  {
   "cell_type": "code",
   "execution_count": 34,
   "id": "598dfb54-84a5-41e5-8e0f-64dfd617e8fb",
   "metadata": {},
   "outputs": [
    {
     "name": "stdout",
     "output_type": "stream",
     "text": [
      "['nju', 'pku', 'seu']\n",
      "['pku', 'seu']\n",
      "\n",
      "NJU is too poor for me.\n"
     ]
    }
   ],
   "source": [
    "schools=['nju','pku','seu']\n",
    "print(schools)\n",
    "too_poor='nju'\n",
    "schools.remove(too_poor)\n",
    "print(schools)\n",
    "print(f\"\\n{too_poor.upper()} is too poor for me.\")"
   ]
  },
  {
   "cell_type": "markdown",
   "id": "c68e7366-391a-45a7-a4a6-247386c37829",
   "metadata": {},
   "source": [
    "## **3.3 管理列表**"
   ]
  },
  {
   "cell_type": "code",
   "execution_count": 36,
   "id": "71f05482-fabb-404b-b86b-dfa5a30706ed",
   "metadata": {},
   "outputs": [
    {
     "name": "stdout",
     "output_type": "stream",
     "text": [
      "['dota', 'lol', 'pvz']\n",
      "['pvz', 'lol', 'dota']\n"
     ]
    }
   ],
   "source": [
    "# 使用sort（）方法对列表进行永久排序\n",
    "games=['lol','dota','pvz']\n",
    "games.sort()\n",
    "print(games)\n",
    "games.sort(reverse=True)\n",
    "print(games)"
   ]
  },
  {
   "cell_type": "code",
   "execution_count": 37,
   "id": "453d7c9b-048d-40a5-80d1-61cda88aaac5",
   "metadata": {},
   "outputs": [
    {
     "name": "stdout",
     "output_type": "stream",
     "text": [
      "Here is the original lsit:\n",
      "['nju', 'pku', 'seu']\n",
      "\n",
      "Here is the sorted list:\n",
      "['nju', 'pku', 'seu']\n",
      "\n",
      "Here is the original list again:\n",
      "['nju', 'pku', 'seu']\n"
     ]
    }
   ],
   "source": [
    "# 使用sorted（）函数对列表进行临时排序\n",
    "schools=['nju','pku','seu']\n",
    "print(\"Here is the original lsit:\")\n",
    "print(schools)\n",
    "print(\"\\nHere is the sorted list:\")\n",
    "print(sorted(schools))\n",
    "print(\"\\nHere is the original list again:\")\n",
    "print(schools)"
   ]
  },
  {
   "cell_type": "code",
   "execution_count": 40,
   "id": "be26c7a6-627a-4b6f-8a03-e716529b34d0",
   "metadata": {},
   "outputs": [
    {
     "name": "stdout",
     "output_type": "stream",
     "text": [
      "['lol', 'pvz', 'mc']\n",
      "['mc', 'pvz', 'lol']\n",
      "['lol', 'pvz', 'mc']\n"
     ]
    }
   ],
   "source": [
    "# 反向打印列表 使用reverse（）方法反转列表元素排列顺序\n",
    "games=['lol','pvz','mc']\n",
    "print(games)\n",
    "games.reverse()\n",
    "print(games)\n",
    "games.reverse()\n",
    "print(games)"
   ]
  },
  {
   "cell_type": "code",
   "execution_count": 41,
   "id": "44efa7e0-697d-4cad-8468-1e34d47b5935",
   "metadata": {},
   "outputs": [
    {
     "data": {
      "text/plain": [
       "4"
      ]
     },
     "execution_count": 41,
     "metadata": {},
     "output_type": "execute_result"
    }
   ],
   "source": [
    "# 确定列表长度 使用len()函数\n",
    "games=['lol','mc','dota','pvz']\n",
    "len(games)"
   ]
  }
 ],
 "metadata": {
  "kernelspec": {
   "display_name": "Python 3 (ipykernel)",
   "language": "python",
   "name": "python3"
  },
  "language_info": {
   "codemirror_mode": {
    "name": "ipython",
    "version": 3
   },
   "file_extension": ".py",
   "mimetype": "text/x-python",
   "name": "python",
   "nbconvert_exporter": "python",
   "pygments_lexer": "ipython3",
   "version": "3.11.7"
  }
 },
 "nbformat": 4,
 "nbformat_minor": 5
}
