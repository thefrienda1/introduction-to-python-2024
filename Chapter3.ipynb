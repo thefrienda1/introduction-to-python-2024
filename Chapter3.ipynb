{
 "cells": [
  {
   "cell_type": "markdown",
   "id": "6e3486f4-b528-4b3a-a6ed-887d2ca6f87a",
   "metadata": {},
   "source": [
    "# **第3章 列表简介**"
   ]
  },
  {
   "cell_type": "markdown",
   "id": "c313d904-00e9-4b1f-8f76-65ddb592c302",
   "metadata": {},
   "source": [
    "## **3.1 列表是什么**"
   ]
  },
  {
   "cell_type": "code",
   "execution_count": 1,
   "id": "040ef637-96bc-432b-939e-879e614d22be",
   "metadata": {
    "execution": {
     "iopub.execute_input": "2024-04-19T09:17:05.678837Z",
     "iopub.status.busy": "2024-04-19T09:17:05.678837Z",
     "iopub.status.idle": "2024-04-19T09:17:05.691179Z",
     "shell.execute_reply": "2024-04-19T09:17:05.691179Z",
     "shell.execute_reply.started": "2024-04-19T09:17:05.678837Z"
    }
   },
   "outputs": [
    {
     "name": "stdout",
     "output_type": "stream",
     "text": [
      "['trek', 'cannondale', 'redline', 'giant']\n",
      "trek\n",
      "Trek\n"
     ]
    }
   ],
   "source": [
    "bikes=['trek','cannondale','redline','giant']\n",
    "print(bikes)\n",
    "print(bikes[0])\n",
    "print(bikes[0].title())"
   ]
  },
  {
   "cell_type": "code",
   "execution_count": 2,
   "id": "cd1254bd-ebe2-4426-82d7-ef011a67ea9b",
   "metadata": {
    "execution": {
     "iopub.execute_input": "2024-04-19T09:17:05.693181Z",
     "iopub.status.busy": "2024-04-19T09:17:05.693181Z",
     "iopub.status.idle": "2024-04-19T09:17:05.696890Z",
     "shell.execute_reply": "2024-04-19T09:17:05.696890Z",
     "shell.execute_reply.started": "2024-04-19T09:17:05.693181Z"
    }
   },
   "outputs": [
    {
     "name": "stdout",
     "output_type": "stream",
     "text": [
      "cannondale\n",
      "giant\n",
      "giant\n",
      "redline\n"
     ]
    }
   ],
   "source": [
    "bikes=['trek','cannondale','redline','giant']\n",
    "print(bikes[1])\n",
    "print(bikes[3])\n",
    "print(bikes[-1])\n",
    "print(bikes[-2])"
   ]
  },
  {
   "cell_type": "code",
   "execution_count": 3,
   "id": "39ebc217-a98d-4d90-9500-a6a0247696e0",
   "metadata": {
    "execution": {
     "iopub.execute_input": "2024-04-19T09:17:05.697892Z",
     "iopub.status.busy": "2024-04-19T09:17:05.697892Z",
     "iopub.status.idle": "2024-04-19T09:17:05.701592Z",
     "shell.execute_reply": "2024-04-19T09:17:05.701592Z",
     "shell.execute_reply.started": "2024-04-19T09:17:05.697892Z"
    }
   },
   "outputs": [
    {
     "name": "stdout",
     "output_type": "stream",
     "text": [
      "My first bike was a Giant.\n"
     ]
    }
   ],
   "source": [
    "bikes=['trek','cannondale','redline','giant']\n",
    "message=f\"My first bike was a {bikes[3].title()}.\"\n",
    "print(message)"
   ]
  },
  {
   "cell_type": "markdown",
   "id": "7f5fb565-1115-460d-95c7-694b6dce2400",
   "metadata": {},
   "source": [
    "## **3.2 修改 添加和删除元素**"
   ]
  },
  {
   "cell_type": "code",
   "execution_count": 4,
   "id": "897bfa21-86fd-4473-9e31-3e84cd2b7b79",
   "metadata": {
    "execution": {
     "iopub.execute_input": "2024-04-19T09:17:05.702609Z",
     "iopub.status.busy": "2024-04-19T09:17:05.702609Z",
     "iopub.status.idle": "2024-04-19T09:17:05.707610Z",
     "shell.execute_reply": "2024-04-19T09:17:05.707610Z",
     "shell.execute_reply.started": "2024-04-19T09:17:05.702609Z"
    }
   },
   "outputs": [
    {
     "name": "stdout",
     "output_type": "stream",
     "text": [
      "['genshin', 'lol', 'dota']\n",
      "['pvz', 'lol', 'dota']\n"
     ]
    }
   ],
   "source": [
    "# 修改列表元素\n",
    "games=['genshin','lol','dota']\n",
    "print(games)\n",
    "games[0]='pvz'\n",
    "print(games)"
   ]
  },
  {
   "cell_type": "code",
   "execution_count": 5,
   "id": "2e3ca55d-8273-43d3-837e-dce3c656e681",
   "metadata": {
    "execution": {
     "iopub.execute_input": "2024-04-19T09:17:05.709817Z",
     "iopub.status.busy": "2024-04-19T09:17:05.709817Z",
     "iopub.status.idle": "2024-04-19T09:17:05.724382Z",
     "shell.execute_reply": "2024-04-19T09:17:05.723380Z",
     "shell.execute_reply.started": "2024-04-19T09:17:05.709817Z"
    }
   },
   "outputs": [
    {
     "name": "stdout",
     "output_type": "stream",
     "text": [
      "['pvz', 'lol', 'dota']\n",
      "['pvz', 'lol', 'dota', 'genshin']\n"
     ]
    }
   ],
   "source": [
    "# 列表末尾添加元素 append方法（）\n",
    "games=['pvz','lol','dota']\n",
    "print(games)\n",
    "games.append('genshin')\n",
    "print(games)"
   ]
  },
  {
   "cell_type": "code",
   "execution_count": 6,
   "id": "182f45d5-8cc5-4940-9615-528f64360ea1",
   "metadata": {
    "execution": {
     "iopub.execute_input": "2024-04-19T09:17:05.725382Z",
     "iopub.status.busy": "2024-04-19T09:17:05.724382Z",
     "iopub.status.idle": "2024-04-19T09:17:05.732430Z",
     "shell.execute_reply": "2024-04-19T09:17:05.732430Z",
     "shell.execute_reply.started": "2024-04-19T09:17:05.725382Z"
    }
   },
   "outputs": [
    {
     "name": "stdout",
     "output_type": "stream",
     "text": [
      "['pvz', 'lol', 'dota']\n"
     ]
    }
   ],
   "source": [
    "games=[]\n",
    "games.append('pvz')\n",
    "games.append('lol')\n",
    "games.append('dota')\n",
    "print(games)"
   ]
  },
  {
   "cell_type": "code",
   "execution_count": 7,
   "id": "90a533ab-4b2e-4643-9cd6-388cb08784a2",
   "metadata": {
    "execution": {
     "iopub.execute_input": "2024-04-19T09:17:05.734442Z",
     "iopub.status.busy": "2024-04-19T09:17:05.733432Z",
     "iopub.status.idle": "2024-04-19T09:17:05.739467Z",
     "shell.execute_reply": "2024-04-19T09:17:05.738465Z",
     "shell.execute_reply.started": "2024-04-19T09:17:05.734442Z"
    }
   },
   "outputs": [
    {
     "name": "stdout",
     "output_type": "stream",
     "text": [
      "['genshin', 'pvz', 'lol', 'dota']\n",
      "['genshin', 'mc', 'pvz', 'lol', 'dota']\n",
      "['genshin', 'mc', 'lolm', 'pvz', 'lol', 'dota']\n"
     ]
    }
   ],
   "source": [
    "# 在列表中插入元素 insert方法（）\n",
    "games=['pvz','lol','dota']\n",
    "games.insert(0,'genshin')\n",
    "print(games)\n",
    "games.insert(1,'mc')\n",
    "print(games)\n",
    "games.insert(2,'lolm')\n",
    "print(games)"
   ]
  },
  {
   "cell_type": "code",
   "execution_count": 8,
   "id": "54d09aaf-8b3b-4aae-a22c-65d412790a6d",
   "metadata": {
    "execution": {
     "iopub.execute_input": "2024-04-19T09:17:05.740467Z",
     "iopub.status.busy": "2024-04-19T09:17:05.740467Z",
     "iopub.status.idle": "2024-04-19T09:17:05.745169Z",
     "shell.execute_reply": "2024-04-19T09:17:05.745169Z",
     "shell.execute_reply.started": "2024-04-19T09:17:05.740467Z"
    }
   },
   "outputs": [
    {
     "name": "stdout",
     "output_type": "stream",
     "text": [
      "['lol', 'pvz', 'dota']\n",
      "['pvz', 'dota']\n",
      "['nju', 'pku']\n"
     ]
    }
   ],
   "source": [
    "# 从列表中删除元素 del语句 指导索引 删除后无法访问\n",
    "games=['lol','pvz','dota']\n",
    "print(games)\n",
    "del games[0]\n",
    "print(games)\n",
    "\n",
    "schools=['nju','pku','seu']\n",
    "del schools[2]\n",
    "print(schools)"
   ]
  },
  {
   "cell_type": "code",
   "execution_count": 9,
   "id": "9eded27f-9e8f-4d6c-9537-b5660e780059",
   "metadata": {
    "execution": {
     "iopub.execute_input": "2024-04-19T09:17:05.746673Z",
     "iopub.status.busy": "2024-04-19T09:17:05.746673Z",
     "iopub.status.idle": "2024-04-19T09:17:05.751495Z",
     "shell.execute_reply": "2024-04-19T09:17:05.751495Z",
     "shell.execute_reply.started": "2024-04-19T09:17:05.746673Z"
    }
   },
   "outputs": [
    {
     "name": "stdout",
     "output_type": "stream",
     "text": [
      "['lol', 'pvz', 'dota']\n",
      "['lol', 'pvz']\n",
      "dota\n",
      " My favorite school is nju.\n"
     ]
    }
   ],
   "source": [
    "# 从列表中删除元素 pop方法（） 删除列表末尾元素 接着使用它的值\n",
    "games=['lol','pvz','dota']\n",
    "print(games)\n",
    "popped_games=games.pop()\n",
    "print(games)\n",
    "print(popped_games)\n",
    "\n",
    "schools=['pku','seu','nju']\n",
    "popped_school=schools.pop()\n",
    "print(f\" My favorite school is {popped_school}.\")"
   ]
  },
  {
   "cell_type": "code",
   "execution_count": 10,
   "id": "ea816946-ff09-4af8-8b82-509209c7dd5f",
   "metadata": {
    "execution": {
     "iopub.execute_input": "2024-04-19T09:17:05.753498Z",
     "iopub.status.busy": "2024-04-19T09:17:05.752498Z",
     "iopub.status.idle": "2024-04-19T09:17:05.758022Z",
     "shell.execute_reply": "2024-04-19T09:17:05.758022Z",
     "shell.execute_reply.started": "2024-04-19T09:17:05.753498Z"
    }
   },
   "outputs": [
    {
     "name": "stdout",
     "output_type": "stream",
     "text": [
      "My favorite game is lol\n"
     ]
    }
   ],
   "source": [
    "# 删除列表中任意位置的元素 pop()方法加索引\n",
    "games=['lol','pvz','dota']\n",
    "popped_game=games.pop(0)\n",
    "print(f\"My favorite game is {popped_game}\")"
   ]
  },
  {
   "cell_type": "code",
   "execution_count": 11,
   "id": "460b88ef-818d-45a3-82be-d64ac8b81467",
   "metadata": {
    "execution": {
     "iopub.execute_input": "2024-04-19T09:17:05.760032Z",
     "iopub.status.busy": "2024-04-19T09:17:05.759029Z",
     "iopub.status.idle": "2024-04-19T09:17:05.763740Z",
     "shell.execute_reply": "2024-04-19T09:17:05.763740Z",
     "shell.execute_reply.started": "2024-04-19T09:17:05.760032Z"
    }
   },
   "outputs": [
    {
     "name": "stdout",
     "output_type": "stream",
     "text": [
      "['lol', 'mc', 'pvz']\n",
      "['lol', 'pvz']\n"
     ]
    }
   ],
   "source": [
    "# 根据值删除元素 remove方法（）\n",
    "games=['lol','mc','pvz']\n",
    "print(games)\n",
    "games.remove('mc')\n",
    "print(games)"
   ]
  },
  {
   "cell_type": "code",
   "execution_count": 12,
   "id": "598dfb54-84a5-41e5-8e0f-64dfd617e8fb",
   "metadata": {
    "execution": {
     "iopub.execute_input": "2024-04-19T09:17:05.765742Z",
     "iopub.status.busy": "2024-04-19T09:17:05.764741Z",
     "iopub.status.idle": "2024-04-19T09:17:05.769955Z",
     "shell.execute_reply": "2024-04-19T09:17:05.769955Z",
     "shell.execute_reply.started": "2024-04-19T09:17:05.765742Z"
    }
   },
   "outputs": [
    {
     "name": "stdout",
     "output_type": "stream",
     "text": [
      "['nju', 'pku', 'seu']\n",
      "['pku', 'seu']\n",
      "\n",
      "NJU is too poor for me.\n"
     ]
    }
   ],
   "source": [
    "schools=['nju','pku','seu']\n",
    "print(schools)\n",
    "too_poor='nju'\n",
    "schools.remove(too_poor)\n",
    "print(schools)\n",
    "print(f\"\\n{too_poor.upper()} is too poor for me.\")"
   ]
  },
  {
   "cell_type": "markdown",
   "id": "c68e7366-391a-45a7-a4a6-247386c37829",
   "metadata": {},
   "source": [
    "## **3.3 管理列表**"
   ]
  },
  {
   "cell_type": "code",
   "execution_count": 13,
   "id": "71f05482-fabb-404b-b86b-dfa5a30706ed",
   "metadata": {
    "execution": {
     "iopub.execute_input": "2024-04-19T09:17:05.771957Z",
     "iopub.status.busy": "2024-04-19T09:17:05.771957Z",
     "iopub.status.idle": "2024-04-19T09:17:05.776255Z",
     "shell.execute_reply": "2024-04-19T09:17:05.776255Z",
     "shell.execute_reply.started": "2024-04-19T09:17:05.771957Z"
    }
   },
   "outputs": [
    {
     "name": "stdout",
     "output_type": "stream",
     "text": [
      "['dota', 'lol', 'pvz']\n",
      "['pvz', 'lol', 'dota']\n"
     ]
    }
   ],
   "source": [
    "# 使用sort（）方法对列表进行永久排序\n",
    "games=['lol','dota','pvz']\n",
    "games.sort()\n",
    "print(games)\n",
    "games.sort(reverse=True)\n",
    "print(games)"
   ]
  },
  {
   "cell_type": "code",
   "execution_count": 14,
   "id": "453d7c9b-048d-40a5-80d1-61cda88aaac5",
   "metadata": {
    "execution": {
     "iopub.execute_input": "2024-04-19T09:17:05.779768Z",
     "iopub.status.busy": "2024-04-19T09:17:05.779768Z",
     "iopub.status.idle": "2024-04-19T09:17:05.784386Z",
     "shell.execute_reply": "2024-04-19T09:17:05.784386Z",
     "shell.execute_reply.started": "2024-04-19T09:17:05.779768Z"
    }
   },
   "outputs": [
    {
     "name": "stdout",
     "output_type": "stream",
     "text": [
      "Here is the original lsit:\n",
      "['nju', 'pku', 'seu']\n",
      "\n",
      "Here is the sorted list:\n",
      "['nju', 'pku', 'seu']\n",
      "\n",
      "Here is the original list again:\n",
      "['nju', 'pku', 'seu']\n"
     ]
    }
   ],
   "source": [
    "# 使用sorted（）函数对列表进行临时排序\n",
    "schools=['nju','pku','seu']\n",
    "print(\"Here is the original lsit:\")\n",
    "print(schools)\n",
    "print(\"\\nHere is the sorted list:\")\n",
    "print(sorted(schools))\n",
    "print(\"\\nHere is the original list again:\")\n",
    "print(schools)"
   ]
  },
  {
   "cell_type": "code",
   "execution_count": 15,
   "id": "be26c7a6-627a-4b6f-8a03-e716529b34d0",
   "metadata": {
    "execution": {
     "iopub.execute_input": "2024-04-19T09:17:05.786389Z",
     "iopub.status.busy": "2024-04-19T09:17:05.785389Z",
     "iopub.status.idle": "2024-04-19T09:17:05.791882Z",
     "shell.execute_reply": "2024-04-19T09:17:05.791882Z",
     "shell.execute_reply.started": "2024-04-19T09:17:05.786389Z"
    }
   },
   "outputs": [
    {
     "name": "stdout",
     "output_type": "stream",
     "text": [
      "['lol', 'pvz', 'mc']\n",
      "['mc', 'pvz', 'lol']\n",
      "['lol', 'pvz', 'mc']\n"
     ]
    }
   ],
   "source": [
    "# 反向打印列表 使用reverse（）方法反转列表元素排列顺序\n",
    "games=['lol','pvz','mc']\n",
    "print(games)\n",
    "games.reverse()\n",
    "print(games)\n",
    "games.reverse()\n",
    "print(games)"
   ]
  },
  {
   "cell_type": "code",
   "execution_count": 16,
   "id": "44efa7e0-697d-4cad-8468-1e34d47b5935",
   "metadata": {
    "execution": {
     "iopub.execute_input": "2024-04-19T09:17:05.793884Z",
     "iopub.status.busy": "2024-04-19T09:17:05.792890Z",
     "iopub.status.idle": "2024-04-19T09:17:05.800490Z",
     "shell.execute_reply": "2024-04-19T09:17:05.800490Z",
     "shell.execute_reply.started": "2024-04-19T09:17:05.793884Z"
    }
   },
   "outputs": [
    {
     "data": {
      "text/plain": [
       "4"
      ]
     },
     "execution_count": 16,
     "metadata": {},
     "output_type": "execute_result"
    }
   ],
   "source": [
    "# 确定列表长度 使用len()函数\n",
    "games=['lol','mc','dota','pvz']\n",
    "len(games)"
   ]
  },
  {
   "cell_type": "markdown",
   "id": "68414d64-a029-438f-9fdd-f2029a69609a",
   "metadata": {},
   "source": [
    "# **练习**"
   ]
  },
  {
   "cell_type": "markdown",
   "id": "805f6375-b3f8-4b84-aa94-c547598caa7a",
   "metadata": {},
   "source": [
    "## *3.1 姓名*"
   ]
  },
  {
   "cell_type": "code",
   "execution_count": 17,
   "id": "d4326531-2244-435c-8ddd-c8479b3fb434",
   "metadata": {
    "execution": {
     "iopub.execute_input": "2024-04-19T09:17:05.802493Z",
     "iopub.status.busy": "2024-04-19T09:17:05.801492Z",
     "iopub.status.idle": "2024-04-19T09:17:05.806338Z",
     "shell.execute_reply": "2024-04-19T09:17:05.806338Z",
     "shell.execute_reply.started": "2024-04-19T09:17:05.802493Z"
    }
   },
   "outputs": [
    {
     "name": "stdout",
     "output_type": "stream",
     "text": [
      "['faker', 'zeus', 'oner', 'gumayusi', 'keria']\n"
     ]
    }
   ],
   "source": [
    "names = ['faker','zeus','oner','gumayusi','keria']\n",
    "print(names)"
   ]
  },
  {
   "cell_type": "markdown",
   "id": "354fab6f-0326-4552-b43e-f8884f48876a",
   "metadata": {},
   "source": [
    "## *3.2 问候语*"
   ]
  },
  {
   "cell_type": "code",
   "execution_count": 18,
   "id": "0447d484-eed3-4789-bb4e-291516d676e9",
   "metadata": {
    "execution": {
     "iopub.execute_input": "2024-04-19T09:17:05.807844Z",
     "iopub.status.busy": "2024-04-19T09:17:05.807844Z",
     "iopub.status.idle": "2024-04-19T09:17:05.812021Z",
     "shell.execute_reply": "2024-04-19T09:17:05.812021Z",
     "shell.execute_reply.started": "2024-04-19T09:17:05.807844Z"
    }
   },
   "outputs": [
    {
     "name": "stdout",
     "output_type": "stream",
     "text": [
      "['faker', 'zeus', 'oner', 'gumayusi', 'keria']\n",
      "Faker, good night!\n",
      "Zeus, good night!\n",
      "Oner, good night!\n",
      "Gumayusi, good night!\n",
      "Keria, good night!\n"
     ]
    }
   ],
   "source": [
    "names = ['faker','zeus','oner','gumayusi','keria']\n",
    "print(names)\n",
    "for name in names:\n",
    "    print(f'{name.title()}, good night!')"
   ]
  },
  {
   "cell_type": "markdown",
   "id": "bbd2cb57-2a6b-4757-9377-7a8d7af88f0a",
   "metadata": {},
   "source": [
    "## *3.3 自己的列表*"
   ]
  },
  {
   "cell_type": "code",
   "execution_count": 19,
   "id": "d3a10ca2-3377-4e4c-a247-fca2012618f6",
   "metadata": {
    "execution": {
     "iopub.execute_input": "2024-04-19T09:17:05.813023Z",
     "iopub.status.busy": "2024-04-19T09:17:05.813023Z",
     "iopub.status.idle": "2024-04-19T09:17:05.817525Z",
     "shell.execute_reply": "2024-04-19T09:17:05.817525Z",
     "shell.execute_reply.started": "2024-04-19T09:17:05.813023Z"
    }
   },
   "outputs": [
    {
     "name": "stdout",
     "output_type": "stream",
     "text": [
      "I usually take a bike to school.\n",
      "I don't have a car.\n",
      "I have never taken a plane.\n"
     ]
    }
   ],
   "source": [
    "transports = ['bike','car','plane']\n",
    "print(f'I usually take a {transports[0]} to school.')\n",
    "print(f'I don\\'t have a {transports[1]}.')\n",
    "print(f'I have never taken a {transports[2]}.')"
   ]
  },
  {
   "cell_type": "markdown",
   "id": "77a507a1-1e1e-443b-87c4-0d53e186596f",
   "metadata": {},
   "source": [
    "## *3.4 嘉宾名单*"
   ]
  },
  {
   "cell_type": "code",
   "execution_count": 20,
   "id": "a454af41-2c7b-47ae-a309-eb9e451a689b",
   "metadata": {
    "execution": {
     "iopub.execute_input": "2024-04-19T09:17:05.819528Z",
     "iopub.status.busy": "2024-04-19T09:17:05.818528Z",
     "iopub.status.idle": "2024-04-19T09:17:05.824164Z",
     "shell.execute_reply": "2024-04-19T09:17:05.824164Z",
     "shell.execute_reply.started": "2024-04-19T09:17:05.819528Z"
    }
   },
   "outputs": [
    {
     "name": "stdout",
     "output_type": "stream",
     "text": [
      "Faker, would you like to have dinner with me?\n",
      "Zeus, would you like to have dinner with me?\n",
      "Oner, would you like to have dinner with me?\n"
     ]
    }
   ],
   "source": [
    "dinner_names = ['faker','zeus','oner']\n",
    "for dinner_name in dinner_names:\n",
    "    print(f'{dinner_name.title()}, would you like to have dinner with me?')"
   ]
  },
  {
   "cell_type": "markdown",
   "id": "41a19851-afb8-4a7f-945e-9d7b914d2cdc",
   "metadata": {},
   "source": [
    "## *3.5 修改嘉宾名单*"
   ]
  },
  {
   "cell_type": "code",
   "execution_count": 21,
   "id": "a38424dd-d409-4734-bb75-ec22762950fd",
   "metadata": {
    "execution": {
     "iopub.execute_input": "2024-04-19T09:17:05.825173Z",
     "iopub.status.busy": "2024-04-19T09:17:05.825173Z",
     "iopub.status.idle": "2024-04-19T09:17:05.829520Z",
     "shell.execute_reply": "2024-04-19T09:17:05.829520Z",
     "shell.execute_reply.started": "2024-04-19T09:17:05.825173Z"
    }
   },
   "outputs": [
    {
     "name": "stdout",
     "output_type": "stream",
     "text": [
      "Oner can't come to have dinner.\n",
      "Faker, would you like to have dinner with me?\n",
      "Zeus, would you like to have dinner with me?\n",
      "Gumayusi, would you like to have dinner with me?\n"
     ]
    }
   ],
   "source": [
    "dinner_names = ['faker','zeus','oner']\n",
    "print(f'{dinner_names[2].title()} can\\'t come to have dinner.')\n",
    "dinner_names[2] = 'gumayusi'\n",
    "for dinner_name in dinner_names:\n",
    "    print(f'{dinner_name.title()}, would you like to have dinner with me?')"
   ]
  },
  {
   "cell_type": "markdown",
   "id": "681cbef4-f789-4b27-b92b-8ae9671dcbc9",
   "metadata": {},
   "source": [
    "## *3.6 添加嘉宾*"
   ]
  },
  {
   "cell_type": "code",
   "execution_count": 22,
   "id": "93476d6d-d780-4248-8136-2a5e7f196d96",
   "metadata": {
    "execution": {
     "iopub.execute_input": "2024-04-19T09:17:05.830522Z",
     "iopub.status.busy": "2024-04-19T09:17:05.830522Z",
     "iopub.status.idle": "2024-04-19T09:17:05.835113Z",
     "shell.execute_reply": "2024-04-19T09:17:05.835113Z",
     "shell.execute_reply.started": "2024-04-19T09:17:05.830522Z"
    }
   },
   "outputs": [
    {
     "name": "stdout",
     "output_type": "stream",
     "text": [
      "I found a bigger table to invite more people.\n",
      "Bengi, would you like to have dinner with me?\n",
      "Faker, would you like to have dinner with me?\n",
      "Keria, would you like to have dinner with me?\n",
      "Zeus, would you like to have dinner with me?\n",
      "Oner, would you like to have dinner with me?\n",
      "Gumayusi, would you like to have dinner with me?\n"
     ]
    }
   ],
   "source": [
    "dinner_names = ['faker','zeus','oner']\n",
    "print('I found a bigger table to invite more people.')\n",
    "dinner_names.append('gumayusi')\n",
    "dinner_names.insert(0,'bengi')\n",
    "dinner_names.insert(2,'keria')\n",
    "for dinner_name in dinner_names:\n",
    "    print(f'{dinner_name.title()}, would you like to have dinner with me?')"
   ]
  },
  {
   "cell_type": "markdown",
   "id": "f3c57b39-c02a-487e-a990-2dbf154378e1",
   "metadata": {},
   "source": [
    "## *3.7 缩短名单*"
   ]
  },
  {
   "cell_type": "code",
   "execution_count": 23,
   "id": "a289d11e-5169-4749-825d-9e2ac8f326c2",
   "metadata": {
    "execution": {
     "iopub.execute_input": "2024-04-19T09:17:05.836116Z",
     "iopub.status.busy": "2024-04-19T09:17:05.836116Z",
     "iopub.status.idle": "2024-04-19T09:17:05.842189Z",
     "shell.execute_reply": "2024-04-19T09:17:05.842189Z",
     "shell.execute_reply.started": "2024-04-19T09:17:05.836116Z"
    }
   },
   "outputs": [
    {
     "name": "stdout",
     "output_type": "stream",
     "text": [
      "I am sorry because I can only invite two people.\n",
      "Gumayusi, I am sorry that I can't have dinner with you.\n",
      "Oner, I am sorry that I can't have dinner with you.\n",
      "Zeus, I am sorry that I can't have dinner with you.\n",
      "Keria, I am sorry that I can't have dinner with you.\n",
      "Bengi, we can still have dinner together.\n",
      "Faker, we can still have dinner together.\n",
      "[]\n"
     ]
    }
   ],
   "source": [
    "dinner_names = ['faker','zeus','oner']\n",
    "dinner_names.append('gumayusi')\n",
    "dinner_names.insert(0,'bengi')\n",
    "dinner_names.insert(2,'keria')\n",
    "print('I am sorry because I can only invite two people.')\n",
    "print(f'{dinner_names.pop().title()}, I am sorry that I can\\'t have dinner with you.')\n",
    "print(f'{dinner_names.pop().title()}, I am sorry that I can\\'t have dinner with you.')\n",
    "print(f'{dinner_names.pop().title()}, I am sorry that I can\\'t have dinner with you.')\n",
    "print(f'{dinner_names.pop().title()}, I am sorry that I can\\'t have dinner with you.')\n",
    "for dinner_name in dinner_names:\n",
    "    print(f'{dinner_name.title()}, we can still have dinner together.')\n",
    "del dinner_names[0]\n",
    "del dinner_names[0]\n",
    "print(dinner_names)"
   ]
  },
  {
   "cell_type": "markdown",
   "id": "b35fe781-b787-495a-9d37-9a7c623e05ce",
   "metadata": {},
   "source": [
    "## *3.8 放眼世界*"
   ]
  },
  {
   "cell_type": "code",
   "execution_count": 24,
   "id": "266e469e-a34f-4f8d-a7bf-7cd8ec8a35db",
   "metadata": {
    "execution": {
     "iopub.execute_input": "2024-04-19T09:17:05.843201Z",
     "iopub.status.busy": "2024-04-19T09:17:05.843201Z",
     "iopub.status.idle": "2024-04-19T09:17:05.849180Z",
     "shell.execute_reply": "2024-04-19T09:17:05.849180Z",
     "shell.execute_reply.started": "2024-04-19T09:17:05.843201Z"
    }
   },
   "outputs": [
    {
     "name": "stdout",
     "output_type": "stream",
     "text": [
      "['weihai', 'beijing', 'luoyang', 'xinjiang', 'xizang']\n",
      "['beijing', 'luoyang', 'weihai', 'xinjiang', 'xizang']\n",
      "['weihai', 'beijing', 'luoyang', 'xinjiang', 'xizang']\n",
      "['xizang', 'xinjiang', 'weihai', 'luoyang', 'beijing']\n",
      "['weihai', 'beijing', 'luoyang', 'xinjiang', 'xizang']\n",
      "['xizang', 'xinjiang', 'luoyang', 'beijing', 'weihai']\n",
      "['weihai', 'beijing', 'luoyang', 'xinjiang', 'xizang']\n",
      "['beijing', 'luoyang', 'weihai', 'xinjiang', 'xizang']\n",
      "['xizang', 'xinjiang', 'weihai', 'luoyang', 'beijing']\n"
     ]
    }
   ],
   "source": [
    "places = ['weihai','beijing','luoyang','xinjiang','xizang']\n",
    "print(places)\n",
    "print(sorted(places))\n",
    "print(places)\n",
    "print(sorted(places,reverse=True))\n",
    "print(places)\n",
    "places.reverse()\n",
    "print(places)\n",
    "places.reverse()\n",
    "print(places)\n",
    "places.sort()\n",
    "print(places)\n",
    "places.sort(reverse=True)\n",
    "print(places)"
   ]
  },
  {
   "cell_type": "markdown",
   "id": "8626ed84-2ee6-4f75-be76-17f5a584a91f",
   "metadata": {},
   "source": [
    "## *3.9 晚餐嘉宾*"
   ]
  },
  {
   "cell_type": "code",
   "execution_count": 25,
   "id": "adbe09c3-9cd7-4a2d-9b66-30a2aca076a5",
   "metadata": {
    "execution": {
     "iopub.execute_input": "2024-04-19T09:17:05.851183Z",
     "iopub.status.busy": "2024-04-19T09:17:05.850183Z",
     "iopub.status.idle": "2024-04-19T09:17:05.854650Z",
     "shell.execute_reply": "2024-04-19T09:17:05.854650Z",
     "shell.execute_reply.started": "2024-04-19T09:17:05.851183Z"
    }
   },
   "outputs": [
    {
     "name": "stdout",
     "output_type": "stream",
     "text": [
      "I invited 3 guests at the beginning.\n"
     ]
    }
   ],
   "source": [
    "dinner_names = ['faker','zeus','oner']\n",
    "print(f'I invited {len(dinner_names)} guests at the beginning.')"
   ]
  },
  {
   "cell_type": "markdown",
   "id": "209d9d10-a640-40e2-b875-1a39f9cf21e5",
   "metadata": {},
   "source": [
    "## *3.10 尝试使用各个函数*"
   ]
  },
  {
   "cell_type": "code",
   "execution_count": 26,
   "id": "6da3bd4c-9702-432c-836e-63fda606a19f",
   "metadata": {
    "execution": {
     "iopub.execute_input": "2024-04-19T09:17:05.856659Z",
     "iopub.status.busy": "2024-04-19T09:17:05.855657Z",
     "iopub.status.idle": "2024-04-19T09:17:05.862785Z",
     "shell.execute_reply": "2024-04-19T09:17:05.862785Z",
     "shell.execute_reply.started": "2024-04-19T09:17:05.856659Z"
    }
   },
   "outputs": [
    {
     "name": "stdout",
     "output_type": "stream",
     "text": [
      "['China', 'Japan', 'USA', 'UK', 'French', 'Germany']\n",
      "['China', 'Russia', 'Japan', 'USA', 'UK', 'French', 'Germany']\n",
      "['China', 'Russia', 'USA', 'UK', 'French', 'Germany']\n",
      "['China', 'Russia', 'USA', 'UK', 'French']\n",
      "['China', 'Russia', 'USA', 'French']\n",
      "['China', 'French', 'Russia', 'USA']\n",
      "4\n"
     ]
    }
   ],
   "source": [
    "countries = ['China','Japan','USA','UK','French']\n",
    "countries.append('Germany')\n",
    "print(countries)\n",
    "countries.insert(1,'Russia')\n",
    "print(countries)\n",
    "del countries[2]\n",
    "print(countries)\n",
    "countries.pop()\n",
    "print(countries)\n",
    "countries.remove('UK')\n",
    "print(countries)\n",
    "countries.sort()\n",
    "print(countries)\n",
    "print(len(countries))"
   ]
  }
 ],
 "metadata": {
  "kernelspec": {
   "display_name": "Python 3 (ipykernel)",
   "language": "python",
   "name": "python3"
  },
  "language_info": {
   "codemirror_mode": {
    "name": "ipython",
    "version": 3
   },
   "file_extension": ".py",
   "mimetype": "text/x-python",
   "name": "python",
   "nbconvert_exporter": "python",
   "pygments_lexer": "ipython3",
   "version": "3.11.7"
  }
 },
 "nbformat": 4,
 "nbformat_minor": 5
}
