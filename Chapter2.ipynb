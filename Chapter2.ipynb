{
 "cells": [
  {
   "cell_type": "markdown",
   "id": "34645588-621f-4414-a98c-3117de7165d5",
   "metadata": {},
   "source": [
    "# **第2章 变量与简单的数据类型**"
   ]
  },
  {
   "cell_type": "markdown",
   "id": "f85d5108-9df9-4984-a556-548233cf7ae1",
   "metadata": {},
   "source": [
    "## **2.2 变量**"
   ]
  },
  {
   "cell_type": "code",
   "execution_count": 62,
   "id": "e86ef70d-fc30-48d9-a4a9-e1cbf49f9d95",
   "metadata": {
    "execution": {
     "iopub.execute_input": "2024-04-19T03:43:33.178463Z",
     "iopub.status.busy": "2024-04-19T03:43:33.178463Z",
     "iopub.status.idle": "2024-04-19T03:43:33.181462Z",
     "shell.execute_reply": "2024-04-19T03:43:33.181462Z",
     "shell.execute_reply.started": "2024-04-19T03:43:33.178463Z"
    }
   },
   "outputs": [
    {
     "name": "stdout",
     "output_type": "stream",
     "text": [
      "Hello Python world!\n"
     ]
    }
   ],
   "source": [
    "print(\"Hello Python world!\")"
   ]
  },
  {
   "cell_type": "code",
   "execution_count": 63,
   "id": "3188d11b-272b-4844-9446-0a039e4821a6",
   "metadata": {
    "execution": {
     "iopub.execute_input": "2024-04-19T03:43:33.182461Z",
     "iopub.status.busy": "2024-04-19T03:43:33.182461Z",
     "iopub.status.idle": "2024-04-19T03:43:33.189123Z",
     "shell.execute_reply": "2024-04-19T03:43:33.189123Z",
     "shell.execute_reply.started": "2024-04-19T03:43:33.182461Z"
    }
   },
   "outputs": [
    {
     "name": "stdout",
     "output_type": "stream",
     "text": [
      "Hello Python world!\n",
      "Hello Python Crash Course world！\n"
     ]
    }
   ],
   "source": [
    "message=\"Hello Python world!\"\n",
    "print(message)\n",
    "message=\"Hello Python Crash Course world！\"\n",
    "print(message)"
   ]
  },
  {
   "cell_type": "code",
   "execution_count": 64,
   "id": "28bb7d04-d348-4c70-b2ec-46c106315dbb",
   "metadata": {
    "execution": {
     "iopub.execute_input": "2024-04-19T03:43:33.190132Z",
     "iopub.status.busy": "2024-04-19T03:43:33.190132Z",
     "iopub.status.idle": "2024-04-19T03:43:33.198809Z",
     "shell.execute_reply": "2024-04-19T03:43:33.198809Z",
     "shell.execute_reply.started": "2024-04-19T03:43:33.190132Z"
    }
   },
   "outputs": [
    {
     "name": "stdout",
     "output_type": "stream",
     "text": [
      "Hello Python Crash Course world!\n"
     ]
    }
   ],
   "source": [
    "mesage=\"Hello Python Crash Course world!\"\n",
    "print(mesage)"
   ]
  },
  {
   "cell_type": "markdown",
   "id": "bfac6bea-5f9f-481e-b921-0b39de3cc5b1",
   "metadata": {},
   "source": [
    "## **2.3 字符串**"
   ]
  },
  {
   "cell_type": "code",
   "execution_count": 65,
   "id": "56cff3c9-b49e-45da-98eb-58b0020c481d",
   "metadata": {
    "execution": {
     "iopub.execute_input": "2024-04-19T03:43:33.199807Z",
     "iopub.status.busy": "2024-04-19T03:43:33.198809Z",
     "iopub.status.idle": "2024-04-19T03:43:33.206075Z",
     "shell.execute_reply": "2024-04-19T03:43:33.205076Z",
     "shell.execute_reply.started": "2024-04-19T03:43:33.199807Z"
    }
   },
   "outputs": [
    {
     "name": "stdout",
     "output_type": "stream",
     "text": [
      "Ada Lovelace\n"
     ]
    }
   ],
   "source": [
    "name=\"ada lovelace\"\n",
    "print(name.title())"
   ]
  },
  {
   "cell_type": "code",
   "execution_count": 66,
   "id": "7283102d-dc0e-42dc-b3c9-96efe12191af",
   "metadata": {
    "execution": {
     "iopub.execute_input": "2024-04-19T03:43:33.208068Z",
     "iopub.status.busy": "2024-04-19T03:43:33.208068Z",
     "iopub.status.idle": "2024-04-19T03:43:33.221020Z",
     "shell.execute_reply": "2024-04-19T03:43:33.221020Z",
     "shell.execute_reply.started": "2024-04-19T03:43:33.208068Z"
    }
   },
   "outputs": [
    {
     "name": "stdout",
     "output_type": "stream",
     "text": [
      "ADA LOVELACE\n",
      "ada lovelace\n"
     ]
    }
   ],
   "source": [
    "name=\"Ada Lovelace\"\n",
    "print(name.upper())\n",
    "print(name.lower())"
   ]
  },
  {
   "cell_type": "code",
   "execution_count": 67,
   "id": "ec341b31-9609-49bf-8cb3-1f7de3b599f3",
   "metadata": {
    "execution": {
     "iopub.execute_input": "2024-04-19T03:43:33.222028Z",
     "iopub.status.busy": "2024-04-19T03:43:33.222028Z",
     "iopub.status.idle": "2024-04-19T03:43:33.232798Z",
     "shell.execute_reply": "2024-04-19T03:43:33.232798Z",
     "shell.execute_reply.started": "2024-04-19T03:43:33.222028Z"
    }
   },
   "outputs": [
    {
     "name": "stdout",
     "output_type": "stream",
     "text": [
      "ada lovelace\n",
      "Hello,Ada Lovelace!\n",
      "Hello, Ada Lovelace!\n"
     ]
    }
   ],
   "source": [
    "first_name=\"ada\"\n",
    "last_name=\"lovelace\"\n",
    "full_name=f\"{first_name} {last_name}\"\n",
    "print(full_name)\n",
    "print(f\"Hello,{full_name.title()}!\")\n",
    "message=f\"Hello, {full_name.title()}!\"\n",
    "print(message)"
   ]
  },
  {
   "cell_type": "code",
   "execution_count": 68,
   "id": "ea95511a-845d-4854-bcdf-379ed00daa0f",
   "metadata": {
    "execution": {
     "iopub.execute_input": "2024-04-19T03:43:33.233805Z",
     "iopub.status.busy": "2024-04-19T03:43:33.233805Z",
     "iopub.status.idle": "2024-04-19T03:43:33.245756Z",
     "shell.execute_reply": "2024-04-19T03:43:33.244742Z",
     "shell.execute_reply.started": "2024-04-19T03:43:33.233805Z"
    }
   },
   "outputs": [
    {
     "name": "stdout",
     "output_type": "stream",
     "text": [
      "Python\n",
      "\tPython\n",
      "Languages:\n",
      "Python\n",
      "C\n",
      "JavaScript\n",
      "Languages:\n",
      "\tPython\n",
      "\tC\n",
      "\tJavaScript\n"
     ]
    }
   ],
   "source": [
    "print(\"Python\")\n",
    "print(\"\\tPython\")\n",
    "print(\"Languages:\\nPython\\nC\\nJavaScript\")\n",
    "print(\"Languages:\\n\\tPython\\n\\tC\\n\\tJavaScript\")"
   ]
  },
  {
   "cell_type": "code",
   "execution_count": 69,
   "id": "68fa229b-4685-440f-8e5f-c36e684a62ba",
   "metadata": {
    "execution": {
     "iopub.execute_input": "2024-04-19T03:43:33.246752Z",
     "iopub.status.busy": "2024-04-19T03:43:33.246752Z",
     "iopub.status.idle": "2024-04-19T03:43:33.258971Z",
     "shell.execute_reply": "2024-04-19T03:43:33.258971Z",
     "shell.execute_reply.started": "2024-04-19T03:43:33.246752Z"
    }
   },
   "outputs": [
    {
     "data": {
      "text/plain": [
       "'python '"
      ]
     },
     "execution_count": 69,
     "metadata": {},
     "output_type": "execute_result"
    }
   ],
   "source": [
    "favorite_language='python '\n",
    "favorite_language\n",
    "favorite_language.rstrip()\n",
    "favorite_language"
   ]
  },
  {
   "cell_type": "code",
   "execution_count": 70,
   "id": "0566af73-8051-4b0e-89a2-162784d1d3d7",
   "metadata": {
    "execution": {
     "iopub.execute_input": "2024-04-19T03:43:33.266948Z",
     "iopub.status.busy": "2024-04-19T03:43:33.265950Z",
     "iopub.status.idle": "2024-04-19T03:43:33.278509Z",
     "shell.execute_reply": "2024-04-19T03:43:33.277510Z",
     "shell.execute_reply.started": "2024-04-19T03:43:33.266948Z"
    }
   },
   "outputs": [
    {
     "data": {
      "text/plain": [
       "'python'"
      ]
     },
     "execution_count": 70,
     "metadata": {},
     "output_type": "execute_result"
    }
   ],
   "source": [
    "favorite_language='python '\n",
    "favorite_language=favorite_language.rstrip()\n",
    "favorite_language"
   ]
  },
  {
   "cell_type": "code",
   "execution_count": 71,
   "id": "b4906632-8f2f-4ffd-9e44-7c2119c79a36",
   "metadata": {
    "execution": {
     "iopub.execute_input": "2024-04-19T03:43:33.279505Z",
     "iopub.status.busy": "2024-04-19T03:43:33.278509Z",
     "iopub.status.idle": "2024-04-19T03:43:33.290923Z",
     "shell.execute_reply": "2024-04-19T03:43:33.288927Z",
     "shell.execute_reply.started": "2024-04-19T03:43:33.279505Z"
    }
   },
   "outputs": [
    {
     "data": {
      "text/plain": [
       "'python'"
      ]
     },
     "execution_count": 71,
     "metadata": {},
     "output_type": "execute_result"
    }
   ],
   "source": [
    "favorite_language=' python '\n",
    "favorite_language.rstrip()\n",
    "favorite_language.lstrip()\n",
    "favorite_language.strip()"
   ]
  },
  {
   "cell_type": "code",
   "execution_count": 72,
   "id": "6222bca1-be06-4b94-8577-a0498871745b",
   "metadata": {
    "execution": {
     "iopub.execute_input": "2024-04-19T03:43:33.291919Z",
     "iopub.status.busy": "2024-04-19T03:43:33.291919Z",
     "iopub.status.idle": "2024-04-19T03:43:33.301178Z",
     "shell.execute_reply": "2024-04-19T03:43:33.300179Z",
     "shell.execute_reply.started": "2024-04-19T03:43:33.291919Z"
    }
   },
   "outputs": [
    {
     "data": {
      "text/plain": [
       "'nostarch.com'"
      ]
     },
     "execution_count": 72,
     "metadata": {},
     "output_type": "execute_result"
    }
   ],
   "source": [
    "nostarch_url='https://nostarch.com'\n",
    "nostarch_url.removeprefix('https://')\n",
    "simple_url=nostarch_url.removeprefix('https://')\n",
    "simple_url"
   ]
  },
  {
   "cell_type": "code",
   "execution_count": 73,
   "id": "02093688-2cf7-4306-a47a-754599069550",
   "metadata": {
    "execution": {
     "iopub.execute_input": "2024-04-19T03:43:33.303171Z",
     "iopub.status.busy": "2024-04-19T03:43:33.302175Z",
     "iopub.status.idle": "2024-04-19T03:43:33.308498Z",
     "shell.execute_reply": "2024-04-19T03:43:33.308498Z",
     "shell.execute_reply.started": "2024-04-19T03:43:33.303171Z"
    }
   },
   "outputs": [
    {
     "name": "stdout",
     "output_type": "stream",
     "text": [
      "hTTp\n"
     ]
    }
   ],
   "source": [
    "url='http'\n",
    "url=url.replace('t','T')\n",
    "print(url)"
   ]
  },
  {
   "cell_type": "markdown",
   "id": "a1d4e7dd-776d-42bc-9ad0-8e357ff0caa2",
   "metadata": {},
   "source": [
    "**replace替换符**"
   ]
  },
  {
   "cell_type": "code",
   "execution_count": 74,
   "id": "046f6dc7-6545-4542-858e-65a884f20685",
   "metadata": {
    "execution": {
     "iopub.execute_input": "2024-04-19T03:43:33.312487Z",
     "iopub.status.busy": "2024-04-19T03:43:33.310494Z",
     "iopub.status.idle": "2024-04-19T03:43:33.320090Z",
     "shell.execute_reply": "2024-04-19T03:43:33.319087Z",
     "shell.execute_reply.started": "2024-04-19T03:43:33.312487Z"
    }
   },
   "outputs": [
    {
     "name": "stdout",
     "output_type": "stream",
     "text": [
      "one of Python's strengths is its diverse community.\n"
     ]
    }
   ],
   "source": [
    "message=\"one of Python's strengths is its diverse community.\"\n",
    "print(message)"
   ]
  },
  {
   "cell_type": "code",
   "execution_count": 75,
   "id": "3dcf301a-df72-4d33-9cc0-82e8e1aa0652",
   "metadata": {
    "execution": {
     "iopub.execute_input": "2024-04-19T03:43:33.326067Z",
     "iopub.status.busy": "2024-04-19T03:43:33.325071Z",
     "iopub.status.idle": "2024-04-19T03:43:33.333095Z",
     "shell.execute_reply": "2024-04-19T03:43:33.332094Z",
     "shell.execute_reply.started": "2024-04-19T03:43:33.326067Z"
    }
   },
   "outputs": [
    {
     "name": "stdout",
     "output_type": "stream",
     "text": [
      "one of Python's strengths is its diverse community.\n"
     ]
    }
   ],
   "source": [
    "#转义字符\n",
    "message='one of Python\\'s strengths is its diverse community.'\n",
    "print(message)"
   ]
  },
  {
   "cell_type": "markdown",
   "id": "78b221bc-a1ea-45e4-af9b-e909069495a9",
   "metadata": {},
   "source": [
    "**加斜杠变为普通字符**"
   ]
  },
  {
   "cell_type": "code",
   "execution_count": 76,
   "id": "784074c7-1cb1-447e-a0d2-221c11a726c3",
   "metadata": {
    "execution": {
     "iopub.execute_input": "2024-04-19T03:43:33.334091Z",
     "iopub.status.busy": "2024-04-19T03:43:33.334091Z",
     "iopub.status.idle": "2024-04-19T03:43:33.340651Z",
     "shell.execute_reply": "2024-04-19T03:43:33.339651Z",
     "shell.execute_reply.started": "2024-04-19T03:43:33.334091Z"
    }
   },
   "outputs": [
    {
     "data": {
      "text/plain": [
       "'hello world'"
      ]
     },
     "execution_count": 76,
     "metadata": {},
     "output_type": "execute_result"
    }
   ],
   "source": [
    "'hello'+' world'"
   ]
  },
  {
   "cell_type": "code",
   "execution_count": 77,
   "id": "752ccbcc-eccf-41b9-bb43-fd5b2166ab63",
   "metadata": {
    "execution": {
     "iopub.execute_input": "2024-04-19T03:43:33.341648Z",
     "iopub.status.busy": "2024-04-19T03:43:33.341648Z",
     "iopub.status.idle": "2024-04-19T03:43:33.348563Z",
     "shell.execute_reply": "2024-04-19T03:43:33.347562Z",
     "shell.execute_reply.started": "2024-04-19T03:43:33.341648Z"
    }
   },
   "outputs": [
    {
     "data": {
      "text/plain": [
       "'hellohello'"
      ]
     },
     "execution_count": 77,
     "metadata": {},
     "output_type": "execute_result"
    }
   ],
   "source": [
    "'hello'*2"
   ]
  },
  {
   "cell_type": "markdown",
   "id": "5bd34f94-a0a7-4f7d-983f-9683fbe52869",
   "metadata": {},
   "source": [
    "**字符串拼接**"
   ]
  },
  {
   "cell_type": "markdown",
   "id": "def352a6-f951-420a-bb91-3cf110a78860",
   "metadata": {},
   "source": [
    "## **2.4数**"
   ]
  },
  {
   "cell_type": "code",
   "execution_count": 78,
   "id": "698d3b52-ea47-4d6b-ae8d-f73210205712",
   "metadata": {
    "execution": {
     "iopub.execute_input": "2024-04-19T03:43:33.349560Z",
     "iopub.status.busy": "2024-04-19T03:43:33.349560Z",
     "iopub.status.idle": "2024-04-19T03:43:33.354696Z",
     "shell.execute_reply": "2024-04-19T03:43:33.354696Z",
     "shell.execute_reply.started": "2024-04-19T03:43:33.349560Z"
    }
   },
   "outputs": [
    {
     "data": {
      "text/plain": [
       "5"
      ]
     },
     "execution_count": 78,
     "metadata": {},
     "output_type": "execute_result"
    }
   ],
   "source": [
    "2+3"
   ]
  },
  {
   "cell_type": "code",
   "execution_count": 79,
   "id": "0b63ef3a-b08f-472e-8dc4-7403bf3ca288",
   "metadata": {
    "execution": {
     "iopub.execute_input": "2024-04-19T03:43:33.357696Z",
     "iopub.status.busy": "2024-04-19T03:43:33.356696Z",
     "iopub.status.idle": "2024-04-19T03:43:33.362329Z",
     "shell.execute_reply": "2024-04-19T03:43:33.362329Z",
     "shell.execute_reply.started": "2024-04-19T03:43:33.357696Z"
    }
   },
   "outputs": [
    {
     "data": {
      "text/plain": [
       "1"
      ]
     },
     "execution_count": 79,
     "metadata": {},
     "output_type": "execute_result"
    }
   ],
   "source": [
    "3-2"
   ]
  },
  {
   "cell_type": "code",
   "execution_count": 80,
   "id": "ea03d98b-b2de-48f4-9689-0f5a01760348",
   "metadata": {
    "execution": {
     "iopub.execute_input": "2024-04-19T03:43:33.364328Z",
     "iopub.status.busy": "2024-04-19T03:43:33.364328Z",
     "iopub.status.idle": "2024-04-19T03:43:33.370426Z",
     "shell.execute_reply": "2024-04-19T03:43:33.369426Z",
     "shell.execute_reply.started": "2024-04-19T03:43:33.364328Z"
    }
   },
   "outputs": [
    {
     "data": {
      "text/plain": [
       "6"
      ]
     },
     "execution_count": 80,
     "metadata": {},
     "output_type": "execute_result"
    }
   ],
   "source": [
    "2*3"
   ]
  },
  {
   "cell_type": "code",
   "execution_count": 81,
   "id": "7f1df7b2-2cdd-4669-baa8-10c49d45bbfa",
   "metadata": {
    "execution": {
     "iopub.execute_input": "2024-04-19T03:43:33.371422Z",
     "iopub.status.busy": "2024-04-19T03:43:33.371422Z",
     "iopub.status.idle": "2024-04-19T03:43:33.383893Z",
     "shell.execute_reply": "2024-04-19T03:43:33.382892Z",
     "shell.execute_reply.started": "2024-04-19T03:43:33.371422Z"
    }
   },
   "outputs": [
    {
     "data": {
      "text/plain": [
       "1.5"
      ]
     },
     "execution_count": 81,
     "metadata": {},
     "output_type": "execute_result"
    }
   ],
   "source": [
    "3/2"
   ]
  },
  {
   "cell_type": "code",
   "execution_count": 82,
   "id": "c5c4f66d-651a-45b6-bd28-8bc1ea1970fd",
   "metadata": {
    "execution": {
     "iopub.execute_input": "2024-04-19T03:43:33.384889Z",
     "iopub.status.busy": "2024-04-19T03:43:33.384889Z",
     "iopub.status.idle": "2024-04-19T03:43:33.392065Z",
     "shell.execute_reply": "2024-04-19T03:43:33.391065Z",
     "shell.execute_reply.started": "2024-04-19T03:43:33.384889Z"
    }
   },
   "outputs": [
    {
     "data": {
      "text/plain": [
       "9"
      ]
     },
     "execution_count": 82,
     "metadata": {},
     "output_type": "execute_result"
    }
   ],
   "source": [
    "3**2"
   ]
  },
  {
   "cell_type": "code",
   "execution_count": 83,
   "id": "50978071-3fbc-4323-9318-1af6d50b346e",
   "metadata": {
    "execution": {
     "iopub.execute_input": "2024-04-19T03:43:33.393063Z",
     "iopub.status.busy": "2024-04-19T03:43:33.393063Z",
     "iopub.status.idle": "2024-04-19T03:43:33.399870Z",
     "shell.execute_reply": "2024-04-19T03:43:33.398870Z",
     "shell.execute_reply.started": "2024-04-19T03:43:33.393063Z"
    }
   },
   "outputs": [
    {
     "data": {
      "text/plain": [
       "14"
      ]
     },
     "execution_count": 83,
     "metadata": {},
     "output_type": "execute_result"
    }
   ],
   "source": [
    "2+3*4"
   ]
  },
  {
   "cell_type": "code",
   "execution_count": 84,
   "id": "d5518f38-fd18-4b41-88fb-43f097fe9c34",
   "metadata": {
    "execution": {
     "iopub.execute_input": "2024-04-19T03:43:33.401863Z",
     "iopub.status.busy": "2024-04-19T03:43:33.400866Z",
     "iopub.status.idle": "2024-04-19T03:43:33.408815Z",
     "shell.execute_reply": "2024-04-19T03:43:33.407816Z",
     "shell.execute_reply.started": "2024-04-19T03:43:33.401863Z"
    }
   },
   "outputs": [
    {
     "data": {
      "text/plain": [
       "20"
      ]
     },
     "execution_count": 84,
     "metadata": {},
     "output_type": "execute_result"
    }
   ],
   "source": [
    "(2+3)*4"
   ]
  },
  {
   "cell_type": "code",
   "execution_count": 85,
   "id": "4cb40622-4c15-44f7-883d-d9ff3cef734e",
   "metadata": {
    "execution": {
     "iopub.execute_input": "2024-04-19T03:43:33.409811Z",
     "iopub.status.busy": "2024-04-19T03:43:33.409811Z",
     "iopub.status.idle": "2024-04-19T03:43:33.415960Z",
     "shell.execute_reply": "2024-04-19T03:43:33.414961Z",
     "shell.execute_reply.started": "2024-04-19T03:43:33.409811Z"
    }
   },
   "outputs": [
    {
     "data": {
      "text/plain": [
       "0.4"
      ]
     },
     "execution_count": 85,
     "metadata": {},
     "output_type": "execute_result"
    }
   ],
   "source": [
    "0.1+0.3"
   ]
  },
  {
   "cell_type": "code",
   "execution_count": 86,
   "id": "3f9807c3-5748-4e2a-a2e8-6a79daaed319",
   "metadata": {
    "execution": {
     "iopub.execute_input": "2024-04-19T03:43:33.416957Z",
     "iopub.status.busy": "2024-04-19T03:43:33.416957Z",
     "iopub.status.idle": "2024-04-19T03:43:33.423449Z",
     "shell.execute_reply": "2024-04-19T03:43:33.422449Z",
     "shell.execute_reply.started": "2024-04-19T03:43:33.416957Z"
    }
   },
   "outputs": [
    {
     "data": {
      "text/plain": [
       "0.30000000000000004"
      ]
     },
     "execution_count": 86,
     "metadata": {},
     "output_type": "execute_result"
    }
   ],
   "source": [
    "0.2+0.1"
   ]
  },
  {
   "cell_type": "code",
   "execution_count": 87,
   "id": "b5f34fc7-94c6-4a53-844d-70783d067463",
   "metadata": {
    "execution": {
     "iopub.execute_input": "2024-04-19T03:43:33.425442Z",
     "iopub.status.busy": "2024-04-19T03:43:33.425442Z",
     "iopub.status.idle": "2024-04-19T03:43:33.433136Z",
     "shell.execute_reply": "2024-04-19T03:43:33.432137Z",
     "shell.execute_reply.started": "2024-04-19T03:43:33.425442Z"
    }
   },
   "outputs": [
    {
     "data": {
      "text/plain": [
       "0.30000000000000004"
      ]
     },
     "execution_count": 87,
     "metadata": {},
     "output_type": "execute_result"
    }
   ],
   "source": [
    "3*0.1"
   ]
  },
  {
   "cell_type": "code",
   "execution_count": 88,
   "id": "0c1dbdd6-b99a-4dbb-976e-916ec5e3b71f",
   "metadata": {
    "execution": {
     "iopub.execute_input": "2024-04-19T03:43:33.434133Z",
     "iopub.status.busy": "2024-04-19T03:43:33.434133Z",
     "iopub.status.idle": "2024-04-19T03:43:33.441179Z",
     "shell.execute_reply": "2024-04-19T03:43:33.440180Z",
     "shell.execute_reply.started": "2024-04-19T03:43:33.434133Z"
    }
   },
   "outputs": [
    {
     "data": {
      "text/plain": [
       "2.0"
      ]
     },
     "execution_count": 88,
     "metadata": {},
     "output_type": "execute_result"
    }
   ],
   "source": [
    "4/2"
   ]
  },
  {
   "cell_type": "code",
   "execution_count": 89,
   "id": "8a3ade45-7db9-40fb-be3c-9d8afcf93310",
   "metadata": {
    "execution": {
     "iopub.execute_input": "2024-04-19T03:43:33.443173Z",
     "iopub.status.busy": "2024-04-19T03:43:33.442176Z",
     "iopub.status.idle": "2024-04-19T03:43:33.448782Z",
     "shell.execute_reply": "2024-04-19T03:43:33.447783Z",
     "shell.execute_reply.started": "2024-04-19T03:43:33.443173Z"
    }
   },
   "outputs": [
    {
     "data": {
      "text/plain": [
       "3.0"
      ]
     },
     "execution_count": 89,
     "metadata": {},
     "output_type": "execute_result"
    }
   ],
   "source": [
    "1+2.0"
   ]
  },
  {
   "cell_type": "code",
   "execution_count": 90,
   "id": "8f681339-9aeb-4a3a-a3d5-bbd91983ee45",
   "metadata": {
    "execution": {
     "iopub.execute_input": "2024-04-19T03:43:33.449778Z",
     "iopub.status.busy": "2024-04-19T03:43:33.449778Z",
     "iopub.status.idle": "2024-04-19T03:43:33.453765Z",
     "shell.execute_reply": "2024-04-19T03:43:33.453765Z",
     "shell.execute_reply.started": "2024-04-19T03:43:33.449778Z"
    }
   },
   "outputs": [
    {
     "name": "stdout",
     "output_type": "stream",
     "text": [
      "14000000000\n"
     ]
    }
   ],
   "source": [
    "universe_age=14_000_000_000\n",
    "print(universe_age)"
   ]
  },
  {
   "cell_type": "code",
   "execution_count": 91,
   "id": "6fc20e2c-3a50-4abf-96ef-72f8d56c8240",
   "metadata": {
    "execution": {
     "iopub.execute_input": "2024-04-19T03:43:33.455804Z",
     "iopub.status.busy": "2024-04-19T03:43:33.454808Z",
     "iopub.status.idle": "2024-04-19T03:43:33.462320Z",
     "shell.execute_reply": "2024-04-19T03:43:33.461320Z",
     "shell.execute_reply.started": "2024-04-19T03:43:33.455804Z"
    }
   },
   "outputs": [
    {
     "name": "stdout",
     "output_type": "stream",
     "text": [
      "0\n"
     ]
    }
   ],
   "source": [
    "x,y,z=0,0,0\n",
    "print(x)"
   ]
  },
  {
   "cell_type": "code",
   "execution_count": 92,
   "id": "315d0e38-432d-4f28-91bf-9d0cc79de464",
   "metadata": {
    "execution": {
     "iopub.execute_input": "2024-04-19T03:43:33.464312Z",
     "iopub.status.busy": "2024-04-19T03:43:33.463316Z",
     "iopub.status.idle": "2024-04-19T03:43:33.468950Z",
     "shell.execute_reply": "2024-04-19T03:43:33.467951Z",
     "shell.execute_reply.started": "2024-04-19T03:43:33.464312Z"
    }
   },
   "outputs": [
    {
     "name": "stdout",
     "output_type": "stream",
     "text": [
      "True\n",
      "False\n"
     ]
    }
   ],
   "source": [
    "print(True)\n",
    "print(False)"
   ]
  },
  {
   "cell_type": "code",
   "execution_count": 93,
   "id": "d58e1a0e-4c8a-444a-ae7b-f2d372d17e5a",
   "metadata": {
    "execution": {
     "iopub.execute_input": "2024-04-19T03:43:33.469947Z",
     "iopub.status.busy": "2024-04-19T03:43:33.469947Z",
     "iopub.status.idle": "2024-04-19T03:43:33.475033Z",
     "shell.execute_reply": "2024-04-19T03:43:33.475033Z",
     "shell.execute_reply.started": "2024-04-19T03:43:33.469947Z"
    }
   },
   "outputs": [
    {
     "data": {
      "text/plain": [
       "True"
      ]
     },
     "execution_count": 93,
     "metadata": {},
     "output_type": "execute_result"
    }
   ],
   "source": [
    "True==1"
   ]
  },
  {
   "cell_type": "code",
   "execution_count": 94,
   "id": "5843580e-cdfd-4a3b-8719-b87b1e9733fe",
   "metadata": {
    "execution": {
     "iopub.execute_input": "2024-04-19T03:43:33.477029Z",
     "iopub.status.busy": "2024-04-19T03:43:33.477029Z",
     "iopub.status.idle": "2024-04-19T03:43:33.482592Z",
     "shell.execute_reply": "2024-04-19T03:43:33.482592Z",
     "shell.execute_reply.started": "2024-04-19T03:43:33.477029Z"
    }
   },
   "outputs": [
    {
     "data": {
      "text/plain": [
       "True"
      ]
     },
     "execution_count": 94,
     "metadata": {},
     "output_type": "execute_result"
    }
   ],
   "source": [
    "False==0"
   ]
  },
  {
   "cell_type": "code",
   "execution_count": 95,
   "id": "0343c773-a555-4540-986a-8c2f55928137",
   "metadata": {
    "execution": {
     "iopub.execute_input": "2024-04-19T03:43:33.484588Z",
     "iopub.status.busy": "2024-04-19T03:43:33.484588Z",
     "iopub.status.idle": "2024-04-19T03:43:33.489341Z",
     "shell.execute_reply": "2024-04-19T03:43:33.488343Z",
     "shell.execute_reply.started": "2024-04-19T03:43:33.484588Z"
    }
   },
   "outputs": [],
   "source": [
    "MAX_CONNECTIONS=5000"
   ]
  },
  {
   "cell_type": "code",
   "execution_count": 96,
   "id": "7b7a638b-6ac6-49a6-9ca1-0ac0eaa339f8",
   "metadata": {
    "execution": {
     "iopub.execute_input": "2024-04-19T03:43:33.490338Z",
     "iopub.status.busy": "2024-04-19T03:43:33.490338Z",
     "iopub.status.idle": "2024-04-19T03:43:33.495174Z",
     "shell.execute_reply": "2024-04-19T03:43:33.495174Z",
     "shell.execute_reply.started": "2024-04-19T03:43:33.490338Z"
    }
   },
   "outputs": [
    {
     "name": "stdout",
     "output_type": "stream",
     "text": [
      "Hello Python people!\n"
     ]
    }
   ],
   "source": [
    "#向大家问好\n",
    "print(\"Hello Python people!\")"
   ]
  },
  {
   "cell_type": "code",
   "execution_count": 97,
   "id": "8b204582-992e-4a43-ad15-510f370986fb",
   "metadata": {
    "execution": {
     "iopub.execute_input": "2024-04-19T03:43:33.497169Z",
     "iopub.status.busy": "2024-04-19T03:43:33.497169Z",
     "iopub.status.idle": "2024-04-19T03:43:33.503052Z",
     "shell.execute_reply": "2024-04-19T03:43:33.502053Z",
     "shell.execute_reply.started": "2024-04-19T03:43:33.497169Z"
    }
   },
   "outputs": [],
   "source": [
    "import this"
   ]
  },
  {
   "cell_type": "markdown",
   "id": "9a6dc451-14bd-410b-825e-35f3d301d536",
   "metadata": {},
   "source": [
    "# **练习**"
   ]
  },
  {
   "cell_type": "markdown",
   "id": "a41bc240-0dd8-4429-9e2d-5ec132ab404e",
   "metadata": {
    "execution": {
     "iopub.execute_input": "2024-04-19T03:42:36.899941Z",
     "iopub.status.busy": "2024-04-19T03:42:36.898945Z",
     "iopub.status.idle": "2024-04-19T03:42:36.904439Z",
     "shell.execute_reply": "2024-04-19T03:42:36.904439Z",
     "shell.execute_reply.started": "2024-04-19T03:42:36.899941Z"
    }
   },
   "source": [
    "## *2.1 简单消息*"
   ]
  },
  {
   "cell_type": "code",
   "execution_count": 98,
   "id": "72a08a38-db8d-45fd-9a1c-2ad3f8818434",
   "metadata": {
    "execution": {
     "iopub.execute_input": "2024-04-19T03:43:33.505045Z",
     "iopub.status.busy": "2024-04-19T03:43:33.504048Z",
     "iopub.status.idle": "2024-04-19T03:43:33.511140Z",
     "shell.execute_reply": "2024-04-19T03:43:33.510143Z",
     "shell.execute_reply.started": "2024-04-19T03:43:33.505045Z"
    }
   },
   "outputs": [
    {
     "name": "stdout",
     "output_type": "stream",
     "text": [
      "I don't want to study.\n"
     ]
    }
   ],
   "source": [
    "message = 'I don\\'t want to study.'\n",
    "print(message)"
   ]
  },
  {
   "cell_type": "markdown",
   "id": "d95fbcb8-4352-4856-9945-c6043a62b253",
   "metadata": {
    "execution": {
     "iopub.execute_input": "2024-04-19T03:42:36.913649Z",
     "iopub.status.busy": "2024-04-19T03:42:36.913649Z",
     "iopub.status.idle": "2024-04-19T03:42:36.919212Z",
     "shell.execute_reply": "2024-04-19T03:42:36.918213Z",
     "shell.execute_reply.started": "2024-04-19T03:42:36.913649Z"
    }
   },
   "source": [
    "## *2.2 多条简单消息*"
   ]
  },
  {
   "cell_type": "code",
   "execution_count": 99,
   "id": "70b8e84d-60e4-4ecf-8722-20a19dfdb4a3",
   "metadata": {
    "execution": {
     "iopub.execute_input": "2024-04-19T03:43:33.513139Z",
     "iopub.status.busy": "2024-04-19T03:43:33.512137Z",
     "iopub.status.idle": "2024-04-19T03:43:33.517547Z",
     "shell.execute_reply": "2024-04-19T03:43:33.517547Z",
     "shell.execute_reply.started": "2024-04-19T03:43:33.513139Z"
    }
   },
   "outputs": [
    {
     "name": "stdout",
     "output_type": "stream",
     "text": [
      "I don't want to study.\n",
      "Me, too.\n"
     ]
    }
   ],
   "source": [
    "message = 'I don\\'t want to study.'\n",
    "print(message)\n",
    "message = 'Me, too.'\n",
    "print(message)"
   ]
  },
  {
   "cell_type": "markdown",
   "id": "bdf0c954-fef6-40e0-98a9-9da7f1e9efe0",
   "metadata": {
    "execution": {
     "iopub.execute_input": "2024-04-19T03:42:36.934108Z",
     "iopub.status.busy": "2024-04-19T03:42:36.933112Z",
     "iopub.status.idle": "2024-04-19T03:42:36.939175Z",
     "shell.execute_reply": "2024-04-19T03:42:36.938176Z",
     "shell.execute_reply.started": "2024-04-19T03:42:36.934108Z"
    }
   },
   "source": [
    "## *2.3 个性化消息*"
   ]
  },
  {
   "cell_type": "code",
   "execution_count": 100,
   "id": "fd91aa3d-7a0d-4711-b71a-caeb89202378",
   "metadata": {
    "execution": {
     "iopub.execute_input": "2024-04-19T03:43:33.519543Z",
     "iopub.status.busy": "2024-04-19T03:43:33.519543Z",
     "iopub.status.idle": "2024-04-19T03:43:33.526360Z",
     "shell.execute_reply": "2024-04-19T03:43:33.525360Z",
     "shell.execute_reply.started": "2024-04-19T03:43:33.519543Z"
    }
   },
   "outputs": [
    {
     "name": "stdout",
     "output_type": "stream",
     "text": [
      "What's your name,Jack?\n"
     ]
    }
   ],
   "source": [
    "name = 'jack'\n",
    "print(f\"What's your name,{name.title()}?\")"
   ]
  },
  {
   "cell_type": "markdown",
   "id": "682db221-1468-42b4-bd8c-eff449fdb400",
   "metadata": {
    "execution": {
     "iopub.execute_input": "2024-04-19T03:42:36.954863Z",
     "iopub.status.busy": "2024-04-19T03:42:36.953864Z",
     "iopub.status.idle": "2024-04-19T03:42:36.958910Z",
     "shell.execute_reply": "2024-04-19T03:42:36.958910Z",
     "shell.execute_reply.started": "2024-04-19T03:42:36.954863Z"
    }
   },
   "source": [
    "## *2.4 调整名字的大小写*"
   ]
  },
  {
   "cell_type": "code",
   "execution_count": 101,
   "id": "f541f642-4937-4565-9c9e-e60fb45cfca0",
   "metadata": {
    "execution": {
     "iopub.execute_input": "2024-04-19T03:43:33.527356Z",
     "iopub.status.busy": "2024-04-19T03:43:33.527356Z",
     "iopub.status.idle": "2024-04-19T03:43:33.534478Z",
     "shell.execute_reply": "2024-04-19T03:43:33.533475Z",
     "shell.execute_reply.started": "2024-04-19T03:43:33.527356Z"
    }
   },
   "outputs": [
    {
     "name": "stdout",
     "output_type": "stream",
     "text": [
      "Luo Tianyi\n",
      "LUO TIANYI\n",
      "luo tianyi\n"
     ]
    }
   ],
   "source": [
    "name = 'luo tianyi'\n",
    "print(name.title())\n",
    "print(name.upper())\n",
    "print(name.lower())"
   ]
  },
  {
   "cell_type": "markdown",
   "id": "e7927fc4-85d1-4398-8f79-313b76b2729e",
   "metadata": {
    "execution": {
     "iopub.execute_input": "2024-04-19T03:42:36.967415Z",
     "iopub.status.busy": "2024-04-19T03:42:36.967415Z",
     "iopub.status.idle": "2024-04-19T03:42:36.971805Z",
     "shell.execute_reply": "2024-04-19T03:42:36.971805Z",
     "shell.execute_reply.started": "2024-04-19T03:42:36.967415Z"
    }
   },
   "source": [
    "## *2.5 名言1*"
   ]
  },
  {
   "cell_type": "code",
   "execution_count": 102,
   "id": "04b36d15-1a88-4973-b75f-35f96e8c600c",
   "metadata": {
    "execution": {
     "iopub.execute_input": "2024-04-19T03:43:33.542450Z",
     "iopub.status.busy": "2024-04-19T03:43:33.541454Z",
     "iopub.status.idle": "2024-04-19T03:43:33.548406Z",
     "shell.execute_reply": "2024-04-19T03:43:33.547406Z",
     "shell.execute_reply.started": "2024-04-19T03:43:33.542450Z"
    }
   },
   "outputs": [
    {
     "name": "stdout",
     "output_type": "stream",
     "text": [
      "Otto once said,'Jungle, is this your fault?'\n"
     ]
    }
   ],
   "source": [
    "print(\"Otto once said,'Jungle, is this your fault?'\")"
   ]
  },
  {
   "cell_type": "markdown",
   "id": "1345a770-70fe-4472-a0c6-8d262b096687",
   "metadata": {
    "execution": {
     "iopub.execute_input": "2024-04-19T03:42:36.982868Z",
     "iopub.status.busy": "2024-04-19T03:42:36.982868Z",
     "iopub.status.idle": "2024-04-19T03:42:36.987294Z",
     "shell.execute_reply": "2024-04-19T03:42:36.987294Z",
     "shell.execute_reply.started": "2024-04-19T03:42:36.982868Z"
    }
   },
   "source": [
    "## *2.6 名言2*"
   ]
  },
  {
   "cell_type": "code",
   "execution_count": 103,
   "id": "7c8070ca-6b84-43bd-a3e4-d9d9e67dd6fd",
   "metadata": {
    "execution": {
     "iopub.execute_input": "2024-04-19T03:43:33.551396Z",
     "iopub.status.busy": "2024-04-19T03:43:33.550399Z",
     "iopub.status.idle": "2024-04-19T03:43:33.556952Z",
     "shell.execute_reply": "2024-04-19T03:43:33.555953Z",
     "shell.execute_reply.started": "2024-04-19T03:43:33.550399Z"
    }
   },
   "outputs": [
    {
     "name": "stdout",
     "output_type": "stream",
     "text": [
      "Luo Tianyi once said, Jungle, is this your fault?\n"
     ]
    }
   ],
   "source": [
    "famous_person = 'otto'\n",
    "message = 'Jungle, is this your fault?'\n",
    "print(f\"{name.title()} once said, {message}\")"
   ]
  },
  {
   "cell_type": "markdown",
   "id": "3f6cab57-1dbf-459c-9041-33cb38bb4555",
   "metadata": {
    "execution": {
     "iopub.execute_input": "2024-04-19T03:42:36.999024Z",
     "iopub.status.busy": "2024-04-19T03:42:36.997030Z",
     "iopub.status.idle": "2024-04-19T03:42:37.003061Z",
     "shell.execute_reply": "2024-04-19T03:42:37.002057Z",
     "shell.execute_reply.started": "2024-04-19T03:42:36.999024Z"
    }
   },
   "source": [
    "## *2.7 删除人名中的空白*"
   ]
  },
  {
   "cell_type": "code",
   "execution_count": 104,
   "id": "4c534a38-fae8-44ef-abac-61eaf9615eec",
   "metadata": {
    "execution": {
     "iopub.execute_input": "2024-04-19T03:43:33.558946Z",
     "iopub.status.busy": "2024-04-19T03:43:33.557956Z",
     "iopub.status.idle": "2024-04-19T03:43:33.565974Z",
     "shell.execute_reply": "2024-04-19T03:43:33.564975Z",
     "shell.execute_reply.started": "2024-04-19T03:43:33.558946Z"
    }
   },
   "outputs": [
    {
     "name": "stdout",
     "output_type": "stream",
     "text": [
      "  \t luo \n",
      "tianyi  \n",
      "  \t luo \n",
      "tianyi\n",
      "luo \n",
      "tianyi  \n",
      "luo \n",
      "tianyi\n"
     ]
    }
   ],
   "source": [
    "name = '  \\t luo \\ntianyi  '\n",
    "print(name)\n",
    "print(name.rstrip())\n",
    "print(name.lstrip())\n",
    "print(name.strip())"
   ]
  },
  {
   "cell_type": "markdown",
   "id": "c37c6838-25d3-4b77-bb9d-9d6caf1688e2",
   "metadata": {
    "execution": {
     "iopub.execute_input": "2024-04-19T03:42:37.012391Z",
     "iopub.status.busy": "2024-04-19T03:42:37.012391Z",
     "iopub.status.idle": "2024-04-19T03:42:37.018592Z",
     "shell.execute_reply": "2024-04-19T03:42:37.017592Z",
     "shell.execute_reply.started": "2024-04-19T03:42:37.012391Z"
    }
   },
   "source": [
    "## *2.8 文件扩展名*"
   ]
  },
  {
   "cell_type": "code",
   "execution_count": 105,
   "id": "9ca0a1d4-e68b-4c5a-bf66-c6596b2b14f9",
   "metadata": {
    "execution": {
     "iopub.execute_input": "2024-04-19T03:43:33.567969Z",
     "iopub.status.busy": "2024-04-19T03:43:33.567969Z",
     "iopub.status.idle": "2024-04-19T03:43:33.574569Z",
     "shell.execute_reply": "2024-04-19T03:43:33.573570Z",
     "shell.execute_reply.started": "2024-04-19T03:43:33.567969Z"
    }
   },
   "outputs": [
    {
     "name": "stdout",
     "output_type": "stream",
     "text": [
      "python_notes\n"
     ]
    }
   ],
   "source": [
    "filename = 'python_notes.txt'\n",
    "print(filename.removesuffix('.txt'))"
   ]
  },
  {
   "cell_type": "markdown",
   "id": "11d44c1b-4e64-47be-a670-c5f560e06b1d",
   "metadata": {
    "execution": {
     "iopub.execute_input": "2024-04-19T03:42:37.026083Z",
     "iopub.status.busy": "2024-04-19T03:42:37.025087Z",
     "iopub.status.idle": "2024-04-19T03:42:37.029215Z",
     "shell.execute_reply": "2024-04-19T03:42:37.029215Z",
     "shell.execute_reply.started": "2024-04-19T03:42:37.026083Z"
    }
   },
   "source": [
    "## *2.9 数字8*"
   ]
  },
  {
   "cell_type": "code",
   "execution_count": 106,
   "id": "5dd39f8c-35db-4411-b8f1-4097a884c6a2",
   "metadata": {
    "execution": {
     "iopub.execute_input": "2024-04-19T03:43:33.576563Z",
     "iopub.status.busy": "2024-04-19T03:43:33.576563Z",
     "iopub.status.idle": "2024-04-19T03:43:33.584376Z",
     "shell.execute_reply": "2024-04-19T03:43:33.583375Z",
     "shell.execute_reply.started": "2024-04-19T03:43:33.576563Z"
    }
   },
   "outputs": [
    {
     "name": "stdout",
     "output_type": "stream",
     "text": [
      "8\n",
      "8\n",
      "8\n",
      "8.0\n"
     ]
    }
   ],
   "source": [
    "print(4+4)\n",
    "print(10-2)\n",
    "print(2*2*2)\n",
    "print(16/2)"
   ]
  },
  {
   "cell_type": "markdown",
   "id": "511d78e0-bef4-4bd0-a0ef-55ea17b366d3",
   "metadata": {
    "execution": {
     "iopub.execute_input": "2024-04-19T03:42:37.041778Z",
     "iopub.status.busy": "2024-04-19T03:42:37.041778Z",
     "iopub.status.idle": "2024-04-19T03:42:37.047943Z",
     "shell.execute_reply": "2024-04-19T03:42:37.045947Z",
     "shell.execute_reply.started": "2024-04-19T03:42:37.041778Z"
    }
   },
   "source": [
    "## *2.10 最喜欢的数*"
   ]
  },
  {
   "cell_type": "code",
   "execution_count": 107,
   "id": "ffd78c8a-599a-4410-92b6-5d16d817b552",
   "metadata": {
    "execution": {
     "iopub.execute_input": "2024-04-19T03:43:33.586368Z",
     "iopub.status.busy": "2024-04-19T03:43:33.586368Z",
     "iopub.status.idle": "2024-04-19T03:43:33.593648Z",
     "shell.execute_reply": "2024-04-19T03:43:33.592648Z",
     "shell.execute_reply.started": "2024-04-19T03:43:33.586368Z"
    }
   },
   "outputs": [
    {
     "name": "stdout",
     "output_type": "stream",
     "text": [
      "My favorite number is 13.\n"
     ]
    }
   ],
   "source": [
    "num = 13\n",
    "print(f'My favorite number is {num}.')"
   ]
  },
  {
   "cell_type": "markdown",
   "id": "f9984276-1b86-4afb-bffc-31a47f93eb09",
   "metadata": {
    "execution": {
     "iopub.execute_input": "2024-04-19T03:42:37.057591Z",
     "iopub.status.busy": "2024-04-19T03:42:37.057591Z",
     "iopub.status.idle": "2024-04-19T03:42:37.062290Z",
     "shell.execute_reply": "2024-04-19T03:42:37.062290Z",
     "shell.execute_reply.started": "2024-04-19T03:42:37.057591Z"
    }
   },
   "source": [
    "## *2.11 添加注释*"
   ]
  },
  {
   "cell_type": "code",
   "execution_count": 108,
   "id": "bb6a7633-4038-4e74-bcdf-76ac6316bc64",
   "metadata": {
    "execution": {
     "iopub.execute_input": "2024-04-19T03:43:33.596639Z",
     "iopub.status.busy": "2024-04-19T03:43:33.595642Z",
     "iopub.status.idle": "2024-04-19T03:43:33.604149Z",
     "shell.execute_reply": "2024-04-19T03:43:33.603150Z",
     "shell.execute_reply.started": "2024-04-19T03:43:33.596639Z"
    }
   },
   "outputs": [
    {
     "name": "stdout",
     "output_type": "stream",
     "text": [
      "python_notes\n"
     ]
    }
   ],
   "source": [
    "# removeprefix删除前缀，removesuffix删除后缀\n",
    "filename = 'python_notes.txt'\n",
    "print(filename.removesuffix('.txt'))"
   ]
  },
  {
   "cell_type": "markdown",
   "id": "d490cc93-d0a6-4983-bfca-92173234b7a4",
   "metadata": {
    "execution": {
     "iopub.execute_input": "2024-04-19T03:42:37.070725Z",
     "iopub.status.busy": "2024-04-19T03:42:37.070725Z",
     "iopub.status.idle": "2024-04-19T03:42:37.074224Z",
     "shell.execute_reply": "2024-04-19T03:42:37.074224Z",
     "shell.execute_reply.started": "2024-04-19T03:42:37.070725Z"
    }
   },
   "source": [
    "## *2.12 Python之禅*"
   ]
  },
  {
   "cell_type": "code",
   "execution_count": 109,
   "id": "e7bdbc84-5e61-476b-afbb-b061328d80fa",
   "metadata": {
    "execution": {
     "iopub.execute_input": "2024-04-19T03:43:33.607139Z",
     "iopub.status.busy": "2024-04-19T03:43:33.606143Z",
     "iopub.status.idle": "2024-04-19T03:43:33.611887Z",
     "shell.execute_reply": "2024-04-19T03:43:33.610887Z",
     "shell.execute_reply.started": "2024-04-19T03:43:33.606143Z"
    }
   },
   "outputs": [],
   "source": [
    "import this"
   ]
  }
 ],
 "metadata": {
  "kernelspec": {
   "display_name": "Python 3 (ipykernel)",
   "language": "python",
   "name": "python3"
  },
  "language_info": {
   "codemirror_mode": {
    "name": "ipython",
    "version": 3
   },
   "file_extension": ".py",
   "mimetype": "text/x-python",
   "name": "python",
   "nbconvert_exporter": "python",
   "pygments_lexer": "ipython3",
   "version": "3.11.7"
  }
 },
 "nbformat": 4,
 "nbformat_minor": 5
}
