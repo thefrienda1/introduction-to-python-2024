{
 "cells": [
  {
   "cell_type": "code",
   "execution_count": 1,
   "id": "e86ef70d-fc30-48d9-a4a9-e1cbf49f9d95",
   "metadata": {},
   "outputs": [
    {
     "name": "stdout",
     "output_type": "stream",
     "text": [
      "Hello Python world!\n"
     ]
    }
   ],
   "source": [
    "print(\"Hello Python world!\")"
   ]
  },
  {
   "cell_type": "code",
   "execution_count": 6,
   "id": "3188d11b-272b-4844-9446-0a039e4821a6",
   "metadata": {},
   "outputs": [
    {
     "name": "stdout",
     "output_type": "stream",
     "text": [
      "Hello Python world!\n",
      "Hello Python Crash Course world！\n"
     ]
    }
   ],
   "source": [
    "message=\"Hello Python world!\"\n",
    "print(message)\n",
    "message=\"Hello Python Crash Course world！\"\n",
    "print(message)"
   ]
  },
  {
   "cell_type": "code",
   "execution_count": 7,
   "id": "28bb7d04-d348-4c70-b2ec-46c106315dbb",
   "metadata": {},
   "outputs": [
    {
     "name": "stdout",
     "output_type": "stream",
     "text": [
      "Hello Python Crash Course world!\n"
     ]
    }
   ],
   "source": [
    "mesage=\"Hello Python Crash Course world!\"\n",
    "print(mesage)"
   ]
  },
  {
   "cell_type": "code",
   "execution_count": 8,
   "id": "56cff3c9-b49e-45da-98eb-58b0020c481d",
   "metadata": {},
   "outputs": [
    {
     "name": "stdout",
     "output_type": "stream",
     "text": [
      "Ada Lovelace\n"
     ]
    }
   ],
   "source": [
    "name=\"ada lovelace\"\n",
    "print(name.title())"
   ]
  },
  {
   "cell_type": "code",
   "execution_count": 9,
   "id": "7283102d-dc0e-42dc-b3c9-96efe12191af",
   "metadata": {},
   "outputs": [
    {
     "name": "stdout",
     "output_type": "stream",
     "text": [
      "ADA LOVELACE\n",
      "ada lovelace\n"
     ]
    }
   ],
   "source": [
    "name=\"Ada Lovelace\"\n",
    "print(name.upper())\n",
    "print(name.lower())"
   ]
  },
  {
   "cell_type": "code",
   "execution_count": 14,
   "id": "ec341b31-9609-49bf-8cb3-1f7de3b599f3",
   "metadata": {},
   "outputs": [
    {
     "name": "stdout",
     "output_type": "stream",
     "text": [
      "ada lovelace\n",
      "Hello,Ada Lovelace!\n",
      "Hello, Ada Lovelace!\n"
     ]
    }
   ],
   "source": [
    "first_name=\"ada\"\n",
    "last_name=\"lovelace\"\n",
    "full_name=f\"{first_name} {last_name}\"\n",
    "print(full_name)\n",
    "print(f\"Hello,{full_name.title()}!\")\n",
    "message=f\"Hello, {full_name.title()}!\"\n",
    "print(message)"
   ]
  },
  {
   "cell_type": "code",
   "execution_count": 20,
   "id": "ea95511a-845d-4854-bcdf-379ed00daa0f",
   "metadata": {},
   "outputs": [
    {
     "name": "stdout",
     "output_type": "stream",
     "text": [
      "Python\n",
      "\tPython\n",
      "Languages:\n",
      "Python\n",
      "C\n",
      "JavaScript\n",
      "Languages:\n",
      "\tPython\n",
      "\tC\n",
      "\tJavaScript\n"
     ]
    }
   ],
   "source": [
    "print(\"Python\")\n",
    "print(\"\\tPython\")\n",
    "print(\"Languages:\\nPython\\nC\\nJavaScript\")\n",
    "print(\"Languages:\\n\\tPython\\n\\tC\\n\\tJavaScript\")"
   ]
  },
  {
   "cell_type": "code",
   "execution_count": 24,
   "id": "68fa229b-4685-440f-8e5f-c36e684a62ba",
   "metadata": {},
   "outputs": [
    {
     "data": {
      "text/plain": [
       "'python '"
      ]
     },
     "execution_count": 24,
     "metadata": {},
     "output_type": "execute_result"
    }
   ],
   "source": [
    "favorite_language='python '\n",
    "favorite_language\n",
    "favorite_language.rstrip()\n",
    "favorite_language"
   ]
  },
  {
   "cell_type": "code",
   "execution_count": 26,
   "id": "0566af73-8051-4b0e-89a2-162784d1d3d7",
   "metadata": {},
   "outputs": [
    {
     "data": {
      "text/plain": [
       "'python'"
      ]
     },
     "execution_count": 26,
     "metadata": {},
     "output_type": "execute_result"
    }
   ],
   "source": [
    "favorite_language='python '\n",
    "favorite_language=favorite_language.rstrip()\n",
    "favorite_language"
   ]
  },
  {
   "cell_type": "code",
   "execution_count": 29,
   "id": "b4906632-8f2f-4ffd-9e44-7c2119c79a36",
   "metadata": {},
   "outputs": [
    {
     "data": {
      "text/plain": [
       "'python'"
      ]
     },
     "execution_count": 29,
     "metadata": {},
     "output_type": "execute_result"
    }
   ],
   "source": [
    "favorite_language=' python '\n",
    "favorite_language.rstrip()\n",
    "favorite_language.lstrip()\n",
    "favorite_language.strip()"
   ]
  },
  {
   "cell_type": "code",
   "execution_count": 33,
   "id": "6222bca1-be06-4b94-8577-a0498871745b",
   "metadata": {},
   "outputs": [
    {
     "data": {
      "text/plain": [
       "'nostarch.com'"
      ]
     },
     "execution_count": 33,
     "metadata": {},
     "output_type": "execute_result"
    }
   ],
   "source": [
    "nostarch_url='https://nostarch.com'\n",
    "nostarch_url.removeprefix('https://')\n",
    "simple_url=nostarch_url.removeprefix('https://')\n",
    "simple_url"
   ]
  },
  {
   "cell_type": "code",
   "execution_count": 35,
   "id": "046f6dc7-6545-4542-858e-65a884f20685",
   "metadata": {},
   "outputs": [
    {
     "name": "stdout",
     "output_type": "stream",
     "text": [
      "one of Python's strengths is its diverse community.\n"
     ]
    }
   ],
   "source": [
    "message=\"one of Python's strengths is its diverse community.\"\n",
    "print(message)"
   ]
  },
  {
   "cell_type": "code",
   "execution_count": 36,
   "id": "3dcf301a-df72-4d33-9cc0-82e8e1aa0652",
   "metadata": {},
   "outputs": [
    {
     "ename": "SyntaxError",
     "evalue": "unterminated string literal (detected at line 1) (3879588092.py, line 1)",
     "output_type": "error",
     "traceback": [
      "\u001b[1;36m  Cell \u001b[1;32mIn[36], line 1\u001b[1;36m\u001b[0m\n\u001b[1;33m    message='one of Python's strengths is its diverse community.'\u001b[0m\n\u001b[1;37m                                                                ^\u001b[0m\n\u001b[1;31mSyntaxError\u001b[0m\u001b[1;31m:\u001b[0m unterminated string literal (detected at line 1)\n"
     ]
    }
   ],
   "source": [
    "message='one of Python's strengths is its diverse community.'"
   ]
  },
  {
   "cell_type": "code",
   "execution_count": 37,
   "id": "698d3b52-ea47-4d6b-ae8d-f73210205712",
   "metadata": {},
   "outputs": [
    {
     "data": {
      "text/plain": [
       "5"
      ]
     },
     "execution_count": 37,
     "metadata": {},
     "output_type": "execute_result"
    }
   ],
   "source": [
    "2+3"
   ]
  },
  {
   "cell_type": "code",
   "execution_count": 38,
   "id": "0b63ef3a-b08f-472e-8dc4-7403bf3ca288",
   "metadata": {},
   "outputs": [
    {
     "data": {
      "text/plain": [
       "1"
      ]
     },
     "execution_count": 38,
     "metadata": {},
     "output_type": "execute_result"
    }
   ],
   "source": [
    "3-2"
   ]
  },
  {
   "cell_type": "code",
   "execution_count": 39,
   "id": "ea03d98b-b2de-48f4-9689-0f5a01760348",
   "metadata": {},
   "outputs": [
    {
     "data": {
      "text/plain": [
       "6"
      ]
     },
     "execution_count": 39,
     "metadata": {},
     "output_type": "execute_result"
    }
   ],
   "source": [
    "2*3"
   ]
  },
  {
   "cell_type": "code",
   "execution_count": 40,
   "id": "7f1df7b2-2cdd-4669-baa8-10c49d45bbfa",
   "metadata": {},
   "outputs": [
    {
     "data": {
      "text/plain": [
       "1.5"
      ]
     },
     "execution_count": 40,
     "metadata": {},
     "output_type": "execute_result"
    }
   ],
   "source": [
    "3/2"
   ]
  },
  {
   "cell_type": "code",
   "execution_count": 43,
   "id": "c5c4f66d-651a-45b6-bd28-8bc1ea1970fd",
   "metadata": {},
   "outputs": [
    {
     "data": {
      "text/plain": [
       "9"
      ]
     },
     "execution_count": 43,
     "metadata": {},
     "output_type": "execute_result"
    }
   ],
   "source": [
    "3**2"
   ]
  },
  {
   "cell_type": "code",
   "execution_count": 44,
   "id": "50978071-3fbc-4323-9318-1af6d50b346e",
   "metadata": {},
   "outputs": [
    {
     "data": {
      "text/plain": [
       "14"
      ]
     },
     "execution_count": 44,
     "metadata": {},
     "output_type": "execute_result"
    }
   ],
   "source": [
    "2+3*4"
   ]
  },
  {
   "cell_type": "code",
   "execution_count": 45,
   "id": "d5518f38-fd18-4b41-88fb-43f097fe9c34",
   "metadata": {},
   "outputs": [
    {
     "data": {
      "text/plain": [
       "20"
      ]
     },
     "execution_count": 45,
     "metadata": {},
     "output_type": "execute_result"
    }
   ],
   "source": [
    "(2+3)*4"
   ]
  },
  {
   "cell_type": "code",
   "execution_count": 46,
   "id": "4cb40622-4c15-44f7-883d-d9ff3cef734e",
   "metadata": {},
   "outputs": [
    {
     "data": {
      "text/plain": [
       "0.4"
      ]
     },
     "execution_count": 46,
     "metadata": {},
     "output_type": "execute_result"
    }
   ],
   "source": [
    "0.1+0.3"
   ]
  },
  {
   "cell_type": "code",
   "execution_count": 47,
   "id": "3f9807c3-5748-4e2a-a2e8-6a79daaed319",
   "metadata": {},
   "outputs": [
    {
     "data": {
      "text/plain": [
       "0.30000000000000004"
      ]
     },
     "execution_count": 47,
     "metadata": {},
     "output_type": "execute_result"
    }
   ],
   "source": [
    "0.2+0.1"
   ]
  },
  {
   "cell_type": "code",
   "execution_count": 48,
   "id": "b5f34fc7-94c6-4a53-844d-70783d067463",
   "metadata": {},
   "outputs": [
    {
     "data": {
      "text/plain": [
       "0.30000000000000004"
      ]
     },
     "execution_count": 48,
     "metadata": {},
     "output_type": "execute_result"
    }
   ],
   "source": [
    "3*0.1"
   ]
  },
  {
   "cell_type": "code",
   "execution_count": 49,
   "id": "0c1dbdd6-b99a-4dbb-976e-916ec5e3b71f",
   "metadata": {},
   "outputs": [
    {
     "data": {
      "text/plain": [
       "2.0"
      ]
     },
     "execution_count": 49,
     "metadata": {},
     "output_type": "execute_result"
    }
   ],
   "source": [
    "4/2"
   ]
  },
  {
   "cell_type": "code",
   "execution_count": 50,
   "id": "8a3ade45-7db9-40fb-be3c-9d8afcf93310",
   "metadata": {},
   "outputs": [
    {
     "data": {
      "text/plain": [
       "3.0"
      ]
     },
     "execution_count": 50,
     "metadata": {},
     "output_type": "execute_result"
    }
   ],
   "source": [
    "1+2.0"
   ]
  },
  {
   "cell_type": "code",
   "execution_count": 51,
   "id": "8f681339-9aeb-4a3a-a3d5-bbd91983ee45",
   "metadata": {},
   "outputs": [
    {
     "name": "stdout",
     "output_type": "stream",
     "text": [
      "14000000000\n"
     ]
    }
   ],
   "source": [
    "universe_age=14_000_000_000\n",
    "print(universe_age)"
   ]
  },
  {
   "cell_type": "code",
   "execution_count": 52,
   "id": "6fc20e2c-3a50-4abf-96ef-72f8d56c8240",
   "metadata": {},
   "outputs": [
    {
     "name": "stdout",
     "output_type": "stream",
     "text": [
      "0\n"
     ]
    }
   ],
   "source": [
    "x,y,z=0,0,0\n",
    "print(x)"
   ]
  },
  {
   "cell_type": "code",
   "execution_count": 53,
   "id": "0343c773-a555-4540-986a-8c2f55928137",
   "metadata": {},
   "outputs": [],
   "source": [
    "MAX_CONNECTIONS=5000"
   ]
  },
  {
   "cell_type": "code",
   "execution_count": 54,
   "id": "7b7a638b-6ac6-49a6-9ca1-0ac0eaa339f8",
   "metadata": {},
   "outputs": [
    {
     "name": "stdout",
     "output_type": "stream",
     "text": [
      "Hello Python people!\n"
     ]
    }
   ],
   "source": [
    "#向大家问好\n",
    "print(\"Hello Python people!\")"
   ]
  },
  {
   "cell_type": "code",
   "execution_count": 55,
   "id": "8b204582-992e-4a43-ad15-510f370986fb",
   "metadata": {},
   "outputs": [
    {
     "name": "stdout",
     "output_type": "stream",
     "text": [
      "The Zen of Python, by Tim Peters\n",
      "\n",
      "Beautiful is better than ugly.\n",
      "Explicit is better than implicit.\n",
      "Simple is better than complex.\n",
      "Complex is better than complicated.\n",
      "Flat is better than nested.\n",
      "Sparse is better than dense.\n",
      "Readability counts.\n",
      "Special cases aren't special enough to break the rules.\n",
      "Although practicality beats purity.\n",
      "Errors should never pass silently.\n",
      "Unless explicitly silenced.\n",
      "In the face of ambiguity, refuse the temptation to guess.\n",
      "There should be one-- and preferably only one --obvious way to do it.\n",
      "Although that way may not be obvious at first unless you're Dutch.\n",
      "Now is better than never.\n",
      "Although never is often better than *right* now.\n",
      "If the implementation is hard to explain, it's a bad idea.\n",
      "If the implementation is easy to explain, it may be a good idea.\n",
      "Namespaces are one honking great idea -- let's do more of those!\n"
     ]
    }
   ],
   "source": [
    "import this"
   ]
  },
  {
   "cell_type": "code",
   "execution_count": null,
   "id": "5f023ee2-0bc0-4f4a-83cd-8771a91078cc",
   "metadata": {},
   "outputs": [],
   "source": []
  }
 ],
 "metadata": {
  "kernelspec": {
   "display_name": "Python 3 (ipykernel)",
   "language": "python",
   "name": "python3"
  },
  "language_info": {
   "codemirror_mode": {
    "name": "ipython",
    "version": 3
   },
   "file_extension": ".py",
   "mimetype": "text/x-python",
   "name": "python",
   "nbconvert_exporter": "python",
   "pygments_lexer": "ipython3",
   "version": "3.11.7"
  }
 },
 "nbformat": 4,
 "nbformat_minor": 5
}

{
 "cells": [
  {
   "cell_type": "markdown",
   "id": "dcbc4f79-b218-4e30-a497-df42bb4edf47",
   "metadata": {},
   "source": [
    "## *2.1 简单消息*"
   ]
  },
  {
   "cell_type": "code",
   "execution_count": 2,
   "id": "1f4a67e8-7e60-4d28-91e6-244f721a30ed",
   "metadata": {
    "execution": {
     "iopub.execute_input": "2024-04-09T09:58:17.344395Z",
     "iopub.status.busy": "2024-04-09T09:58:17.344395Z",
     "iopub.status.idle": "2024-04-09T09:58:17.348041Z",
     "shell.execute_reply": "2024-04-09T09:58:17.348041Z",
     "shell.execute_reply.started": "2024-04-09T09:58:17.344395Z"
    }
   },
   "outputs": [
    {
     "name": "stdout",
     "output_type": "stream",
     "text": [
      "I don't want to study.\n"
     ]
    }
   ],
   "source": [
    "message = 'I don\\'t want to study.'\n",
    "print(message)"
   ]
  },
  {
   "cell_type": "markdown",
   "id": "ddbd19bc-f2af-4c61-b65b-b5e3a7f9710d",
   "metadata": {},
   "source": [
    "## *2.2 多条简单消息*"
   ]
  },
  {
   "cell_type": "code",
   "execution_count": 3,
   "id": "2366ed28-945f-4707-99da-c9dfada0fa0f",
   "metadata": {
    "execution": {
     "iopub.execute_input": "2024-04-09T09:59:08.100650Z",
     "iopub.status.busy": "2024-04-09T09:59:08.100650Z",
     "iopub.status.idle": "2024-04-09T09:59:08.104692Z",
     "shell.execute_reply": "2024-04-09T09:59:08.104692Z",
     "shell.execute_reply.started": "2024-04-09T09:59:08.100650Z"
    }
   },
   "outputs": [
    {
     "name": "stdout",
     "output_type": "stream",
     "text": [
      "I don't want to study.\n",
      "Me, too.\n"
     ]
    }
   ],
   "source": [
    "message = 'I don\\'t want to study.'\n",
    "print(message)\n",
    "message = 'Me, too.'\n",
    "print(message)"
   ]
  },
  {
   "cell_type": "markdown",
   "id": "ccca2a35-0733-4b27-bf64-65029f417ba3",
   "metadata": {},
   "source": [
    "## *2.3 个性化消息*"
   ]
  },
  {
   "cell_type": "code",
   "execution_count": 5,
   "id": "bc45c095-2310-44bc-89fd-cb7ee6a78cf8",
   "metadata": {
    "execution": {
     "iopub.execute_input": "2024-04-09T10:01:22.571638Z",
     "iopub.status.busy": "2024-04-09T10:01:22.571638Z",
     "iopub.status.idle": "2024-04-09T10:01:22.574985Z",
     "shell.execute_reply": "2024-04-09T10:01:22.574985Z",
     "shell.execute_reply.started": "2024-04-09T10:01:22.571638Z"
    }
   },
   "outputs": [
    {
     "name": "stdout",
     "output_type": "stream",
     "text": [
      "What's your name,Jack?\n"
     ]
    }
   ],
   "source": [
    "name = 'jack'\n",
    "print(f\"What's your name,{name.title()}?\")"
   ]
  },
  {
   "cell_type": "markdown",
   "id": "4efe3c5f-240a-4517-8ff9-8484e9a402b0",
   "metadata": {},
   "source": [
    "## *2.4 调整名字的大小写*"
   ]
  },
  {
   "cell_type": "code",
   "execution_count": 7,
   "id": "4d337584-1ad8-456c-a6b1-f064883a6f89",
   "metadata": {
    "execution": {
     "iopub.execute_input": "2024-04-09T10:02:31.620887Z",
     "iopub.status.busy": "2024-04-09T10:02:31.619887Z",
     "iopub.status.idle": "2024-04-09T10:02:31.624421Z",
     "shell.execute_reply": "2024-04-09T10:02:31.624421Z",
     "shell.execute_reply.started": "2024-04-09T10:02:31.620887Z"
    }
   },
   "outputs": [
    {
     "name": "stdout",
     "output_type": "stream",
     "text": [
      "Luo Tianyi\n",
      "LUO TIANYI\n",
      "luo tianyi\n"
     ]
    }
   ],
   "source": [
    "name = 'luo tianyi'\n",
    "print(name.title())\n",
    "print(name.upper())\n",
    "print(name.lower())"
   ]
  },
  {
   "cell_type": "markdown",
   "id": "c373f19c-7aea-42ea-97b3-311a842ed247",
   "metadata": {},
   "source": [
    "## *2.5 名言1*"
   ]
  },
  {
   "cell_type": "code",
   "execution_count": 8,
   "id": "c384f5a4-b25e-4b7b-a81a-91c31544f32d",
   "metadata": {
    "execution": {
     "iopub.execute_input": "2024-04-09T10:04:07.466963Z",
     "iopub.status.busy": "2024-04-09T10:04:07.466963Z",
     "iopub.status.idle": "2024-04-09T10:04:07.470607Z",
     "shell.execute_reply": "2024-04-09T10:04:07.470607Z",
     "shell.execute_reply.started": "2024-04-09T10:04:07.466963Z"
    }
   },
   "outputs": [
    {
     "name": "stdout",
     "output_type": "stream",
     "text": [
      "Otto once said,'Jungle, is this your fault?'\n"
     ]
    }
   ],
   "source": [
    "print(\"Otto once said,'Jungle, is this your fault?'\")"
   ]
  },
  {
   "cell_type": "markdown",
   "id": "f06b9ab8-1ecc-47d7-a27c-0a01d8d8410f",
   "metadata": {},
   "source": [
    "## *2.6 名言2*"
   ]
  },
  {
   "cell_type": "code",
   "execution_count": 10,
   "id": "4905cd03-8f70-4d99-b6a0-cb306d66025a",
   "metadata": {
    "execution": {
     "iopub.execute_input": "2024-04-09T10:05:53.730211Z",
     "iopub.status.busy": "2024-04-09T10:05:53.730211Z",
     "iopub.status.idle": "2024-04-09T10:05:53.733769Z",
     "shell.execute_reply": "2024-04-09T10:05:53.733769Z",
     "shell.execute_reply.started": "2024-04-09T10:05:53.730211Z"
    }
   },
   "outputs": [
    {
     "name": "stdout",
     "output_type": "stream",
     "text": [
      "Luo Tianyi once said, Jungle, is this your fault?\n"
     ]
    }
   ],
   "source": [
    "famous_person = 'otto'\n",
    "message = 'Jungle, is this your fault?'\n",
    "print(f\"{name.title()} once said, {message}\")"
   ]
  },
  {
   "cell_type": "markdown",
   "id": "b04183a1-f58f-47d3-b761-408e9fbf5524",
   "metadata": {},
   "source": [
    "## *2.7 删除人名中的空白*"
   ]
  },
  {
   "cell_type": "code",
   "execution_count": 34,
   "id": "a40e7bb5-44d6-42ba-90dc-ad8f9012d6ff",
   "metadata": {
    "execution": {
     "iopub.execute_input": "2024-04-09T10:15:06.737471Z",
     "iopub.status.busy": "2024-04-09T10:15:06.737471Z",
     "iopub.status.idle": "2024-04-09T10:15:06.743291Z",
     "shell.execute_reply": "2024-04-09T10:15:06.743291Z",
     "shell.execute_reply.started": "2024-04-09T10:15:06.737471Z"
    }
   },
   "outputs": [
    {
     "name": "stdout",
     "output_type": "stream",
     "text": [
      "  \t luo \n",
      "tianyi  \n",
      "  \t luo \n",
      "tianyi\n",
      "luo \n",
      "tianyi  \n",
      "luo \n",
      "tianyi\n"
     ]
    }
   ],
   "source": [
    "name = '  \\t luo \\ntianyi  '\n",
    "print(name)\n",
    "print(name.rstrip())\n",
    "print(name.lstrip())\n",
    "print(name.strip())"
   ]
  },
  {
   "cell_type": "markdown",
   "id": "574f1534-632a-468d-a668-ba7c08a64b2f",
   "metadata": {},
   "source": [
    "## *2.8 文件扩展名*"
   ]
  },
  {
   "cell_type": "code",
   "execution_count": 35,
   "id": "bc1c8cbf-7206-4922-be1c-2cb5b8f59dd0",
   "metadata": {
    "execution": {
     "iopub.execute_input": "2024-04-09T10:17:29.734002Z",
     "iopub.status.busy": "2024-04-09T10:17:29.734002Z",
     "iopub.status.idle": "2024-04-09T10:17:29.737345Z",
     "shell.execute_reply": "2024-04-09T10:17:29.737345Z",
     "shell.execute_reply.started": "2024-04-09T10:17:29.734002Z"
    }
   },
   "outputs": [
    {
     "name": "stdout",
     "output_type": "stream",
     "text": [
      "python_notes\n"
     ]
    }
   ],
   "source": [
    "filename = 'python_notes.txt'\n",
    "print(filename.removesuffix('.txt'))"
   ]
  },
  {
   "cell_type": "markdown",
   "id": "67cee665-e9a3-4b91-ab4a-33dbbb330fd8",
   "metadata": {},
   "source": [
    "## *2.9 数字8*"
   ]
  },
  {
   "cell_type": "code",
   "execution_count": 37,
   "id": "3ab6ae7e-61b1-4c4f-94c6-24d7266b89e4",
   "metadata": {
    "execution": {
     "iopub.execute_input": "2024-04-09T10:18:50.848666Z",
     "iopub.status.busy": "2024-04-09T10:18:50.848666Z",
     "iopub.status.idle": "2024-04-09T10:18:50.853020Z",
     "shell.execute_reply": "2024-04-09T10:18:50.852447Z",
     "shell.execute_reply.started": "2024-04-09T10:18:50.848666Z"
    }
   },
   "outputs": [
    {
     "name": "stdout",
     "output_type": "stream",
     "text": [
      "8\n",
      "8\n",
      "8\n",
      "8.0\n"
     ]
    }
   ],
   "source": [
    "print(4+4)\n",
    "print(10-2)\n",
    "print(2*2*2)\n",
    "print(16/2)"
   ]
  },
  {
   "cell_type": "markdown",
   "id": "1b54a94b-d6e0-4948-af25-97ff16a15cde",
   "metadata": {},
   "source": [
    "## *2.10 最喜欢的数*"
   ]
  },
  {
   "cell_type": "code",
   "execution_count": 38,
   "id": "6675af77-8241-4b0a-ae82-7b225f4722b1",
   "metadata": {
    "execution": {
     "iopub.execute_input": "2024-04-09T10:20:56.492407Z",
     "iopub.status.busy": "2024-04-09T10:20:56.492407Z",
     "iopub.status.idle": "2024-04-09T10:20:56.495435Z",
     "shell.execute_reply": "2024-04-09T10:20:56.495435Z",
     "shell.execute_reply.started": "2024-04-09T10:20:56.492407Z"
    }
   },
   "outputs": [
    {
     "name": "stdout",
     "output_type": "stream",
     "text": [
      "My favorite number is 13.\n"
     ]
    }
   ],
   "source": [
    "num = 13\n",
    "print(f'My favorite number is {num}.')"
   ]
  },
  {
   "cell_type": "markdown",
   "id": "f46784df-08cf-4a23-94e1-9b11147b5278",
   "metadata": {},
   "source": [
    "## *2.11 添加注释*"
   ]
  },
  {
   "cell_type": "code",
   "execution_count": 39,
   "id": "ec146c79-859c-4ccc-8664-768ce701b6d9",
   "metadata": {
    "execution": {
     "iopub.execute_input": "2024-04-09T10:21:55.242889Z",
     "iopub.status.busy": "2024-04-09T10:21:55.242889Z",
     "iopub.status.idle": "2024-04-09T10:21:55.256157Z",
     "shell.execute_reply": "2024-04-09T10:21:55.256157Z",
     "shell.execute_reply.started": "2024-04-09T10:21:55.242889Z"
    }
   },
   "outputs": [
    {
     "name": "stdout",
     "output_type": "stream",
     "text": [
      "python_notes\n"
     ]
    }
   ],
   "source": [
    "# removeprefix删除前缀，removesuffix删除后缀\n",
    "filename = 'python_notes.txt'\n",
    "print(filename.removesuffix('.txt'))"
   ]
  },
  {
   "cell_type": "markdown",
   "id": "b7a9ee19-5a90-4799-89e4-d8c046789ed5",
   "metadata": {},
   "source": [
    "## *2.12 Python之禅*"
   ]
  },
  {
   "cell_type": "code",
   "execution_count": 40,
   "id": "59fd902c-8b84-4cc5-bd27-c7f65c57bd60",
   "metadata": {
    "execution": {
     "iopub.execute_input": "2024-04-09T10:22:08.904562Z",
     "iopub.status.busy": "2024-04-09T10:22:08.904562Z",
     "iopub.status.idle": "2024-04-09T10:22:08.911370Z",
     "shell.execute_reply": "2024-04-09T10:22:08.911370Z",
     "shell.execute_reply.started": "2024-04-09T10:22:08.904562Z"
    }
   },
   "outputs": [
    {
     "name": "stdout",
     "output_type": "stream",
     "text": [
      "The Zen of Python, by Tim Peters\n",
      "\n",
      "Beautiful is better than ugly.\n",
      "Explicit is better than implicit.\n",
      "Simple is better than complex.\n",
      "Complex is better than complicated.\n",
      "Flat is better than nested.\n",
      "Sparse is better than dense.\n",
      "Readability counts.\n",
      "Special cases aren't special enough to break the rules.\n",
      "Although practicality beats purity.\n",
      "Errors should never pass silently.\n",
      "Unless explicitly silenced.\n",
      "In the face of ambiguity, refuse the temptation to guess.\n",
      "There should be one-- and preferably only one --obvious way to do it.\n",
      "Although that way may not be obvious at first unless you're Dutch.\n",
      "Now is better than never.\n",
      "Although never is often better than *right* now.\n",
      "If the implementation is hard to explain, it's a bad idea.\n",
      "If the implementation is easy to explain, it may be a good idea.\n",
      "Namespaces are one honking great idea -- let's do more of those!\n"
     ]
    }
   ],
   "source": [
    "import this"
   ]
  }
 ],
 "metadata": {
  "kernelspec": {
   "display_name": "Python 3 (ipykernel)",
   "language": "python",
   "name": "python3"
  },
  "language_info": {
   "codemirror_mode": {
    "name": "ipython",
    "version": 3
   },
   "file_extension": ".py",
   "mimetype": "text/x-python",
   "name": "python",
   "nbconvert_exporter": "python",
   "pygments_lexer": "ipython3",
   "version": "3.11.7"
  }
 },
 "nbformat": 4,
 "nbformat_minor": 5
}
