{
 "cells": [
  {
   "cell_type": "markdown",
   "id": "063d50c8-2d46-471e-ab5c-73c0121a6876",
   "metadata": {},
   "source": [
    "# **第9章 类**"
   ]
  },
  {
   "cell_type": "markdown",
   "id": "560c412a-8dda-47ef-af25-3752366cb1b4",
   "metadata": {},
   "source": [
    "## **9.1 创建和使用类**"
   ]
  },
  {
   "cell_type": "markdown",
   "id": "7f476cd6-8555-4206-956d-4756b6a0a8af",
   "metadata": {},
   "source": [
    "### **9.1.1 创建Dog类**"
   ]
  },
  {
   "cell_type": "code",
   "execution_count": 4,
   "id": "f9901db9-b980-486d-856d-77d82d0dbc80",
   "metadata": {
    "execution": {
     "iopub.execute_input": "2024-04-26T02:07:52.915312Z",
     "iopub.status.busy": "2024-04-26T02:07:52.915312Z",
     "iopub.status.idle": "2024-04-26T02:07:52.919977Z",
     "shell.execute_reply": "2024-04-26T02:07:52.919394Z",
     "shell.execute_reply.started": "2024-04-26T02:07:52.915312Z"
    }
   },
   "outputs": [],
   "source": [
    "class Dog:\n",
    "    \"\"\"一次模拟小狗的简单尝试\"\"\"\n",
    "\n",
    "    #_init_()方法是特殊方法，根据类创建实例时会自动运行它，务必确保前后都有两个下划线\n",
    "    def __init__(self, name, age):\n",
    "        \"\"\"初始化属性name和age\"\"\"\n",
    "        self.name = name\n",
    "        self.age = age\n",
    "\n",
    "    def sit(self):\n",
    "        \"\"\"模拟小狗收到命令时坐下\"\"\"\n",
    "        print(f\"{self.name} is now sitting.\")\n",
    "\n",
    "    def roll_over(self):\n",
    "        \"\"\"模拟小狗收到命令时打滚\"\"\"\n",
    "        print(f\"{self.name} rolled over!\")"
   ]
  },
  {
   "cell_type": "markdown",
   "id": "0431f708-868e-4b55-9863-c73c4b2c40bd",
   "metadata": {},
   "source": [
    "### **9.1.2 根据类创建实例**"
   ]
  },
  {
   "cell_type": "code",
   "execution_count": 3,
   "id": "4efb4290-ece5-484f-9f63-2774c4bc2f3f",
   "metadata": {
    "execution": {
     "iopub.execute_input": "2024-04-26T02:07:35.486138Z",
     "iopub.status.busy": "2024-04-26T02:07:35.486138Z",
     "iopub.status.idle": "2024-04-26T02:07:35.491721Z",
     "shell.execute_reply": "2024-04-26T02:07:35.491721Z",
     "shell.execute_reply.started": "2024-04-26T02:07:35.486138Z"
    }
   },
   "outputs": [
    {
     "name": "stdout",
     "output_type": "stream",
     "text": [
      "My dog's name is Willie.\n",
      "My dog is 6 years old.\n"
     ]
    }
   ],
   "source": [
    "class Dog:\n",
    "    \"\"\"一次模拟小狗的简单尝试\"\"\"\n",
    "\n",
    "    #_init_()方法是特殊方法，根据类创建实例时会自动运行它，务必确保前后都有下划线\n",
    "    def __init__(self, name, age):\n",
    "        \"\"\"初始化属性name和age\"\"\"\n",
    "        self.name = name\n",
    "        self.age = age\n",
    "\n",
    "    def sit(self):\n",
    "        \"\"\"模拟小狗收到命令时坐下\"\"\"\n",
    "        print(f\"{self.name} is now sitting.\")\n",
    "\n",
    "    def roll_over(self):\n",
    "        \"\"\"模拟小狗收到命令时打滚\"\"\"\n",
    "        print(f\"{self.name} rolled over!\")\n",
    "\n",
    "my_dog = Dog('Willie', 6)\n",
    "\n",
    "print(f\"My dog's name is {my_dog.name}.\")\n",
    "print(f\"My dog is {my_dog.age} years old.\")"
   ]
  },
  {
   "cell_type": "code",
   "execution_count": 6,
   "id": "4cf1eba8-e24e-43cf-b26c-6dca737940d9",
   "metadata": {
    "execution": {
     "iopub.execute_input": "2024-04-26T02:15:13.584881Z",
     "iopub.status.busy": "2024-04-26T02:15:13.583953Z",
     "iopub.status.idle": "2024-04-26T02:15:13.588631Z",
     "shell.execute_reply": "2024-04-26T02:15:13.588631Z",
     "shell.execute_reply.started": "2024-04-26T02:15:13.584881Z"
    }
   },
   "outputs": [
    {
     "data": {
      "text/plain": [
       "'Willie'"
      ]
     },
     "execution_count": 6,
     "metadata": {},
     "output_type": "execute_result"
    }
   ],
   "source": [
    "#访问属性\n",
    "my_dog.name"
   ]
  },
  {
   "cell_type": "code",
   "execution_count": 10,
   "id": "783f3e47-a216-4b70-9a07-4757dce99d41",
   "metadata": {
    "execution": {
     "iopub.execute_input": "2024-04-26T02:18:18.077988Z",
     "iopub.status.busy": "2024-04-26T02:18:18.077988Z",
     "iopub.status.idle": "2024-04-26T02:18:18.086838Z",
     "shell.execute_reply": "2024-04-26T02:18:18.086838Z",
     "shell.execute_reply.started": "2024-04-26T02:18:18.077988Z"
    }
   },
   "outputs": [
    {
     "name": "stdout",
     "output_type": "stream",
     "text": [
      "Willie is now sitting.\n",
      "Willie rolled over!\n"
     ]
    }
   ],
   "source": [
    "class Dog:\n",
    "    \"\"\"一次模拟小狗的简单尝试\"\"\"\n",
    "\n",
    "    #_init_()方法是特殊方法，根据类创建实例时会自动运行它，务必确保前后都有两个下划线\n",
    "    def __init__(self, name, age):\n",
    "        \"\"\"初始化属性name和age\"\"\"\n",
    "        self.name = name\n",
    "        self.age = age\n",
    "\n",
    "    def sit(self):\n",
    "        \"\"\"模拟小狗收到命令时坐下\"\"\"\n",
    "        print(f\"{self.name} is now sitting.\")\n",
    "\n",
    "    def roll_over(self):\n",
    "        \"\"\"模拟小狗收到命令时打滚\"\"\"\n",
    "        print(f\"{self.name} rolled over!\")\n",
    "\n",
    "#调用方法\n",
    "my_dog = Dog('Willie', 6)\n",
    "my_dog.sit()\n",
    "my_dog.roll_over()"
   ]
  },
  {
   "cell_type": "code",
   "execution_count": 11,
   "id": "26563ed9-baca-4d25-be2c-3c5ffbdc2315",
   "metadata": {
    "execution": {
     "iopub.execute_input": "2024-04-26T02:21:08.425936Z",
     "iopub.status.busy": "2024-04-26T02:21:08.425936Z",
     "iopub.status.idle": "2024-04-26T02:21:08.437051Z",
     "shell.execute_reply": "2024-04-26T02:21:08.436046Z",
     "shell.execute_reply.started": "2024-04-26T02:21:08.425936Z"
    }
   },
   "outputs": [
    {
     "name": "stdout",
     "output_type": "stream",
     "text": [
      "My dog's name is Willie.\n",
      "My dog is 6 years old.\n",
      "Willie is now sitting.\n",
      "\n",
      "Your dog's name is Lucy.\n",
      "Your dog is 3 years old.\n",
      "Lucy is now sitting.\n"
     ]
    }
   ],
   "source": [
    "class Dog:\n",
    "    \"\"\"一次模拟小狗的简单尝试\"\"\"\n",
    "\n",
    "    #_init_()方法是特殊方法，根据类创建实例时会自动运行它，务必确保前后都有下划线\n",
    "    def __init__(self, name, age):\n",
    "        \"\"\"初始化属性name和age\"\"\"\n",
    "        self.name = name\n",
    "        self.age = age\n",
    "\n",
    "    def sit(self):\n",
    "        \"\"\"模拟小狗收到命令时坐下\"\"\"\n",
    "        print(f\"{self.name} is now sitting.\")\n",
    "\n",
    "    def roll_over(self):\n",
    "        \"\"\"模拟小狗收到命令时打滚\"\"\"\n",
    "        print(f\"{self.name} rolled over!\")\n",
    "\n",
    "#创建多个实例\n",
    "my_dog = Dog('Willie', 6)\n",
    "your_dog = Dog('Lucy', 3)\n",
    "\n",
    "print(f\"My dog's name is {my_dog.name}.\")\n",
    "print(f\"My dog is {my_dog.age} years old.\")\n",
    "my_dog.sit()\n",
    "\n",
    "print(f\"\\nYour dog's name is {your_dog.name}.\")\n",
    "print(f\"Your dog is {your_dog.age} years old.\")\n",
    "your_dog.sit()"
   ]
  },
  {
   "cell_type": "markdown",
   "id": "fba11420-a930-464f-aaf2-cb12477a0449",
   "metadata": {},
   "source": [
    "## **9.2 使用类和实例**"
   ]
  },
  {
   "cell_type": "markdown",
   "id": "a15663ae-fe97-4bd2-a4be-be2f276300f3",
   "metadata": {},
   "source": [
    "### **9.2.1 Car类**"
   ]
  },
  {
   "cell_type": "code",
   "execution_count": 13,
   "id": "5b571ac1-6702-4103-8cb0-3f769ac0e3d9",
   "metadata": {
    "execution": {
     "iopub.execute_input": "2024-04-26T02:37:32.651080Z",
     "iopub.status.busy": "2024-04-26T02:37:32.651080Z",
     "iopub.status.idle": "2024-04-26T02:37:32.656116Z",
     "shell.execute_reply": "2024-04-26T02:37:32.656116Z",
     "shell.execute_reply.started": "2024-04-26T02:37:32.651080Z"
    }
   },
   "outputs": [
    {
     "name": "stdout",
     "output_type": "stream",
     "text": [
      "2024 Audi A4\n"
     ]
    }
   ],
   "source": [
    "class Car:\n",
    "    \"\"\"一次模拟汽车的简单尝试\"\"\"\n",
    "\n",
    "    def __init__(self, make, model, year):\n",
    "        \"\"\"初始化描述汽车的属性\"\"\"\n",
    "        self.make = make\n",
    "        self.model = model\n",
    "        self.year = year\n",
    "\n",
    "    def get_descriptive_name(self):\n",
    "        \"\"\"返回格式规范的描述性信息\"\"\"\n",
    "        long_name = f\"{self.year} {self.make} {self.model}\"\n",
    "        return long_name.title()\n",
    "\n",
    "my_new_car = Car('audi', 'a4', 2024)\n",
    "print(my_new_car.get_descriptive_name())"
   ]
  },
  {
   "cell_type": "markdown",
   "id": "e0081d82-a7dd-4b85-993c-67e3c87baeb3",
   "metadata": {},
   "source": [
    "### **9.2.2 给属性指定默认值**"
   ]
  },
  {
   "cell_type": "code",
   "execution_count": 15,
   "id": "6d841e26-4c78-4550-8429-ffd91b68350f",
   "metadata": {
    "execution": {
     "iopub.execute_input": "2024-04-26T02:47:57.557488Z",
     "iopub.status.busy": "2024-04-26T02:47:57.556512Z",
     "iopub.status.idle": "2024-04-26T02:47:57.563180Z",
     "shell.execute_reply": "2024-04-26T02:47:57.562538Z",
     "shell.execute_reply.started": "2024-04-26T02:47:57.557488Z"
    }
   },
   "outputs": [
    {
     "name": "stdout",
     "output_type": "stream",
     "text": [
      "2024 Audi A4\n",
      "This car has 0 miles on it.\n"
     ]
    }
   ],
   "source": [
    "class Car:\n",
    "    \"\"\"一次模拟汽车的简单尝试\"\"\"\n",
    "\n",
    "    def __init__(self, make, model, year):\n",
    "        \"\"\"初始化描述汽车的属性\"\"\"\n",
    "        self.make = make\n",
    "        self.model = model\n",
    "        self.year = year\n",
    "        self.odometer_reading = 0\n",
    "\n",
    "    def get_descriptive_name(self):\n",
    "        \"\"\"返回格式规范的描述性信息\"\"\"\n",
    "        long_name = f\"{self.year} {self.make} {self.model}\"\n",
    "        return long_name.title()\n",
    "\n",
    "    def read_odometer(self):\n",
    "        \"\"\"打印一条指出汽车行驶里程的消息\"\"\"\n",
    "        print(f\"This car has {self.odometer_reading} miles on it.\")\n",
    "        \n",
    "my_new_car = Car('audi', 'a4', 2024)\n",
    "print(my_new_car.get_descriptive_name())\n",
    "my_new_car.read_odometer()"
   ]
  },
  {
   "cell_type": "markdown",
   "id": "4cafe8bc-276c-4bbb-badc-b2d39c159e62",
   "metadata": {},
   "source": [
    "### **9.2.3 修改属性的值**"
   ]
  },
  {
   "cell_type": "code",
   "execution_count": 17,
   "id": "3f8e3b7d-af95-42aa-8661-561cd8de80cd",
   "metadata": {
    "execution": {
     "iopub.execute_input": "2024-04-26T02:52:33.893611Z",
     "iopub.status.busy": "2024-04-26T02:52:33.893611Z",
     "iopub.status.idle": "2024-04-26T02:52:33.912293Z",
     "shell.execute_reply": "2024-04-26T02:52:33.911579Z",
     "shell.execute_reply.started": "2024-04-26T02:52:33.893611Z"
    }
   },
   "outputs": [
    {
     "name": "stdout",
     "output_type": "stream",
     "text": [
      "2024 Audi A4\n",
      "This car has 23 miles on it.\n"
     ]
    }
   ],
   "source": [
    "#直接修改属性的值\n",
    "my_new_car = Car('audi', 'a4', 2024)\n",
    "print(my_new_car.get_descriptive_name())\n",
    "\n",
    "my_new_car.odometer_reading = 23\n",
    "my_new_car.read_odometer()"
   ]
  },
  {
   "cell_type": "code",
   "execution_count": 18,
   "id": "490ef37c-7180-4c54-a25f-c6aa6c739bba",
   "metadata": {
    "execution": {
     "iopub.execute_input": "2024-04-26T03:00:04.598770Z",
     "iopub.status.busy": "2024-04-26T03:00:04.598770Z",
     "iopub.status.idle": "2024-04-26T03:00:04.618084Z",
     "shell.execute_reply": "2024-04-26T03:00:04.617038Z",
     "shell.execute_reply.started": "2024-04-26T03:00:04.598770Z"
    }
   },
   "outputs": [
    {
     "name": "stdout",
     "output_type": "stream",
     "text": [
      "2024 Audi A4\n",
      "This car has 23 miles on it.\n"
     ]
    }
   ],
   "source": [
    "class Car:\n",
    "    \"\"\"一次模拟汽车的简单尝试\"\"\"\n",
    "\n",
    "    def __init__(self, make, model, year):\n",
    "        \"\"\"初始化描述汽车的属性\"\"\"\n",
    "        self.make = make\n",
    "        self.model = model\n",
    "        self.year = year\n",
    "        self.odometer_reading = 0\n",
    "\n",
    "    def get_descriptive_name(self):\n",
    "        \"\"\"返回格式规范的描述性信息\"\"\"\n",
    "        long_name = f\"{self.year} {self.make} {self.model}\"\n",
    "        return long_name.title()\n",
    "\n",
    "    def read_odometer(self):\n",
    "        \"\"\"打印一条指出汽车行驶里程的消息\"\"\"\n",
    "        print(f\"This car has {self.odometer_reading} miles on it.\")\n",
    "#通过方法修改属性的值\n",
    "    def update_odometer(self, mileage):#添加一个方法，接受一个里程值\n",
    "        \"\"\"将里程表读数设置为指定的值\"\"\"\n",
    "        self.odometer_reading = mileage #将里程值赋给self.odometer_reading\n",
    "        \n",
    "my_new_car = Car('audi', 'a4', 2024)\n",
    "print(my_new_car.get_descriptive_name())\n",
    "\n",
    "my_new_car.update_odometer(23)\n",
    "my_new_car.read_odometer()"
   ]
  },
  {
   "cell_type": "code",
   "execution_count": 21,
   "id": "7ab48db1-8e57-47c7-914a-24df63899f2f",
   "metadata": {
    "execution": {
     "iopub.execute_input": "2024-04-26T03:06:36.433413Z",
     "iopub.status.busy": "2024-04-26T03:06:36.433413Z",
     "iopub.status.idle": "2024-04-26T03:06:36.441179Z",
     "shell.execute_reply": "2024-04-26T03:06:36.440407Z",
     "shell.execute_reply.started": "2024-04-26T03:06:36.433413Z"
    }
   },
   "outputs": [
    {
     "name": "stdout",
     "output_type": "stream",
     "text": [
      "2024 Audi A4\n",
      "This car has 23 miles on it.\n",
      "You cant't roll back an odometer\n"
     ]
    }
   ],
   "source": [
    "class Car:\n",
    "    \"\"\"一次模拟汽车的简单尝试\"\"\"\n",
    "\n",
    "    def __init__(self, make, model, year):\n",
    "        \"\"\"初始化描述汽车的属性\"\"\"\n",
    "        self.make = make\n",
    "        self.model = model\n",
    "        self.year = year\n",
    "        self.odometer_reading = 0\n",
    "\n",
    "    def get_descriptive_name(self):\n",
    "        \"\"\"返回格式规范的描述性信息\"\"\"\n",
    "        long_name = f\"{self.year} {self.make} {self.model}\"\n",
    "        return long_name.title()\n",
    "\n",
    "    def read_odometer(self):\n",
    "        \"\"\"打印一条指出汽车行驶里程的消息\"\"\"\n",
    "        print(f\"This car has {self.odometer_reading} miles on it.\")\n",
    "#通过方法修改属性的值\n",
    "    def update_odometer(self, mileage):#添加一个方法，接受一个里程值\n",
    "        \"\"\"\n",
    "        将里程表读数设置为指定的值\n",
    "        禁止将里程碑读数往回调\n",
    "        \"\"\"\n",
    "        if mileage >= self.odometer_reading:\n",
    "            self.odometer_reading = mileage #将里程值赋给self.odometer_reading\n",
    "        else:\n",
    "            print(\"You cant't roll back an odometer\")\n",
    "        \n",
    "my_new_car = Car('audi', 'a4', 2024)\n",
    "print(my_new_car.get_descriptive_name())\n",
    "\n",
    "my_new_car.update_odometer(23)\n",
    "my_new_car.read_odometer()\n",
    "\n",
    "my_new_car.update_odometer(22)"
   ]
  },
  {
   "cell_type": "code",
   "execution_count": 22,
   "id": "c596877d-9776-4347-afdb-de926dd1a258",
   "metadata": {
    "execution": {
     "iopub.execute_input": "2024-04-26T03:16:03.395529Z",
     "iopub.status.busy": "2024-04-26T03:16:03.395529Z",
     "iopub.status.idle": "2024-04-26T03:16:03.415079Z",
     "shell.execute_reply": "2024-04-26T03:16:03.414244Z",
     "shell.execute_reply.started": "2024-04-26T03:16:03.395529Z"
    }
   },
   "outputs": [
    {
     "name": "stdout",
     "output_type": "stream",
     "text": [
      "2019 Subaru Outback\n",
      "This car has 23500 miles on it.\n",
      "This car has 23600 miles on it.\n"
     ]
    }
   ],
   "source": [
    "class Car:\n",
    "    \"\"\"一次模拟汽车的简单尝试\"\"\"\n",
    "\n",
    "    def __init__(self, make, model, year):\n",
    "        \"\"\"初始化描述汽车的属性\"\"\"\n",
    "        self.make = make\n",
    "        self.model = model\n",
    "        self.year = year\n",
    "        self.odometer_reading = 0\n",
    "\n",
    "    def get_descriptive_name(self):\n",
    "        \"\"\"返回格式规范的描述性信息\"\"\"\n",
    "        long_name = f\"{self.year} {self.make} {self.model}\"\n",
    "        return long_name.title()\n",
    "\n",
    "    def read_odometer(self):\n",
    "        \"\"\"打印一条指出汽车行驶里程的消息\"\"\"\n",
    "        print(f\"This car has {self.odometer_reading} miles on it.\")\n",
    "#通过方法修改属性的值\n",
    "    def update_odometer(self, mileage):#添加一个方法，接受一个里程值\n",
    "        \"\"\"\n",
    "        将里程表读数设置为指定的值\n",
    "        禁止将里程碑读数往回调\n",
    "        \"\"\"\n",
    "        if mileage >= self.odometer_reading:\n",
    "            self.odometer_reading = mileage #将里程值赋给self.odometer_reading\n",
    "        else:\n",
    "            print(\"You cant't roll back an odometer\")\n",
    "#通过方法让属性的值递增\n",
    "    def increment_odometer(self, miles):\n",
    "        \"\"\"让里程表读数增加指定的量\"\"\"\n",
    "        self.odometer_reading += miles\n",
    "\n",
    "my_used_car = Car('subaru', 'outback', 2019)\n",
    "print(my_used_car.get_descriptive_name())\n",
    "\n",
    "my_used_car.update_odometer(23_500)\n",
    "my_used_car.read_odometer()\n",
    "\n",
    "my_used_car.increment_odometer(100)\n",
    "my_used_car.read_odometer()"
   ]
  },
  {
   "cell_type": "markdown",
   "id": "f7628189-9055-4574-9aba-565e82172d13",
   "metadata": {},
   "source": [
    "## **9.3 继承**"
   ]
  },
  {
   "cell_type": "markdown",
   "id": "6cfa780b-f2b5-4aad-a302-a17ce6f80758",
   "metadata": {},
   "source": [
    "### **9.3.1 子类的__init__()方法**"
   ]
  },
  {
   "cell_type": "code",
   "execution_count": 23,
   "id": "8bb786ea-007e-49ce-9755-68286ae65754",
   "metadata": {
    "execution": {
     "iopub.execute_input": "2024-04-26T08:21:45.684007Z",
     "iopub.status.busy": "2024-04-26T08:21:45.683008Z",
     "iopub.status.idle": "2024-04-26T08:21:45.699943Z",
     "shell.execute_reply": "2024-04-26T08:21:45.699943Z",
     "shell.execute_reply.started": "2024-04-26T08:21:45.684007Z"
    }
   },
   "outputs": [
    {
     "name": "stdout",
     "output_type": "stream",
     "text": [
      "2024 Nissan Leaf\n"
     ]
    }
   ],
   "source": [
    "class Car:\n",
    "    \"\"\"一次模拟汽车的简单尝试\"\"\"\n",
    "\n",
    "    def __init__(self, make, model, year):\n",
    "        \"\"\"初始化描述汽车的属性\"\"\"\n",
    "        self.make = make\n",
    "        self.model = model\n",
    "        self.year = year\n",
    "        self.odometer_reading = 0\n",
    "\n",
    "    def get_descriptive_name(self):\n",
    "        \"\"\"返回格式规范的描述性信息\"\"\"\n",
    "        long_name = f\"{self.year} {self.make} {self.model}\"\n",
    "        return long_name.title()\n",
    "\n",
    "    def read_odometer(self):\n",
    "        \"\"\"打印一条指出汽车行驶里程的消息\"\"\"\n",
    "        print(f\"This car has {self.odometer_reading} miles on it.\")\n",
    "\n",
    "    def update_odometer(self, mileage):#添加一个方法，接受一个里程值\n",
    "        \"\"\"\n",
    "        将里程表读数设置为指定的值\n",
    "        禁止将里程碑读数往回调\n",
    "        \"\"\"\n",
    "        if mileage >= self.odometer_reading:\n",
    "            self.odometer_reading = mileage #将里程值赋给self.odometer_reading\n",
    "        else:\n",
    "            print(\"You cant't roll back an odometer\")\n",
    "\n",
    "    def increment_odometer(self, miles):\n",
    "        \"\"\"让里程表读数增加指定的量\"\"\"\n",
    "        self.odometer_reading += miles\n",
    "\n",
    "class ElectricCar(Car):\n",
    "    \"\"\"电动汽车的独特之处\"\"\"\n",
    "\n",
    "    def __init__(self, make, model, year):\n",
    "        \"\"\"初始化父类的属性\"\"\"\n",
    "        super().__init__(make, model, year)\n",
    "\n",
    "my_leaf = ElectricCar('nissan', 'leaf', 2024)\n",
    "print(my_leaf.get_descriptive_name())"
   ]
  },
  {
   "cell_type": "markdown",
   "id": "3482e8fc-b0b5-4ec4-b846-4854a98d657d",
   "metadata": {},
   "source": [
    "### **9.3.2 给子类定义属性和方法**"
   ]
  },
  {
   "cell_type": "code",
   "execution_count": 25,
   "id": "413a4500-5763-42f6-8fcd-a1e6c3f72c6a",
   "metadata": {
    "execution": {
     "iopub.execute_input": "2024-04-26T08:29:19.392065Z",
     "iopub.status.busy": "2024-04-26T08:29:19.392065Z",
     "iopub.status.idle": "2024-04-26T08:29:19.403872Z",
     "shell.execute_reply": "2024-04-26T08:29:19.403872Z",
     "shell.execute_reply.started": "2024-04-26T08:29:19.392065Z"
    }
   },
   "outputs": [
    {
     "name": "stdout",
     "output_type": "stream",
     "text": [
      "2024 Nissan Leaf\n",
      "This car has a 40-kwh battery.\n"
     ]
    }
   ],
   "source": [
    "class Car:\n",
    "    \"\"\"一次模拟汽车的简单尝试\"\"\"\n",
    "\n",
    "    def __init__(self, make, model, year):\n",
    "        \"\"\"初始化描述汽车的属性\"\"\"\n",
    "        self.make = make\n",
    "        self.model = model\n",
    "        self.year = year\n",
    "        self.odometer_reading = 0\n",
    "\n",
    "    def get_descriptive_name(self):\n",
    "        \"\"\"返回格式规范的描述性信息\"\"\"\n",
    "        long_name = f\"{self.year} {self.make} {self.model}\"\n",
    "        return long_name.title()\n",
    "\n",
    "    def read_odometer(self):\n",
    "        \"\"\"打印一条指出汽车行驶里程的消息\"\"\"\n",
    "        print(f\"This car has {self.odometer_reading} miles on it.\")\n",
    "\n",
    "    def update_odometer(self, mileage):#添加一个方法，接受一个里程值\n",
    "        \"\"\"\n",
    "        将里程表读数设置为指定的值\n",
    "        禁止将里程碑读数往回调\n",
    "        \"\"\"\n",
    "        if mileage >= self.odometer_reading:\n",
    "            self.odometer_reading = mileage #将里程值赋给self.odometer_reading\n",
    "        else:\n",
    "            print(\"You cant't roll back an odometer\")\n",
    "\n",
    "    def increment_odometer(self, miles):\n",
    "        \"\"\"让里程表读数增加指定的量\"\"\"\n",
    "        self.odometer_reading += miles\n",
    "\n",
    "class ElectricCar(Car):\n",
    "    \"\"\"电动汽车的独特之处\"\"\"\n",
    "\n",
    "    def __init__(self, make, model, year):\n",
    "        \"\"\"\n",
    "        先初始化父类的属性，再初始化电动汽车特有的属性\n",
    "        \"\"\"\n",
    "        super().__init__(make, model, year)\n",
    "        self.battery_size = 40 #添加新属性并给属性默认值\n",
    "#添加新方法描述电池信息\n",
    "    def describe_battery(self):\n",
    "        \"\"\"打印一条描述电池容量的消息\"\"\"\n",
    "        print(f\"This car has a {self.battery_size}-kwh battery.\")\n",
    "\n",
    "my_leaf = ElectricCar('nissan', 'leaf', 2024)\n",
    "print(my_leaf.get_descriptive_name())\n",
    "my_leaf.describe_battery()"
   ]
  },
  {
   "cell_type": "markdown",
   "id": "90762450-0df0-4df7-a057-0b1595d4eaa6",
   "metadata": {},
   "source": [
    "### **9.3.3 重写父类中的方法**"
   ]
  },
  {
   "cell_type": "code",
   "execution_count": 27,
   "id": "0bad8f45-938b-4d8c-9c71-bc7759d78b55",
   "metadata": {
    "execution": {
     "iopub.execute_input": "2024-04-26T08:32:55.634499Z",
     "iopub.status.busy": "2024-04-26T08:32:55.634499Z",
     "iopub.status.idle": "2024-04-26T08:32:55.648497Z",
     "shell.execute_reply": "2024-04-26T08:32:55.648497Z",
     "shell.execute_reply.started": "2024-04-26T08:32:55.634499Z"
    }
   },
   "outputs": [],
   "source": [
    "class ElectricCar(Car):\n",
    "    \"\"\"电动汽车的独特之处\"\"\"\n",
    "\n",
    "    def __init__(self, make, model, year):\n",
    "        \"\"\"\n",
    "        先初始化父类的属性，再初始化电动汽车特有的属性\n",
    "        \"\"\"\n",
    "        super().__init__(make, model, year)\n",
    "        self.battery_size = 40 #添加新属性并给属性默认值\n",
    "#添加新方法描述电池信息\n",
    "    def describe_battery(self):\n",
    "        \"\"\"打印一条描述电池容量的消息\"\"\"\n",
    "        print(f\"This car has a {self.battery_size}-kwh battery.\")\n",
    "#重写方法覆盖以前的方法\n",
    "    def fill_gas_tank(self):\n",
    "        \"\"\"电动汽车没有油箱\"\"\"\n",
    "        print(\"This car doesn't have a gas tank!\")"
   ]
  },
  {
   "cell_type": "markdown",
   "id": "03ea8cf6-d3c6-4a12-bb88-17a7ac9fba5b",
   "metadata": {},
   "source": [
    "### **9.3.4 将实例用作属性**"
   ]
  },
  {
   "cell_type": "code",
   "execution_count": 28,
   "id": "61785016-1001-4cc4-9f6b-5cfdd4ca842d",
   "metadata": {
    "execution": {
     "iopub.execute_input": "2024-04-28T10:46:08.551700Z",
     "iopub.status.busy": "2024-04-28T10:46:08.551700Z",
     "iopub.status.idle": "2024-04-28T10:46:08.577518Z",
     "shell.execute_reply": "2024-04-28T10:46:08.577518Z",
     "shell.execute_reply.started": "2024-04-28T10:46:08.551700Z"
    }
   },
   "outputs": [
    {
     "name": "stdout",
     "output_type": "stream",
     "text": [
      "2024 Nissan Leaf\n",
      "This car has a 40-kwh battery.\n"
     ]
    }
   ],
   "source": [
    "class Car:\n",
    "    \"\"\"一次模拟汽车的简单尝试\"\"\"\n",
    "\n",
    "    def __init__(self, make, model, year):\n",
    "        \"\"\"初始化描述汽车的属性\"\"\"\n",
    "        self.make = make\n",
    "        self.model = model\n",
    "        self.year = year\n",
    "        self.odometer_reading = 0\n",
    "\n",
    "    def get_descriptive_name(self):\n",
    "        \"\"\"返回格式规范的描述性信息\"\"\"\n",
    "        long_name = f\"{self.year} {self.make} {self.model}\"\n",
    "        return long_name.title()\n",
    "\n",
    "    def read_odometer(self):\n",
    "        \"\"\"打印一条指出汽车行驶里程的消息\"\"\"\n",
    "        print(f\"This car has {self.odometer_reading} miles on it.\")\n",
    "\n",
    "    def update_odometer(self, mileage):#添加一个方法，接受一个里程值\n",
    "        \"\"\"\n",
    "        将里程表读数设置为指定的值\n",
    "        禁止将里程碑读数往回调\n",
    "        \"\"\"\n",
    "        if mileage >= self.odometer_reading:\n",
    "            self.odometer_reading = mileage #将里程值赋给self.odometer_reading\n",
    "        else:\n",
    "            print(\"You cant't roll back an odometer\")\n",
    "\n",
    "    def increment_odometer(self, miles):\n",
    "        \"\"\"让里程表读数增加指定的量\"\"\"\n",
    "        self.odometer_reading += miles\n",
    "\n",
    "class Battery:\n",
    "    \"\"\"一次模拟电动汽车电池的简单尝试\"\"\"\n",
    "\n",
    "    def __init__(self, battery_size=40):\n",
    "        \"\"\"初始化电池的属性\"\"\"\n",
    "        self.battery_size = battery_size\n",
    "\n",
    "    def describe_battery(self):\n",
    "        \"\"\"打印一条描述电池容量的消息\"\"\"\n",
    "        print(f\"This car has a {self.battery_size}-kwh battery.\")\n",
    "\n",
    "class ElectricCar(Car):\n",
    "    \"\"\"电动汽车的独特之处\"\"\"\n",
    "\n",
    "    def __init__(self, make, model, year):\n",
    "        \"\"\"\n",
    "        先初始化父类的属性，再初始化电动汽车特有的属性\n",
    "        \"\"\"\n",
    "        super().__init__(make, model, year)\n",
    "        self.battery = Battery() #创建一个新的Battery实例并赋给一个新的属性\n",
    "\n",
    "my_leaf = ElectricCar('nissan', 'leaf', 2024)\n",
    "print(my_leaf.get_descriptive_name())\n",
    "my_leaf.battery.describe_battery()"
   ]
  },
  {
   "cell_type": "code",
   "execution_count": 29,
   "id": "9c216d42-e4a6-405d-85d4-a7fa58479d9c",
   "metadata": {
    "execution": {
     "iopub.execute_input": "2024-04-28T10:55:17.240206Z",
     "iopub.status.busy": "2024-04-28T10:55:17.240206Z",
     "iopub.status.idle": "2024-04-28T10:55:17.261501Z",
     "shell.execute_reply": "2024-04-28T10:55:17.261501Z",
     "shell.execute_reply.started": "2024-04-28T10:55:17.240206Z"
    }
   },
   "outputs": [
    {
     "name": "stdout",
     "output_type": "stream",
     "text": [
      "2024 Nissan Leaf\n",
      "This car has a 40-kwh battery.\n",
      "This car can go about 150 miles on a full charge.\n"
     ]
    }
   ],
   "source": [
    "class Car:\n",
    "    \"\"\"一次模拟汽车的简单尝试\"\"\"\n",
    "\n",
    "    def __init__(self, make, model, year):\n",
    "        \"\"\"初始化描述汽车的属性\"\"\"\n",
    "        self.make = make\n",
    "        self.model = model\n",
    "        self.year = year\n",
    "        self.odometer_reading = 0\n",
    "\n",
    "    def get_descriptive_name(self):\n",
    "        \"\"\"返回格式规范的描述性信息\"\"\"\n",
    "        long_name = f\"{self.year} {self.make} {self.model}\"\n",
    "        return long_name.title()\n",
    "\n",
    "    def read_odometer(self):\n",
    "        \"\"\"打印一条指出汽车行驶里程的消息\"\"\"\n",
    "        print(f\"This car has {self.odometer_reading} miles on it.\")\n",
    "\n",
    "    def update_odometer(self, mileage):#添加一个方法，接受一个里程值\n",
    "        \"\"\"\n",
    "        将里程表读数设置为指定的值\n",
    "        禁止将里程碑读数往回调\n",
    "        \"\"\"\n",
    "        if mileage >= self.odometer_reading:\n",
    "            self.odometer_reading = mileage #将里程值赋给self.odometer_reading\n",
    "        else:\n",
    "            print(\"You cant't roll back an odometer\")\n",
    "\n",
    "    def increment_odometer(self, miles):\n",
    "        \"\"\"让里程表读数增加指定的量\"\"\"\n",
    "        self.odometer_reading += miles\n",
    "\n",
    "class Battery:\n",
    "    \"\"\"一次模拟电动汽车电池的简单尝试\"\"\"\n",
    "\n",
    "    def __init__(self, battery_size=40):\n",
    "        \"\"\"初始化电池的属性\"\"\"\n",
    "        self.battery_size = battery_size\n",
    "\n",
    "    def describe_battery(self):\n",
    "        \"\"\"打印一条描述电池容量的消息\"\"\"\n",
    "        print(f\"This car has a {self.battery_size}-kwh battery.\")\n",
    "\n",
    "    def get_range(self):\n",
    "        \"\"\"打印一条消息，指出电池的续航里程\"\"\"\n",
    "        if self.battery_size == 40:\n",
    "            range = 150\n",
    "        elif self.battery_size == 65:\n",
    "            range = 225\n",
    "\n",
    "        print(f\"This car can go about {range} miles on a full charge.\")\n",
    "        \n",
    "class ElectricCar(Car):\n",
    "    \"\"\"电动汽车的独特之处\"\"\"\n",
    "\n",
    "    def __init__(self, make, model, year):\n",
    "        \"\"\"\n",
    "        先初始化父类的属性，再初始化电动汽车特有的属性\n",
    "        \"\"\"\n",
    "        super().__init__(make, model, year)\n",
    "        self.battery = Battery() #创建一个新的Battery实例并赋给一个新的属性\n",
    "\n",
    "my_leaf = ElectricCar('nissan', 'leaf', 2024)\n",
    "print(my_leaf.get_descriptive_name())\n",
    "my_leaf.battery.describe_battery()\n",
    "my_leaf.battery.get_range()"
   ]
  },
  {
   "cell_type": "markdown",
   "id": "9cf038d9-aea1-4011-8a06-6b811964c165",
   "metadata": {},
   "source": [
    "## **9.4 导入类**"
   ]
  },
  {
   "cell_type": "markdown",
   "id": "e2f82d87-f722-43b0-bd52-87f6ecec2f3e",
   "metadata": {},
   "source": [
    "### **9.4.1 导入单个类**"
   ]
  },
  {
   "cell_type": "code",
   "execution_count": null,
   "id": "dbd938ce-fc33-4910-9bae-35cecebfdda0",
   "metadata": {},
   "outputs": [],
   "source": [
    "\"\"\"一个用来表示汽车的类\"\"\"\n",
    "\n",
    "class Car:\n",
    "    \"\"\"一次模拟汽车的简单尝试\"\"\"\n",
    "\n",
    "    def __init__(self, make, model, year):\n",
    "        \"\"\"初始化描述汽车的属性\"\"\"\n",
    "        self.make = make\n",
    "        self.model = model\n",
    "        self.year = year\n",
    "        self.odometer_reading = 0\n",
    "\n",
    "    def get_descriptive_name(self):\n",
    "        \"\"\"返回格式规范的描述性信息\"\"\"\n",
    "        long_name = f\"{self.year} {self.make} {self.model}\"\n",
    "        return long_name.title()\n",
    "\n",
    "    def read_odometer(self):\n",
    "        \"\"\"打印一条指出汽车行驶里程的消息\"\"\"\n",
    "        print(f\"This car has {self.odometer_reading} miles on it.\")\n",
    "\n",
    "    def update_odometer(self, mileage):#添加一个方法，接受一个里程值\n",
    "        \"\"\"\n",
    "        将里程表读数设置为指定的值\n",
    "        禁止将里程碑读数往回调\n",
    "        \"\"\"\n",
    "        if mileage >= self.odometer_reading:\n",
    "            self.odometer_reading = mileage #将里程值赋给self.odometer_reading\n",
    "        else:\n",
    "            print(\"You cant't roll back an odometer\")\n",
    "\n",
    "    def increment_odometer(self, miles):\n",
    "        \"\"\"让里程表读数增加指定的量\"\"\"\n",
    "        self.odometer_reading += miles"
   ]
  },
  {
   "cell_type": "code",
   "execution_count": 35,
   "id": "1edf9d56-0906-4364-9d8b-d47c733a07af",
   "metadata": {
    "execution": {
     "iopub.execute_input": "2024-04-28T11:16:35.081044Z",
     "iopub.status.busy": "2024-04-28T11:16:35.080044Z",
     "iopub.status.idle": "2024-04-28T11:16:35.085557Z",
     "shell.execute_reply": "2024-04-28T11:16:35.084554Z",
     "shell.execute_reply.started": "2024-04-28T11:16:35.081044Z"
    }
   },
   "outputs": [
    {
     "name": "stdout",
     "output_type": "stream",
     "text": [
      "2024 Audi A4\n",
      "This car has 23 miles on it.\n"
     ]
    }
   ],
   "source": [
    "from car import Car\n",
    "\n",
    "my_new_car = Car('audi', 'a4', 2024)\n",
    "print(my_new_car.get_descriptive_name())\n",
    "\n",
    "my_new_car.odometer_reading = 23\n",
    "my_new_car.read_odometer()"
   ]
  },
  {
   "cell_type": "markdown",
   "id": "2431af94-b377-492c-9573-0e1c8028adea",
   "metadata": {},
   "source": [
    "### **9.4.2 在一个模块中存储多个类**"
   ]
  },
  {
   "cell_type": "code",
   "execution_count": null,
   "id": "8b4e95de-87d8-4777-89ac-00543d86d30c",
   "metadata": {},
   "outputs": [],
   "source": [
    "\"\"\"一组用于表示燃油汽车和电动汽车的类\"\"\"\n",
    "\n",
    "class Car:\n",
    "    \"\"\"一次模拟汽车的简单尝试\"\"\"\n",
    "\n",
    "    def __init__(self, make, model, year):\n",
    "        \"\"\"初始化描述汽车的属性\"\"\"\n",
    "        self.make = make\n",
    "        self.model = model\n",
    "        self.year = year\n",
    "        self.odometer_reading = 0\n",
    "\n",
    "    def get_descriptive_name(self):\n",
    "        \"\"\"返回格式规范的描述性信息\"\"\"\n",
    "        long_name = f\"{self.year} {self.make} {self.model}\"\n",
    "        return long_name.title()\n",
    "\n",
    "    def read_odometer(self):\n",
    "        \"\"\"打印一条指出汽车行驶里程的消息\"\"\"\n",
    "        print(f\"This car has {self.odometer_reading} miles on it.\")\n",
    "\n",
    "    def update_odometer(self, mileage):#添加一个方法，接受一个里程值\n",
    "        \"\"\"\n",
    "        将里程表读数设置为指定的值\n",
    "        禁止将里程碑读数往回调\n",
    "        \"\"\"\n",
    "        if mileage >= self.odometer_reading:\n",
    "            self.odometer_reading = mileage #将里程值赋给self.odometer_reading\n",
    "        else:\n",
    "            print(\"You cant't roll back an odometer\")\n",
    "\n",
    "    def increment_odometer(self, miles):\n",
    "        \"\"\"让里程表读数增加指定的量\"\"\"\n",
    "        self.odometer_reading += miles\n",
    "\n",
    "class Battery:\n",
    "    \"\"\"一次模拟电动汽车电池的简单尝试\"\"\"\n",
    "\n",
    "    def __init__(self, battery_size=40):\n",
    "        \"\"\"初始化电池的属性\"\"\"\n",
    "        self.battery_size = battery_size\n",
    "\n",
    "    def describe_battery(self):\n",
    "        \"\"\"打印一条描述电池容量的消息\"\"\"\n",
    "        print(f\"This car has a {self.battery_size}-kwh battery.\")\n",
    "\n",
    "    def get_range(self):\n",
    "        \"\"\"打印一条消息，指出电池的续航里程\"\"\"\n",
    "        if self.battery_size == 40:\n",
    "            range = 150\n",
    "        elif self.battery_size == 65:\n",
    "            range = 225\n",
    "\n",
    "        print(f\"This car can go about {range} miles on a full charge.\")\n",
    "        \n",
    "class ElectricCar(Car):\n",
    "    \"\"\"电动汽车的独特之处\"\"\"\n",
    "\n",
    "    def __init__(self, make, model, year):\n",
    "        \"\"\"\n",
    "        先初始化父类的属性，再初始化电动汽车特有的属性\n",
    "        \"\"\"\n",
    "        super().__init__(make, model, year)\n",
    "        self.battery = Battery() #创建一个新的Battery实例并赋给一个新的属性"
   ]
  },
  {
   "cell_type": "code",
   "execution_count": 2,
   "id": "50246c56-eb46-451c-a4e5-752bffe868a5",
   "metadata": {
    "execution": {
     "iopub.execute_input": "2024-04-28T11:20:08.463087Z",
     "iopub.status.busy": "2024-04-28T11:20:08.463087Z",
     "iopub.status.idle": "2024-04-28T11:20:08.482223Z",
     "shell.execute_reply": "2024-04-28T11:20:08.481574Z",
     "shell.execute_reply.started": "2024-04-28T11:20:08.463087Z"
    }
   },
   "outputs": [
    {
     "name": "stdout",
     "output_type": "stream",
     "text": [
      "2024 Nissan Leaf\n",
      "This car has a 40-kwh battery.\n",
      "This car can go about 150 miles on a full charge.\n"
     ]
    }
   ],
   "source": [
    "from car import ElectricCar\n",
    "\n",
    "my_leaf = ElectricCar('nissan', 'leaf', 2024)\n",
    "print(my_leaf.get_descriptive_name())\n",
    "my_leaf.battery.describe_battery()\n",
    "my_leaf.battery.get_range()"
   ]
  },
  {
   "cell_type": "markdown",
   "id": "c3ad882e-1f3a-4265-b432-54033dde0095",
   "metadata": {},
   "source": [
    "### **9.4.3 从一个模块中导入多个类**"
   ]
  },
  {
   "cell_type": "code",
   "execution_count": 3,
   "id": "94384850-7750-4b06-8175-5a03babc302d",
   "metadata": {
    "execution": {
     "iopub.execute_input": "2024-04-28T11:23:54.756496Z",
     "iopub.status.busy": "2024-04-28T11:23:54.756496Z",
     "iopub.status.idle": "2024-04-28T11:23:54.766812Z",
     "shell.execute_reply": "2024-04-28T11:23:54.766812Z",
     "shell.execute_reply.started": "2024-04-28T11:23:54.756496Z"
    }
   },
   "outputs": [
    {
     "name": "stdout",
     "output_type": "stream",
     "text": [
      "2024 Ford Mustang\n",
      "2024 Nissan Leaf\n"
     ]
    }
   ],
   "source": [
    "from car import Car, ElectricCar\n",
    "\n",
    "my_mustang = Car('ford', 'mustang', 2024)\n",
    "print(my_mustang.get_descriptive_name())\n",
    "my_leaf = ElectricCar('nissan', 'leaf', 2024)\n",
    "print(my_leaf.get_descriptive_name())"
   ]
  },
  {
   "cell_type": "markdown",
   "id": "aca3934c-6aef-4263-ba4f-55fef579e683",
   "metadata": {},
   "source": [
    "### **9.4.4 导入整个模块**"
   ]
  },
  {
   "cell_type": "code",
   "execution_count": 4,
   "id": "0fcf9e4d-f72e-4b65-addd-ab6df00ffd21",
   "metadata": {
    "execution": {
     "iopub.execute_input": "2024-04-28T11:26:42.962063Z",
     "iopub.status.busy": "2024-04-28T11:26:42.960556Z",
     "iopub.status.idle": "2024-04-28T11:26:42.965646Z",
     "shell.execute_reply": "2024-04-28T11:26:42.965646Z",
     "shell.execute_reply.started": "2024-04-28T11:26:42.962063Z"
    }
   },
   "outputs": [
    {
     "name": "stdout",
     "output_type": "stream",
     "text": [
      "2024 Ford Mustang\n",
      "2024 Nissan Leaf\n"
     ]
    }
   ],
   "source": [
    "import car\n",
    "\n",
    "my_mustang = car.Car('ford', 'mustang', 2024)\n",
    "print(my_mustang.get_descriptive_name())\n",
    "\n",
    "my_leaf = car.ElectricCar('nissan', 'leaf', 2024)\n",
    "print(my_leaf.get_descriptive_name())"
   ]
  },
  {
   "cell_type": "markdown",
   "id": "9e6c833f-939b-4c8a-8dbb-82e99a4245c3",
   "metadata": {
    "execution": {
     "iopub.execute_input": "2024-04-28T11:27:14.466153Z",
     "iopub.status.busy": "2024-04-28T11:27:14.466153Z",
     "iopub.status.idle": "2024-04-28T11:27:14.473521Z",
     "shell.execute_reply": "2024-04-28T11:27:14.473521Z",
     "shell.execute_reply.started": "2024-04-28T11:27:14.466153Z"
    }
   },
   "source": [
    "### **9.4.5 导入模块中的所有类**"
   ]
  },
  {
   "cell_type": "code",
   "execution_count": null,
   "id": "070031a7-1550-4f16-8e30-6a7c4e96311f",
   "metadata": {},
   "outputs": [],
   "source": [
    "from module_name import *"
   ]
  },
  {
   "cell_type": "markdown",
   "id": "19061602-f3c6-4f7a-ab27-5c40509a44d3",
   "metadata": {},
   "source": [
    "### **9.4.6 在一个模块中导入另一个模块**"
   ]
  },
  {
   "cell_type": "code",
   "execution_count": 7,
   "id": "b617aeb8-53ac-4a91-9226-ef57578fb297",
   "metadata": {
    "execution": {
     "iopub.execute_input": "2024-04-28T11:34:42.332857Z",
     "iopub.status.busy": "2024-04-28T11:34:42.331857Z",
     "iopub.status.idle": "2024-04-28T11:34:42.343388Z",
     "shell.execute_reply": "2024-04-28T11:34:42.343388Z",
     "shell.execute_reply.started": "2024-04-28T11:34:42.332857Z"
    }
   },
   "outputs": [
    {
     "name": "stdout",
     "output_type": "stream",
     "text": [
      "2024 Ford Mustang\n",
      "2024 Nissan Leaf\n"
     ]
    }
   ],
   "source": [
    "from car import Car\n",
    "from electric_car import ElectricCar\n",
    "\n",
    "my_mustang = Car('ford', 'mustang', 2024)\n",
    "print(my_mustang.get_descriptive_name())\n",
    "\n",
    "my_leaf = ElectricCar('nissan', 'leaf', 2024)\n",
    "print(my_leaf.get_descriptive_name())"
   ]
  },
  {
   "cell_type": "markdown",
   "id": "bb6b8593-f09a-406c-8ac2-7b7a88de9f5a",
   "metadata": {},
   "source": [
    "### **9.4.7 使用别名**"
   ]
  },
  {
   "cell_type": "code",
   "execution_count": 8,
   "id": "3f0dcdae-312b-42e4-968f-9842ae1d5d2b",
   "metadata": {
    "execution": {
     "iopub.execute_input": "2024-04-28T11:38:07.187714Z",
     "iopub.status.busy": "2024-04-28T11:38:07.187714Z",
     "iopub.status.idle": "2024-04-28T11:38:07.192984Z",
     "shell.execute_reply": "2024-04-28T11:38:07.192984Z",
     "shell.execute_reply.started": "2024-04-28T11:38:07.187714Z"
    }
   },
   "outputs": [],
   "source": [
    "from electric_car import ElectricCar as EC\n",
    "my_leaf = EC('nissan', 'leaf', 2024)"
   ]
  },
  {
   "cell_type": "code",
   "execution_count": 10,
   "id": "e35e3a1c-4239-4851-a203-5ac5c4c117e5",
   "metadata": {
    "execution": {
     "iopub.execute_input": "2024-04-28T11:39:26.047465Z",
     "iopub.status.busy": "2024-04-28T11:39:26.047465Z",
     "iopub.status.idle": "2024-04-28T11:39:26.053552Z",
     "shell.execute_reply": "2024-04-28T11:39:26.052550Z",
     "shell.execute_reply.started": "2024-04-28T11:39:26.047465Z"
    }
   },
   "outputs": [],
   "source": [
    "import electric_car as ec\n",
    "my_leaf = ec.ElectricCar('nissan', 'leaf', 2024)"
   ]
  },
  {
   "cell_type": "markdown",
   "id": "24cd4c08-6407-4f18-a624-8b987d3ecb21",
   "metadata": {},
   "source": [
    "## **9.5 Python标准库**"
   ]
  },
  {
   "cell_type": "code",
   "execution_count": 12,
   "id": "b8072ce5-e24c-4b38-9820-712e92220f75",
   "metadata": {
    "execution": {
     "iopub.execute_input": "2024-04-28T11:41:24.841195Z",
     "iopub.status.busy": "2024-04-28T11:41:24.841195Z",
     "iopub.status.idle": "2024-04-28T11:41:24.858869Z",
     "shell.execute_reply": "2024-04-28T11:41:24.858869Z",
     "shell.execute_reply.started": "2024-04-28T11:41:24.841195Z"
    }
   },
   "outputs": [
    {
     "data": {
      "text/plain": [
       "5"
      ]
     },
     "execution_count": 12,
     "metadata": {},
     "output_type": "execute_result"
    }
   ],
   "source": [
    "from random import randint\n",
    "randint(1,6)"
   ]
  },
  {
   "cell_type": "code",
   "execution_count": 13,
   "id": "d301f73e-fd02-4dbe-84ee-5cbdd512f870",
   "metadata": {
    "execution": {
     "iopub.execute_input": "2024-04-28T11:43:20.337154Z",
     "iopub.status.busy": "2024-04-28T11:43:20.337154Z",
     "iopub.status.idle": "2024-04-28T11:43:20.342837Z",
     "shell.execute_reply": "2024-04-28T11:43:20.342837Z",
     "shell.execute_reply.started": "2024-04-28T11:43:20.337154Z"
    }
   },
   "outputs": [
    {
     "data": {
      "text/plain": [
       "'eli'"
      ]
     },
     "execution_count": 13,
     "metadata": {},
     "output_type": "execute_result"
    }
   ],
   "source": [
    "from random import choice\n",
    "players = ['charles', 'martina', 'michael', 'florence', 'eli']\n",
    "first_up = choice(players)\n",
    "first_up"
   ]
  },
  {
   "cell_type": "markdown",
   "id": "5bba1685-5787-4282-a511-8dd8f6727c4f",
   "metadata": {},
   "source": [
    "# *练习*"
   ]
  },
  {
   "cell_type": "markdown",
   "id": "463cfbf5-b789-4ba3-84a2-3f87f20bc86b",
   "metadata": {},
   "source": [
    "## *9.1 餐馆*"
   ]
  },
  {
   "cell_type": "code",
   "execution_count": 16,
   "id": "e80f557e-5791-4790-8e53-9f7ce30f723f",
   "metadata": {
    "execution": {
     "iopub.execute_input": "2024-04-30T02:04:37.348704Z",
     "iopub.status.busy": "2024-04-30T02:04:37.348704Z",
     "iopub.status.idle": "2024-04-30T02:04:37.361490Z",
     "shell.execute_reply": "2024-04-30T02:04:37.361490Z",
     "shell.execute_reply.started": "2024-04-30T02:04:37.348704Z"
    }
   },
   "outputs": [
    {
     "name": "stdout",
     "output_type": "stream",
     "text": [
      "Haidilao Hot_Pot\n",
      "Haidilao is opening.\n"
     ]
    }
   ],
   "source": [
    "class Restaurant:\n",
    "    \"\"\"描述餐厅基础信息\"\"\"\n",
    "\n",
    "    def __init__(self, restaurant_name, cuisine_type):\n",
    "        \"\"\"初始化描述餐厅的信息\"\"\"\n",
    "        self.restaurant_name = restaurant_name\n",
    "        self.cuisine_type = cuisine_type\n",
    "\n",
    "    def describe_restaurant(self):\n",
    "        \"\"\"打印餐厅信息\"\"\"\n",
    "        restaurant_info = f\"{self.restaurant_name} {self.cuisine_type}\"\n",
    "        return restaurant_info.title()\n",
    "\n",
    "    def open_restaurant(self):\n",
    "        \"\"\"指出餐厅正在营业\"\"\"\n",
    "        print(f\"{self.restaurant_name.title()} is opening.\")\n",
    "\n",
    "#创建一个名为restaurant的实例\n",
    "restaurant = Restaurant('haidilao', 'hot_pot')\n",
    "#访问两个属性\n",
    "restaurant.restaurant_name\n",
    "restaurant.cuisine_type\n",
    "#调用两个方法\n",
    "print(restaurant.describe_restaurant())\n",
    "restaurant.open_restaurant()"
   ]
  },
  {
   "cell_type": "markdown",
   "id": "6011a508-16cc-403d-9897-f3ab4d3762f7",
   "metadata": {},
   "source": [
    "## *9.2 三家餐馆*"
   ]
  },
  {
   "cell_type": "code",
   "execution_count": 18,
   "id": "c3c6b522-009f-48cf-bac5-18ec206b5c99",
   "metadata": {
    "execution": {
     "iopub.execute_input": "2024-04-30T05:45:21.950960Z",
     "iopub.status.busy": "2024-04-30T05:45:21.950960Z",
     "iopub.status.idle": "2024-04-30T05:45:21.964526Z",
     "shell.execute_reply": "2024-04-30T05:45:21.964526Z",
     "shell.execute_reply.started": "2024-04-30T05:45:21.950960Z"
    }
   },
   "outputs": [
    {
     "name": "stdout",
     "output_type": "stream",
     "text": [
      "Daomanxiang Hunancai\n",
      "Huainanrenjia Huaiyangcai\n",
      "Shitang Shit\n"
     ]
    }
   ],
   "source": [
    "#根据Restaurant类创建三个实例，并调用describe_restaurant()方法\n",
    "restaurant_0 = Restaurant('daomanxiang', 'hunancai')\n",
    "print(restaurant_0.describe_restaurant())\n",
    "restaurant_1 = Restaurant('huainanrenjia', 'huaiyangcai')\n",
    "print(restaurant_1.describe_restaurant())\n",
    "restaurant_2 = Restaurant('shitang', 'shit')\n",
    "print(restaurant_2.describe_restaurant())"
   ]
  },
  {
   "cell_type": "markdown",
   "id": "0d829add-b9c3-4536-8fe1-b4cdd6f98a20",
   "metadata": {},
   "source": [
    "## *9.3 用户*"
   ]
  },
  {
   "cell_type": "code",
   "execution_count": 21,
   "id": "0e3f0102-120c-464d-8506-924858188885",
   "metadata": {
    "execution": {
     "iopub.execute_input": "2024-04-30T06:07:44.923185Z",
     "iopub.status.busy": "2024-04-30T06:07:44.923185Z",
     "iopub.status.idle": "2024-04-30T06:07:44.932827Z",
     "shell.execute_reply": "2024-04-30T06:07:44.932827Z",
     "shell.execute_reply.started": "2024-04-30T06:07:44.923185Z"
    }
   },
   "outputs": [
    {
     "name": "stdout",
     "output_type": "stream",
     "text": [
      "\n",
      "Si Wei 20\n",
      "Hello, Si Wei!\n",
      "\n",
      "Li Hua 21\n",
      "Hello, Li Hua!\n",
      "\n",
      "Luo Tianyi 16\n",
      "Hello, Luo Tianyi!\n"
     ]
    }
   ],
   "source": [
    "class User:\n",
    "    \"\"\"描述用户基本信息\"\"\"\n",
    "\n",
    "    def __init__(self, first_name, last_name, age):\n",
    "        \"\"\"初始化描述用户的信息\"\"\"\n",
    "        self.f_name = first_name\n",
    "        self.l_name = last_name\n",
    "        self.age = age\n",
    "\n",
    "    def describe_user(self):\n",
    "        \"\"\"打印用户信息摘要\"\"\"\n",
    "        print(f'\\n{self.f_name.title()} {self.l_name.title()} {self.age}')\n",
    "\n",
    "    def greet_user(self):\n",
    "        \"\"\"向用户发出个性化的问候\"\"\"\n",
    "        print(f\"Hello, {self.f_name.title()} {self.l_name.title()}!\")\n",
    "\n",
    "user_0 = User('si', 'wei', 20)\n",
    "user_0.describe_user()\n",
    "user_0.greet_user()\n",
    "\n",
    "user_1 = User('li', 'hua', 21)\n",
    "user_1.describe_user()\n",
    "user_1.greet_user()\n",
    "\n",
    "user_2 = User('luo', 'tianyi', 16)\n",
    "user_2.describe_user()\n",
    "user_2.greet_user()"
   ]
  },
  {
   "cell_type": "markdown",
   "id": "1dd2d6ba-a8ea-46e7-bbb2-4d093f43e918",
   "metadata": {},
   "source": [
    "## *9.4 就餐人数*"
   ]
  },
  {
   "cell_type": "code",
   "execution_count": 31,
   "id": "6f28a7b7-2152-46a8-8159-a7614a43d345",
   "metadata": {
    "execution": {
     "iopub.execute_input": "2024-04-30T06:29:18.950974Z",
     "iopub.status.busy": "2024-04-30T06:29:18.950974Z",
     "iopub.status.idle": "2024-04-30T06:29:18.961865Z",
     "shell.execute_reply": "2024-04-30T06:29:18.961865Z",
     "shell.execute_reply.started": "2024-04-30T06:29:18.950974Z"
    }
   },
   "outputs": [
    {
     "name": "stdout",
     "output_type": "stream",
     "text": [
      "0 person had dinner at Hualaishi.\n",
      "5 persons had dinner at Hualaishi.\n",
      "9 persons had dinner at Hualaishi.\n",
      "19 persons had dinner at Hualaishi.\n"
     ]
    }
   ],
   "source": [
    "class Restaurant:\n",
    "    \"\"\"描述餐厅基础信息\"\"\"\n",
    "\n",
    "    def __init__(self, restaurant_name, cuisine_type, number_served=0):\n",
    "        \"\"\"初始化描述餐厅的信息\"\"\"\n",
    "        self.restaurant_name = restaurant_name\n",
    "        self.cuisine_type = cuisine_type\n",
    "        self.number_served = number_served\n",
    "    \n",
    "    def describe_restaurant(self):\n",
    "        \"\"\"打印餐厅信息\"\"\"\n",
    "        restaurant_info = f\"{self.restaurant_name} {self.cuisine_type}\"\n",
    "        return restaurant_info.title()\n",
    "\n",
    "    def open_restaurant(self):\n",
    "        \"\"\"指出餐厅正在营业\"\"\"\n",
    "        print(f\"{self.restaurant_name.title()} is opening.\")\n",
    "\n",
    "    def set_number_served(self,p_number):\n",
    "        \"\"\"设置就餐人数\"\"\"\n",
    "        self.number_served = p_number\n",
    "        print(f'{self.number_served} persons had dinner at {self.restaurant_name.title()}.')\n",
    "\n",
    "    def increment_number_served(self, num):\n",
    "        \"\"\"添加餐厅就餐的人数\"\"\"\n",
    "        self.number_served += num\n",
    "        print(f'{self.number_served} persons had dinner at {self.restaurant_name.title()}.')\n",
    "\n",
    "restaurant = Restaurant('hualaishi', 'junkfood')\n",
    "print(f'{restaurant.number_served} person had dinner at {restaurant.restaurant_name.title()}.')\n",
    "\n",
    "restaurant = Restaurant('hualaishi', 'junkfood', 5)\n",
    "print(f'{restaurant.number_served} persons had dinner at {restaurant.restaurant_name.title()}.')\n",
    "\n",
    "restaurant.set_number_served(9)\n",
    "restaurant.increment_number_served(10)"
   ]
  },
  {
   "cell_type": "markdown",
   "id": "c5e85abc-f11c-4a3f-bc69-b84bb3dc6e8a",
   "metadata": {},
   "source": [
    "## *9.5 尝试登录次数*"
   ]
  },
  {
   "cell_type": "code",
   "execution_count": 38,
   "id": "3279ac77-ac89-48fe-b604-4d3dbfe37959",
   "metadata": {
    "execution": {
     "iopub.execute_input": "2024-04-30T07:01:54.856173Z",
     "iopub.status.busy": "2024-04-30T07:01:54.856173Z",
     "iopub.status.idle": "2024-04-30T07:01:54.864574Z",
     "shell.execute_reply": "2024-04-30T07:01:54.864574Z",
     "shell.execute_reply.started": "2024-04-30T07:01:54.856173Z"
    }
   },
   "outputs": [
    {
     "data": {
      "text/plain": [
       "0"
      ]
     },
     "execution_count": 38,
     "metadata": {},
     "output_type": "execute_result"
    }
   ],
   "source": [
    "class User:\n",
    "    \"\"\"描述用户基本信息\"\"\"\n",
    "\n",
    "    def __init__(self, first_name, last_name, age, login_attempts):\n",
    "        \"\"\"初始化描述用户的信息\"\"\"\n",
    "        self.f_name = first_name\n",
    "        self.l_name = last_name\n",
    "        self.age = age\n",
    "        self.login_attempts = login_attempts\n",
    "    \n",
    "    def describe_user(self):\n",
    "        \"\"\"打印用户信息摘要\"\"\"\n",
    "        print(f'\\n{self.f_name.title()} {self.l_name.title()} {self.age}')\n",
    "\n",
    "    def greet_user(self):\n",
    "        \"\"\"向用户发出个性化的问候\"\"\"\n",
    "        print(f\"Hello, {self.f_name.title()} {self.l_name.title()}!\")\n",
    "\n",
    "    def increment_login_attempts(self):\n",
    "        \"\"\"将属性login_attempts次数加1\"\"\"\n",
    "        self.login_attempts += 1\n",
    "\n",
    "    def reset_login_attempts(self):\n",
    "        \"\"\"重置login_attempts的次数\"\"\"\n",
    "        self.login_attempts = 0\n",
    "\n",
    "my_user = User('si','wei',20,1)\n",
    "\n",
    "my_user.increment_login_attempts()\n",
    "my_user.login_attempts\n",
    "\n",
    "my_user.increment_login_attempts()\n",
    "my_user.login_attempts\n",
    "\n",
    "my_user.increment_login_attempts()\n",
    "my_user.login_attempts\n",
    "\n",
    "my_user.reset_login_attempts()\n",
    "my_user.login_attempts"
   ]
  },
  {
   "cell_type": "markdown",
   "id": "3944cce7-7740-44fd-bd91-75dea72c6e21",
   "metadata": {},
   "source": [
    "## *9.6 冰激凌小店*"
   ]
  },
  {
   "cell_type": "code",
   "execution_count": 39,
   "id": "b4549687-4d59-4efc-bc2d-06d013190cd5",
   "metadata": {
    "execution": {
     "iopub.execute_input": "2024-04-30T07:17:34.376558Z",
     "iopub.status.busy": "2024-04-30T07:17:34.376558Z",
     "iopub.status.idle": "2024-04-30T07:17:34.387227Z",
     "shell.execute_reply": "2024-04-30T07:17:34.387227Z",
     "shell.execute_reply.started": "2024-04-30T07:17:34.376558Z"
    }
   },
   "outputs": [
    {
     "name": "stdout",
     "output_type": "stream",
     "text": [
      "apple\n",
      "banana\n",
      "shit\n"
     ]
    }
   ],
   "source": [
    "class Restaurant:\n",
    "    \"\"\"描述餐厅基础信息\"\"\"\n",
    "\n",
    "    def __init__(self, restaurant_name, cuisine_type, number_served=0):\n",
    "        \"\"\"初始化描述餐厅的信息\"\"\"\n",
    "        self.restaurant_name = restaurant_name\n",
    "        self.cuisine_type = cuisine_type\n",
    "        self.number_served = number_served\n",
    "    \n",
    "    def describe_restaurant(self):\n",
    "        \"\"\"打印餐厅信息\"\"\"\n",
    "        restaurant_info = f\"{self.restaurant_name} {self.cuisine_type}\"\n",
    "        return restaurant_info.title()\n",
    "\n",
    "    def open_restaurant(self):\n",
    "        \"\"\"指出餐厅正在营业\"\"\"\n",
    "        print(f\"{self.restaurant_name.title()} is opening.\")\n",
    "\n",
    "    def set_number_served(self,p_number):\n",
    "        \"\"\"设置就餐人数\"\"\"\n",
    "        self.number_served = p_number\n",
    "        print(f'{self.number_served} persons had dinner at {self.restaurant_name.title()}.')\n",
    "\n",
    "    def increment_number_served(self, num):\n",
    "        \"\"\"添加餐厅就餐的人数\"\"\"\n",
    "        self.number_served += num\n",
    "        print(f'{self.number_served} persons had dinner at {self.restaurant_name.title()}.')\n",
    "\n",
    "class IceCreamStand(Restaurant):\n",
    "    \"\"\"冰激凌小店的信息\"\"\"\n",
    "\n",
    "    def __init__(self, restaurant_name, cuisine_type, number_served=0):\n",
    "        \"\"\"\n",
    "        先初始化父类的属性，再初始化冰激凌小店的属性\n",
    "        \"\"\"\n",
    "        super().__init__(restaurant_name, cuisine_type, number_served=0)\n",
    "        self.flavors = ['apple', 'banana', 'shit']\n",
    "\n",
    "    def describe_flavors(self):\n",
    "        \"\"\"显示冰激凌口味\"\"\"\n",
    "        for flavor in self.flavors:\n",
    "            print(flavor)\n",
    "\n",
    "icecream = IceCreamStand('icecreamstand', 'ice_cream', 12)\n",
    "icecream.describe_flavors()"
   ]
  },
  {
   "cell_type": "markdown",
   "id": "cfcb2bc2-c074-46e7-a09a-c56105dba04a",
   "metadata": {},
   "source": [
    "## *9.7 管理员*"
   ]
  },
  {
   "cell_type": "code",
   "execution_count": 40,
   "id": "a83db522-267b-46eb-bc7e-c85a39c41dcd",
   "metadata": {
    "execution": {
     "iopub.execute_input": "2024-04-30T07:29:28.715075Z",
     "iopub.status.busy": "2024-04-30T07:29:28.715075Z",
     "iopub.status.idle": "2024-04-30T07:29:28.731854Z",
     "shell.execute_reply": "2024-04-30T07:29:28.731590Z",
     "shell.execute_reply.started": "2024-04-30T07:29:28.715075Z"
    }
   },
   "outputs": [
    {
     "name": "stdout",
     "output_type": "stream",
     "text": [
      "can add post\n",
      "can delete post\n",
      "can ban user\n"
     ]
    }
   ],
   "source": [
    "class User:\n",
    "    \"\"\"描述用户基本信息\"\"\"\n",
    "\n",
    "    def __init__(self, first_name, last_name, age):\n",
    "        \"\"\"初始化描述用户的信息\"\"\"\n",
    "        self.f_name = first_name\n",
    "        self.l_name = last_name\n",
    "        self.age = age\n",
    "\n",
    "    def describe_user(self):\n",
    "        \"\"\"打印用户信息摘要\"\"\"\n",
    "        print(f'\\n{self.f_name.title()} {self.l_name.title()} {self.age}')\n",
    "\n",
    "    def greet_user(self):\n",
    "        \"\"\"向用户发出个性化的问候\"\"\"\n",
    "        print(f\"Hello, {self.f_name.title()} {self.l_name.title()}!\")\n",
    "\n",
    "class Admin(User):\n",
    "    \"\"\"管理员的特殊之处\"\"\"\n",
    "\n",
    "    def __init__(self, first_name, last_name, age):\n",
    "        \"\"\"初始化父类和管理员的属性\"\"\"\n",
    "        super().__init__(first_name, last_name, age)\n",
    "        self.privileges = ['can add post', 'can delete post', 'can ban user']\n",
    "\n",
    "    def show_privileges(self):\n",
    "        \"\"\"显示管理员的权限\"\"\"\n",
    "        for privilege in self.privileges:\n",
    "            print(privilege)\n",
    "\n",
    "admin = Admin('ha', 'ha', 22)\n",
    "admin.show_privileges()"
   ]
  },
  {
   "cell_type": "markdown",
   "id": "f2a092c1-403e-4780-aae2-8b0affcd1754",
   "metadata": {},
   "source": [
    "## *9.8 权限*"
   ]
  },
  {
   "cell_type": "code",
   "execution_count": 41,
   "id": "27c7277d-ee1d-4644-9368-7fb6c68eff69",
   "metadata": {
    "execution": {
     "iopub.execute_input": "2024-04-30T07:35:39.081616Z",
     "iopub.status.busy": "2024-04-30T07:35:39.081616Z",
     "iopub.status.idle": "2024-04-30T07:35:39.095742Z",
     "shell.execute_reply": "2024-04-30T07:35:39.095742Z",
     "shell.execute_reply.started": "2024-04-30T07:35:39.081616Z"
    }
   },
   "outputs": [
    {
     "name": "stdout",
     "output_type": "stream",
     "text": [
      "can add post\n",
      "can delete post\n",
      "can ban user\n"
     ]
    }
   ],
   "source": [
    "class Privileges:\n",
    "    \"\"\"关于权限的类\"\"\"\n",
    "\n",
    "    def __init__(self, privileges):\n",
    "        \"\"\"初始化权限属性\"\"\"\n",
    "        self.privileges = ['can add post', 'can delete post', 'can ban user']\n",
    "\n",
    "    def show_privileges(self):\n",
    "        \"\"\"显示管理员的权限\"\"\"\n",
    "        for privilege in self.privileges:\n",
    "            print(privilege)\n",
    "\n",
    "admin = Admin('ha', 'ha', 22)\n",
    "admin.show_privileges()"
   ]
  },
  {
   "cell_type": "markdown",
   "id": "cb9e0111-1819-4d52-8a6b-e1a476cda378",
   "metadata": {},
   "source": [
    "## *9.9 电池升级*"
   ]
  },
  {
   "cell_type": "code",
   "execution_count": 47,
   "id": "e4470240-3103-48e1-8583-eade686c8bf6",
   "metadata": {
    "execution": {
     "iopub.execute_input": "2024-04-30T07:43:25.272579Z",
     "iopub.status.busy": "2024-04-30T07:43:25.272579Z",
     "iopub.status.idle": "2024-04-30T07:43:25.289459Z",
     "shell.execute_reply": "2024-04-30T07:43:25.289459Z",
     "shell.execute_reply.started": "2024-04-30T07:43:25.272579Z"
    }
   },
   "outputs": [
    {
     "name": "stdout",
     "output_type": "stream",
     "text": [
      "This car can go about 150 miles on a full charge.\n",
      "This car can go about 225 miles on a full charge.\n"
     ]
    }
   ],
   "source": [
    "\"\"\"一组用于表示燃油汽车和电动汽车的类\"\"\"\n",
    "\n",
    "class Car:\n",
    "    \"\"\"一次模拟汽车的简单尝试\"\"\"\n",
    "\n",
    "    def __init__(self, make, model, year):\n",
    "        \"\"\"初始化描述汽车的属性\"\"\"\n",
    "        self.make = make\n",
    "        self.model = model\n",
    "        self.year = year\n",
    "        self.odometer_reading = 0\n",
    "\n",
    "    def get_descriptive_name(self):\n",
    "        \"\"\"返回格式规范的描述性信息\"\"\"\n",
    "        long_name = f\"{self.year} {self.make} {self.model}\"\n",
    "        return long_name.title()\n",
    "\n",
    "    def read_odometer(self):\n",
    "        \"\"\"打印一条指出汽车行驶里程的消息\"\"\"\n",
    "        print(f\"This car has {self.odometer_reading} miles on it.\")\n",
    "\n",
    "    def update_odometer(self, mileage):#添加一个方法，接受一个里程值\n",
    "        \"\"\"\n",
    "        将里程表读数设置为指定的值\n",
    "        禁止将里程碑读数往回调\n",
    "        \"\"\"\n",
    "        if mileage >= self.odometer_reading:\n",
    "            self.odometer_reading = mileage #将里程值赋给self.odometer_reading\n",
    "        else:\n",
    "            print(\"You cant't roll back an odometer\")\n",
    "\n",
    "    def increment_odometer(self, miles):\n",
    "        \"\"\"让里程表读数增加指定的量\"\"\"\n",
    "        self.odometer_reading += miles\n",
    "\n",
    "class Battery:\n",
    "    \"\"\"一次模拟电动汽车电池的简单尝试\"\"\"\n",
    "\n",
    "    def __init__(self, battery_size=40):\n",
    "        \"\"\"初始化电池的属性\"\"\"\n",
    "        self.battery_size = battery_size\n",
    "\n",
    "    def describe_battery(self):\n",
    "        \"\"\"打印一条描述电池容量的消息\"\"\"\n",
    "        print(f\"This car has a {self.battery_size}-kwh battery.\")\n",
    "\n",
    "    def get_range(self):\n",
    "        \"\"\"打印一条消息，指出电池的续航里程\"\"\"\n",
    "        if self.battery_size == 40:\n",
    "            range = 150\n",
    "        elif self.battery_size == 65:\n",
    "            range = 225\n",
    "\n",
    "        print(f\"This car can go about {range} miles on a full charge.\")\n",
    "\n",
    "    def upgrade_battery(self):\n",
    "        \"\"\"升级电池容量\"\"\"\n",
    "        if self.battery_size < 65:\n",
    "            self.battery_size = 65\n",
    "        \n",
    "class ElectricCar(Car):\n",
    "    \"\"\"电动汽车的独特之处\"\"\"\n",
    "\n",
    "    def __init__(self, make, model, year):\n",
    "        \"\"\"\n",
    "        先初始化父类的属性，再初始化电动汽车特有的属性\n",
    "        \"\"\"\n",
    "        super().__init__(make, model, year)\n",
    "        self.battery = Battery() #创建一个新的Battery实例并赋给一个新的属性\n",
    "\n",
    "my_byd = ElectricCar('byd', 'song', 2024)\n",
    "my_byd.battery.get_range()\n",
    "my_byd.battery.upgrade_battery()\n",
    "my_byd.battery.get_range()"
   ]
  },
  {
   "cell_type": "markdown",
   "id": "4bccf3e3-8453-419d-9b2d-c206d28fc566",
   "metadata": {},
   "source": [
    "## *9.10 导入Restaurant类*"
   ]
  },
  {
   "cell_type": "code",
   "execution_count": 1,
   "id": "8fc5d4a9-0d9c-4dfa-ac5c-3e67c29078c0",
   "metadata": {
    "execution": {
     "iopub.execute_input": "2024-05-06T01:30:07.174267Z",
     "iopub.status.busy": "2024-05-06T01:30:07.174267Z",
     "iopub.status.idle": "2024-05-06T01:30:07.198780Z",
     "shell.execute_reply": "2024-05-06T01:30:07.198780Z",
     "shell.execute_reply.started": "2024-05-06T01:30:07.174267Z"
    }
   },
   "outputs": [
    {
     "data": {
      "text/plain": [
       "'Kfc Fastfood'"
      ]
     },
     "execution_count": 1,
     "metadata": {},
     "output_type": "execute_result"
    }
   ],
   "source": [
    "from restaurant import Restaurant\n",
    "\n",
    "rest_0 = Restaurant('kfc', 'fastfood', 30)\n",
    "rest_0.describe_restaurant()"
   ]
  },
  {
   "cell_type": "markdown",
   "id": "7187ffcd-c42c-4837-ab8e-f77ce7fd0da6",
   "metadata": {},
   "source": [
    "## *9.11 导入Admin类*"
   ]
  },
  {
   "cell_type": "code",
   "execution_count": 5,
   "id": "ea2b9dcb-9f69-4280-8787-0a9a8706b1f4",
   "metadata": {
    "execution": {
     "iopub.execute_input": "2024-05-06T01:38:58.594659Z",
     "iopub.status.busy": "2024-05-06T01:38:58.594659Z",
     "iopub.status.idle": "2024-05-06T01:38:58.600491Z",
     "shell.execute_reply": "2024-05-06T01:38:58.600491Z",
     "shell.execute_reply.started": "2024-05-06T01:38:58.594659Z"
    }
   },
   "outputs": [
    {
     "name": "stdout",
     "output_type": "stream",
     "text": [
      "can add post\n",
      "can delete post\n",
      "can ban user\n"
     ]
    }
   ],
   "source": [
    "from user import Admin\n",
    "\n",
    "admin_0 = Admin('li', 'hua', 20)\n",
    "admin_0.show_privileges()"
   ]
  },
  {
   "cell_type": "markdown",
   "id": "06e33274-ad2b-4c6e-9298-d5ba6219d0ae",
   "metadata": {},
   "source": [
    "## *9.12 多个模块*"
   ]
  },
  {
   "cell_type": "code",
   "execution_count": 10,
   "id": "afaf65a0-d726-4caf-911a-6c0720da53cf",
   "metadata": {
    "execution": {
     "iopub.execute_input": "2024-05-06T01:50:21.875829Z",
     "iopub.status.busy": "2024-05-06T01:50:21.875829Z",
     "iopub.status.idle": "2024-05-06T01:50:21.886193Z",
     "shell.execute_reply": "2024-05-06T01:50:21.886193Z",
     "shell.execute_reply.started": "2024-05-06T01:50:21.875829Z"
    }
   },
   "outputs": [
    {
     "name": "stdout",
     "output_type": "stream",
     "text": [
      "can add post\n",
      "can delete post\n",
      "can ban user\n"
     ]
    }
   ],
   "source": [
    "from usertwo import User\n",
    "from privilegeadmin import Admin\n",
    "\n",
    "admin_1 = Admin('li', 'ming', 33)\n",
    "admin_1.show_privileges()"
   ]
  },
  {
   "cell_type": "markdown",
   "id": "758aedda-74d8-443c-98c1-1c8f03869779",
   "metadata": {},
   "source": [
    "## *9.13 骰子*"
   ]
  },
  {
   "cell_type": "code",
   "execution_count": 15,
   "id": "1c566e85-77f0-4a8a-bb96-739352ffcc3a",
   "metadata": {
    "execution": {
     "iopub.execute_input": "2024-05-06T02:05:16.429440Z",
     "iopub.status.busy": "2024-05-06T02:05:16.429440Z",
     "iopub.status.idle": "2024-05-06T02:05:16.435067Z",
     "shell.execute_reply": "2024-05-06T02:05:16.435067Z",
     "shell.execute_reply.started": "2024-05-06T02:05:16.429440Z"
    }
   },
   "outputs": [
    {
     "name": "stdout",
     "output_type": "stream",
     "text": [
      "1\n",
      "4\n",
      "6\n",
      "2\n",
      "2\n",
      "6\n",
      "4\n",
      "2\n",
      "5\n",
      "2\n",
      "6\n",
      "3\n",
      "8\n",
      "8\n",
      "10\n",
      "3\n",
      "4\n",
      "9\n",
      "5\n",
      "7\n",
      "8\n",
      "4\n",
      "10\n",
      "7\n",
      "15\n",
      "10\n",
      "2\n",
      "6\n",
      "19\n",
      "8\n"
     ]
    }
   ],
   "source": [
    "from random import randint #导入随机数方法\n",
    "\n",
    "class Die:\n",
    "    \"\"\"关于骰子的模拟\"\"\"\n",
    "\n",
    "    def __init__(self, sides=6): #包含一个sides属性，默认值为6，即6个面\n",
    "        \"\"\"初始化骰子的属性\"\"\"\n",
    "        self.sides = sides\n",
    "\n",
    "    def roll_die(self):\n",
    "        \"\"\"打印位于1和骰子面数之间的随机数\"\"\"\n",
    "        print(randint(1,self.sides))\n",
    "\n",
    "die_0 = Die()\n",
    "number = 0\n",
    "while number < 10:\n",
    "    number += 1\n",
    "    die_0.roll_die()\n",
    "\n",
    "die_1 = Die(10)\n",
    "number = 0\n",
    "while number < 10:\n",
    "    number += 1\n",
    "    die_1.roll_die()\n",
    "\n",
    "die_2 = Die(20)\n",
    "number = 0\n",
    "while number < 10:\n",
    "    number += 1\n",
    "    die_2.roll_die()"
   ]
  },
  {
   "cell_type": "markdown",
   "id": "b045a6ed-b3d0-46ca-bb75-e32031f3f8fc",
   "metadata": {},
   "source": [
    "## *9.14 彩票*"
   ]
  },
  {
   "cell_type": "code",
   "execution_count": 28,
   "id": "d3101f75-720e-431c-874a-b8fbe445b75c",
   "metadata": {
    "execution": {
     "iopub.execute_input": "2024-05-06T08:37:52.940554Z",
     "iopub.status.busy": "2024-05-06T08:37:52.939052Z",
     "iopub.status.idle": "2024-05-06T08:37:52.945476Z",
     "shell.execute_reply": "2024-05-06T08:37:52.945476Z",
     "shell.execute_reply.started": "2024-05-06T08:37:52.940554Z"
    }
   },
   "outputs": [
    {
     "name": "stdout",
     "output_type": "stream",
     "text": [
      "If there are '33', 'r', 'f' and '1' on the lottery ticket, you get a big awrad!\n"
     ]
    }
   ],
   "source": [
    "from random import choice\n",
    "lottery_ticket = [1, 3, 7, 11, 19, 22, 42, 33, 88, 100, 'a', 'f', 'e', 'r']\n",
    "first = choice(lottery_ticket)\n",
    "second = choice(lottery_ticket)\n",
    "third = choice(lottery_ticket)\n",
    "fourth = choice(lottery_ticket)\n",
    "print(f\"If there are '{first}', '{second}', '{third}' and '{fourth}' on the lottery ticket, you get a big awrad!\")"
   ]
  },
  {
   "cell_type": "markdown",
   "id": "3dcc1668-23f0-40c2-88ce-dbf595245263",
   "metadata": {},
   "source": [
    "## *9.15 彩票分析*"
   ]
  },
  {
   "cell_type": "code",
   "execution_count": 4,
   "id": "3bd0e4cf-1fb2-4657-b772-de555e1bd54c",
   "metadata": {
    "execution": {
     "iopub.execute_input": "2024-05-06T08:44:22.320030Z",
     "iopub.status.busy": "2024-05-06T08:44:22.320030Z",
     "iopub.status.idle": "2024-05-06T08:44:22.811927Z",
     "shell.execute_reply": "2024-05-06T08:44:22.810928Z",
     "shell.execute_reply.started": "2024-05-06T08:44:22.320030Z"
    }
   },
   "outputs": [
    {
     "name": "stdout",
     "output_type": "stream",
     "text": [
      "After 73502 circles, you got the big award!\n"
     ]
    }
   ],
   "source": [
    "from random import choice\n",
    "lottery_ticket = [1, 3, 7, 11, 19, 22, 42, 33, 88, 100, 'a', 'f', 'e', 'r']\n",
    "number = 0\n",
    "awrad_ticket = [33, 'r', 'f', 1]\n",
    "while True:\n",
    "    #使用number记录循环次数\n",
    "    number += 1\n",
    "    #生成随机并加入列表\n",
    "    f = choice(lottery_ticket)\n",
    "    s = choice(lottery_ticket)\n",
    "    t = choice(lottery_ticket)\n",
    "    fo = choice(lottery_ticket)\n",
    "    my_ticket = [f, s, t ,fo]\n",
    "    #使用break退出循环\n",
    "    if my_ticket == awrad_ticket:\n",
    "        print(f'After {number} circles, you got the big award!')\n",
    "        break"
   ]
  }
 ],
 "metadata": {
  "kernelspec": {
   "display_name": "Python 3 (ipykernel)",
   "language": "python",
   "name": "python3"
  },
  "language_info": {
   "codemirror_mode": {
    "name": "ipython",
    "version": 3
   },
   "file_extension": ".py",
   "mimetype": "text/x-python",
   "name": "python",
   "nbconvert_exporter": "python",
   "pygments_lexer": "ipython3",
   "version": "3.11.7"
  }
 },
 "nbformat": 4,
 "nbformat_minor": 5
}
