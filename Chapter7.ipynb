{
 "cells": [
  {
   "cell_type": "markdown",
   "id": "cd2bd134-219c-42f7-a0aa-d1ac4011d1fb",
   "metadata": {},
   "source": [
    "# **第7章 用户输入和while循环**"
   ]
  },
  {
   "cell_type": "markdown",
   "id": "bb2e7d32-813a-4e10-b3d9-35a8581f274c",
   "metadata": {},
   "source": [
    "## **7.1 input()函数的工作原理**"
   ]
  },
  {
   "cell_type": "code",
   "execution_count": 1,
   "id": "0403f123-bd99-4f83-9847-8c1a14926067",
   "metadata": {
    "execution": {
     "iopub.execute_input": "2024-04-10T03:05:05.986805Z",
     "iopub.status.busy": "2024-04-10T03:05:05.986805Z",
     "iopub.status.idle": "2024-04-10T03:08:57.162351Z",
     "shell.execute_reply": "2024-04-10T03:08:57.162351Z",
     "shell.execute_reply.started": "2024-04-10T03:05:05.986805Z"
    }
   },
   "outputs": [
    {
     "name": "stdin",
     "output_type": "stream",
     "text": [
      "Tell me something, and I will repeat it back to you:  Hello everyone\n"
     ]
    },
    {
     "name": "stdout",
     "output_type": "stream",
     "text": [
      "Hello everyone\n"
     ]
    }
   ],
   "source": [
    "#input()函数接受参数，即括号中引号内的内容，也就是要向用户显示的提示，之用户输入的内容将被赋值给变量\n",
    "#输入input的内容后按enter运行，而非shift enter\n",
    "message = input('Tell me something, and I will repeat it back to you: ')\n",
    "print(message)"
   ]
  },
  {
   "cell_type": "markdown",
   "id": "e35ed8a1-93e2-46ed-8df5-23262c9c4cc5",
   "metadata": {},
   "source": [
    "### **7.1.1 编写清晰的提示**"
   ]
  },
  {
   "cell_type": "code",
   "execution_count": 3,
   "id": "e7a8d61b-1a70-46dd-8590-aa7a9c0e7576",
   "metadata": {
    "execution": {
     "iopub.execute_input": "2024-04-10T03:13:41.547710Z",
     "iopub.status.busy": "2024-04-10T03:13:41.547710Z",
     "iopub.status.idle": "2024-04-10T03:13:57.696898Z",
     "shell.execute_reply": "2024-04-10T03:13:57.696263Z",
     "shell.execute_reply.started": "2024-04-10T03:13:41.547710Z"
    }
   },
   "outputs": [
    {
     "name": "stdin",
     "output_type": "stream",
     "text": [
      "Please enter your name:  si wei\n"
     ]
    },
    {
     "name": "stdout",
     "output_type": "stream",
     "text": [
      "Hello, Si Wei\n"
     ]
    }
   ],
   "source": [
    "name = input('Please enter your name: ')\n",
    "print(f'Hello, {name.title()}')"
   ]
  },
  {
   "cell_type": "code",
   "execution_count": 5,
   "id": "56e481d1-c1d3-4cf1-8f1d-6b5e90daaacb",
   "metadata": {
    "execution": {
     "iopub.execute_input": "2024-04-10T03:22:53.648306Z",
     "iopub.status.busy": "2024-04-10T03:22:53.648306Z",
     "iopub.status.idle": "2024-04-10T03:22:57.711459Z",
     "shell.execute_reply": "2024-04-10T03:22:57.711459Z",
     "shell.execute_reply.started": "2024-04-10T03:22:53.648306Z"
    }
   },
   "outputs": [
    {
     "name": "stdin",
     "output_type": "stream",
     "text": [
      "If you share your name, we can personalize the messages you see.\n",
      "What is your first name? Si Wei\n"
     ]
    },
    {
     "name": "stdout",
     "output_type": "stream",
     "text": [
      "\n",
      "Hello, Si Wei\n"
     ]
    }
   ],
   "source": [
    "prompt = 'If you share your name, we can personalize the messages you see.'\n",
    "prompt += '\\nWhat is your first name?'\n",
    "name = input(prompt)\n",
    "print(f'\\nHello, {name}')"
   ]
  },
  {
   "cell_type": "markdown",
   "id": "26390420-fcb6-4f1d-bbe3-48bb75c6c56b",
   "metadata": {},
   "source": [
    "### **7.1.2 使用int()来获取数值输入**"
   ]
  },
  {
   "cell_type": "code",
   "execution_count": 11,
   "id": "cb835f91-0b35-442f-8f5e-4c1f8e9643d7",
   "metadata": {
    "execution": {
     "iopub.execute_input": "2024-04-10T03:26:04.631505Z",
     "iopub.status.busy": "2024-04-10T03:26:04.631505Z",
     "iopub.status.idle": "2024-04-10T03:26:06.664697Z",
     "shell.execute_reply": "2024-04-10T03:26:06.664697Z",
     "shell.execute_reply.started": "2024-04-10T03:26:04.631505Z"
    }
   },
   "outputs": [
    {
     "name": "stdin",
     "output_type": "stream",
     "text": [
      "How old are you? 21\n"
     ]
    },
    {
     "ename": "TypeError",
     "evalue": "'>=' not supported between instances of 'str' and 'int'",
     "output_type": "error",
     "traceback": [
      "\u001b[1;31m---------------------------------------------------------------------------\u001b[0m",
      "\u001b[1;31mTypeError\u001b[0m                                 Traceback (most recent call last)",
      "Cell \u001b[1;32mIn[11], line 2\u001b[0m\n\u001b[0;32m      1\u001b[0m age \u001b[38;5;241m=\u001b[39m \u001b[38;5;28minput\u001b[39m(\u001b[38;5;124m'\u001b[39m\u001b[38;5;124mHow old are you?\u001b[39m\u001b[38;5;124m'\u001b[39m)\n\u001b[1;32m----> 2\u001b[0m age \u001b[38;5;241m>\u001b[39m\u001b[38;5;241m=\u001b[39m \u001b[38;5;241m18\u001b[39m\n",
      "\u001b[1;31mTypeError\u001b[0m: '>=' not supported between instances of 'str' and 'int'"
     ]
    }
   ],
   "source": [
    "age = input('How old are you?')\n",
    "age >= 18"
   ]
  },
  {
   "cell_type": "code",
   "execution_count": 12,
   "id": "2b3b3b32-4dbf-4ff7-b433-ec3de6026045",
   "metadata": {
    "execution": {
     "iopub.execute_input": "2024-04-10T03:26:55.415155Z",
     "iopub.status.busy": "2024-04-10T03:26:55.415155Z",
     "iopub.status.idle": "2024-04-10T03:26:58.256241Z",
     "shell.execute_reply": "2024-04-10T03:26:58.256148Z",
     "shell.execute_reply.started": "2024-04-10T03:26:55.415155Z"
    }
   },
   "outputs": [
    {
     "name": "stdin",
     "output_type": "stream",
     "text": [
      "How old are you? 21\n"
     ]
    },
    {
     "data": {
      "text/plain": [
       "True"
      ]
     },
     "execution_count": 12,
     "metadata": {},
     "output_type": "execute_result"
    }
   ],
   "source": [
    "age = input('How old are you?')\n",
    "age = int(age)\n",
    "age >= 18"
   ]
  },
  {
   "cell_type": "code",
   "execution_count": 13,
   "id": "b912d0a6-23b8-4608-ba3e-1527eb9ff9f7",
   "metadata": {
    "execution": {
     "iopub.execute_input": "2024-04-10T06:04:44.330915Z",
     "iopub.status.busy": "2024-04-10T06:04:44.330915Z",
     "iopub.status.idle": "2024-04-10T06:04:53.890114Z",
     "shell.execute_reply": "2024-04-10T06:04:53.889094Z",
     "shell.execute_reply.started": "2024-04-10T06:04:44.330915Z"
    }
   },
   "outputs": [
    {
     "name": "stdin",
     "output_type": "stream",
     "text": [
      "How tall are you, in inches? 49\n"
     ]
    },
    {
     "name": "stdout",
     "output_type": "stream",
     "text": [
      "You are tall enough to ride!\n"
     ]
    }
   ],
   "source": [
    "height = input('How tall are you, in inches?')\n",
    "height = int(height)\n",
    "if height >= 48:\n",
    "    print('You are tall enough to ride!')\n",
    "else:\n",
    "    print('\\nYou will be able to ride when you are a little older.')"
   ]
  },
  {
   "cell_type": "markdown",
   "id": "84b1515d-a5f3-4541-8f79-6ce9c1025142",
   "metadata": {},
   "source": [
    "### **7.1.3 求模运算符**"
   ]
  },
  {
   "cell_type": "code",
   "execution_count": 14,
   "id": "8ca6cfad-e202-4eed-8de1-466acfaccc23",
   "metadata": {
    "execution": {
     "iopub.execute_input": "2024-04-10T06:10:23.467917Z",
     "iopub.status.busy": "2024-04-10T06:10:23.467917Z",
     "iopub.status.idle": "2024-04-10T06:10:23.472791Z",
     "shell.execute_reply": "2024-04-10T06:10:23.472791Z",
     "shell.execute_reply.started": "2024-04-10T06:10:23.467917Z"
    }
   },
   "outputs": [
    {
     "data": {
      "text/plain": [
       "1"
      ]
     },
     "execution_count": 14,
     "metadata": {},
     "output_type": "execute_result"
    }
   ],
   "source": [
    "#将两个数相除并返回余数\n",
    "4 % 3"
   ]
  },
  {
   "cell_type": "code",
   "execution_count": 15,
   "id": "62c60669-dfdb-4b76-b659-344e7c7551af",
   "metadata": {
    "execution": {
     "iopub.execute_input": "2024-04-10T06:10:45.943630Z",
     "iopub.status.busy": "2024-04-10T06:10:45.943630Z",
     "iopub.status.idle": "2024-04-10T06:10:45.947663Z",
     "shell.execute_reply": "2024-04-10T06:10:45.947663Z",
     "shell.execute_reply.started": "2024-04-10T06:10:45.943630Z"
    }
   },
   "outputs": [
    {
     "data": {
      "text/plain": [
       "0"
      ]
     },
     "execution_count": 15,
     "metadata": {},
     "output_type": "execute_result"
    }
   ],
   "source": [
    "6 % 3"
   ]
  },
  {
   "cell_type": "code",
   "execution_count": 16,
   "id": "d5ebeb7b-c56d-4832-a30e-9dda0f0b7085",
   "metadata": {
    "execution": {
     "iopub.execute_input": "2024-04-10T06:14:46.377304Z",
     "iopub.status.busy": "2024-04-10T06:14:46.377304Z",
     "iopub.status.idle": "2024-04-10T06:14:51.379429Z",
     "shell.execute_reply": "2024-04-10T06:14:51.378336Z",
     "shell.execute_reply.started": "2024-04-10T06:14:46.377304Z"
    }
   },
   "outputs": [
    {
     "name": "stdin",
     "output_type": "stream",
     "text": [
      "Enter a number, and I'll tell you if it's even or odd:  11\n"
     ]
    },
    {
     "name": "stdout",
     "output_type": "stream",
     "text": [
      "\n",
      "The number 11 is odd.\n"
     ]
    }
   ],
   "source": [
    "num = input(\"Enter a number, and I'll tell you if it's even or odd: \")\n",
    "num = int(num)\n",
    "if num % 2 == 0:\n",
    "    print(f\"\\nThe number {num} is even.\")\n",
    "else:\n",
    "    print(f\"\\nThe number {num} is odd.\")"
   ]
  },
  {
   "cell_type": "markdown",
   "id": "5fe6b255-aba9-4837-a0cf-d41046ce11c2",
   "metadata": {},
   "source": [
    "## **7.2 while循环简介**"
   ]
  },
  {
   "cell_type": "markdown",
   "id": "495c0d0e-2c5e-4899-a2e5-9501f3c681a5",
   "metadata": {},
   "source": [
    "### **7.2.1 使用while循环**"
   ]
  },
  {
   "cell_type": "code",
   "execution_count": 18,
   "id": "a3e3ee49-d4fa-4a62-8803-dbe661d9ea0d",
   "metadata": {
    "execution": {
     "iopub.execute_input": "2024-04-10T06:19:25.379343Z",
     "iopub.status.busy": "2024-04-10T06:19:25.378440Z",
     "iopub.status.idle": "2024-04-10T06:19:25.382560Z",
     "shell.execute_reply": "2024-04-10T06:19:25.382560Z",
     "shell.execute_reply.started": "2024-04-10T06:19:25.379343Z"
    }
   },
   "outputs": [
    {
     "name": "stdout",
     "output_type": "stream",
     "text": [
      "1\n",
      "2\n",
      "3\n",
      "4\n",
      "5\n"
     ]
    }
   ],
   "source": [
    "current_number = 1\n",
    "while current_number <= 5:\n",
    "    print(current_number)\n",
    "    current_number = current_number + 1\n",
    "#current_number = current_number + 1可缩写为current_number += 1\n",
    "#自赋值运算符 +=  -= *= /= **= //="
   ]
  },
  {
   "cell_type": "markdown",
   "id": "1e1d7d37-f975-4c41-a04e-2ca5a04efc03",
   "metadata": {},
   "source": [
    "### **7.2.2 让用户选择何时退出**"
   ]
  },
  {
   "cell_type": "code",
   "execution_count": 19,
   "id": "78eafc54-8ebf-45b2-b508-02d6fbc1ff7d",
   "metadata": {
    "execution": {
     "iopub.execute_input": "2024-04-10T06:27:04.583747Z",
     "iopub.status.busy": "2024-04-10T06:27:04.582689Z",
     "iopub.status.idle": "2024-04-10T06:27:33.874170Z",
     "shell.execute_reply": "2024-04-10T06:27:33.873065Z",
     "shell.execute_reply.started": "2024-04-10T06:27:04.583747Z"
    }
   },
   "outputs": [
    {
     "name": "stdin",
     "output_type": "stream",
     "text": [
      "\n",
      "Tell me something, and I will repeat it back to you:\n",
      "Enter 'quit' to end the program. Hello everyone!\n"
     ]
    },
    {
     "name": "stdout",
     "output_type": "stream",
     "text": [
      "Hello everyone!\n"
     ]
    },
    {
     "name": "stdin",
     "output_type": "stream",
     "text": [
      "\n",
      "Tell me something, and I will repeat it back to you:\n",
      "Enter 'quit' to end the program. hhh\n"
     ]
    },
    {
     "name": "stdout",
     "output_type": "stream",
     "text": [
      "hhh\n"
     ]
    },
    {
     "name": "stdin",
     "output_type": "stream",
     "text": [
      "\n",
      "Tell me something, and I will repeat it back to you:\n",
      "Enter 'quit' to end the program. quit\n"
     ]
    },
    {
     "name": "stdout",
     "output_type": "stream",
     "text": [
      "quit\n"
     ]
    }
   ],
   "source": [
    "prompt = \"\\nTell me something, and I will repeat it back to you:\"\n",
    "prompt += \"\\nEnter 'quit' to end the program.\"\n",
    "\n",
    "message = \"\"\n",
    "while message != 'quit':\n",
    "    message = input(prompt)\n",
    "    print(message)"
   ]
  },
  {
   "cell_type": "code",
   "execution_count": 23,
   "id": "e6dcc7b5-5106-49a8-b1dc-024f706ae067",
   "metadata": {
    "execution": {
     "iopub.execute_input": "2024-04-10T06:29:33.571341Z",
     "iopub.status.busy": "2024-04-10T06:29:33.571341Z",
     "iopub.status.idle": "2024-04-10T06:29:55.918335Z",
     "shell.execute_reply": "2024-04-10T06:29:55.917706Z",
     "shell.execute_reply.started": "2024-04-10T06:29:33.571341Z"
    }
   },
   "outputs": [
    {
     "name": "stdin",
     "output_type": "stream",
     "text": [
      "\n",
      "Tell me something, and I will repeat it back to you:\n",
      "Enter 'quit' to end the program. Hello\n"
     ]
    },
    {
     "name": "stdout",
     "output_type": "stream",
     "text": [
      "Hello\n"
     ]
    },
    {
     "name": "stdin",
     "output_type": "stream",
     "text": [
      "\n",
      "Tell me something, and I will repeat it back to you:\n",
      "Enter 'quit' to end the program. hhh\n"
     ]
    },
    {
     "name": "stdout",
     "output_type": "stream",
     "text": [
      "hhh\n"
     ]
    },
    {
     "name": "stdin",
     "output_type": "stream",
     "text": [
      "\n",
      "Tell me something, and I will repeat it back to you:\n",
      "Enter 'quit' to end the program. quit\n"
     ]
    }
   ],
   "source": [
    "prompt = \"\\nTell me something, and I will repeat it back to you:\"\n",
    "prompt += \"\\nEnter 'quit' to end the program.\"\n",
    "\n",
    "message = \"\"\n",
    "while message != 'quit':\n",
    "    message = input(prompt)\n",
    "    if message != 'quit':\n",
    "        print(message)"
   ]
  },
  {
   "cell_type": "markdown",
   "id": "6fcc26a7-e4e6-46cd-8347-2a930be1285d",
   "metadata": {},
   "source": [
    "### **7.2.3 使用标志**"
   ]
  },
  {
   "cell_type": "code",
   "execution_count": 24,
   "id": "30e5e5e7-136a-4504-a196-93814f033e69",
   "metadata": {
    "execution": {
     "iopub.execute_input": "2024-04-10T06:50:00.496103Z",
     "iopub.status.busy": "2024-04-10T06:50:00.496103Z",
     "iopub.status.idle": "2024-04-10T06:50:17.479201Z",
     "shell.execute_reply": "2024-04-10T06:50:17.479201Z",
     "shell.execute_reply.started": "2024-04-10T06:50:00.496103Z"
    }
   },
   "outputs": [
    {
     "name": "stdin",
     "output_type": "stream",
     "text": [
      "\n",
      "Tell me something, and I will repeat it back to you:\n",
      "Enter 'quit' to end the program. no quit\n"
     ]
    },
    {
     "name": "stdout",
     "output_type": "stream",
     "text": [
      "no quit\n"
     ]
    },
    {
     "name": "stdin",
     "output_type": "stream",
     "text": [
      "\n",
      "Tell me something, and I will repeat it back to you:\n",
      "Enter 'quit' to end the program. hhh\n"
     ]
    },
    {
     "name": "stdout",
     "output_type": "stream",
     "text": [
      "hhh\n"
     ]
    },
    {
     "name": "stdin",
     "output_type": "stream",
     "text": [
      "\n",
      "Tell me something, and I will repeat it back to you:\n",
      "Enter 'quit' to end the program. quit\n"
     ]
    }
   ],
   "source": [
    "#在要求满足很多条件才能继续运行的程序中，可定义一个变量，用于判断整个程序是否活动状态\n",
    "#这个变量称为标志flag，程序在标志为True时运行，False时停止,标志可为任何名称\n",
    "prompt = \"\\nTell me something, and I will repeat it back to you:\"\n",
    "prompt += \"\\nEnter 'quit' to end the program.\"\n",
    "active = True\n",
    "while active:\n",
    "    message = input(prompt)\n",
    "    if message == 'quit':\n",
    "        active = False\n",
    "    else:\n",
    "        print(message)"
   ]
  },
  {
   "cell_type": "markdown",
   "id": "b0bc15d6-ec39-42ce-8ba5-b3304a78e37a",
   "metadata": {},
   "source": [
    "### **7.2.4 使用break退出循环**"
   ]
  },
  {
   "cell_type": "code",
   "execution_count": 26,
   "id": "c64200db-f4e4-4473-b292-e15d084a8434",
   "metadata": {
    "execution": {
     "iopub.execute_input": "2024-04-10T06:55:16.177502Z",
     "iopub.status.busy": "2024-04-10T06:55:16.177502Z",
     "iopub.status.idle": "2024-04-10T06:56:11.895202Z",
     "shell.execute_reply": "2024-04-10T06:56:11.894196Z",
     "shell.execute_reply.started": "2024-04-10T06:55:16.177502Z"
    }
   },
   "outputs": [
    {
     "name": "stdin",
     "output_type": "stream",
     "text": [
      "\n",
      "Please enter the name of a city you have visited:\n",
      "Enter 'quit' when you are finished. nanjing\n"
     ]
    },
    {
     "name": "stdout",
     "output_type": "stream",
     "text": [
      "I'd love to go to Nanjing!\n"
     ]
    },
    {
     "name": "stdin",
     "output_type": "stream",
     "text": [
      "\n",
      "Please enter the name of a city you have visited:\n",
      "Enter 'quit' when you are finished. lanzhou\n"
     ]
    },
    {
     "name": "stdout",
     "output_type": "stream",
     "text": [
      "I'd love to go to Lanzhou!\n"
     ]
    },
    {
     "name": "stdin",
     "output_type": "stream",
     "text": [
      "\n",
      "Please enter the name of a city you have visited:\n",
      "Enter 'quit' when you are finished. quit\n"
     ]
    }
   ],
   "source": [
    "prompt = \"\\nPlease enter the name of a city you have visited:\"\n",
    "prompt += \"\\nEnter 'quit' when you are finished.\"\n",
    "while True:\n",
    "    city = input(prompt)\n",
    "    if city == 'quit':\n",
    "        break\n",
    "    else:\n",
    "        print(f\"I'd love to go to {city.title()}!\")"
   ]
  },
  {
   "cell_type": "code",
   "execution_count": 27,
   "id": "e5470955-1155-4fec-9ded-39ce430d4c62",
   "metadata": {
    "execution": {
     "iopub.execute_input": "2024-04-10T06:57:02.902469Z",
     "iopub.status.busy": "2024-04-10T06:57:02.902469Z",
     "iopub.status.idle": "2024-04-10T06:57:19.579147Z",
     "shell.execute_reply": "2024-04-10T06:57:19.577993Z",
     "shell.execute_reply.started": "2024-04-10T06:57:02.902469Z"
    }
   },
   "outputs": [
    {
     "name": "stdin",
     "output_type": "stream",
     "text": [
      "\n",
      "Please enter the name of a city you have visited:\n",
      "Enter 'quit' when you are finished. nanjing\n"
     ]
    },
    {
     "name": "stdout",
     "output_type": "stream",
     "text": [
      "I'd love to go to Nanjing!\n"
     ]
    },
    {
     "name": "stdin",
     "output_type": "stream",
     "text": [
      "\n",
      "Please enter the name of a city you have visited:\n",
      "Enter 'quit' when you are finished. lanzhou\n"
     ]
    },
    {
     "name": "stdout",
     "output_type": "stream",
     "text": [
      "I'd love to go to Lanzhou!\n"
     ]
    },
    {
     "name": "stdin",
     "output_type": "stream",
     "text": [
      "\n",
      "Please enter the name of a city you have visited:\n",
      "Enter 'quit' when you are finished. quit\n"
     ]
    }
   ],
   "source": [
    "prompt = \"\\nPlease enter the name of a city you have visited:\"\n",
    "prompt += \"\\nEnter 'quit' when you are finished.\"\n",
    "active = True\n",
    "while active:\n",
    "    city = input(prompt)\n",
    "    if city == 'quit':\n",
    "        active = False\n",
    "    else:\n",
    "        print(f\"I'd love to go to {city.title()}!\")"
   ]
  },
  {
   "cell_type": "markdown",
   "id": "ac4c00c2-8da6-4718-b974-98736b84a4cd",
   "metadata": {},
   "source": [
    "### **7.2.5 在循环中使用continue**"
   ]
  },
  {
   "cell_type": "code",
   "execution_count": 29,
   "id": "f2a00a0c-462a-44c4-ac26-c8713948920f",
   "metadata": {
    "execution": {
     "iopub.execute_input": "2024-04-10T07:04:00.058334Z",
     "iopub.status.busy": "2024-04-10T07:04:00.058334Z",
     "iopub.status.idle": "2024-04-10T07:04:00.068902Z",
     "shell.execute_reply": "2024-04-10T07:04:00.068902Z",
     "shell.execute_reply.started": "2024-04-10T07:04:00.058334Z"
    }
   },
   "outputs": [
    {
     "name": "stdout",
     "output_type": "stream",
     "text": [
      "1\n",
      "3\n",
      "5\n",
      "7\n",
      "9\n"
     ]
    }
   ],
   "source": [
    "#continue会忽略余下的代码返回循环的开头\n",
    "num = 0\n",
    "while num < 10:\n",
    "    num += 1\n",
    "    if num % 2 == 0:\n",
    "        continue\n",
    "    print(num)"
   ]
  },
  {
   "cell_type": "markdown",
   "id": "fe0ff807-ed5a-42fc-a745-7b429ba6a923",
   "metadata": {},
   "source": [
    "### **7.2.6 避免无限循环**"
   ]
  },
  {
   "cell_type": "code",
   "execution_count": 1,
   "id": "06d57b95-ac43-4692-9686-20a4e6ae5302",
   "metadata": {
    "execution": {
     "iopub.execute_input": "2024-04-10T07:25:18.558684Z",
     "iopub.status.busy": "2024-04-10T07:25:18.558684Z",
     "iopub.status.idle": "2024-04-10T07:25:18.566520Z",
     "shell.execute_reply": "2024-04-10T07:25:18.566520Z",
     "shell.execute_reply.started": "2024-04-10T07:25:18.558684Z"
    }
   },
   "outputs": [
    {
     "name": "stdout",
     "output_type": "stream",
     "text": [
      "1\n",
      "2\n",
      "3\n",
      "4\n",
      "5\n"
     ]
    }
   ],
   "source": [
    "#按CTRL+c结束无限循环\n",
    "x = 1\n",
    "while x <= 5:\n",
    "    print(x)\n",
    "    x += 1"
   ]
  },
  {
   "cell_type": "markdown",
   "id": "c4f9686b-0eb2-4425-8c7b-bdd61e6055c2",
   "metadata": {},
   "source": [
    "## **7.3 使用while循环处理列表和字典**"
   ]
  },
  {
   "cell_type": "markdown",
   "id": "8e65efcb-0e92-47fa-9f57-5842f6c86afa",
   "metadata": {},
   "source": [
    "### **7.3.1 在列表之间移动元素**"
   ]
  },
  {
   "cell_type": "code",
   "execution_count": 4,
   "id": "bfbcf245-1b9e-49d6-bb4b-cd559c19f443",
   "metadata": {
    "execution": {
     "iopub.execute_input": "2024-04-10T07:36:47.252456Z",
     "iopub.status.busy": "2024-04-10T07:36:47.251953Z",
     "iopub.status.idle": "2024-04-10T07:36:47.256213Z",
     "shell.execute_reply": "2024-04-10T07:36:47.256213Z",
     "shell.execute_reply.started": "2024-04-10T07:36:47.251953Z"
    }
   },
   "outputs": [
    {
     "name": "stdout",
     "output_type": "stream",
     "text": [
      "Verifying user: Candace\n",
      "Verifying user: Brian\n",
      "Verifying user: Alice\n",
      "\n",
      "The following users have been confirmed:\n",
      "Candace\n",
      "Brian\n",
      "Alice\n"
     ]
    }
   ],
   "source": [
    "unconfirmed_users = ['alice','brian','candace']\n",
    "confirmed_users = []\n",
    "while unconfirmed_users:\n",
    "    current_user = unconfirmed_users.pop()\n",
    "    print(f\"Verifying user: {current_user.title()}\")\n",
    "    confirmed_users.append(current_user)\n",
    "print(\"\\nThe following users have been confirmed:\")\n",
    "for confirmed_user in confirmed_users:\n",
    "    print(confirmed_user.title())"
   ]
  },
  {
   "cell_type": "markdown",
   "id": "f437a87a-4485-48f1-8d54-f3fb5511ffc5",
   "metadata": {},
   "source": [
    "### **7.3.2 删除为特定值的所有列表元素**"
   ]
  },
  {
   "cell_type": "code",
   "execution_count": 5,
   "id": "430c2d3b-a6e4-4705-85e8-e5abe7862164",
   "metadata": {
    "execution": {
     "iopub.execute_input": "2024-04-10T07:41:52.059405Z",
     "iopub.status.busy": "2024-04-10T07:41:52.059405Z",
     "iopub.status.idle": "2024-04-10T07:41:52.068269Z",
     "shell.execute_reply": "2024-04-10T07:41:52.068269Z",
     "shell.execute_reply.started": "2024-04-10T07:41:52.059405Z"
    }
   },
   "outputs": [
    {
     "name": "stdout",
     "output_type": "stream",
     "text": [
      "['dog', 'cat', 'dog', 'cat', 'rabbit', 'cat']\n",
      "['dog', 'dog', 'rabbit']\n"
     ]
    }
   ],
   "source": [
    "pets = ['dog','cat','dog','cat','rabbit','cat']\n",
    "print(pets)\n",
    "while 'cat' in pets:\n",
    "    pets.remove('cat')\n",
    "print(pets)"
   ]
  },
  {
   "cell_type": "markdown",
   "id": "200384f1-afb4-408b-bd75-cd5707c4e8e9",
   "metadata": {},
   "source": [
    "### **7.3.3 使用用户输入填充字典**"
   ]
  },
  {
   "cell_type": "code",
   "execution_count": 1,
   "id": "7f766d8d-2236-491d-b8db-2298c51f4323",
   "metadata": {
    "execution": {
     "iopub.execute_input": "2024-04-10T08:06:23.385211Z",
     "iopub.status.busy": "2024-04-10T08:06:23.385211Z",
     "iopub.status.idle": "2024-04-10T08:07:00.706417Z",
     "shell.execute_reply": "2024-04-10T08:07:00.705455Z",
     "shell.execute_reply.started": "2024-04-10T08:06:23.385211Z"
    }
   },
   "outputs": [
    {
     "name": "stdin",
     "output_type": "stream",
     "text": [
      "\n",
      "What is your name? Li Hua\n",
      "Which moutain would you like to clim someday? Qixia\n",
      "Would you like to let another person respond?(yes/no) yes\n",
      "\n",
      "What is your name? Alice\n",
      "Which moutain would you like to clim someday? Huangshan\n",
      "Would you like to let another person respond?(yes/no) yes\n",
      "\n",
      "What is your name? Jack\n",
      "Which moutain would you like to clim someday? Taishan\n",
      "Would you like to let another person respond?(yes/no) no\n"
     ]
    },
    {
     "name": "stdout",
     "output_type": "stream",
     "text": [
      "\n",
      "--- Poll Results ---\n",
      "Li Hua would like to climb Qixia\n",
      "Alice would like to climb Huangshan\n",
      "Jack would like to climb Taishan\n"
     ]
    }
   ],
   "source": [
    "responses = {}\n",
    "polling_active = True\n",
    "while polling_active:\n",
    "    name = input(\"\\nWhat is your name?\")\n",
    "    response = input(\"Which moutain would you like to clim someday?\")\n",
    "    responses[name] = response\n",
    "    repeat = input(\"Would you like to let another person respond?(yes/no)\")\n",
    "    if repeat == 'no':\n",
    "        polling_active = False\n",
    "print(\"\\n--- Poll Results ---\")\n",
    "for name,response in responses.items():\n",
    "    print(f\"{name} would like to climb {response}\")"
   ]
  },
  {
   "cell_type": "markdown",
   "id": "4094ea90-dccd-4ee6-9db4-716273d6ec9b",
   "metadata": {},
   "source": [
    "# **练习**"
   ]
  },
  {
   "cell_type": "markdown",
   "id": "f163c4b8-e4ce-4719-98b4-48019b4a608b",
   "metadata": {},
   "source": [
    "## *7.1 汽车租赁*"
   ]
  },
  {
   "cell_type": "code",
   "execution_count": 3,
   "id": "b519cef5-acc4-415b-874c-0da5f7fbdbcd",
   "metadata": {
    "execution": {
     "iopub.execute_input": "2024-04-10T13:49:55.150153Z",
     "iopub.status.busy": "2024-04-10T13:49:55.150153Z",
     "iopub.status.idle": "2024-04-10T13:49:58.223501Z",
     "shell.execute_reply": "2024-04-10T13:49:58.222498Z",
     "shell.execute_reply.started": "2024-04-10T13:49:55.150153Z"
    }
   },
   "outputs": [
    {
     "name": "stdin",
     "output_type": "stream",
     "text": [
      "What kind of car do you want to rent? BYD\n"
     ]
    },
    {
     "name": "stdout",
     "output_type": "stream",
     "text": [
      "Let me see if I can find a BYD.\n"
     ]
    }
   ],
   "source": [
    "car = input(\"What kind of car do you want to rent?\")\n",
    "print(f\"Let me see if I can find a {car}.\")"
   ]
  },
  {
   "cell_type": "markdown",
   "id": "6cf73144-8b02-4021-a325-ccb8c569d4b4",
   "metadata": {},
   "source": [
    "## *7.2 餐馆订位*"
   ]
  },
  {
   "cell_type": "code",
   "execution_count": 4,
   "id": "6e6a6ff5-2f84-479b-9682-b71379137a1e",
   "metadata": {
    "execution": {
     "iopub.execute_input": "2024-04-10T13:52:46.567357Z",
     "iopub.status.busy": "2024-04-10T13:52:46.567357Z",
     "iopub.status.idle": "2024-04-10T13:52:49.273646Z",
     "shell.execute_reply": "2024-04-10T13:52:49.273646Z",
     "shell.execute_reply.started": "2024-04-10T13:52:46.567357Z"
    }
   },
   "outputs": [
    {
     "name": "stdin",
     "output_type": "stream",
     "text": [
      "How many people will be dining? 9\n"
     ]
    },
    {
     "name": "stdout",
     "output_type": "stream",
     "text": [
      "There are not enough free tables.\n"
     ]
    }
   ],
   "source": [
    "people = input(\"How many people will be dining?\")\n",
    "people = int(people)\n",
    "if people > 8:\n",
    "    print(\"There are not enough free tables.\")\n",
    "else:\n",
    "     print(\"There are enough free tables.\")"
   ]
  },
  {
   "cell_type": "markdown",
   "id": "ae2feb39-972b-41c9-acfa-af70f5cdb730",
   "metadata": {},
   "source": [
    "## *7.3 10的整数倍*"
   ]
  },
  {
   "cell_type": "code",
   "execution_count": 5,
   "id": "10b5e432-1cc2-41d8-83ae-8c10ccf3732e",
   "metadata": {
    "execution": {
     "iopub.execute_input": "2024-04-10T13:54:24.753671Z",
     "iopub.status.busy": "2024-04-10T13:54:24.753671Z",
     "iopub.status.idle": "2024-04-10T13:54:29.473723Z",
     "shell.execute_reply": "2024-04-10T13:54:29.473723Z",
     "shell.execute_reply.started": "2024-04-10T13:54:24.753671Z"
    }
   },
   "outputs": [
    {
     "name": "stdin",
     "output_type": "stream",
     "text": [
      "Enter a number, and I'll tell you if it's multiple of 10:  11\n"
     ]
    },
    {
     "name": "stdout",
     "output_type": "stream",
     "text": [
      "\n",
      "The number 11 is not multiple of 10.\n"
     ]
    }
   ],
   "source": [
    "num = input(\"Enter a number, and I'll tell you if it's multiple of 10: \")\n",
    "num = int(num)\n",
    "if num % 10 == 0:\n",
    "    print(f\"\\nThe number {num} is multiple of 10.\")\n",
    "else:\n",
    "    print(f\"\\nThe number {num} is not multiple of 10.\")"
   ]
  },
  {
   "cell_type": "markdown",
   "id": "7cba566e-2fcc-48cd-9f14-ff7b76f7bb2c",
   "metadata": {},
   "source": [
    "## *7.4 比萨配料*"
   ]
  },
  {
   "cell_type": "code",
   "execution_count": 6,
   "id": "0809f6c2-7a90-4a6d-8e45-0ee106d730a0",
   "metadata": {
    "execution": {
     "iopub.execute_input": "2024-04-10T13:57:06.250253Z",
     "iopub.status.busy": "2024-04-10T13:57:06.249153Z",
     "iopub.status.idle": "2024-04-10T13:57:17.900172Z",
     "shell.execute_reply": "2024-04-10T13:57:17.900172Z",
     "shell.execute_reply.started": "2024-04-10T13:57:06.249153Z"
    }
   },
   "outputs": [
    {
     "name": "stdin",
     "output_type": "stream",
     "text": [
      "\n",
      "Enter the name of topping you want.\n",
      "Enter 'quit' to end the program. cheese\n"
     ]
    },
    {
     "name": "stdout",
     "output_type": "stream",
     "text": [
      "Add cheese to pizza.\n"
     ]
    },
    {
     "name": "stdin",
     "output_type": "stream",
     "text": [
      "\n",
      "Enter the name of topping you want.\n",
      "Enter 'quit' to end the program. potato\n"
     ]
    },
    {
     "name": "stdout",
     "output_type": "stream",
     "text": [
      "Add potato to pizza.\n"
     ]
    },
    {
     "name": "stdin",
     "output_type": "stream",
     "text": [
      "\n",
      "Enter the name of topping you want.\n",
      "Enter 'quit' to end the program. quit\n"
     ]
    }
   ],
   "source": [
    "prompt = \"\\nEnter the name of topping you want.\"\n",
    "prompt += \"\\nEnter 'quit' to end the program.\"\n",
    "\n",
    "message = \"\"\n",
    "while message != 'quit':\n",
    "    message = input(prompt)\n",
    "    if message != 'quit':\n",
    "        print(f\"Add {message} to pizza.\")"
   ]
  },
  {
   "cell_type": "code",
   "execution_count": 7,
   "id": "a6024136-3d23-4af9-b9e3-208b270143b8",
   "metadata": {
    "execution": {
     "iopub.execute_input": "2024-04-10T13:59:17.073171Z",
     "iopub.status.busy": "2024-04-10T13:59:17.072172Z",
     "iopub.status.idle": "2024-04-10T13:59:32.437451Z",
     "shell.execute_reply": "2024-04-10T13:59:32.436450Z",
     "shell.execute_reply.started": "2024-04-10T13:59:17.072172Z"
    }
   },
   "outputs": [
    {
     "name": "stdin",
     "output_type": "stream",
     "text": [
      "\n",
      "Enter the name of topping you want.\n",
      "Enter 'quit' to end the program. cheese\n"
     ]
    },
    {
     "name": "stdout",
     "output_type": "stream",
     "text": [
      "Add cheese to pizza.\n"
     ]
    },
    {
     "name": "stdin",
     "output_type": "stream",
     "text": [
      "\n",
      "Enter the name of topping you want.\n",
      "Enter 'quit' to end the program. potato\n"
     ]
    },
    {
     "name": "stdout",
     "output_type": "stream",
     "text": [
      "Add potato to pizza.\n"
     ]
    },
    {
     "name": "stdin",
     "output_type": "stream",
     "text": [
      "\n",
      "Enter the name of topping you want.\n",
      "Enter 'quit' to end the program. quit\n"
     ]
    },
    {
     "name": "stdout",
     "output_type": "stream",
     "text": [
      "Add quit to pizza.\n"
     ]
    }
   ],
   "source": [
    "prompt = \"\\nEnter the name of topping you want.\"\n",
    "prompt += \"\\nEnter 'quit' to end the program.\"\n",
    "\n",
    "active = True\n",
    "while active:\n",
    "    message = input(prompt)\n",
    "    print(f\"Add {message} to pizza.\")\n",
    "    if message == 'quit':\n",
    "        active = False"
   ]
  },
  {
   "cell_type": "code",
   "execution_count": 8,
   "id": "b47a4eb9-35d5-4883-b909-4337ffadcdc8",
   "metadata": {
    "execution": {
     "iopub.execute_input": "2024-04-10T14:00:03.457490Z",
     "iopub.status.busy": "2024-04-10T14:00:03.457490Z",
     "iopub.status.idle": "2024-04-10T14:00:15.558909Z",
     "shell.execute_reply": "2024-04-10T14:00:15.558909Z",
     "shell.execute_reply.started": "2024-04-10T14:00:03.457490Z"
    }
   },
   "outputs": [
    {
     "name": "stdin",
     "output_type": "stream",
     "text": [
      "\n",
      "Enter the name of topping you want.\n",
      "Enter 'quit' to end the program. cheese\n"
     ]
    },
    {
     "name": "stdout",
     "output_type": "stream",
     "text": [
      "Add cheese to pizza.\n"
     ]
    },
    {
     "name": "stdin",
     "output_type": "stream",
     "text": [
      "\n",
      "Enter the name of topping you want.\n",
      "Enter 'quit' to end the program. potato\n"
     ]
    },
    {
     "name": "stdout",
     "output_type": "stream",
     "text": [
      "Add potato to pizza.\n"
     ]
    },
    {
     "name": "stdin",
     "output_type": "stream",
     "text": [
      "\n",
      "Enter the name of topping you want.\n",
      "Enter 'quit' to end the program. quit\n"
     ]
    },
    {
     "name": "stdout",
     "output_type": "stream",
     "text": [
      "Add quit to pizza.\n"
     ]
    }
   ],
   "source": [
    "prompt = \"\\nEnter the name of topping you want.\"\n",
    "prompt += \"\\nEnter 'quit' to end the program.\"\n",
    "\n",
    "while True:\n",
    "    message = input(prompt)\n",
    "    print(f\"Add {message} to pizza.\")\n",
    "    if message == 'quit':\n",
    "        break"
   ]
  },
  {
   "cell_type": "markdown",
   "id": "1be7b8c4-7974-4bc8-897b-4e5acef7a4fc",
   "metadata": {},
   "source": [
    "## *7.5 电影票*"
   ]
  },
  {
   "cell_type": "code",
   "execution_count": 1,
   "id": "a3859dad-b103-4d96-817a-06e92fc33c4b",
   "metadata": {
    "execution": {
     "iopub.execute_input": "2024-04-10T13:42:59.441414Z",
     "iopub.status.busy": "2024-04-10T13:42:59.441414Z",
     "iopub.status.idle": "2024-04-10T13:43:16.180275Z",
     "shell.execute_reply": "2024-04-10T13:43:16.180275Z",
     "shell.execute_reply.started": "2024-04-10T13:42:59.441414Z"
    }
   },
   "outputs": [
    {
     "name": "stdin",
     "output_type": "stream",
     "text": [
      "Enter your age:\n",
      "Enter 114514 to end the program. 2\n"
     ]
    },
    {
     "name": "stdout",
     "output_type": "stream",
     "text": [
      "You can watch the movie free of charge.\n"
     ]
    },
    {
     "name": "stdin",
     "output_type": "stream",
     "text": [
      "Enter your age:\n",
      "Enter 114514 to end the program. 6\n"
     ]
    },
    {
     "name": "stdout",
     "output_type": "stream",
     "text": [
      "You need to pay 10 $.\n"
     ]
    },
    {
     "name": "stdin",
     "output_type": "stream",
     "text": [
      "Enter your age:\n",
      "Enter 114514 to end the program. 66\n"
     ]
    },
    {
     "name": "stdout",
     "output_type": "stream",
     "text": [
      "You need to pay 15 $.\n"
     ]
    },
    {
     "name": "stdin",
     "output_type": "stream",
     "text": [
      "Enter your age:\n",
      "Enter 114514 to end the program. 114514\n"
     ]
    }
   ],
   "source": [
    "prompt = \"Enter your age:\"\n",
    "prompt += \"\\nEnter 114514 to end the program.\"\n",
    "message = \"\"\n",
    "while message != 114514:\n",
    "    message = input(prompt)\n",
    "    message = int(message)\n",
    "    if message < 3:\n",
    "        print(\"You can watch the movie free of charge.\")\n",
    "    elif message < 12:\n",
    "        print(\"You need to pay 10 $.\")\n",
    "    elif message < 114514:\n",
    "        print(\"You need to pay 15 $.\")"
   ]
  },
  {
   "cell_type": "markdown",
   "id": "6b42e89c-2ace-469d-b405-3358fc304985",
   "metadata": {},
   "source": [
    "## *7.6 三种出路*"
   ]
  },
  {
   "cell_type": "code",
   "execution_count": 1,
   "id": "c0f83825-560b-43ad-940c-34061d316ddd",
   "metadata": {
    "execution": {
     "iopub.execute_input": "2024-04-10T13:42:59.441414Z",
     "iopub.status.busy": "2024-04-10T13:42:59.441414Z",
     "iopub.status.idle": "2024-04-10T13:43:16.180275Z",
     "shell.execute_reply": "2024-04-10T13:43:16.180275Z",
     "shell.execute_reply.started": "2024-04-10T13:42:59.441414Z"
    }
   },
   "outputs": [
    {
     "name": "stdin",
     "output_type": "stream",
     "text": [
      "Enter your age:\n",
      "Enter 114514 to end the program. 2\n"
     ]
    },
    {
     "name": "stdout",
     "output_type": "stream",
     "text": [
      "You can watch the movie free of charge.\n"
     ]
    },
    {
     "name": "stdin",
     "output_type": "stream",
     "text": [
      "Enter your age:\n",
      "Enter 114514 to end the program. 6\n"
     ]
    },
    {
     "name": "stdout",
     "output_type": "stream",
     "text": [
      "You need to pay 10 $.\n"
     ]
    },
    {
     "name": "stdin",
     "output_type": "stream",
     "text": [
      "Enter your age:\n",
      "Enter 114514 to end the program. 66\n"
     ]
    },
    {
     "name": "stdout",
     "output_type": "stream",
     "text": [
      "You need to pay 15 $.\n"
     ]
    },
    {
     "name": "stdin",
     "output_type": "stream",
     "text": [
      "Enter your age:\n",
      "Enter 114514 to end the program. 114514\n"
     ]
    }
   ],
   "source": [
    "prompt = \"Enter your age:\"\n",
    "prompt += \"\\nEnter 114514 to end the program.\"\n",
    "message = \"\"\n",
    "while message != 114514:\n",
    "    message = input(prompt)\n",
    "    message = int(message)\n",
    "    if message < 3:\n",
    "        print(\"You can watch the movie free of charge.\")\n",
    "    elif message < 12:\n",
    "        print(\"You need to pay 10 $.\")\n",
    "    elif message < 114514:\n",
    "        print(\"You need to pay 15 $.\")"
   ]
  },
  {
   "cell_type": "code",
   "execution_count": 1,
   "id": "fda4774d-21fe-43c9-aa79-619fae2468b9",
   "metadata": {
    "execution": {
     "iopub.execute_input": "2024-04-19T01:55:33.099899Z",
     "iopub.status.busy": "2024-04-19T01:55:33.097903Z",
     "iopub.status.idle": "2024-04-19T01:55:48.252626Z",
     "shell.execute_reply": "2024-04-19T01:55:48.251626Z",
     "shell.execute_reply.started": "2024-04-19T01:55:33.099899Z"
    }
   },
   "outputs": [
    {
     "name": "stdin",
     "output_type": "stream",
     "text": [
      "Enter your age:\n",
      "Enter 114514 to end the program. 1\n"
     ]
    },
    {
     "name": "stdout",
     "output_type": "stream",
     "text": [
      "You can watch the movie free of charge.\n"
     ]
    },
    {
     "name": "stdin",
     "output_type": "stream",
     "text": [
      "Enter your age:\n",
      "Enter 114514 to end the program. 6\n"
     ]
    },
    {
     "name": "stdout",
     "output_type": "stream",
     "text": [
      "You need to pay 10 $.\n"
     ]
    },
    {
     "name": "stdin",
     "output_type": "stream",
     "text": [
      "Enter your age:\n",
      "Enter 114514 to end the program. 77\n"
     ]
    },
    {
     "name": "stdout",
     "output_type": "stream",
     "text": [
      "You need to pay 15 $.\n"
     ]
    },
    {
     "name": "stdin",
     "output_type": "stream",
     "text": [
      "Enter your age:\n",
      "Enter 114514 to end the program. 114514\n"
     ]
    }
   ],
   "source": [
    "prompt = \"Enter your age:\"\n",
    "prompt += \"\\nEnter 114514 to end the program.\"\n",
    "active = True\n",
    "while active:\n",
    "    message = input(prompt)\n",
    "    message = int(message)\n",
    "    if message < 3:\n",
    "        print(\"You can watch the movie free of charge.\")\n",
    "    elif message < 12:\n",
    "        print(\"You need to pay 10 $.\")\n",
    "    elif message < 114514:\n",
    "        print(\"You need to pay 15 $.\")\n",
    "    elif message == 114514:\n",
    "        active = False"
   ]
  },
  {
   "cell_type": "code",
   "execution_count": 2,
   "id": "a0d62606-26f6-4038-9750-ea6ef4afaeb2",
   "metadata": {
    "execution": {
     "iopub.execute_input": "2024-04-19T01:56:19.985666Z",
     "iopub.status.busy": "2024-04-19T01:56:19.985666Z",
     "iopub.status.idle": "2024-04-19T01:56:34.281814Z",
     "shell.execute_reply": "2024-04-19T01:56:34.280816Z",
     "shell.execute_reply.started": "2024-04-19T01:56:19.985666Z"
    }
   },
   "outputs": [
    {
     "name": "stdin",
     "output_type": "stream",
     "text": [
      "Enter your age:\n",
      "Enter 114514 to end the program. 1\n"
     ]
    },
    {
     "name": "stdout",
     "output_type": "stream",
     "text": [
      "You can watch the movie free of charge.\n"
     ]
    },
    {
     "name": "stdin",
     "output_type": "stream",
     "text": [
      "Enter your age:\n",
      "Enter 114514 to end the program. 6\n"
     ]
    },
    {
     "name": "stdout",
     "output_type": "stream",
     "text": [
      "You need to pay 10 $.\n"
     ]
    },
    {
     "name": "stdin",
     "output_type": "stream",
     "text": [
      "Enter your age:\n",
      "Enter 114514 to end the program. 77\n"
     ]
    },
    {
     "name": "stdout",
     "output_type": "stream",
     "text": [
      "You need to pay 15 $.\n"
     ]
    },
    {
     "name": "stdin",
     "output_type": "stream",
     "text": [
      "Enter your age:\n",
      "Enter 114514 to end the program. 114514\n"
     ]
    }
   ],
   "source": [
    "prompt = \"Enter your age:\"\n",
    "prompt += \"\\nEnter 114514 to end the program.\"\n",
    "\n",
    "while True:\n",
    "    message = input(prompt)\n",
    "    message = int(message)\n",
    "    if message < 3:\n",
    "        print(\"You can watch the movie free of charge.\")\n",
    "    elif message < 12:\n",
    "        print(\"You need to pay 10 $.\")\n",
    "    elif message < 114514:\n",
    "        print(\"You need to pay 15 $.\")\n",
    "    elif message == 114514:\n",
    "        break"
   ]
  },
  {
   "cell_type": "markdown",
   "id": "4b09de39-33bb-4b10-a110-6d5ca68aaa9a",
   "metadata": {},
   "source": [
    "## *7.7 无限循环*"
   ]
  },
  {
   "cell_type": "code",
   "execution_count": null,
   "id": "d99c85cb-eef9-4904-98c2-273032109cd0",
   "metadata": {},
   "outputs": [],
   "source": [
    "num = 1\n",
    "while num < 2:\n",
    "    print(num)"
   ]
  },
  {
   "cell_type": "markdown",
   "id": "968cd4cf-97f7-473e-a718-ec917dc77724",
   "metadata": {},
   "source": [
    "## *7.8 熟食店*"
   ]
  },
  {
   "cell_type": "code",
   "execution_count": 13,
   "id": "665ee3e3-0063-4f86-afbc-a48a16830de7",
   "metadata": {
    "execution": {
     "iopub.execute_input": "2024-04-10T14:34:47.376405Z",
     "iopub.status.busy": "2024-04-10T14:34:47.376405Z",
     "iopub.status.idle": "2024-04-10T14:34:47.389013Z",
     "shell.execute_reply": "2024-04-10T14:34:47.389013Z",
     "shell.execute_reply.started": "2024-04-10T14:34:47.376405Z"
    }
   },
   "outputs": [
    {
     "name": "stdout",
     "output_type": "stream",
     "text": [
      "I made your fish sandwich.\n",
      "I made your ham sandwich.\n",
      "I made your egg sandwich.\n",
      "All sandwiches are finished:\n",
      "fish sandwich\n",
      "ham sandwich\n",
      "egg sandwich\n"
     ]
    }
   ],
   "source": [
    "sandwich_orders = ['egg sandwich','ham sandwich','fish sandwich']\n",
    "finished_sandwiches = []\n",
    "while sandwich_orders:\n",
    "    finished_sandwich = sandwich_orders.pop()\n",
    "    print(f\"I made your {finished_sandwich}.\")\n",
    "    finished_sandwiches.append(finished_sandwich)\n",
    "print(\"All sandwiches are finished:\")\n",
    "for sandwich in finished_sandwiches:\n",
    "    print(sandwich)"
   ]
  },
  {
   "cell_type": "markdown",
   "id": "1c700745-896f-4dea-b303-e8f21d406b24",
   "metadata": {},
   "source": [
    "## *7.9 五香烟熏牛肉卖完了*"
   ]
  },
  {
   "cell_type": "code",
   "execution_count": 18,
   "id": "1680c63b-ffb7-44c0-8c81-e626fca71684",
   "metadata": {
    "execution": {
     "iopub.execute_input": "2024-04-10T14:41:39.768279Z",
     "iopub.status.busy": "2024-04-10T14:41:39.768279Z",
     "iopub.status.idle": "2024-04-10T14:41:39.778486Z",
     "shell.execute_reply": "2024-04-10T14:41:39.778486Z",
     "shell.execute_reply.started": "2024-04-10T14:41:39.768279Z"
    }
   },
   "outputs": [
    {
     "name": "stdout",
     "output_type": "stream",
     "text": [
      "The pastrami of deli has been sold out.\n",
      "1\n"
     ]
    }
   ],
   "source": [
    "sandwich_orders = ['egg sandwich','pastrami','ham sandwich','pastrami','fish sandwich','pastrami']\n",
    "print(\"The pastrami of deli has been sold out.\")\n",
    "while 'pastrami' in sandwich_orders:\n",
    "    sandwich_orders.remove('pastrami')\n",
    "if 'pastrami' not in sandwich_orders:\n",
    "    print(1)"
   ]
  },
  {
   "cell_type": "markdown",
   "id": "db862e56-f341-4170-975d-7374fe1e20a9",
   "metadata": {},
   "source": [
    "## *7.10 梦想中的度假胜地*"
   ]
  },
  {
   "cell_type": "code",
   "execution_count": 19,
   "id": "c0f80051-07b0-46e5-8589-de61ed30eafe",
   "metadata": {
    "execution": {
     "iopub.execute_input": "2024-04-10T14:50:56.747288Z",
     "iopub.status.busy": "2024-04-10T14:50:56.746288Z",
     "iopub.status.idle": "2024-04-10T14:52:04.032058Z",
     "shell.execute_reply": "2024-04-10T14:52:04.032058Z",
     "shell.execute_reply.started": "2024-04-10T14:50:56.747288Z"
    }
   },
   "outputs": [
    {
     "name": "stdin",
     "output_type": "stream",
     "text": [
      "\n",
      "What is your name? Si Wei\n",
      "If you could visit one place in the world, where would you go? Japan\n",
      "Would you like to let another person respond?(yes/no) yes\n",
      "\n",
      "What is your name? Li Hua\n",
      "If you could visit one place in the world, where would you go? Nanjing\n",
      "Would you like to let another person respond?(yes/no) yes\n",
      "\n",
      "What is your name? Alice\n",
      "If you could visit one place in the world, where would you go? Beijing\n",
      "Would you like to let another person respond?(yes/no) no\n"
     ]
    },
    {
     "name": "stdout",
     "output_type": "stream",
     "text": [
      "\n",
      "--- Poll Results ---\n",
      "Si Wei would like to go to Japan.\n",
      "Li Hua would like to go to Nanjing.\n",
      "Alice would like to go to Beijing.\n"
     ]
    }
   ],
   "source": [
    "places = {}\n",
    "polling_active = True\n",
    "while polling_active:\n",
    "    name = input(\"\\nWhat is your name?\")\n",
    "    place = input(\"If you could visit one place in the world, where would you go?\")\n",
    "    places[name] = place\n",
    "    repeat = input(\"Would you like to let another person respond?(yes/no)\")\n",
    "    if repeat == 'no':\n",
    "        polling_active = False\n",
    "print(\"\\n--- Poll Results ---\")\n",
    "for name,place in places.items():\n",
    "    print(f\"{name} would like to go to {place}.\")"
   ]
  }
 ],
 "metadata": {
  "kernelspec": {
   "display_name": "Python 3 (ipykernel)",
   "language": "python",
   "name": "python3"
  },
  "language_info": {
   "codemirror_mode": {
    "name": "ipython",
    "version": 3
   },
   "file_extension": ".py",
   "mimetype": "text/x-python",
   "name": "python",
   "nbconvert_exporter": "python",
   "pygments_lexer": "ipython3",
   "version": "3.11.7"
  }
 },
 "nbformat": 4,
 "nbformat_minor": 5
}
