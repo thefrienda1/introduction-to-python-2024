{
 "cells": [
  {
   "cell_type": "markdown",
   "id": "a59f78ef-253d-4bbd-8514-ac9610f04b35",
   "metadata": {},
   "source": [
    "## *3.1 姓名*"
   ]
  },
  {
   "cell_type": "code",
   "execution_count": 1,
   "id": "e4bdb2ee-f956-4636-88ce-aeaca39b12b1",
   "metadata": {},
   "outputs": [
    {
     "name": "stdout",
     "output_type": "stream",
     "text": [
      "['faker', 'zeus', 'oner', 'gumayusi', 'keria']\n"
     ]
    }
   ],
   "source": [
    "names = ['faker','zeus','oner','gumayusi','keria']\n",
    "print(names)"
   ]
  },
  {
   "cell_type": "markdown",
   "id": "40856328-5a23-4b92-afb8-b7bfcde2ed2a",
   "metadata": {},
   "source": [
    "## *3.2 问候语*"
   ]
  },
  {
   "cell_type": "code",
   "execution_count": 2,
   "id": "817fe161-9072-4216-a69d-74a45b6972ac",
   "metadata": {},
   "outputs": [
    {
     "name": "stdout",
     "output_type": "stream",
     "text": [
      "['faker', 'zeus', 'oner', 'gumayusi', 'keria']\n",
      "Faker, good night!\n",
      "Zeus, good night!\n",
      "Oner, good night!\n",
      "Gumayusi, good night!\n",
      "Keria, good night!\n"
     ]
    }
   ],
   "source": [
    "names = ['faker','zeus','oner','gumayusi','keria']\n",
    "print(names)\n",
    "for name in names:\n",
    "    print(f'{name.title()}, good night!')"
   ]
  },
  {
   "cell_type": "markdown",
   "id": "434d0747-fa1e-423a-8ee7-4f06b63d6082",
   "metadata": {},
   "source": [
    "## *3.3 自己的列表*"
   ]
  },
  {
   "cell_type": "code",
   "execution_count": 8,
   "id": "5de7f436-23a1-4414-98fa-03114ed8cad8",
   "metadata": {},
   "outputs": [
    {
     "name": "stdout",
     "output_type": "stream",
     "text": [
      "I usually take a bike to school.\n",
      "I don't have a car.\n",
      "I have never taken a plane.\n"
     ]
    }
   ],
   "source": [
    "transports = ['bike','car','plane']\n",
    "print(f'I usually take a {transports[0]} to school.')\n",
    "print(f'I don\\'t have a {transports[1]}.')\n",
    "print(f'I have never taken a {transports[2]}.')"
   ]
  },
  {
   "cell_type": "markdown",
   "id": "8e8c1455-a2c9-4c24-81ed-150bd28a871c",
   "metadata": {},
   "source": [
    "## *3.4 嘉宾名单*"
   ]
  },
  {
   "cell_type": "code",
   "execution_count": 2,
   "id": "8129b80f-b257-4616-b052-1ca522cc4217",
   "metadata": {},
   "outputs": [
    {
     "name": "stdout",
     "output_type": "stream",
     "text": [
      "Faker, would you like to have dinner with me?\n",
      "Zeus, would you like to have dinner with me?\n",
      "Oner, would you like to have dinner with me?\n"
     ]
    }
   ],
   "source": [
    "dinner_names = ['faker','zeus','oner']\n",
    "for dinner_name in dinner_names:\n",
    "    print(f'{dinner_name.title()}, would you like to have dinner with me?')"
   ]
  },
  {
   "cell_type": "markdown",
   "id": "4de4cbf9-2c8c-4aca-ac3f-6e5f40db1913",
   "metadata": {},
   "source": [
    "## *3.5 修改嘉宾名单*"
   ]
  },
  {
   "cell_type": "code",
   "execution_count": 4,
   "id": "c5bd842a-eb4d-4c3b-907f-cb47fd596440",
   "metadata": {},
   "outputs": [
    {
     "name": "stdout",
     "output_type": "stream",
     "text": [
      "Oner can't come to have dinner.\n",
      "Faker, would you like to have dinner with me?\n",
      "Zeus, would you like to have dinner with me?\n",
      "Gumayusi, would you like to have dinner with me?\n"
     ]
    }
   ],
   "source": [
    "dinner_names = ['faker','zeus','oner']\n",
    "print(f'{dinner_names[2].title()} can\\'t come to have dinner.')\n",
    "dinner_names[2] = 'gumayusi'\n",
    "for dinner_name in dinner_names:\n",
    "    print(f'{dinner_name.title()}, would you like to have dinner with me?')"
   ]
  },
  {
   "cell_type": "markdown",
   "id": "dab039de-6566-412f-b1db-299d512ccca9",
   "metadata": {},
   "source": [
    "## *3.6 添加嘉宾*"
   ]
  },
  {
   "cell_type": "code",
   "execution_count": 5,
   "id": "650fe7e7-e3b6-4cde-8aac-fa4990295af1",
   "metadata": {},
   "outputs": [
    {
     "name": "stdout",
     "output_type": "stream",
     "text": [
      "I found a bigger table to invite more people.\n",
      "Bengi, would you like to have dinner with me?\n",
      "Faker, would you like to have dinner with me?\n",
      "Keria, would you like to have dinner with me?\n",
      "Zeus, would you like to have dinner with me?\n",
      "Oner, would you like to have dinner with me?\n",
      "Gumayusi, would you like to have dinner with me?\n"
     ]
    }
   ],
   "source": [
    "dinner_names = ['faker','zeus','oner']\n",
    "print('I found a bigger table to invite more people.')\n",
    "dinner_names.append('gumayusi')\n",
    "dinner_names.insert(0,'bengi')\n",
    "dinner_names.insert(2,'keria')\n",
    "for dinner_name in dinner_names:\n",
    "    print(f'{dinner_name.title()}, would you like to have dinner with me?')"
   ]
  },
  {
   "cell_type": "markdown",
   "id": "32af0eb7-57e6-4abe-a972-c805482bc0ff",
   "metadata": {},
   "source": [
    "## *3.7 缩短名单*"
   ]
  },
  {
   "cell_type": "code",
   "execution_count": 15,
   "id": "e77425ce-3d31-45f0-bb14-8459b16752f6",
   "metadata": {},
   "outputs": [
    {
     "name": "stdout",
     "output_type": "stream",
     "text": [
      "I am sorry because I can only invite two people.\n",
      "Gumayusi, I am sorry that I can't have dinner with you.\n",
      "Oner, I am sorry that I can't have dinner with you.\n",
      "Zeus, I am sorry that I can't have dinner with you.\n",
      "Keria, I am sorry that I can't have dinner with you.\n",
      "Bengi, we can still have dinner together.\n",
      "Faker, we can still have dinner together.\n",
      "[]\n"
     ]
    }
   ],
   "source": [
    "dinner_names = ['faker','zeus','oner']\n",
    "dinner_names.append('gumayusi')\n",
    "dinner_names.insert(0,'bengi')\n",
    "dinner_names.insert(2,'keria')\n",
    "print('I am sorry because I can only invite two people.')\n",
    "print(f'{dinner_names.pop().title()}, I am sorry that I can\\'t have dinner with you.')\n",
    "print(f'{dinner_names.pop().title()}, I am sorry that I can\\'t have dinner with you.')\n",
    "print(f'{dinner_names.pop().title()}, I am sorry that I can\\'t have dinner with you.')\n",
    "print(f'{dinner_names.pop().title()}, I am sorry that I can\\'t have dinner with you.')\n",
    "for dinner_name in dinner_names:\n",
    "    print(f'{dinner_name.title()}, we can still have dinner together.')\n",
    "del dinner_names[0]\n",
    "del dinner_names[0]\n",
    "print(dinner_names)"
   ]
  },
  {
   "cell_type": "markdown",
   "id": "7cdf0496-04d3-4a6f-95c8-c978b5a147ee",
   "metadata": {},
   "source": [
    "## *3.8 放眼世界*"
   ]
  },
  {
   "cell_type": "code",
   "execution_count": 31,
   "id": "85c2d1f6-473d-4175-bd35-4145f9bf356c",
   "metadata": {},
   "outputs": [
    {
     "name": "stdout",
     "output_type": "stream",
     "text": [
      "['weihai', 'beijing', 'luoyang', 'xinjiang', 'xizang']\n",
      "['beijing', 'luoyang', 'weihai', 'xinjiang', 'xizang']\n",
      "['weihai', 'beijing', 'luoyang', 'xinjiang', 'xizang']\n",
      "['xizang', 'xinjiang', 'weihai', 'luoyang', 'beijing']\n",
      "['weihai', 'beijing', 'luoyang', 'xinjiang', 'xizang']\n",
      "['xizang', 'xinjiang', 'luoyang', 'beijing', 'weihai']\n",
      "['weihai', 'beijing', 'luoyang', 'xinjiang', 'xizang']\n",
      "['beijing', 'luoyang', 'weihai', 'xinjiang', 'xizang']\n",
      "['xizang', 'xinjiang', 'weihai', 'luoyang', 'beijing']\n"
     ]
    }
   ],
   "source": [
    "places = ['weihai','beijing','luoyang','xinjiang','xizang']\n",
    "print(places)\n",
    "print(sorted(places))\n",
    "print(places)\n",
    "print(sorted(places,reverse=True))\n",
    "print(places)\n",
    "places.reverse()\n",
    "print(places)\n",
    "places.reverse()\n",
    "print(places)\n",
    "places.sort()\n",
    "print(places)\n",
    "places.sort(reverse=True)\n",
    "print(places)"
   ]
  },
  {
   "cell_type": "markdown",
   "id": "c05e7949-4541-49d6-b432-8edaa195b7e6",
   "metadata": {},
   "source": [
    "## *3.9 晚餐嘉宾*"
   ]
  },
  {
   "cell_type": "code",
   "execution_count": 32,
   "id": "d54b0512-5f3a-41ff-a5b0-6fd503f349c5",
   "metadata": {},
   "outputs": [
    {
     "name": "stdout",
     "output_type": "stream",
     "text": [
      "I invited 3 guests at the beginning.\n"
     ]
    }
   ],
   "source": [
    "dinner_names = ['faker','zeus','oner']\n",
    "print(f'I invited {len(dinner_names)} guests at the beginning.')"
   ]
  },
  {
   "cell_type": "markdown",
   "id": "d691cc22-7b09-4751-a5d1-4298d0e938d2",
   "metadata": {},
   "source": [
    "## *3.10 尝试使用各个函数*"
   ]
  },
  {
   "cell_type": "code",
   "execution_count": 39,
   "id": "e87e26df-7481-4c4f-a7b0-ec648a776aae",
   "metadata": {},
   "outputs": [
    {
     "name": "stdout",
     "output_type": "stream",
     "text": [
      "['China', 'Japan', 'USA', 'UK', 'French', 'Germany']\n",
      "['China', 'Russia', 'Japan', 'USA', 'UK', 'French', 'Germany']\n",
      "['China', 'Russia', 'USA', 'UK', 'French', 'Germany']\n",
      "['China', 'Russia', 'USA', 'UK', 'French']\n",
      "['China', 'Russia', 'USA', 'French']\n",
      "['China', 'French', 'Russia', 'USA']\n",
      "4\n"
     ]
    }
   ],
   "source": [
    "countries = ['China','Japan','USA','UK','French']\n",
    "countries.append('Germany')\n",
    "print(countries)\n",
    "countries.insert(1,'Russia')\n",
    "print(countries)\n",
    "del countries[2]\n",
    "print(countries)\n",
    "countries.pop()\n",
    "print(countries)\n",
    "countries.remove('UK')\n",
    "print(countries)\n",
    "countries.sort()\n",
    "print(countries)\n",
    "print(len(countries))"
   ]
  }
 ],
 "metadata": {
  "kernelspec": {
   "display_name": "Python 3 (ipykernel)",
   "language": "python",
   "name": "python3"
  },
  "language_info": {
   "codemirror_mode": {
    "name": "ipython",
    "version": 3
   },
   "file_extension": ".py",
   "mimetype": "text/x-python",
   "name": "python",
   "nbconvert_exporter": "python",
   "pygments_lexer": "ipython3",
   "version": "3.11.7"
  }
 },
 "nbformat": 4,
 "nbformat_minor": 5
}
