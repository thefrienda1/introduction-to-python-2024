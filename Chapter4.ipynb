{
 "cells": [
  {
   "cell_type": "markdown",
   "id": "8e9b2cf1-2555-402e-9184-d2937fe1c09c",
   "metadata": {},
   "source": [
    "# **第4章 操作列表**"
   ]
  },
  {
   "cell_type": "markdown",
   "id": "d694b75d-fac5-4b9c-9c54-df415217fcd5",
   "metadata": {},
   "source": [
    "## **4.1 遍历整个列表**"
   ]
  },
  {
   "cell_type": "code",
   "execution_count": 24,
   "id": "110c6e88-5948-4a5e-9f9b-06d1c9a34b35",
   "metadata": {
    "execution": {
     "iopub.execute_input": "2024-04-19T09:34:07.842328Z",
     "iopub.status.busy": "2024-04-19T09:34:07.842328Z",
     "iopub.status.idle": "2024-04-19T09:34:07.854357Z",
     "shell.execute_reply": "2024-04-19T09:34:07.853355Z",
     "shell.execute_reply.started": "2024-04-19T09:34:07.842328Z"
    }
   },
   "outputs": [
    {
     "name": "stdout",
     "output_type": "stream",
     "text": [
      "alice\n",
      "david\n",
      "carolina\n"
     ]
    }
   ],
   "source": [
    "magicians=['alice','david','carolina']\n",
    "for magician in magicians:\n",
    "    print(magician)"
   ]
  },
  {
   "cell_type": "code",
   "execution_count": 25,
   "id": "bbaff4f4-6d54-43a8-8e4b-15d2499263b7",
   "metadata": {
    "execution": {
     "iopub.execute_input": "2024-04-19T09:34:07.855357Z",
     "iopub.status.busy": "2024-04-19T09:34:07.855357Z",
     "iopub.status.idle": "2024-04-19T09:34:07.862767Z",
     "shell.execute_reply": "2024-04-19T09:34:07.862767Z",
     "shell.execute_reply.started": "2024-04-19T09:34:07.855357Z"
    }
   },
   "outputs": [
    {
     "name": "stdout",
     "output_type": "stream",
     "text": [
      "Alice,that was a great trick!\n",
      "I can't wait to see your next trick,Alice.\n",
      "\n",
      "David,that was a great trick!\n",
      "I can't wait to see your next trick,David.\n",
      "\n",
      "Carolina,that was a great trick!\n",
      "I can't wait to see your next trick,Carolina.\n",
      "\n",
      "Thank you,everyone.That was a great magic show!\n"
     ]
    }
   ],
   "source": [
    "magicians=['alice','david','carolina']\n",
    "for magician in magicians:\n",
    "    print(f\"{magician.title()},that was a great trick!\")\n",
    "    print(f\"I can't wait to see your next trick,{magician.title()}.\\n\")\n",
    "print(\"Thank you,everyone.That was a great magic show!\")"
   ]
  },
  {
   "cell_type": "code",
   "execution_count": 26,
   "id": "9dda983f-170d-4a95-b7ca-242358d25a84",
   "metadata": {
    "execution": {
     "iopub.execute_input": "2024-04-19T09:34:07.863769Z",
     "iopub.status.busy": "2024-04-19T09:34:07.862767Z",
     "iopub.status.idle": "2024-04-19T09:34:07.867339Z",
     "shell.execute_reply": "2024-04-19T09:34:07.867339Z",
     "shell.execute_reply.started": "2024-04-19T09:34:07.863769Z"
    }
   },
   "outputs": [
    {
     "name": "stdout",
     "output_type": "stream",
     "text": [
      "Alice,that was a great trick!\n",
      "David,that was a great trick!\n",
      "Carolina,that was a great trick!\n",
      "I can't wait to see your next trick,Carolina.\n",
      "\n"
     ]
    }
   ],
   "source": [
    "magicians=['alice','david','carolina']\n",
    "for magician in magicians:\n",
    "    print(f\"{magician.title()},that was a great trick!\")\n",
    "print(f\"I can't wait to see your next trick,{magician.title()}.\\n\")"
   ]
  },
  {
   "cell_type": "markdown",
   "id": "74ca22e4-1d61-4efc-a125-70ad2d19f38c",
   "metadata": {},
   "source": [
    "## **4.2 避免缩进错误**"
   ]
  },
  {
   "cell_type": "code",
   "execution_count": 27,
   "id": "2da7a5a6-f27a-43ec-8821-4080b7a4b288",
   "metadata": {
    "execution": {
     "iopub.execute_input": "2024-04-19T09:34:07.869575Z",
     "iopub.status.busy": "2024-04-19T09:34:07.868342Z",
     "iopub.status.idle": "2024-04-19T09:34:07.882594Z",
     "shell.execute_reply": "2024-04-19T09:34:07.879581Z",
     "shell.execute_reply.started": "2024-04-19T09:34:07.869575Z"
    }
   },
   "outputs": [
    {
     "ename": "IndentationError",
     "evalue": "unexpected indent (1374915975.py, line 2)",
     "output_type": "error",
     "traceback": [
      "\u001b[1;36m  Cell \u001b[1;32mIn[27], line 2\u001b[1;36m\u001b[0m\n\u001b[1;33m    print(message)\u001b[0m\n\u001b[1;37m    ^\u001b[0m\n\u001b[1;31mIndentationError\u001b[0m\u001b[1;31m:\u001b[0m unexpected indent\n"
     ]
    }
   ],
   "source": [
    "message='Hello python world'\n",
    "    print(message)"
   ]
  },
  {
   "cell_type": "markdown",
   "id": "c302e28f-8ebc-4007-8065-7adcdb904703",
   "metadata": {},
   "source": [
    "## **4.3 创建数值列表**"
   ]
  },
  {
   "cell_type": "code",
   "execution_count": 28,
   "id": "aa65d18d-eb48-4f8e-8276-67ca1e2fba70",
   "metadata": {
    "execution": {
     "iopub.execute_input": "2024-04-19T09:34:35.766217Z",
     "iopub.status.busy": "2024-04-19T09:34:35.766217Z",
     "iopub.status.idle": "2024-04-19T09:34:35.769995Z",
     "shell.execute_reply": "2024-04-19T09:34:35.769995Z",
     "shell.execute_reply.started": "2024-04-19T09:34:35.766217Z"
    }
   },
   "outputs": [
    {
     "name": "stdout",
     "output_type": "stream",
     "text": [
      "1\n",
      "2\n",
      "3\n",
      "4\n"
     ]
    }
   ],
   "source": [
    "# 使用range（）函数 差一行为，从第一个数开始，第二个值停止\n",
    "for value in range(1,5):\n",
    "    print(value)"
   ]
  },
  {
   "cell_type": "code",
   "execution_count": 29,
   "id": "90adf35e-ea62-41f1-82af-9540c91e6014",
   "metadata": {
    "execution": {
     "iopub.execute_input": "2024-04-19T09:34:35.771997Z",
     "iopub.status.busy": "2024-04-19T09:34:35.770997Z",
     "iopub.status.idle": "2024-04-19T09:34:35.781347Z",
     "shell.execute_reply": "2024-04-19T09:34:35.781347Z",
     "shell.execute_reply.started": "2024-04-19T09:34:35.771997Z"
    }
   },
   "outputs": [
    {
     "name": "stdout",
     "output_type": "stream",
     "text": [
      "1\n",
      "2\n",
      "3\n",
      "4\n",
      "5\n"
     ]
    }
   ],
   "source": [
    "for value in range(1,6):\n",
    "    print(value)"
   ]
  },
  {
   "cell_type": "code",
   "execution_count": 30,
   "id": "4c8270b4-09eb-431a-840e-5544e91ea421",
   "metadata": {
    "execution": {
     "iopub.execute_input": "2024-04-19T09:34:35.782349Z",
     "iopub.status.busy": "2024-04-19T09:34:35.782349Z",
     "iopub.status.idle": "2024-04-19T09:34:35.788358Z",
     "shell.execute_reply": "2024-04-19T09:34:35.787853Z",
     "shell.execute_reply.started": "2024-04-19T09:34:35.782349Z"
    }
   },
   "outputs": [
    {
     "name": "stdout",
     "output_type": "stream",
     "text": [
      "0\n",
      "1\n",
      "2\n",
      "3\n",
      "4\n",
      "5\n"
     ]
    }
   ],
   "source": [
    "for value in range(6):\n",
    "    print(value)"
   ]
  },
  {
   "cell_type": "code",
   "execution_count": 31,
   "id": "6ee5f25b-4795-4f3f-a662-4903b65cc74a",
   "metadata": {
    "execution": {
     "iopub.execute_input": "2024-04-19T09:34:35.789361Z",
     "iopub.status.busy": "2024-04-19T09:34:35.788358Z",
     "iopub.status.idle": "2024-04-19T09:34:35.800435Z",
     "shell.execute_reply": "2024-04-19T09:34:35.799433Z",
     "shell.execute_reply.started": "2024-04-19T09:34:35.789361Z"
    }
   },
   "outputs": [
    {
     "name": "stdout",
     "output_type": "stream",
     "text": [
      "[1, 2, 3, 4, 5]\n",
      "[2, 4, 6, 8, 10]\n",
      "[1, 4, 9, 16, 25, 36, 49, 64, 81, 100]\n"
     ]
    }
   ],
   "source": [
    "# 使用range（）创建数值列表 使用list（）函数将让额（）结果转换为列表\n",
    "numbers=list(range(1,6))\n",
    "print(numbers)\n",
    "\n",
    "# 为range（）函数加第三个参数指定步长\n",
    "even_numbers=list(range(2,11,2))\n",
    "print(even_numbers)\n",
    "\n",
    "# 两个星号**表示乘方\n",
    "squares=[]\n",
    "for value in range(1,11):\n",
    "    square=value**2\n",
    "    squares.append(square)\n",
    "print(squares)"
   ]
  },
  {
   "cell_type": "code",
   "execution_count": 32,
   "id": "d146d2cc-18d9-4d36-ac0c-d9cb40668fde",
   "metadata": {
    "execution": {
     "iopub.execute_input": "2024-04-19T09:34:35.802435Z",
     "iopub.status.busy": "2024-04-19T09:34:35.802435Z",
     "iopub.status.idle": "2024-04-19T09:34:35.807187Z",
     "shell.execute_reply": "2024-04-19T09:34:35.807187Z",
     "shell.execute_reply.started": "2024-04-19T09:34:35.802435Z"
    }
   },
   "outputs": [
    {
     "name": "stdout",
     "output_type": "stream",
     "text": [
      "[1, 4, 9, 16, 25, 36, 49, 64, 81, 100]\n"
     ]
    }
   ],
   "source": [
    "squares=[]\n",
    "for value in range(1,11):\n",
    "    squares.append(value**2)\n",
    "print(squares)"
   ]
  },
  {
   "cell_type": "code",
   "execution_count": 33,
   "id": "0c16753e-4e75-4d70-b556-f9eff174e858",
   "metadata": {
    "execution": {
     "iopub.execute_input": "2024-04-19T09:34:35.808692Z",
     "iopub.status.busy": "2024-04-19T09:34:35.808189Z",
     "iopub.status.idle": "2024-04-19T09:34:35.814292Z",
     "shell.execute_reply": "2024-04-19T09:34:35.814292Z",
     "shell.execute_reply.started": "2024-04-19T09:34:35.808692Z"
    }
   },
   "outputs": [
    {
     "name": "stdout",
     "output_type": "stream",
     "text": [
      "[0, 1, 2, 3, 4, 5, 6, 7, 8, 9]\n",
      "4.5\n",
      "0\n"
     ]
    }
   ],
   "source": [
    "# 对数值列表执行简单的统计计算\n",
    "digits=[]\n",
    "for digit in range(10):\n",
    "    digits.append(digit)\n",
    "print(digits)\n",
    "a=min(digits)\n",
    "max(digits)\n",
    "sum(digits)\n",
    "average=sum(digits)/len(digits)\n",
    "print(average)\n",
    "print(a)"
   ]
  },
  {
   "cell_type": "code",
   "execution_count": 34,
   "id": "ad3a44f7-9e7f-40e2-9149-e5ec528a2db3",
   "metadata": {
    "execution": {
     "iopub.execute_input": "2024-04-19T09:34:35.816295Z",
     "iopub.status.busy": "2024-04-19T09:34:35.815295Z",
     "iopub.status.idle": "2024-04-19T09:34:35.823784Z",
     "shell.execute_reply": "2024-04-19T09:34:35.823784Z",
     "shell.execute_reply.started": "2024-04-19T09:34:35.816295Z"
    }
   },
   "outputs": [
    {
     "name": "stdout",
     "output_type": "stream",
     "text": [
      "0\n"
     ]
    },
    {
     "data": {
      "text/plain": [
       "45"
      ]
     },
     "execution_count": 34,
     "metadata": {},
     "output_type": "execute_result"
    }
   ],
   "source": [
    "digits=[1,2,3,4,5,6,7,8,9,0,]\n",
    "print(min(digits))\n",
    "max(digits)\n",
    "sum(digits)"
   ]
  },
  {
   "cell_type": "code",
   "execution_count": 35,
   "id": "7deea595-e8c6-43cd-8bf7-64692f6ae268",
   "metadata": {
    "execution": {
     "iopub.execute_input": "2024-04-19T09:34:35.825785Z",
     "iopub.status.busy": "2024-04-19T09:34:35.824785Z",
     "iopub.status.idle": "2024-04-19T09:34:35.829829Z",
     "shell.execute_reply": "2024-04-19T09:34:35.829829Z",
     "shell.execute_reply.started": "2024-04-19T09:34:35.825785Z"
    }
   },
   "outputs": [
    {
     "name": "stdout",
     "output_type": "stream",
     "text": [
      "[1, 4, 9, 16, 25, 36, 49, 64, 81, 100]\n"
     ]
    }
   ],
   "source": [
    "# 列表推导式\n",
    "squares=[value**2 for value in range(1,11)]\n",
    "print(squares)"
   ]
  },
  {
   "cell_type": "code",
   "execution_count": 36,
   "id": "bce271b6-cb4a-454f-ba12-825525bd83f3",
   "metadata": {
    "execution": {
     "iopub.execute_input": "2024-04-19T09:34:35.830831Z",
     "iopub.status.busy": "2024-04-19T09:34:35.830831Z",
     "iopub.status.idle": "2024-04-19T09:34:35.837509Z",
     "shell.execute_reply": "2024-04-19T09:34:35.837509Z",
     "shell.execute_reply.started": "2024-04-19T09:34:35.830831Z"
    }
   },
   "outputs": [
    {
     "name": "stdout",
     "output_type": "stream",
     "text": [
      "[1, 8, 27, 64, 125, 216, 343, 512, 729, 1000]\n"
     ]
    }
   ],
   "source": [
    "squares=[value**3 for value in range(1,11)]\n",
    "print(squares)"
   ]
  },
  {
   "cell_type": "code",
   "execution_count": 37,
   "id": "3e53350a-7406-47b9-99db-87a115096c53",
   "metadata": {
    "execution": {
     "iopub.execute_input": "2024-04-19T09:34:35.838520Z",
     "iopub.status.busy": "2024-04-19T09:34:35.838520Z",
     "iopub.status.idle": "2024-04-19T09:34:35.843955Z",
     "shell.execute_reply": "2024-04-19T09:34:35.842953Z",
     "shell.execute_reply.started": "2024-04-19T09:34:35.838520Z"
    }
   },
   "outputs": [
    {
     "name": "stdout",
     "output_type": "stream",
     "text": [
      "[3, 6, 9, 12, 15, 18, 21, 24, 27, 30]\n"
     ]
    }
   ],
   "source": [
    "squares=[]\n",
    "for value in range(3,31,3):\n",
    "    squares.append(value)\n",
    "print(squares)"
   ]
  },
  {
   "cell_type": "code",
   "execution_count": 38,
   "id": "6efc2f73-e3b7-40e8-bf25-a6658914325f",
   "metadata": {
    "execution": {
     "iopub.execute_input": "2024-04-19T09:34:35.844955Z",
     "iopub.status.busy": "2024-04-19T09:34:35.843955Z",
     "iopub.status.idle": "2024-04-19T09:34:35.850348Z",
     "shell.execute_reply": "2024-04-19T09:34:35.850348Z",
     "shell.execute_reply.started": "2024-04-19T09:34:35.844955Z"
    }
   },
   "outputs": [
    {
     "data": {
      "text/plain": [
       "[3, 6, 9, 12, 15, 18, 21, 24, 27, 30]"
      ]
     },
     "execution_count": 38,
     "metadata": {},
     "output_type": "execute_result"
    }
   ],
   "source": [
    "list(range(3,31,3))"
   ]
  },
  {
   "cell_type": "code",
   "execution_count": 39,
   "id": "259365c5-6d02-498d-8ae6-87ad2f97210d",
   "metadata": {
    "execution": {
     "iopub.execute_input": "2024-04-19T09:34:35.852349Z",
     "iopub.status.busy": "2024-04-19T09:34:35.852349Z",
     "iopub.status.idle": "2024-04-19T09:34:35.857126Z",
     "shell.execute_reply": "2024-04-19T09:34:35.857126Z",
     "shell.execute_reply.started": "2024-04-19T09:34:35.852349Z"
    }
   },
   "outputs": [
    {
     "data": {
      "text/plain": [
       "[3, 6, 9, 12, 15, 18, 21, 24, 27, 30]"
      ]
     },
     "execution_count": 39,
     "metadata": {},
     "output_type": "execute_result"
    }
   ],
   "source": [
    "[v for v in range(3,31,3)]"
   ]
  },
  {
   "cell_type": "code",
   "execution_count": 40,
   "id": "fe37d0b0-b7df-4d76-8683-b2700ee9f6a8",
   "metadata": {
    "execution": {
     "iopub.execute_input": "2024-04-19T09:34:35.858128Z",
     "iopub.status.busy": "2024-04-19T09:34:35.858128Z",
     "iopub.status.idle": "2024-04-19T09:34:35.862640Z",
     "shell.execute_reply": "2024-04-19T09:34:35.862640Z",
     "shell.execute_reply.started": "2024-04-19T09:34:35.858128Z"
    }
   },
   "outputs": [
    {
     "name": "stdout",
     "output_type": "stream",
     "text": [
      "[[3, 4, 5, 6, 7], [5, 6, 7, 8]]\n"
     ]
    }
   ],
   "source": [
    "s=[list(range(3,8)),list(range(5,9))]\n",
    "print(s)"
   ]
  },
  {
   "cell_type": "code",
   "execution_count": 41,
   "id": "07dc161a-5a61-4a1f-931a-d86663798792",
   "metadata": {
    "execution": {
     "iopub.execute_input": "2024-04-19T09:34:35.866642Z",
     "iopub.status.busy": "2024-04-19T09:34:35.866642Z",
     "iopub.status.idle": "2024-04-19T09:34:35.870520Z",
     "shell.execute_reply": "2024-04-19T09:34:35.870520Z",
     "shell.execute_reply.started": "2024-04-19T09:34:35.866642Z"
    }
   },
   "outputs": [
    {
     "name": "stdout",
     "output_type": "stream",
     "text": [
      "3\n",
      "6\n",
      "9\n",
      "12\n",
      "15\n",
      "18\n",
      "21\n",
      "24\n",
      "27\n",
      "30\n",
      "[3, 4, 5, 6, 7, 8, 9, 10, 11, 12, 13, 14, 15, 16, 17, 18, 19, 20, 21, 22, 23, 24, 25, 26, 27, 28, 29, 30]\n"
     ]
    }
   ],
   "source": [
    "s =  []\n",
    "for a in range(3,31):\n",
    "    if a%3==0:\n",
    "        print(a)\n",
    "    s.append(a)\n",
    "print(s)"
   ]
  },
  {
   "cell_type": "markdown",
   "id": "932f17ca-7160-4535-ac69-757c87e90666",
   "metadata": {},
   "source": [
    "## **4.4 使用列表的一部分**"
   ]
  },
  {
   "cell_type": "code",
   "execution_count": 42,
   "id": "152a9a36-baa5-4e92-ba97-bdb7133ae06c",
   "metadata": {
    "execution": {
     "iopub.execute_input": "2024-04-19T09:34:35.871522Z",
     "iopub.status.busy": "2024-04-19T09:34:35.871522Z",
     "iopub.status.idle": "2024-04-19T09:34:35.875933Z",
     "shell.execute_reply": "2024-04-19T09:34:35.875933Z",
     "shell.execute_reply.started": "2024-04-19T09:34:35.871522Z"
    }
   },
   "outputs": [
    {
     "name": "stdout",
     "output_type": "stream",
     "text": [
      "['charles', 'martina', 'michael']\n",
      "['michael', 'florence', 'eli']\n",
      "['florence']\n",
      "['charles', 'martina', 'michael']\n"
     ]
    }
   ],
   "source": [
    "# 切片slice\n",
    "players=['charles','martina','michael','florence','eli']\n",
    "print(players[0:3])\n",
    "print(players[2:])\n",
    "print(players[-2:-1])\n",
    "print(players[:-2])"
   ]
  },
  {
   "cell_type": "code",
   "execution_count": 43,
   "id": "356b5e83-17fd-4d9c-af18-35732085b809",
   "metadata": {
    "execution": {
     "iopub.execute_input": "2024-04-19T09:34:35.876935Z",
     "iopub.status.busy": "2024-04-19T09:34:35.876935Z",
     "iopub.status.idle": "2024-04-19T09:34:35.881537Z",
     "shell.execute_reply": "2024-04-19T09:34:35.881537Z",
     "shell.execute_reply.started": "2024-04-19T09:34:35.876935Z"
    }
   },
   "outputs": [
    {
     "name": "stdout",
     "output_type": "stream",
     "text": [
      "Here are 3 games in my computer:\n",
      "lol\n",
      "pvz\n",
      "dota\n"
     ]
    }
   ],
   "source": [
    "# 遍历切片\n",
    "games=['lol','pvz','dota','genshin']\n",
    "print('Here are 3 games in my computer:')\n",
    "for game in games[:3]:\n",
    "    print(game)"
   ]
  },
  {
   "cell_type": "code",
   "execution_count": 44,
   "id": "0c0bd836-fc28-4d25-8689-b712b73a9d17",
   "metadata": {
    "execution": {
     "iopub.execute_input": "2024-04-19T09:34:35.882538Z",
     "iopub.status.busy": "2024-04-19T09:34:35.882538Z",
     "iopub.status.idle": "2024-04-19T09:34:35.888559Z",
     "shell.execute_reply": "2024-04-19T09:34:35.888042Z",
     "shell.execute_reply.started": "2024-04-19T09:34:35.882538Z"
    }
   },
   "outputs": [
    {
     "name": "stdout",
     "output_type": "stream",
     "text": [
      "My favorite foods are:\n",
      "['pizza', 'ham', 'beef']\n",
      "My friend's favorite foods are:\n",
      "['pizza', 'ham', 'beef']\n",
      "['pizza', 'ham', 'beef', 'cookie']\n",
      "['pizza', 'ham', 'beef', 'fish']\n"
     ]
    }
   ],
   "source": [
    "# 复制列表 从开头到结尾的切片 deep copy\n",
    "my_foods=['pizza','ham','beef']\n",
    "friend_foods=my_foods[:]\n",
    "print('My favorite foods are:')\n",
    "print(my_foods)\n",
    "print('My friend\\'s favorite foods are:')\n",
    "print(friend_foods)\n",
    "my_foods.append('cookie')\n",
    "friend_foods.append('fish')\n",
    "print(my_foods)\n",
    "print(friend_foods)"
   ]
  },
  {
   "cell_type": "code",
   "execution_count": 45,
   "id": "1defe4fb-c775-4e48-a963-e0489775bdb0",
   "metadata": {
    "execution": {
     "iopub.execute_input": "2024-04-19T09:34:35.889561Z",
     "iopub.status.busy": "2024-04-19T09:34:35.889561Z",
     "iopub.status.idle": "2024-04-19T09:34:35.893232Z",
     "shell.execute_reply": "2024-04-19T09:34:35.893232Z",
     "shell.execute_reply.started": "2024-04-19T09:34:35.889561Z"
    }
   },
   "outputs": [
    {
     "name": "stdout",
     "output_type": "stream",
     "text": [
      "['pizza', 'ham', 'beef', 'cookie', 'fish']\n",
      "['pizza', 'ham', 'beef', 'cookie', 'fish']\n"
     ]
    }
   ],
   "source": [
    "# shallow copy\n",
    "my_foods=['pizza','ham','beef']\n",
    "friend_foods=my_foods\n",
    "my_foods.append('cookie')\n",
    "friend_foods.append('fish')\n",
    "print(my_foods)\n",
    "print(friend_foods)"
   ]
  },
  {
   "cell_type": "markdown",
   "id": "5a65754a-6a59-4ed4-a515-519c4c99b4e8",
   "metadata": {},
   "source": [
    "## **4.5 元组**"
   ]
  },
  {
   "cell_type": "code",
   "execution_count": 46,
   "id": "8ccfa298-ea4b-4b92-831b-b4889fe1bf99",
   "metadata": {
    "execution": {
     "iopub.execute_input": "2024-04-19T09:34:35.894234Z",
     "iopub.status.busy": "2024-04-19T09:34:35.894234Z",
     "iopub.status.idle": "2024-04-19T09:34:36.392088Z",
     "shell.execute_reply": "2024-04-19T09:34:36.391086Z",
     "shell.execute_reply.started": "2024-04-19T09:34:35.894234Z"
    }
   },
   "outputs": [
    {
     "name": "stdout",
     "output_type": "stream",
     "text": [
      "200\n",
      "50\n"
     ]
    },
    {
     "ename": "TypeError",
     "evalue": "'tuple' object does not support item assignment",
     "output_type": "error",
     "traceback": [
      "\u001b[1;31m---------------------------------------------------------------------------\u001b[0m",
      "\u001b[1;31mTypeError\u001b[0m                                 Traceback (most recent call last)",
      "Cell \u001b[1;32mIn[46], line 4\u001b[0m\n\u001b[0;32m      2\u001b[0m \u001b[38;5;28mprint\u001b[39m(dimensions[\u001b[38;5;241m0\u001b[39m])\n\u001b[0;32m      3\u001b[0m \u001b[38;5;28mprint\u001b[39m(dimensions[\u001b[38;5;241m-\u001b[39m\u001b[38;5;241m1\u001b[39m])\n\u001b[1;32m----> 4\u001b[0m dimensions[\u001b[38;5;241m0\u001b[39m]\u001b[38;5;241m=\u001b[39m\u001b[38;5;241m250\u001b[39m\n",
      "\u001b[1;31mTypeError\u001b[0m: 'tuple' object does not support item assignment"
     ]
    }
   ],
   "source": [
    "#元组无法修改\n",
    "dimensions=(200,50)\n",
    "print(dimensions[0])\n",
    "print(dimensions[-1])\n",
    "dimensions[0]=250"
   ]
  },
  {
   "cell_type": "code",
   "execution_count": 47,
   "id": "77b3592a-f235-411b-a5f0-ac092bdfa95a",
   "metadata": {
    "execution": {
     "iopub.execute_input": "2024-04-19T09:35:13.701741Z",
     "iopub.status.busy": "2024-04-19T09:35:13.701741Z",
     "iopub.status.idle": "2024-04-19T09:35:13.708244Z",
     "shell.execute_reply": "2024-04-19T09:35:13.707242Z",
     "shell.execute_reply.started": "2024-04-19T09:35:13.701741Z"
    }
   },
   "outputs": [
    {
     "name": "stdout",
     "output_type": "stream",
     "text": [
      "200\n",
      "50\n"
     ]
    }
   ],
   "source": [
    "dimensions=(200,50)\n",
    "for dimension in dimensions:\n",
    "    print(dimension)"
   ]
  },
  {
   "cell_type": "code",
   "execution_count": 48,
   "id": "12171cc3-b3ad-4923-b89e-370050daf325",
   "metadata": {
    "execution": {
     "iopub.execute_input": "2024-04-19T09:35:13.709597Z",
     "iopub.status.busy": "2024-04-19T09:35:13.708244Z",
     "iopub.status.idle": "2024-04-19T09:35:13.716159Z",
     "shell.execute_reply": "2024-04-19T09:35:13.716159Z",
     "shell.execute_reply.started": "2024-04-19T09:35:13.709597Z"
    }
   },
   "outputs": [
    {
     "name": "stdout",
     "output_type": "stream",
     "text": [
      "Original dimensions:\n",
      "200\n",
      "50\n",
      "\n",
      "Modified dimensions:\n",
      "400\n",
      "200\n"
     ]
    }
   ],
   "source": [
    "dimensions=(200,50)\n",
    "print('Original dimensions:')\n",
    "for dimension in dimensions:\n",
    "    print(dimension)\n",
    "dimensions=(400,200)\n",
    "print('\\nModified dimensions:')\n",
    "for dimension in dimensions:\n",
    "    print(dimension)"
   ]
  },
  {
   "cell_type": "markdown",
   "id": "352b2fb7-1e16-4b47-ad76-9874a5c2474e",
   "metadata": {},
   "source": [
    "# **练习**"
   ]
  },
  {
   "cell_type": "markdown",
   "id": "53570f8f-9c83-418c-8d91-c2d4f7cdc029",
   "metadata": {},
   "source": [
    "## *4.1 比萨*"
   ]
  },
  {
   "cell_type": "code",
   "execution_count": 49,
   "id": "956843a5-2560-4b35-9844-70739bc05c3e",
   "metadata": {
    "execution": {
     "iopub.execute_input": "2024-04-19T09:35:13.717171Z",
     "iopub.status.busy": "2024-04-19T09:35:13.717171Z",
     "iopub.status.idle": "2024-04-19T09:35:13.727352Z",
     "shell.execute_reply": "2024-04-19T09:35:13.727352Z",
     "shell.execute_reply.started": "2024-04-19T09:35:13.717171Z"
    }
   },
   "outputs": [
    {
     "name": "stdout",
     "output_type": "stream",
     "text": [
      "pepperoni pizza\n",
      "I really like pepperoni pizza.\n",
      "potato pizza\n",
      "I really like potato pizza.\n",
      "beef pizza\n",
      "I really like beef pizza.\n",
      "I really love pizza!\n"
     ]
    }
   ],
   "source": [
    "pizzas = ['pepperoni pizza','potato pizza','beef pizza']\n",
    "for pizza in pizzas:\n",
    "    print(pizza)\n",
    "    print(f'I really like {pizza}.')\n",
    "print('I really love pizza!')"
   ]
  },
  {
   "cell_type": "markdown",
   "id": "6fc52131-e491-4f75-8d99-fe289324d60a",
   "metadata": {},
   "source": [
    "## *4.2 动物*"
   ]
  },
  {
   "cell_type": "code",
   "execution_count": 50,
   "id": "f4383247-9ed5-4e23-a49e-b40ed40d6ff8",
   "metadata": {
    "execution": {
     "iopub.execute_input": "2024-04-19T09:35:13.729410Z",
     "iopub.status.busy": "2024-04-19T09:35:13.729410Z",
     "iopub.status.idle": "2024-04-19T09:35:13.736419Z",
     "shell.execute_reply": "2024-04-19T09:35:13.736419Z",
     "shell.execute_reply.started": "2024-04-19T09:35:13.729410Z"
    }
   },
   "outputs": [
    {
     "name": "stdout",
     "output_type": "stream",
     "text": [
      "pig\n",
      "A pig would make a great cuisine.\n",
      "cattle\n",
      "A cattle would make a great cuisine.\n",
      "sheep\n",
      "A sheep would make a great cuisine.\n",
      "Any of these animals would make a great cuisine!\n"
     ]
    }
   ],
   "source": [
    "animals = ['pig','cattle','sheep']\n",
    "for animal in animals:\n",
    "    print(animal)\n",
    "    print(f'A {animal} would make a great cuisine.')\n",
    "print('Any of these animals would make a great cuisine!')"
   ]
  },
  {
   "cell_type": "markdown",
   "id": "2bc02ab9-560e-464b-9053-8c0779fac7db",
   "metadata": {},
   "source": [
    "## *4.3 数到20*"
   ]
  },
  {
   "cell_type": "code",
   "execution_count": 51,
   "id": "7f071fda-65e0-4196-a5da-910af39e2e3c",
   "metadata": {
    "execution": {
     "iopub.execute_input": "2024-04-19T09:35:13.738924Z",
     "iopub.status.busy": "2024-04-19T09:35:13.738924Z",
     "iopub.status.idle": "2024-04-19T09:35:13.743087Z",
     "shell.execute_reply": "2024-04-19T09:35:13.743087Z",
     "shell.execute_reply.started": "2024-04-19T09:35:13.738924Z"
    }
   },
   "outputs": [
    {
     "name": "stdout",
     "output_type": "stream",
     "text": [
      "1\n",
      "2\n",
      "3\n",
      "4\n",
      "5\n",
      "6\n",
      "7\n",
      "8\n",
      "9\n",
      "10\n",
      "11\n",
      "12\n",
      "13\n",
      "14\n",
      "15\n",
      "16\n",
      "17\n",
      "18\n",
      "19\n",
      "20\n"
     ]
    }
   ],
   "source": [
    "for num in range(1,21):\n",
    "    print(num)"
   ]
  },
  {
   "cell_type": "markdown",
   "id": "c012a22c-1883-41b7-9946-d53f11839341",
   "metadata": {},
   "source": [
    "## *4.4 100万*"
   ]
  },
  {
   "cell_type": "code",
   "execution_count": 52,
   "id": "102e73da-3033-45c2-b600-3011486160a5",
   "metadata": {
    "execution": {
     "iopub.execute_input": "2024-04-19T09:35:13.744089Z",
     "iopub.status.busy": "2024-04-19T09:35:13.744089Z",
     "iopub.status.idle": "2024-04-19T09:35:13.750101Z",
     "shell.execute_reply": "2024-04-19T09:35:13.749099Z",
     "shell.execute_reply.started": "2024-04-19T09:35:13.744089Z"
    }
   },
   "outputs": [],
   "source": [
    "#运行后内存太大不易上传"
   ]
  },
  {
   "cell_type": "markdown",
   "id": "834bd435-2235-4882-b814-5e348936db06",
   "metadata": {},
   "source": [
    "## *4.5 100万求和*"
   ]
  },
  {
   "cell_type": "code",
   "execution_count": 53,
   "id": "0396b104-d657-4e9d-b2dd-2a61c4aadcc3",
   "metadata": {
    "execution": {
     "iopub.execute_input": "2024-04-19T09:35:13.751101Z",
     "iopub.status.busy": "2024-04-19T09:35:13.751101Z",
     "iopub.status.idle": "2024-04-19T09:35:13.838315Z",
     "shell.execute_reply": "2024-04-19T09:35:13.837726Z",
     "shell.execute_reply.started": "2024-04-19T09:35:13.751101Z"
    }
   },
   "outputs": [
    {
     "name": "stdout",
     "output_type": "stream",
     "text": [
      "1\n",
      "1000000\n",
      "500000500000\n"
     ]
    }
   ],
   "source": [
    "nums = list(range(1,1000001))\n",
    "print(min(nums))\n",
    "print(max(nums))\n",
    "print(sum(nums))"
   ]
  },
  {
   "cell_type": "markdown",
   "id": "7c742579-1f29-4934-ab7b-704107af8741",
   "metadata": {},
   "source": [
    "## *4.6 奇数*"
   ]
  },
  {
   "cell_type": "code",
   "execution_count": 54,
   "id": "3b6596be-bdab-4304-9484-c56555b8871c",
   "metadata": {
    "execution": {
     "iopub.execute_input": "2024-04-19T09:35:13.839261Z",
     "iopub.status.busy": "2024-04-19T09:35:13.839261Z",
     "iopub.status.idle": "2024-04-19T09:35:13.850580Z",
     "shell.execute_reply": "2024-04-19T09:35:13.850580Z",
     "shell.execute_reply.started": "2024-04-19T09:35:13.839261Z"
    }
   },
   "outputs": [
    {
     "name": "stdout",
     "output_type": "stream",
     "text": [
      "1\n",
      "3\n",
      "5\n",
      "7\n",
      "9\n",
      "11\n",
      "13\n",
      "15\n",
      "17\n",
      "19\n"
     ]
    }
   ],
   "source": [
    "nums = list(range(1,20,2))\n",
    "for num in nums:\n",
    "    print(num)"
   ]
  },
  {
   "cell_type": "markdown",
   "id": "68932dd0-7a8e-4e70-b721-6f8294d65239",
   "metadata": {},
   "source": [
    "## *4.7 3的倍数*"
   ]
  },
  {
   "cell_type": "code",
   "execution_count": 55,
   "id": "e39ac311-e2c7-4bdd-8d9e-425330209126",
   "metadata": {
    "execution": {
     "iopub.execute_input": "2024-04-19T09:35:13.851583Z",
     "iopub.status.busy": "2024-04-19T09:35:13.851583Z",
     "iopub.status.idle": "2024-04-19T09:35:13.855858Z",
     "shell.execute_reply": "2024-04-19T09:35:13.855858Z",
     "shell.execute_reply.started": "2024-04-19T09:35:13.851583Z"
    }
   },
   "outputs": [
    {
     "name": "stdout",
     "output_type": "stream",
     "text": [
      "3\n",
      "6\n",
      "9\n",
      "12\n",
      "15\n",
      "18\n",
      "21\n",
      "24\n",
      "27\n",
      "30\n"
     ]
    }
   ],
   "source": [
    "nums = list(range(3,31,3))\n",
    "for num in nums:\n",
    "    print(num)"
   ]
  },
  {
   "cell_type": "markdown",
   "id": "ea328ab1-c443-43bf-bc03-b6ca6c952572",
   "metadata": {},
   "source": [
    "## *4.8 立方*"
   ]
  },
  {
   "cell_type": "code",
   "execution_count": 56,
   "id": "8872a37a-8b57-4fab-8fe6-ecb4081528e6",
   "metadata": {
    "execution": {
     "iopub.execute_input": "2024-04-19T09:35:13.856860Z",
     "iopub.status.busy": "2024-04-19T09:35:13.856860Z",
     "iopub.status.idle": "2024-04-19T09:35:13.861734Z",
     "shell.execute_reply": "2024-04-19T09:35:13.861734Z",
     "shell.execute_reply.started": "2024-04-19T09:35:13.856860Z"
    }
   },
   "outputs": [
    {
     "name": "stdout",
     "output_type": "stream",
     "text": [
      "[1, 8, 27, 64, 125, 216, 343, 512, 729, 1000]\n",
      "1\n",
      "8\n",
      "27\n",
      "64\n",
      "125\n",
      "216\n",
      "343\n",
      "512\n",
      "729\n",
      "1000\n"
     ]
    }
   ],
   "source": [
    "nums = []\n",
    "for value in range(1,11):\n",
    "    nums.append(value**3)\n",
    "print(nums)\n",
    "for num in nums:\n",
    "    print(num)"
   ]
  },
  {
   "cell_type": "markdown",
   "id": "4f1bec08-b966-4945-bff1-e086b2ea2cd7",
   "metadata": {},
   "source": [
    "## *4.9 立方推导式*"
   ]
  },
  {
   "cell_type": "code",
   "execution_count": 57,
   "id": "c08f953f-7d00-452a-91ba-f746a9dd3ec4",
   "metadata": {
    "execution": {
     "iopub.execute_input": "2024-04-19T09:35:13.863738Z",
     "iopub.status.busy": "2024-04-19T09:35:13.862737Z",
     "iopub.status.idle": "2024-04-19T09:35:13.867346Z",
     "shell.execute_reply": "2024-04-19T09:35:13.867346Z",
     "shell.execute_reply.started": "2024-04-19T09:35:13.863738Z"
    }
   },
   "outputs": [
    {
     "name": "stdout",
     "output_type": "stream",
     "text": [
      "[1, 8, 27, 64, 125, 216, 343, 512, 729, 1000]\n"
     ]
    }
   ],
   "source": [
    "nums = [value**3 for value in range(1,11)]\n",
    "print(nums)"
   ]
  },
  {
   "cell_type": "markdown",
   "id": "552b0061-c768-46f9-902f-260e11d1d972",
   "metadata": {},
   "source": [
    "## *4.10 切片*"
   ]
  },
  {
   "cell_type": "code",
   "execution_count": 58,
   "id": "d1b91165-5057-4e78-bd5a-9fe577393788",
   "metadata": {
    "execution": {
     "iopub.execute_input": "2024-04-19T09:35:13.868348Z",
     "iopub.status.busy": "2024-04-19T09:35:13.868348Z",
     "iopub.status.idle": "2024-04-19T09:35:13.873861Z",
     "shell.execute_reply": "2024-04-19T09:35:13.873861Z",
     "shell.execute_reply.started": "2024-04-19T09:35:13.868348Z"
    }
   },
   "outputs": [
    {
     "name": "stdout",
     "output_type": "stream",
     "text": [
      "[1, 8, 27, 64, 125, 216, 343, 512, 729, 1000]\n",
      "The first three items in the list are:\n",
      "1\n",
      "8\n",
      "27\n",
      "Three items from the middle of the list are:\n",
      "125\n",
      "216\n",
      "343\n",
      "The last three items in the list are:\n",
      "512\n",
      "729\n",
      "1000\n"
     ]
    }
   ],
   "source": [
    "nums = [value**3 for value in range(1,11)]\n",
    "print(nums)\n",
    "print('The first three items in the list are:')\n",
    "for first_num in nums[0:3]:\n",
    "    print(first_num)\n",
    "print('Three items from the middle of the list are:')\n",
    "for middle_num in nums[4:7]:\n",
    "    print(middle_num)\n",
    "print('The last three items in the list are:')\n",
    "for last_num in nums[-3:]:\n",
    "    print(last_num)"
   ]
  },
  {
   "cell_type": "markdown",
   "id": "e2e9d325-2b3f-4ffb-a578-fe01a775a837",
   "metadata": {},
   "source": [
    "## *4.11 你的比萨，我的比萨*"
   ]
  },
  {
   "cell_type": "code",
   "execution_count": 59,
   "id": "25dc4b5c-f2e8-4fe2-bda9-30e34623be38",
   "metadata": {
    "execution": {
     "iopub.execute_input": "2024-04-19T09:35:13.875870Z",
     "iopub.status.busy": "2024-04-19T09:35:13.874869Z",
     "iopub.status.idle": "2024-04-19T09:35:13.879835Z",
     "shell.execute_reply": "2024-04-19T09:35:13.879835Z",
     "shell.execute_reply.started": "2024-04-19T09:35:13.875870Z"
    }
   },
   "outputs": [
    {
     "name": "stdout",
     "output_type": "stream",
     "text": [
      "My favorite pizzas are:\n",
      "pepperoni pizza\n",
      "potato pizza\n",
      "beef pizza\n",
      "chicken pizza\n",
      "My friend' favorite pizzas are:\n",
      "pepperoni pizza\n",
      "potato pizza\n",
      "beef pizza\n",
      "fish pizza\n"
     ]
    }
   ],
   "source": [
    "pizzas = ['pepperoni pizza','potato pizza','beef pizza']\n",
    "friend_pizzas = pizzas[:]\n",
    "pizzas.append('chicken pizza')\n",
    "friend_pizzas.append('fish pizza')\n",
    "print('My favorite pizzas are:')\n",
    "for pizza in pizzas:\n",
    "    print(pizza)\n",
    "print('My friend\\' favorite pizzas are:')\n",
    "for friend_pizza in friend_pizzas:\n",
    "    print(friend_pizza)"
   ]
  },
  {
   "cell_type": "markdown",
   "id": "385d6984-f476-4220-bc78-1ebae302540c",
   "metadata": {},
   "source": [
    "## *4.12 使用多个循环*"
   ]
  },
  {
   "cell_type": "code",
   "execution_count": 60,
   "id": "6233b4a6-8d06-4067-bcfa-b1c519c02fcb",
   "metadata": {
    "execution": {
     "iopub.execute_input": "2024-04-19T09:35:13.882838Z",
     "iopub.status.busy": "2024-04-19T09:35:13.882838Z",
     "iopub.status.idle": "2024-04-19T09:35:13.887258Z",
     "shell.execute_reply": "2024-04-19T09:35:13.887258Z",
     "shell.execute_reply.started": "2024-04-19T09:35:13.882838Z"
    }
   },
   "outputs": [
    {
     "name": "stdout",
     "output_type": "stream",
     "text": [
      "pizza\n",
      "falafel\n",
      "carrot cake\n",
      "pizza\n",
      "falafel\n",
      "carrot cake\n",
      "cakes\n",
      "noodles\n",
      "meats\n",
      "fruits\n",
      "vegetables\n",
      "rice\n",
      "hot pots\n",
      "meats\n",
      "fruits\n",
      "vegetables\n"
     ]
    }
   ],
   "source": [
    "my_foods = ['pizza','falafel','carrot cake']\n",
    "for food in my_foods:\n",
    "    print(food)\n",
    "for foods in my_foods:\n",
    "    print(foods)\n",
    "## *4.13 自助餐*\n",
    "foods = ('cakes','noodles','meats','fruits','vegetables')\n",
    "for food in foods:\n",
    "    print(food)\n",
    "\n",
    "foods = ('rice','hot pots','meats','fruits','vegetables')\n",
    "for food in foods:\n",
    "    print(food)"
   ]
  },
  {
   "cell_type": "code",
   "execution_count": null,
   "id": "3602859a-b1a7-4234-9f30-a5d9c7477c75",
   "metadata": {},
   "outputs": [],
   "source": []
  }
 ],
 "metadata": {
  "kernelspec": {
   "display_name": "Python 3 (ipykernel)",
   "language": "python",
   "name": "python3"
  },
  "language_info": {
   "codemirror_mode": {
    "name": "ipython",
    "version": 3
   },
   "file_extension": ".py",
   "mimetype": "text/x-python",
   "name": "python",
   "nbconvert_exporter": "python",
   "pygments_lexer": "ipython3",
   "version": "3.11.7"
  }
 },
 "nbformat": 4,
 "nbformat_minor": 5
}
