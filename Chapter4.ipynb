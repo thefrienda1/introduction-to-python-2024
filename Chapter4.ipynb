{
 "cells": [
  {
   "cell_type": "markdown",
   "id": "8e9b2cf1-2555-402e-9184-d2937fe1c09c",
   "metadata": {},
   "source": [
    "# **第4章 操作列表**"
   ]
  },
  {
   "cell_type": "markdown",
   "id": "d694b75d-fac5-4b9c-9c54-df415217fcd5",
   "metadata": {},
   "source": [
    "## **4.1 遍历整个列表**"
   ]
  },
  {
   "cell_type": "code",
   "execution_count": 1,
   "id": "110c6e88-5948-4a5e-9f9b-06d1c9a34b35",
   "metadata": {},
   "outputs": [
    {
     "name": "stdout",
     "output_type": "stream",
     "text": [
      "alice\n",
      "david\n",
      "carolina\n"
     ]
    }
   ],
   "source": [
    "magicians=['alice','david','carolina']\n",
    "for magician in magicians:\n",
    "    print(magician)"
   ]
  },
  {
   "cell_type": "code",
   "execution_count": 5,
   "id": "bbaff4f4-6d54-43a8-8e4b-15d2499263b7",
   "metadata": {},
   "outputs": [
    {
     "name": "stdout",
     "output_type": "stream",
     "text": [
      "Alice,that was a great trick!\n",
      "I can't wait to see your next trick,Alice.\n",
      "\n",
      "David,that was a great trick!\n",
      "I can't wait to see your next trick,David.\n",
      "\n",
      "Carolina,that was a great trick!\n",
      "I can't wait to see your next trick,Carolina.\n",
      "\n",
      "Thank you,everyone.That was a great magic show!\n"
     ]
    }
   ],
   "source": [
    "magicians=['alice','david','carolina']\n",
    "for magician in magicians:\n",
    "    print(f\"{magician.title()},that was a great trick!\")\n",
    "    print(f\"I can't wait to see your next trick,{magician.title()}.\\n\")\n",
    "print(\"Thank you,everyone.That was a great magic show!\")"
   ]
  },
  {
   "cell_type": "code",
   "execution_count": 8,
   "id": "9dda983f-170d-4a95-b7ca-242358d25a84",
   "metadata": {},
   "outputs": [
    {
     "name": "stdout",
     "output_type": "stream",
     "text": [
      "Alice,that was a great trick!\n",
      "David,that was a great trick!\n",
      "Carolina,that was a great trick!\n",
      "I can't wait to see your next trick,Carolina.\n",
      "\n"
     ]
    }
   ],
   "source": [
    "magicians=['alice','david','carolina']\n",
    "for magician in magicians:\n",
    "    print(f\"{magician.title()},that was a great trick!\")\n",
    "print(f\"I can't wait to see your next trick,{magician.title()}.\\n\")"
   ]
  },
  {
   "cell_type": "markdown",
   "id": "74ca22e4-1d61-4efc-a125-70ad2d19f38c",
   "metadata": {},
   "source": [
    "## **4.2 避免缩进错误**"
   ]
  },
  {
   "cell_type": "code",
   "execution_count": 9,
   "id": "2da7a5a6-f27a-43ec-8821-4080b7a4b288",
   "metadata": {},
   "outputs": [
    {
     "ename": "IndentationError",
     "evalue": "unexpected indent (1374915975.py, line 2)",
     "output_type": "error",
     "traceback": [
      "\u001b[1;36m  Cell \u001b[1;32mIn[9], line 2\u001b[1;36m\u001b[0m\n\u001b[1;33m    print(message)\u001b[0m\n\u001b[1;37m    ^\u001b[0m\n\u001b[1;31mIndentationError\u001b[0m\u001b[1;31m:\u001b[0m unexpected indent\n"
     ]
    }
   ],
   "source": [
    "message='Hello python world'\n",
    "    print(message)"
   ]
  },
  {
   "cell_type": "markdown",
   "id": "c302e28f-8ebc-4007-8065-7adcdb904703",
   "metadata": {},
   "source": [
    "## **4.3 创建数值列表**"
   ]
  },
  {
   "cell_type": "code",
   "execution_count": 10,
   "id": "aa65d18d-eb48-4f8e-8276-67ca1e2fba70",
   "metadata": {},
   "outputs": [
    {
     "name": "stdout",
     "output_type": "stream",
     "text": [
      "1\n",
      "2\n",
      "3\n",
      "4\n"
     ]
    }
   ],
   "source": [
    "# 使用range（）函数 差一行为，从第一个数开始，第二个值停止\n",
    "for value in range(1,5):\n",
    "    print(value)"
   ]
  },
  {
   "cell_type": "code",
   "execution_count": 11,
   "id": "90adf35e-ea62-41f1-82af-9540c91e6014",
   "metadata": {},
   "outputs": [
    {
     "name": "stdout",
     "output_type": "stream",
     "text": [
      "1\n",
      "2\n",
      "3\n",
      "4\n",
      "5\n"
     ]
    }
   ],
   "source": [
    "for value in range(1,6):\n",
    "    print(value)"
   ]
  },
  {
   "cell_type": "code",
   "execution_count": 12,
   "id": "4c8270b4-09eb-431a-840e-5544e91ea421",
   "metadata": {},
   "outputs": [
    {
     "name": "stdout",
     "output_type": "stream",
     "text": [
      "0\n",
      "1\n",
      "2\n",
      "3\n",
      "4\n",
      "5\n"
     ]
    }
   ],
   "source": [
    "for value in range(6):\n",
    "    print(value)"
   ]
  },
  {
   "cell_type": "code",
   "execution_count": 15,
   "id": "6ee5f25b-4795-4f3f-a662-4903b65cc74a",
   "metadata": {},
   "outputs": [
    {
     "name": "stdout",
     "output_type": "stream",
     "text": [
      "[1, 2, 3, 4, 5]\n",
      "[2, 4, 6, 8, 10]\n",
      "[1, 4, 9, 16, 25, 36, 49, 64, 81, 100]\n"
     ]
    }
   ],
   "source": [
    "# 使用range（）创建数值列表 使用list（）函数将让额（）结果转换为列表\n",
    "numbers=list(range(1,6))\n",
    "print(numbers)\n",
    "\n",
    "# 为range（）函数加第三个参数指定步长\n",
    "even_numbers=list(range(2,11,2))\n",
    "print(even_numbers)\n",
    "\n",
    "# 两个星号**表示乘方\n",
    "squares=[]\n",
    "for value in range(1,11):\n",
    "    square=value**2\n",
    "    squares.append(square)\n",
    "print(squares)"
   ]
  },
  {
   "cell_type": "code",
   "execution_count": 16,
   "id": "d146d2cc-18d9-4d36-ac0c-d9cb40668fde",
   "metadata": {},
   "outputs": [
    {
     "name": "stdout",
     "output_type": "stream",
     "text": [
      "[1, 4, 9, 16, 25, 36, 49, 64, 81, 100]\n"
     ]
    }
   ],
   "source": [
    "squares=[]\n",
    "for value in range(1,11):\n",
    "    squares.append(value**2)\n",
    "print(squares)"
   ]
  },
  {
   "cell_type": "code",
   "execution_count": 26,
   "id": "0c16753e-4e75-4d70-b556-f9eff174e858",
   "metadata": {},
   "outputs": [
    {
     "name": "stdout",
     "output_type": "stream",
     "text": [
      "[0, 1, 2, 3, 4, 5, 6, 7, 8, 9]\n",
      "4.5\n",
      "0\n"
     ]
    }
   ],
   "source": [
    "# 对数值列表执行简单的统计计算\n",
    "digits=[]\n",
    "for digit in range(10):\n",
    "    digits.append(digit)\n",
    "print(digits)\n",
    "a=min(digits)\n",
    "max(digits)\n",
    "sum(digits)\n",
    "average=sum(digits)/len(digits)\n",
    "print(average)\n",
    "print(a)"
   ]
  },
  {
   "cell_type": "code",
   "execution_count": 34,
   "id": "ad3a44f7-9e7f-40e2-9149-e5ec528a2db3",
   "metadata": {},
   "outputs": [
    {
     "name": "stdout",
     "output_type": "stream",
     "text": [
      "0\n"
     ]
    },
    {
     "data": {
      "text/plain": [
       "45"
      ]
     },
     "execution_count": 34,
     "metadata": {},
     "output_type": "execute_result"
    }
   ],
   "source": [
    "digits=[1,2,3,4,5,6,7,8,9,0,]\n",
    "print(min(digits))\n",
    "max(digits)\n",
    "sum(digits)"
   ]
  },
  {
   "cell_type": "code",
   "execution_count": 29,
   "id": "7deea595-e8c6-43cd-8bf7-64692f6ae268",
   "metadata": {},
   "outputs": [
    {
     "name": "stdout",
     "output_type": "stream",
     "text": [
      "[1, 4, 9, 16, 25, 36, 49, 64, 81, 100]\n"
     ]
    }
   ],
   "source": [
    "# 列表推导式\n",
    "squares=[value**2 for value in range(1,11)]\n",
    "print(squares)"
   ]
  },
  {
   "cell_type": "code",
   "execution_count": 30,
   "id": "bce271b6-cb4a-454f-ba12-825525bd83f3",
   "metadata": {},
   "outputs": [
    {
     "name": "stdout",
     "output_type": "stream",
     "text": [
      "[1, 8, 27, 64, 125, 216, 343, 512, 729, 1000]\n"
     ]
    }
   ],
   "source": [
    "squares=[value**3 for value in range(1,11)]\n",
    "print(squares)"
   ]
  },
  {
   "cell_type": "code",
   "execution_count": 33,
   "id": "3e53350a-7406-47b9-99db-87a115096c53",
   "metadata": {},
   "outputs": [
    {
     "name": "stdout",
     "output_type": "stream",
     "text": [
      "[3, 6, 9, 12, 15, 18, 21, 24, 27, 30]\n"
     ]
    }
   ],
   "source": [
    "squares=[]\n",
    "for value in range(3,31,3):\n",
    "    squares.append(value)\n",
    "print(squares)"
   ]
  },
  {
   "cell_type": "markdown",
   "id": "932f17ca-7160-4535-ac69-757c87e90666",
   "metadata": {},
   "source": [
    "## **4.4 使用列表的一部分**"
   ]
  },
  {
   "cell_type": "code",
   "execution_count": 39,
   "id": "152a9a36-baa5-4e92-ba97-bdb7133ae06c",
   "metadata": {},
   "outputs": [
    {
     "name": "stdout",
     "output_type": "stream",
     "text": [
      "['charles', 'martina', 'michael']\n",
      "['michael', 'florence', 'eli']\n",
      "['florence']\n",
      "['charles', 'martina', 'michael']\n"
     ]
    }
   ],
   "source": [
    "# 切片slice\n",
    "players=['charles','martina','michael','florence','eli']\n",
    "print(players[0:3])\n",
    "print(players[2:])\n",
    "print(players[-2:-1])\n",
    "print(players[:-2])"
   ]
  },
  {
   "cell_type": "code",
   "execution_count": 41,
   "id": "356b5e83-17fd-4d9c-af18-35732085b809",
   "metadata": {},
   "outputs": [
    {
     "name": "stdout",
     "output_type": "stream",
     "text": [
      "Here are 3 games in my computer:\n",
      "lol\n",
      "pvz\n",
      "dota\n"
     ]
    }
   ],
   "source": [
    "# 遍历切片\n",
    "games=['lol','pvz','dota','genshin']\n",
    "print('Here are 3 games in my computer:')\n",
    "for game in games[:3]:\n",
    "    print(game)"
   ]
  },
  {
   "cell_type": "code",
   "execution_count": 50,
   "id": "0c0bd836-fc28-4d25-8689-b712b73a9d17",
   "metadata": {},
   "outputs": [
    {
     "name": "stdout",
     "output_type": "stream",
     "text": [
      "My favorite foods are:\n",
      "['pizza', 'ham', 'beef']\n",
      "My friend's favorite foods are:\n",
      "['pizza', 'ham', 'beef']\n",
      "['pizza', 'ham', 'beef', 'cookie']\n",
      "['pizza', 'ham', 'beef', 'fish']\n"
     ]
    }
   ],
   "source": [
    "# 复制列表 从开头到结尾的切片 deep copy\n",
    "my_foods=['pizza','ham','beef']\n",
    "friend_foods=my_foods[:]\n",
    "print('My favorite foods are:')\n",
    "print(my_foods)\n",
    "print('My friend\\'s favorite foods are:')\n",
    "print(friend_foods)\n",
    "my_foods.append('cookie')\n",
    "friend_foods.append('fish')\n",
    "print(my_foods)\n",
    "print(friend_foods)"
   ]
  },
  {
   "cell_type": "code",
   "execution_count": 51,
   "id": "1defe4fb-c775-4e48-a963-e0489775bdb0",
   "metadata": {},
   "outputs": [
    {
     "name": "stdout",
     "output_type": "stream",
     "text": [
      "['pizza', 'ham', 'beef', 'cookie', 'fish']\n",
      "['pizza', 'ham', 'beef', 'cookie', 'fish']\n"
     ]
    }
   ],
   "source": [
    "# shallow copy\n",
    "my_foods=['pizza','ham','beef']\n",
    "friend_foods=my_foods\n",
    "my_foods.append('cookie')\n",
    "friend_foods.append('fish')\n",
    "print(my_foods)\n",
    "print(friend_foods)"
   ]
  },
  {
   "cell_type": "markdown",
   "id": "5a65754a-6a59-4ed4-a515-519c4c99b4e8",
   "metadata": {},
   "source": [
    "## **4.5 元组**"
   ]
  },
  {
   "cell_type": "code",
   "execution_count": 53,
   "id": "8ccfa298-ea4b-4b92-831b-b4889fe1bf99",
   "metadata": {},
   "outputs": [
    {
     "name": "stdout",
     "output_type": "stream",
     "text": [
      "200\n",
      "50\n"
     ]
    },
    {
     "ename": "TypeError",
     "evalue": "'tuple' object does not support item assignment",
     "output_type": "error",
     "traceback": [
      "\u001b[1;31m---------------------------------------------------------------------------\u001b[0m",
      "\u001b[1;31mTypeError\u001b[0m                                 Traceback (most recent call last)",
      "Cell \u001b[1;32mIn[53], line 4\u001b[0m\n\u001b[0;32m      2\u001b[0m \u001b[38;5;28mprint\u001b[39m(dimensions[\u001b[38;5;241m0\u001b[39m])\n\u001b[0;32m      3\u001b[0m \u001b[38;5;28mprint\u001b[39m(dimensions[\u001b[38;5;241m-\u001b[39m\u001b[38;5;241m1\u001b[39m])\n\u001b[1;32m----> 4\u001b[0m dimensions[\u001b[38;5;241m0\u001b[39m]\u001b[38;5;241m=\u001b[39m\u001b[38;5;241m250\u001b[39m\n",
      "\u001b[1;31mTypeError\u001b[0m: 'tuple' object does not support item assignment"
     ]
    }
   ],
   "source": [
    "dimensions=(200,50)\n",
    "print(dimensions[0])\n",
    "print(dimensions[-1])\n",
    "dimensions[0]=250"
   ]
  },
  {
   "cell_type": "code",
   "execution_count": 54,
   "id": "77b3592a-f235-411b-a5f0-ac092bdfa95a",
   "metadata": {},
   "outputs": [
    {
     "name": "stdout",
     "output_type": "stream",
     "text": [
      "200\n",
      "50\n"
     ]
    }
   ],
   "source": [
    "dimensions=(200,50)\n",
    "for dimension in dimensions:\n",
    "    print(dimension)"
   ]
  },
  {
   "cell_type": "code",
   "execution_count": 55,
   "id": "12171cc3-b3ad-4923-b89e-370050daf325",
   "metadata": {},
   "outputs": [
    {
     "name": "stdout",
     "output_type": "stream",
     "text": [
      "Original dimensions:\n",
      "200\n",
      "50\n",
      "\n",
      "Modified dimensions:\n",
      "400\n",
      "200\n"
     ]
    }
   ],
   "source": [
    "dimensions=(200,50)\n",
    "print('Original dimensions:')\n",
    "for dimension in dimensions:\n",
    "    print(dimension)\n",
    "dimensions=(400,200)\n",
    "print('\\nModified dimensions:')\n",
    "for dimension in dimensions:\n",
    "    print(dimension)"
   ]
  },
  {
   "cell_type": "code",
   "execution_count": null,
   "id": "e491309f-db19-4de0-a3e0-fd01ad987672",
   "metadata": {},
   "outputs": [],
   "source": []
  }
 ],
 "metadata": {
  "kernelspec": {
   "display_name": "Python 3 (ipykernel)",
   "language": "python",
   "name": "python3"
  },
  "language_info": {
   "codemirror_mode": {
    "name": "ipython",
    "version": 3
   },
   "file_extension": ".py",
   "mimetype": "text/x-python",
   "name": "python",
   "nbconvert_exporter": "python",
   "pygments_lexer": "ipython3",
   "version": "3.11.7"
  }
 },
 "nbformat": 4,
 "nbformat_minor": 5
}
