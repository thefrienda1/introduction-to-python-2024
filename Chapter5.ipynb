{
 "cells": [
  {
   "cell_type": "markdown",
   "id": "b58e1a9f-d8a4-4d77-8c3f-1ebd0d6d9535",
   "metadata": {},
   "source": [
    "# **第5章 if语句**"
   ]
  },
  {
   "cell_type": "markdown",
   "id": "898cb4c1-8ffc-4108-8222-1e0426b1bc8f",
   "metadata": {},
   "source": [
    "## **5.1 一个简单的示例**"
   ]
  },
  {
   "cell_type": "code",
   "execution_count": 1,
   "id": "4ba21fde-39d3-4599-988d-4832b57b220f",
   "metadata": {},
   "outputs": [
    {
     "name": "stdout",
     "output_type": "stream",
     "text": [
      "Zeus\n",
      "Oner\n",
      "FAKER\n",
      "Gumayusi\n",
      "Keria\n"
     ]
    }
   ],
   "source": [
    "players=['zeus','oner','faker','gumayusi','keria']\n",
    "for player in players:\n",
    "    if player=='faker':\n",
    "        print(player.upper())\n",
    "    else:\n",
    "        print(player.title())"
   ]
  },
  {
   "cell_type": "markdown",
   "id": "5d039215-2e07-4cbe-874c-fa6df8939e0b",
   "metadata": {},
   "source": [
    "## **5.2 条件测试**"
   ]
  },
  {
   "cell_type": "code",
   "execution_count": null,
   "id": "3afb3fb9-5ca8-4d5d-b419-d0f41a3c8cd1",
   "metadata": {},
   "outputs": [],
   "source": [
    "## 检查是否相等 一个等号是陈述 两个等号是发问\n",
    "player='faker'\n",
    "player=='faker'"
   ]
  },
  {
   "cell_type": "code",
   "execution_count": 2,
   "id": "e6f0b9fe-c9ef-477d-9f50-9c694f910afe",
   "metadata": {},
   "outputs": [
    {
     "data": {
      "text/plain": [
       "False"
      ]
     },
     "execution_count": 2,
     "metadata": {},
     "output_type": "execute_result"
    }
   ],
   "source": [
    "player='faker'\n",
    "player=='uzi'"
   ]
  },
  {
   "cell_type": "code",
   "execution_count": 4,
   "id": "216ce689-96cb-4fb1-9b4d-a150eb2dbc0a",
   "metadata": {},
   "outputs": [
    {
     "data": {
      "text/plain": [
       "False"
      ]
     },
     "execution_count": 4,
     "metadata": {},
     "output_type": "execute_result"
    }
   ],
   "source": [
    "## 在检查时忽略大小写\n",
    "player='faker'\n",
    "player=='Faker'"
   ]
  },
  {
   "cell_type": "code",
   "execution_count": 7,
   "id": "4ee59ba0-735e-4d63-87fc-c053a31a0e43",
   "metadata": {},
   "outputs": [
    {
     "name": "stdout",
     "output_type": "stream",
     "text": [
      "Faker\n"
     ]
    }
   ],
   "source": [
    "## lower()方法不会修改存储在player中的值\n",
    "player='Faker'\n",
    "player.lower()=='faker'\n",
    "print(player)"
   ]
  },
  {
   "cell_type": "code",
   "execution_count": 8,
   "id": "37b094a0-0331-4b16-b794-6cc5dc1b6ea3",
   "metadata": {},
   "outputs": [
    {
     "name": "stdout",
     "output_type": "stream",
     "text": [
      "Hold the chovy!\n"
     ]
    }
   ],
   "source": [
    "## 检查是否不等 不等运算符（！=）\n",
    "champion_mid='faker'\n",
    "if champion_mid!='chovy':\n",
    "    print('Hold the chovy!')"
   ]
  },
  {
   "cell_type": "code",
   "execution_count": 9,
   "id": "3772345d-fb64-418d-9c0f-26a66bf76638",
   "metadata": {},
   "outputs": [
    {
     "data": {
      "text/plain": [
       "True"
      ]
     },
     "execution_count": 9,
     "metadata": {},
     "output_type": "execute_result"
    }
   ],
   "source": [
    "## 数值比较\n",
    "age=18\n",
    "age==18"
   ]
  },
  {
   "cell_type": "code",
   "execution_count": 10,
   "id": "de3d8657-d475-4167-936d-69d8ebb2c9e6",
   "metadata": {},
   "outputs": [
    {
     "name": "stdout",
     "output_type": "stream",
     "text": [
      "That is not the correct answer. Please try again!\n"
     ]
    }
   ],
   "source": [
    "answer=17\n",
    "if answer!=42:\n",
    "    print('That is not the correct answer. Please try again!')"
   ]
  },
  {
   "cell_type": "code",
   "execution_count": 12,
   "id": "4470a2b7-af51-4995-a695-b87eebb5a53e",
   "metadata": {},
   "outputs": [
    {
     "data": {
      "text/plain": [
       "True"
      ]
     },
     "execution_count": 12,
     "metadata": {},
     "output_type": "execute_result"
    }
   ],
   "source": [
    "age=19\n",
    "age<20\n",
    "age<=20"
   ]
  },
  {
   "cell_type": "code",
   "execution_count": 16,
   "id": "2f0d4a2e-d3ee-413e-b33c-97e5c6e90c86",
   "metadata": {},
   "outputs": [
    {
     "data": {
      "text/plain": [
       "True"
      ]
     },
     "execution_count": 16,
     "metadata": {},
     "output_type": "execute_result"
    }
   ],
   "source": [
    "## 检查多个条件 and与or 布尔运算\n",
    "answer_0=17\n",
    "answer_1=18\n",
    "(answer_0 >=17) and (answer_1 >=19)\n",
    "(answer_0 >=17) and (answer_1 >=18)"
   ]
  },
  {
   "cell_type": "code",
   "execution_count": 46,
   "id": "c3ba4990-6e81-4f50-839c-3e1d47fcc6f8",
   "metadata": {},
   "outputs": [
    {
     "data": {
      "text/plain": [
       "True"
      ]
     },
     "execution_count": 46,
     "metadata": {},
     "output_type": "execute_result"
    }
   ],
   "source": [
    "True + True\n",
    "True and True\n",
    "True or False\n",
    "False or False\n",
    "True & True\n",
    "True | False"
   ]
  },
  {
   "cell_type": "code",
   "execution_count": null,
   "id": "7d60db07-a34b-4ac4-8c66-eb3b188e150b",
   "metadata": {},
   "outputs": [],
   "source": [
    "==\n",
    "!=\n",
    "and &\n",
    "or |\n",
    "not\n",
    "in\n",
    "not in"
   ]
  },
  {
   "cell_type": "code",
   "execution_count": 17,
   "id": "09726ce1-ae7d-4a8a-8cfc-7a7d71e351f7",
   "metadata": {},
   "outputs": [
    {
     "data": {
      "text/plain": [
       "True"
      ]
     },
     "execution_count": 17,
     "metadata": {},
     "output_type": "execute_result"
    }
   ],
   "source": [
    "age_0=17\n",
    "age_1=18\n",
    "(age_0 >=18) or (age_1 >=18)"
   ]
  },
  {
   "cell_type": "code",
   "execution_count": 19,
   "id": "020480b7-01d2-410a-8135-e751359780c5",
   "metadata": {},
   "outputs": [
    {
     "data": {
      "text/plain": [
       "False"
      ]
     },
     "execution_count": 19,
     "metadata": {},
     "output_type": "execute_result"
    }
   ],
   "source": [
    "## 检查特定的值是否在列表中 关键字in\n",
    "champion_ad =['jakeylove','viper','gumayusi']\n",
    "'viper' in champion_ad\n",
    "'uzi' in champion_ad"
   ]
  },
  {
   "cell_type": "code",
   "execution_count": 20,
   "id": "d02ba20a-fc87-4e56-822f-826566a5bc98",
   "metadata": {},
   "outputs": [
    {
     "name": "stdout",
     "output_type": "stream",
     "text": [
      "Deft, you can post a response if you wish!\n"
     ]
    }
   ],
   "source": [
    "## 检查特定的值是否不在列表中\n",
    "banned_users =['clid','uzi','canna']\n",
    "user ='deft'\n",
    "if user not in banned_users:\n",
    "    print(f\"{user.title()}, you can post a response if you wish!\")"
   ]
  },
  {
   "cell_type": "code",
   "execution_count": 50,
   "id": "b041ecc5-b882-4db6-a8d7-10649f8ec729",
   "metadata": {},
   "outputs": [],
   "source": [
    "game_paused = False\n",
    "screen_active = True\n",
    "not game_paused\n",
    "game_active = (screen_active) and (not game_paused)"
   ]
  },
  {
   "cell_type": "markdown",
   "id": "5508475d-1e7a-4897-b099-7154e5b76cc1",
   "metadata": {},
   "source": [
    "## **5.3 if语句**"
   ]
  },
  {
   "cell_type": "code",
   "execution_count": 25,
   "id": "8f2c911a-dc27-42a5-92a6-f8258319157a",
   "metadata": {},
   "outputs": [
    {
     "name": "stdout",
     "output_type": "stream",
     "text": [
      "You are old enough to vote!\n"
     ]
    }
   ],
   "source": [
    "## 简单的if语句\n",
    "##if condition1_test:\n",
    "    ##do sth\n",
    "age = 19\n",
    "if age >=18:\n",
    "    print('You are old enough to vote!')"
   ]
  },
  {
   "cell_type": "code",
   "execution_count": 27,
   "id": "2e3508f7-9a53-404c-bdcf-32d983594f24",
   "metadata": {},
   "outputs": [
    {
     "name": "stdout",
     "output_type": "stream",
     "text": [
      "Sorry, you are too young to vote.\n",
      "Please register to vote as soon as you turn 18!\n"
     ]
    }
   ],
   "source": [
    "## if-else语句\n",
    "age = 17\n",
    "if age >=18:\n",
    "    print('You are old enough to vote!\\nHave you registered to vote yet?')\n",
    "else:\n",
    "    print('Sorry, you are too young to vote.\\nPlease register to vote as soon as you turn 18!')"
   ]
  },
  {
   "cell_type": "code",
   "execution_count": 28,
   "id": "2f8968e0-5ace-444a-ae48-bf228cf54a9f",
   "metadata": {},
   "outputs": [
    {
     "name": "stdout",
     "output_type": "stream",
     "text": [
      "Your admission cost is 25\n"
     ]
    }
   ],
   "source": [
    "## if-elif-else语句 elif实际上是另一个if测试\n",
    "age=12\n",
    "if age < 4:\n",
    "    print('Your admission cost is 0')\n",
    "elif age < 18:\n",
    "    print('Your admission cost is 25')\n",
    "else:\n",
    "    print('Your admission cost is 40') "
   ]
  },
  {
   "cell_type": "code",
   "execution_count": 31,
   "id": "689d8bdf-d118-4588-aa85-c23acbd78a9b",
   "metadata": {},
   "outputs": [
    {
     "name": "stdout",
     "output_type": "stream",
     "text": [
      "Your admission cost is ＄25\n"
     ]
    }
   ],
   "source": [
    "age = 12\n",
    "if age < 4:\n",
    "    price = 0\n",
    "elif age < 18:\n",
    "    price = 25\n",
    "else:\n",
    "    price = 40\n",
    "print(f\"Your admission cost is ＄{price}\")"
   ]
  },
  {
   "cell_type": "code",
   "execution_count": 32,
   "id": "d387c483-eb53-4315-beea-19479c6c7dd5",
   "metadata": {},
   "outputs": [
    {
     "name": "stdout",
     "output_type": "stream",
     "text": [
      "Your admission cost is ＄25\n"
     ]
    }
   ],
   "source": [
    "## 使用多个elif代码块\n",
    "age = 12\n",
    "if age < 4:\n",
    "    price = 0\n",
    "elif age <18:\n",
    "    price = 25\n",
    "elif age < 65:\n",
    "    price = 40\n",
    "else:\n",
    "    price = 20 \n",
    "print(f\"Your admission cost is ＄{price}\")"
   ]
  },
  {
   "cell_type": "code",
   "execution_count": 33,
   "id": "81d6bd51-2fb6-4fa8-9d10-5224facfa19e",
   "metadata": {},
   "outputs": [
    {
     "name": "stdout",
     "output_type": "stream",
     "text": [
      "Your admission cost is ＄25\n"
     ]
    }
   ],
   "source": [
    "## 省略else代码块\n",
    "age = 12\n",
    "if age < 4:\n",
    "    price = 0\n",
    "elif age < 18:\n",
    "    price = 25\n",
    "elif age < 65:\n",
    "    price = 40\n",
    "elif age >= 65:\n",
    "    price = 20\n",
    "print(f\"Your admission cost is ＄{price}\")"
   ]
  },
  {
   "cell_type": "code",
   "execution_count": 34,
   "id": "a0ca3517-943d-4ea6-89ea-ef04263bc11a",
   "metadata": {},
   "outputs": [
    {
     "name": "stdout",
     "output_type": "stream",
     "text": [
      "You really like bananas!\n",
      "You really like apples!\n"
     ]
    }
   ],
   "source": [
    "## 测试多个条件\n",
    "favorite_fruits=['bananas','apples','oranges']\n",
    "if 'bananas' in favorite_fruits:\n",
    "    print('You really like bananas!')\n",
    "if 'apples' in favorite_fruits:\n",
    "    print('You really like apples!')\n",
    "if'pears' in favorite_fruits:\n",
    "    print('You really like pears!')"
   ]
  },
  {
   "cell_type": "code",
   "execution_count": 35,
   "id": "6be0801b-09c5-434e-b12e-43a233351b0b",
   "metadata": {},
   "outputs": [
    {
     "name": "stdout",
     "output_type": "stream",
     "text": [
      "You really like bananas!\n"
     ]
    }
   ],
   "source": [
    "favorite_fruits=['bananas','apples','oranges']\n",
    "if 'bananas' in favorite_fruits:\n",
    "    print('You really like bananas!')\n",
    "elif 'apples' in favorite_fruits:\n",
    "    print('You really like apples!')\n",
    "elif'pears' in favorite_fruits:\n",
    "    print('You really like pears!')"
   ]
  },
  {
   "cell_type": "markdown",
   "id": "2cb0b8ab-b7fc-478f-a194-7156f8aa6c95",
   "metadata": {},
   "source": [
    "## **5.4 使用if语句处理列表**"
   ]
  },
  {
   "cell_type": "code",
   "execution_count": 38,
   "id": "d7551c3f-c2ba-40a2-8bac-076a425d42f6",
   "metadata": {},
   "outputs": [
    {
     "name": "stdout",
     "output_type": "stream",
     "text": [
      "Welcome faker!\n",
      "Welcome bang!\n",
      "Welcome wolf!\n"
     ]
    }
   ],
   "source": [
    "## 检查特殊元素\n",
    "champion_players = ['faker','bang','wolf']\n",
    "for champion_player in champion_players:\n",
    "    print(f\"Welcome {champion_player}!\")"
   ]
  },
  {
   "cell_type": "code",
   "execution_count": 39,
   "id": "af6f1a88-c513-4e87-bffd-343915c57699",
   "metadata": {},
   "outputs": [
    {
     "name": "stdout",
     "output_type": "stream",
     "text": [
      "Welcome faker!\n",
      "Sorry, bang can not arrive at the spot because of sth important.\n",
      "Welcome wolf!\n"
     ]
    }
   ],
   "source": [
    "champion_players = ['faker','bang','wolf']\n",
    "for champion_player in champion_players:\n",
    "    if champion_player == 'bang':\n",
    "        print('Sorry, bang can not arrive at the spot because of sth important.')\n",
    "    else:\n",
    "        print(f'Welcome {champion_player}!')"
   ]
  },
  {
   "cell_type": "code",
   "execution_count": 40,
   "id": "fe1f4079-3675-4f1a-ab7b-77962f61de37",
   "metadata": {},
   "outputs": [
    {
     "name": "stdout",
     "output_type": "stream",
     "text": [
      "Are you sure you want a plain pizza?\n"
     ]
    }
   ],
   "source": [
    "## 确定列表非空\n",
    "requested_toppings = []\n",
    "if requested_toppings:\n",
    "    for requested_topping in requested_toppings:\n",
    "        print(f'Adding {requested_topping}!')\n",
    "    print('\\nFinished making your pizza!')\n",
    "else:\n",
    "    print('Are you sure you want a plain pizza?')"
   ]
  },
  {
   "cell_type": "code",
   "execution_count": 51,
   "id": "0a0898ba-5255-4993-b536-c8aef268d36d",
   "metadata": {},
   "outputs": [
    {
     "name": "stdout",
     "output_type": "stream",
     "text": [
      "Adding mushrooms.\n",
      "Sorry, we don't have french fries\n",
      "Adding extra cheese.\n"
     ]
    }
   ],
   "source": [
    "## 使用多个列表\n",
    "available_toppings = ['mushrooms','olives','green peppers','extra cheese']\n",
    "requested_toppings = ['mushrooms','french fries','extra cheese']\n",
    "for requested_topping in requested_toppings:\n",
    "    if requested_topping in available_toppings:\n",
    "        print(f'Adding {requested_topping}.')\n",
    "    else:\n",
    "        print(f'Sorry, we don\\'t have {requested_topping}')"
   ]
  },
  {
   "cell_type": "markdown",
   "id": "bcd3c462-1e8e-4788-b86a-e0dc082b649f",
   "metadata": {},
   "source": [
    "# **练习**"
   ]
  },
  {
   "cell_type": "markdown",
   "id": "fb2b00bb-a052-4e66-9bef-2b57629688e5",
   "metadata": {},
   "source": [
    "## *5.1 条件测试*"
   ]
  },
  {
   "cell_type": "code",
   "execution_count": 54,
   "id": "58394989-43ab-4877-a461-a6a255b25e33",
   "metadata": {},
   "outputs": [
    {
     "name": "stdout",
     "output_type": "stream",
     "text": [
      "Is player == 'faker'? I predict True.\n",
      "True\n",
      "Is player == 'uzi'? I predict False.\n",
      "False\n"
     ]
    }
   ],
   "source": [
    "player = 'faker'\n",
    "print(\"Is player == 'faker'? I predict True.\")\n",
    "print(player == 'faker')\n",
    "print(\"Is player == 'uzi'? I predict False.\")\n",
    "print(player == 'uzi')"
   ]
  },
  {
   "cell_type": "code",
   "execution_count": 55,
   "id": "4e42588d-d85d-4c66-aa77-e0d95146b4ce",
   "metadata": {},
   "outputs": [
    {
     "name": "stdout",
     "output_type": "stream",
     "text": [
      "Is answer == '42'? I predict True.\n",
      "True\n",
      "Is answer == '24'? I predict False.\n",
      "False\n"
     ]
    }
   ],
   "source": [
    "answer = '42'\n",
    "print(\"Is answer == '42'? I predict True.\")\n",
    "print(answer == '42')\n",
    "print(\"Is answer == '24'? I predict False.\")\n",
    "print(answer == '24')"
   ]
  },
  {
   "cell_type": "code",
   "execution_count": 56,
   "id": "3934e2fd-a179-41d8-81ef-18fb9777f4c6",
   "metadata": {},
   "outputs": [
    {
     "name": "stdout",
     "output_type": "stream",
     "text": [
      "Is game == 'lol'? I predict True.\n",
      "True\n",
      "Is game == 'dota'? I predict False.\n",
      "False\n"
     ]
    }
   ],
   "source": [
    "game = 'lol'\n",
    "print(\"Is game == 'lol'? I predict True.\")\n",
    "print(game == 'lol')\n",
    "print(\"Is game == 'dota'? I predict False.\")\n",
    "print(game == 'dota')"
   ]
  },
  {
   "cell_type": "code",
   "execution_count": 57,
   "id": "a74bddce-9973-4ca8-b3f9-6cfb96426b9c",
   "metadata": {},
   "outputs": [
    {
     "name": "stdout",
     "output_type": "stream",
     "text": [
      "Is school == 'nju'? I predict True.\n",
      "True\n",
      "Is school == 'pku'? I predict False.\n",
      "False\n"
     ]
    }
   ],
   "source": [
    "school = 'nju'\n",
    "print(\"Is school == 'nju'? I predict True.\")\n",
    "print(school == 'nju')\n",
    "print(\"Is school == 'pku'? I predict False.\")\n",
    "print(school == 'pku')"
   ]
  },
  {
   "cell_type": "code",
   "execution_count": 58,
   "id": "7af16118-5104-49e4-8a28-1347be936692",
   "metadata": {},
   "outputs": [
    {
     "name": "stdout",
     "output_type": "stream",
     "text": [
      "Is fruit == 'apple'? I predict True.\n",
      "True\n",
      "Is fruit == 'banana'? I predict False.\n",
      "False\n"
     ]
    }
   ],
   "source": [
    "fruit = 'apple'\n",
    "print(\"Is fruit == 'apple'? I predict True.\")\n",
    "print(fruit == 'apple')\n",
    "print(\"Is fruit == 'banana'? I predict False.\")\n",
    "print(fruit == 'banana')"
   ]
  },
  {
   "cell_type": "markdown",
   "id": "0db4c9d5-fecf-4f23-8093-a49bc1cccf0c",
   "metadata": {},
   "source": [
    "## *5.2 更多条件测试*"
   ]
  },
  {
   "cell_type": "code",
   "execution_count": 59,
   "id": "48b3271f-61c0-4b66-8eb9-b82c4136b8f5",
   "metadata": {},
   "outputs": [
    {
     "data": {
      "text/plain": [
       "True"
      ]
     },
     "execution_count": 59,
     "metadata": {},
     "output_type": "execute_result"
    }
   ],
   "source": [
    "name = 'luo'\n",
    "name == 'luo'"
   ]
  },
  {
   "cell_type": "code",
   "execution_count": 61,
   "id": "7cd3cd92-fd15-441c-b3ec-2ac5eec50529",
   "metadata": {},
   "outputs": [
    {
     "data": {
      "text/plain": [
       "False"
      ]
     },
     "execution_count": 61,
     "metadata": {},
     "output_type": "execute_result"
    }
   ],
   "source": [
    "name = 'luo'\n",
    "name != 'luo'"
   ]
  },
  {
   "cell_type": "code",
   "execution_count": 62,
   "id": "2b29f6da-c947-44f3-bf38-d457ceaaf0e8",
   "metadata": {},
   "outputs": [
    {
     "data": {
      "text/plain": [
       "True"
      ]
     },
     "execution_count": 62,
     "metadata": {},
     "output_type": "execute_result"
    }
   ],
   "source": [
    "name = 'Luo'\n",
    "name.lower() == 'luo'"
   ]
  },
  {
   "cell_type": "code",
   "execution_count": 64,
   "id": "4b8a1633-9760-4bd0-8b3e-37bc69ab0bc1",
   "metadata": {},
   "outputs": [
    {
     "data": {
      "text/plain": [
       "False"
      ]
     },
     "execution_count": 64,
     "metadata": {},
     "output_type": "execute_result"
    }
   ],
   "source": [
    "name = 'Luo Tianyi'\n",
    "name.lower() != 'luo tianyi'"
   ]
  },
  {
   "cell_type": "code",
   "execution_count": 65,
   "id": "4342c41b-0f55-4e29-829d-6ad8dec88a8a",
   "metadata": {},
   "outputs": [
    {
     "data": {
      "text/plain": [
       "True"
      ]
     },
     "execution_count": 65,
     "metadata": {},
     "output_type": "execute_result"
    }
   ],
   "source": [
    "digit = 3\n",
    "digit >= 2"
   ]
  },
  {
   "cell_type": "code",
   "execution_count": 66,
   "id": "b076ec45-90dc-431d-8a6b-8ebff342bff9",
   "metadata": {},
   "outputs": [
    {
     "data": {
      "text/plain": [
       "False"
      ]
     },
     "execution_count": 66,
     "metadata": {},
     "output_type": "execute_result"
    }
   ],
   "source": [
    "digit = 4\n",
    "digit <= 3"
   ]
  },
  {
   "cell_type": "code",
   "execution_count": 67,
   "id": "2a7e4765-75bb-430f-93cf-fa728777069c",
   "metadata": {},
   "outputs": [
    {
     "data": {
      "text/plain": [
       "True"
      ]
     },
     "execution_count": 67,
     "metadata": {},
     "output_type": "execute_result"
    }
   ],
   "source": [
    "digit = 5\n",
    "(digit > 4) and (digit < 6)"
   ]
  },
  {
   "cell_type": "code",
   "execution_count": 68,
   "id": "9a6edbce-6fe4-4ff1-bbb4-6fe24d74723b",
   "metadata": {},
   "outputs": [
    {
     "data": {
      "text/plain": [
       "True"
      ]
     },
     "execution_count": 68,
     "metadata": {},
     "output_type": "execute_result"
    }
   ],
   "source": [
    "digit = 6\n",
    "(digit > 7) or (digit < 8)"
   ]
  },
  {
   "cell_type": "code",
   "execution_count": 69,
   "id": "7d520682-3a22-442f-b8ce-ebc7672b6119",
   "metadata": {},
   "outputs": [
    {
     "data": {
      "text/plain": [
       "True"
      ]
     },
     "execution_count": 69,
     "metadata": {},
     "output_type": "execute_result"
    }
   ],
   "source": [
    "digits = ['3','4','5','6']\n",
    "'5' in digits"
   ]
  },
  {
   "cell_type": "code",
   "execution_count": 70,
   "id": "82931b09-fe81-4d17-bd99-534de78d004d",
   "metadata": {},
   "outputs": [
    {
     "data": {
      "text/plain": [
       "False"
      ]
     },
     "execution_count": 70,
     "metadata": {},
     "output_type": "execute_result"
    }
   ],
   "source": [
    "digits = ['3','4','5','6']\n",
    "'114514' in digits"
   ]
  },
  {
   "cell_type": "code",
   "execution_count": 71,
   "id": "40225bfe-2023-4de0-8aa6-73f49ee1ea81",
   "metadata": {},
   "outputs": [
    {
     "data": {
      "text/plain": [
       "False"
      ]
     },
     "execution_count": 71,
     "metadata": {},
     "output_type": "execute_result"
    }
   ],
   "source": [
    "digits = ['3','4','5','6']\n",
    "'5' not in digits"
   ]
  },
  {
   "cell_type": "code",
   "execution_count": 72,
   "id": "90f98f68-44ea-478d-a32f-f7146c88ebb9",
   "metadata": {},
   "outputs": [
    {
     "data": {
      "text/plain": [
       "True"
      ]
     },
     "execution_count": 72,
     "metadata": {},
     "output_type": "execute_result"
    }
   ],
   "source": [
    "digits = ['3','4','5','6']\n",
    "'114514' not in digits"
   ]
  },
  {
   "cell_type": "markdown",
   "id": "b4355036-12e0-420f-831e-c0bc3b70f15d",
   "metadata": {},
   "source": [
    "## *5.3 外星人颜色1*"
   ]
  },
  {
   "cell_type": "code",
   "execution_count": 4,
   "id": "1f23efae-7c72-4a06-9b2d-ff4fb76ede38",
   "metadata": {},
   "outputs": [
    {
     "name": "stdout",
     "output_type": "stream",
     "text": [
      "You get 5 points!\n"
     ]
    }
   ],
   "source": [
    "alien_color = 'green'\n",
    "if alien_color == 'green':\n",
    "    print('You get 5 points!')"
   ]
  },
  {
   "cell_type": "code",
   "execution_count": 5,
   "id": "fc79ca64-8911-4e9b-832c-f7a528fec0c8",
   "metadata": {},
   "outputs": [],
   "source": [
    "alien_color = 'red'\n",
    "if alien_color == 'green':\n",
    "    print('You get 5 points!')"
   ]
  },
  {
   "cell_type": "markdown",
   "id": "579c7922-9945-43c6-9ab4-620af35a888f",
   "metadata": {},
   "source": [
    "## *5.4 外星人颜色2*"
   ]
  },
  {
   "cell_type": "code",
   "execution_count": 6,
   "id": "5b3277cc-75a6-43fd-ad28-10411d566d11",
   "metadata": {},
   "outputs": [
    {
     "name": "stdout",
     "output_type": "stream",
     "text": [
      "You get 5 points!\n"
     ]
    }
   ],
   "source": [
    "alien_color = 'green'\n",
    "if alien_color == 'green':\n",
    "    print('You get 5 points!')\n",
    "else:\n",
    "    print('You get 10 points!')"
   ]
  },
  {
   "cell_type": "code",
   "execution_count": 7,
   "id": "780bfdf4-34f3-4b7f-83f5-65ad3471c602",
   "metadata": {},
   "outputs": [
    {
     "name": "stdout",
     "output_type": "stream",
     "text": [
      "You get 10 points!\n"
     ]
    }
   ],
   "source": [
    "alien_color = 'yellow'\n",
    "if alien_color == 'green':\n",
    "    print('You get 5 points!')\n",
    "else:\n",
    "    print('You get 10 points!')"
   ]
  },
  {
   "cell_type": "markdown",
   "id": "0eb220b7-0839-43c6-80de-f020e2072898",
   "metadata": {},
   "source": [
    "## *5.5外星人颜色3*"
   ]
  },
  {
   "cell_type": "code",
   "execution_count": 8,
   "id": "b7bab446-177d-4a00-a96e-332ec70508bc",
   "metadata": {},
   "outputs": [
    {
     "name": "stdout",
     "output_type": "stream",
     "text": [
      "You get 5 points!\n"
     ]
    }
   ],
   "source": [
    "alien_color = 'green'\n",
    "if alien_color == 'green':\n",
    "    print('You get 5 points!')\n",
    "elif alien_color == 'yellow':\n",
    "    print('You get 10 points')\n",
    "else:\n",
    "    print('You get 15 points!')"
   ]
  },
  {
   "cell_type": "code",
   "execution_count": 9,
   "id": "3f5a6ee3-f18a-4910-9cc8-9e6d8da8f9e1",
   "metadata": {},
   "outputs": [
    {
     "name": "stdout",
     "output_type": "stream",
     "text": [
      "You get 10 points\n"
     ]
    }
   ],
   "source": [
    "alien_color = 'yellow'\n",
    "if alien_color == 'green':\n",
    "    print('You get 5 points!')\n",
    "elif alien_color == 'yellow':\n",
    "    print('You get 10 points')\n",
    "else:\n",
    "    print('You get 15 points!')"
   ]
  },
  {
   "cell_type": "code",
   "execution_count": 10,
   "id": "4f890cd0-51b4-48a4-8b59-e5431a38cb4d",
   "metadata": {},
   "outputs": [
    {
     "name": "stdout",
     "output_type": "stream",
     "text": [
      "You get 15 points!\n"
     ]
    }
   ],
   "source": [
    "alien_color = 'red'\n",
    "if alien_color == 'green':\n",
    "    print('You get 5 points!')\n",
    "elif alien_color == 'yellow':\n",
    "    print('You get 10 points')\n",
    "else:\n",
    "    print('You get 15 points!')"
   ]
  },
  {
   "cell_type": "markdown",
   "id": "0377c411-a299-40cd-96ea-4be3672a3d1c",
   "metadata": {},
   "source": [
    "## *5.6 人生的不同阶段*"
   ]
  },
  {
   "cell_type": "code",
   "execution_count": 13,
   "id": "2de7ac8d-6884-4a2e-b494-f9605050dc14",
   "metadata": {},
   "outputs": [
    {
     "name": "stdout",
     "output_type": "stream",
     "text": [
      "This person is a middle-aged and young adult.\n"
     ]
    }
   ],
   "source": [
    "age = 20\n",
    "if age < 2:\n",
    "    print('This person is an infant.')\n",
    "elif age < 4:\n",
    "     print('This person is a baby.')\n",
    "elif age < 13:\n",
    "     print('This person is a child.')\n",
    "elif age < 18:\n",
    "     print('This person is a teenager.')\n",
    "elif age < 65:\n",
    "     print('This person is a middle-aged and young adult.')\n",
    "else:\n",
    "     print('This person is elderly.')"
   ]
  },
  {
   "cell_type": "markdown",
   "id": "ff8e83be-ceb3-44aa-a364-970cd96e7d9b",
   "metadata": {},
   "source": [
    "## *5.7 喜欢的水果*"
   ]
  },
  {
   "cell_type": "code",
   "execution_count": 15,
   "id": "3fe0f681-8d55-4940-ac46-7a0ee0b3c4db",
   "metadata": {},
   "outputs": [
    {
     "name": "stdout",
     "output_type": "stream",
     "text": [
      "You really like apples!\n",
      "You really like bananas!\n",
      "You really like oranges!\n"
     ]
    }
   ],
   "source": [
    "favorite_fruits = ['bananas','apples','oranges']\n",
    "if 'apples' in favorite_fruits:\n",
    "    print('You really like apples!')\n",
    "if 'bananas' in favorite_fruits:\n",
    "    print('You really like bananas!')\n",
    "if 'oranges' in favorite_fruits:\n",
    "    print('You really like oranges!')\n",
    "if 'pears' in favorite_fruits:\n",
    "    print('You really like pears!')\n",
    "if 'lemons' in favorite_fruits:\n",
    "    print('You really like lemons!')"
   ]
  },
  {
   "cell_type": "code",
   "execution_count": 16,
   "id": "af29f24e-55ea-45b5-acea-0d6b62518727",
   "metadata": {},
   "outputs": [
    {
     "name": "stdout",
     "output_type": "stream",
     "text": [
      "You really like bananas!\n",
      "You really like apples!\n",
      "You really like oranges!\n"
     ]
    }
   ],
   "source": [
    "favorite_fruits = ['bananas','apples','oranges']\n",
    "for favorite_fruit in favorite_fruits:\n",
    "    print(f\"You really like {favorite_fruit}!\")"
   ]
  },
  {
   "cell_type": "markdown",
   "id": "9953f15e-a437-4ecd-a99d-b59e5faccb90",
   "metadata": {},
   "source": [
    "## *5.8 以特殊方式跟管理员打招呼*"
   ]
  },
  {
   "cell_type": "code",
   "execution_count": 19,
   "id": "4dd07253-62d6-426d-acb4-05ceab565b62",
   "metadata": {},
   "outputs": [
    {
     "name": "stdout",
     "output_type": "stream",
     "text": [
      "Hello admin, would you like to see a status report?\n",
      "Hello Jaden, thank you for logging in again.\n",
      "Hello Faker, thank you for logging in again.\n",
      "Hello Zeus, thank you for logging in again.\n",
      "Hello Oner, thank you for logging in again.\n"
     ]
    }
   ],
   "source": [
    "users = ['admin','jaden','faker','zeus','oner']\n",
    "for user in users:\n",
    "    if user == 'admin':\n",
    "        print('Hello admin, would you like to see a status report?')\n",
    "    else:\n",
    "        print(f'Hello {user.title()}, thank you for logging in again.')"
   ]
  },
  {
   "cell_type": "markdown",
   "id": "23c59a1e-3f02-4461-a489-c228f99fc4f6",
   "metadata": {},
   "source": [
    "## *5.9 处理没有用户的情形*"
   ]
  },
  {
   "cell_type": "code",
   "execution_count": 27,
   "id": "16b317fe-f928-4800-8a83-d3f0da6882e4",
   "metadata": {},
   "outputs": [
    {
     "name": "stdout",
     "output_type": "stream",
     "text": [
      "We need to find some users!\n"
     ]
    }
   ],
   "source": [
    "users = []\n",
    "if users:\n",
    "    for user in users:\n",
    "        if user == 'admin':\n",
    "            print('Hello admin, would you like to see a status report?')\n",
    "        else:\n",
    "            print(f'Hello {user.title()}, thank you for logging in again.')\n",
    "else:\n",
    "    print('We need to find some users!')"
   ]
  },
  {
   "cell_type": "markdown",
   "id": "2f05a220-7a57-4099-895b-ace7cb671816",
   "metadata": {},
   "source": [
    "## *5.10 检查用户名*"
   ]
  },
  {
   "cell_type": "code",
   "execution_count": 38,
   "id": "dc6b4908-da37-4fac-a6d3-3ca1b3493766",
   "metadata": {},
   "outputs": [
    {
     "name": "stdout",
     "output_type": "stream",
     "text": [
      "['zeus', 'oner', 'faker', 'gumayusi', 'keria']\n",
      "The name has not been used\n",
      "The name has not been used\n",
      "You need to print other names.\n",
      "The name has not been used\n",
      "The name has not been used\n"
     ]
    }
   ],
   "source": [
    "current_users = ['Zeus','Oner','Faker','Gumayusi','Keria']\n",
    "scurrent_users = [current_user.lower() for current_user in current_users]\n",
    "print(scurrent_users)\n",
    "new_users = ['marin','bengi','faker','bang','wolf']\n",
    "for new_user in new_users:\n",
    "    if (new_user in current_users) or (new_user in scurrent_users):\n",
    "        print('You need to print other names.')\n",
    "    else:\n",
    "        print('The name has not been used')"
   ]
  },
  {
   "cell_type": "markdown",
   "id": "824be8d8-b05c-404e-b6d3-8478d1a77120",
   "metadata": {},
   "source": [
    "## *5.11 序数*"
   ]
  },
  {
   "cell_type": "code",
   "execution_count": 44,
   "id": "fe9c9e69-529b-41ea-bfc4-d03da94e8915",
   "metadata": {},
   "outputs": [
    {
     "name": "stdout",
     "output_type": "stream",
     "text": [
      "1\n",
      "1st\n",
      "2\n",
      "2nd\n",
      "3\n",
      "3rd\n",
      "4\n",
      "4th\n",
      "5\n",
      "5th\n",
      "6\n",
      "6th\n",
      "7\n",
      "7th\n",
      "8\n",
      "8th\n",
      "9\n",
      "9th\n"
     ]
    }
   ],
   "source": [
    "nums = [num for num in range(1,10)]\n",
    "for num in nums:\n",
    "    print(num)\n",
    "    if num == 1:\n",
    "        print('1st')\n",
    "    elif num == 2:\n",
    "        print('2nd')\n",
    "    elif num == 3:\n",
    "        print('3rd')\n",
    "    else:\n",
    "        print(f'{num}th')"
   ]
  }
 ],
 "metadata": {
  "kernelspec": {
   "display_name": "Python 3 (ipykernel)",
   "language": "python",
   "name": "python3"
  },
  "language_info": {
   "codemirror_mode": {
    "name": "ipython",
    "version": 3
   },
   "file_extension": ".py",
   "mimetype": "text/x-python",
   "name": "python",
   "nbconvert_exporter": "python",
   "pygments_lexer": "ipython3",
   "version": "3.11.7"
  }
 },
 "nbformat": 4,
 "nbformat_minor": 5
}
