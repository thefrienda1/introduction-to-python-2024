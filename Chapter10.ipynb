{
 "cells": [
  {
   "cell_type": "markdown",
   "id": "89fed765-4f04-4aa0-b419-5a706308219b",
   "metadata": {},
   "source": [
    "# **第10章 文件和异常**"
   ]
  },
  {
   "cell_type": "markdown",
   "id": "6fab97f4-cb05-4744-96fd-6bd7bc545b9f",
   "metadata": {},
   "source": [
    "## **10.1 读取文件**"
   ]
  },
  {
   "cell_type": "markdown",
   "id": "2f977016-1f68-4ed7-9c15-ec755840ecb8",
   "metadata": {},
   "source": [
    "### **10.1.1 读取文件的全部内容**"
   ]
  },
  {
   "cell_type": "code",
   "execution_count": 1,
   "id": "6f2845c3-c241-4321-aca3-07096fca5400",
   "metadata": {
    "execution": {
     "iopub.execute_input": "2024-05-10T01:51:05.174657Z",
     "iopub.status.busy": "2024-05-10T01:51:05.173656Z",
     "iopub.status.idle": "2024-05-10T01:51:05.184785Z",
     "shell.execute_reply": "2024-05-10T01:51:05.183774Z",
     "shell.execute_reply.started": "2024-05-10T01:51:05.174657Z"
    }
   },
   "outputs": [
    {
     "name": "stdout",
     "output_type": "stream",
     "text": [
      "3.1415926535\n",
      "  8979323846\n",
      "  2643383279\n"
     ]
    }
   ],
   "source": [
    "from pathlib import Path\n",
    "\n",
    "path = Path('pi_digits.txt')\n",
    "contents = path.read_text()\n",
    "print(contents)"
   ]
  },
  {
   "cell_type": "code",
   "execution_count": 4,
   "id": "12977b71-1042-466a-ab36-ac9a80623a7c",
   "metadata": {
    "execution": {
     "iopub.execute_input": "2024-05-10T01:56:35.108265Z",
     "iopub.status.busy": "2024-05-10T01:56:35.108265Z",
     "iopub.status.idle": "2024-05-10T01:56:35.111675Z",
     "shell.execute_reply": "2024-05-10T01:56:35.111675Z",
     "shell.execute_reply.started": "2024-05-10T01:56:35.108265Z"
    }
   },
   "outputs": [
    {
     "name": "stdout",
     "output_type": "stream",
     "text": [
      "3.1415926535\n",
      "  8979323846\n",
      "  2643383279\n"
     ]
    }
   ],
   "source": [
    "contents.rstrip()\n",
    "print(contents)"
   ]
  },
  {
   "cell_type": "code",
   "execution_count": 6,
   "id": "9c36a7fa-6517-4be4-b7bc-5aaa3aea8bb8",
   "metadata": {
    "execution": {
     "iopub.execute_input": "2024-05-10T01:58:15.164162Z",
     "iopub.status.busy": "2024-05-10T01:58:15.164162Z",
     "iopub.status.idle": "2024-05-10T01:58:15.168245Z",
     "shell.execute_reply": "2024-05-10T01:58:15.168245Z",
     "shell.execute_reply.started": "2024-05-10T01:58:15.164162Z"
    }
   },
   "outputs": [
    {
     "name": "stdout",
     "output_type": "stream",
     "text": [
      "3.1415926535\n",
      "  8979323846\n",
      "  2643383279\n"
     ]
    }
   ],
   "source": [
    "#方法链式调用\n",
    "contents = path.read_text().rstrip()\n",
    "print(contents)"
   ]
  },
  {
   "cell_type": "markdown",
   "id": "5af6fd06-8630-4846-a392-4430b96619bb",
   "metadata": {},
   "source": [
    "### **10.1.2 相对文件路径和绝对文件路径**"
   ]
  },
  {
   "cell_type": "code",
   "execution_count": null,
   "id": "227d5eaf-26e7-45b3-bf1c-a91e8eb1914b",
   "metadata": {},
   "outputs": [],
   "source": [
    "#相对文件路径\n",
    "path = Path('text_files/filename.txt')\n",
    "#绝对文件路径\n",
    "path = Path('/home/eric/data_files/text_files/filename.txt')"
   ]
  },
  {
   "cell_type": "markdown",
   "id": "920b50e8-f507-41df-90e0-ed0158d9d803",
   "metadata": {},
   "source": [
    "### **10.1.3 访问文件中的各行**"
   ]
  },
  {
   "cell_type": "code",
   "execution_count": 2,
   "id": "414c6b9d-e671-4c78-8e18-a4fb2c378a30",
   "metadata": {
    "execution": {
     "iopub.execute_input": "2024-05-10T13:57:57.245596Z",
     "iopub.status.busy": "2024-05-10T13:57:57.245596Z",
     "iopub.status.idle": "2024-05-10T13:57:57.249764Z",
     "shell.execute_reply": "2024-05-10T13:57:57.249764Z",
     "shell.execute_reply.started": "2024-05-10T13:57:57.245596Z"
    }
   },
   "outputs": [
    {
     "name": "stdout",
     "output_type": "stream",
     "text": [
      "3.1415926535\n",
      "  8979323846\n",
      "  2643383279\n"
     ]
    }
   ],
   "source": [
    "from pathlib import Path\n",
    "\n",
    "path = Path('pi_digits.txt')\n",
    "contents = path.read_text()\n",
    "\n",
    "lines = contents.splitlines()\n",
    "for line in lines:\n",
    "    print(line)"
   ]
  },
  {
   "cell_type": "markdown",
   "id": "0b4cd5d2-c774-447a-a7a9-c7a240db62ef",
   "metadata": {},
   "source": [
    "### **10.1.4 使用文件的内容**"
   ]
  },
  {
   "cell_type": "code",
   "execution_count": 5,
   "id": "cb99dbe7-1241-471f-bf94-3cb243b6cdc1",
   "metadata": {
    "execution": {
     "iopub.execute_input": "2024-05-11T01:46:04.548152Z",
     "iopub.status.busy": "2024-05-11T01:46:04.547151Z",
     "iopub.status.idle": "2024-05-11T01:46:04.552657Z",
     "shell.execute_reply": "2024-05-11T01:46:04.552657Z",
     "shell.execute_reply.started": "2024-05-11T01:46:04.548152Z"
    }
   },
   "outputs": [
    {
     "name": "stdout",
     "output_type": "stream",
     "text": [
      "3.1415926535  8979323846  2643383279\n",
      "36\n"
     ]
    }
   ],
   "source": [
    "from pathlib import Path\n",
    "\n",
    "path = Path('pi_digits.txt')\n",
    "contents = path.read_text()\n",
    "\n",
    "#使用splitlines（）方法转换为一系列行\n",
    "lines = contents.splitlines()\n",
    "\n",
    "#创建一个空变量，用于存储值\n",
    "pi_string = ''\n",
    "\n",
    "#使用循环将值加入变量\n",
    "for line in lines:\n",
    "    pi_string += line\n",
    "\n",
    "print(pi_string)\n",
    "print(len(pi_string))"
   ]
  },
  {
   "cell_type": "code",
   "execution_count": 4,
   "id": "ad9768d9-d385-4b68-8593-7b787692b0f7",
   "metadata": {
    "execution": {
     "iopub.execute_input": "2024-05-11T01:42:27.752976Z",
     "iopub.status.busy": "2024-05-11T01:42:27.752976Z",
     "iopub.status.idle": "2024-05-11T01:42:27.763462Z",
     "shell.execute_reply": "2024-05-11T01:42:27.763462Z",
     "shell.execute_reply.started": "2024-05-11T01:42:27.752976Z"
    }
   },
   "outputs": [
    {
     "name": "stdout",
     "output_type": "stream",
     "text": [
      "3.141592653589793238462643383279\n",
      "32\n"
     ]
    }
   ],
   "source": [
    "from pathlib import Path\n",
    "\n",
    "path = Path('pi_digits.txt')\n",
    "contents = path.read_text()\n",
    "\n",
    "lines = contents.splitlines()\n",
    "pi_string = ''\n",
    "for line in lines:\n",
    "    pi_string += line.lstrip()\n",
    "\n",
    "print(pi_string)\n",
    "print(len(pi_string))"
   ]
  },
  {
   "cell_type": "markdown",
   "id": "bf2abee8-f076-4fbf-8f4d-904debbfb275",
   "metadata": {},
   "source": [
    "### **10.1.5 包含100万位的大型文件**"
   ]
  },
  {
   "cell_type": "code",
   "execution_count": 9,
   "id": "2328c17e-b106-41ae-af79-e3f516953d09",
   "metadata": {
    "execution": {
     "iopub.execute_input": "2024-05-11T02:59:25.977286Z",
     "iopub.status.busy": "2024-05-11T02:59:25.977286Z",
     "iopub.status.idle": "2024-05-11T02:59:26.219752Z",
     "shell.execute_reply": "2024-05-11T02:59:26.218745Z",
     "shell.execute_reply.started": "2024-05-11T02:59:25.977286Z"
    }
   },
   "outputs": [
    {
     "name": "stdout",
     "output_type": "stream",
     "text": [
      "3.14159265358979323846264338327950288419716939937510…\n",
      "1000002\n"
     ]
    }
   ],
   "source": [
    "from pathlib import Path\n",
    "\n",
    "path = Path('pi_million_digits.txt')\n",
    "contents = path.read_text()\n",
    "\n",
    "lines = contents.splitlines()\n",
    "pi_string = ''\n",
    "for line in lines:\n",
    "    pi_string += line.lstrip()\n",
    "\n",
    "print(f'{pi_string[:52]}…')\n",
    "print(len(pi_string))"
   ]
  },
  {
   "cell_type": "markdown",
   "id": "2c47ef46-d334-4969-913b-77a8819ac7b3",
   "metadata": {},
   "source": [
    "### **10.1.6 圆周率值中包含你的生日吗**"
   ]
  },
  {
   "cell_type": "code",
   "execution_count": 10,
   "id": "0bfcb70b-6a23-45f7-bd1b-3e767e1afd2d",
   "metadata": {
    "execution": {
     "iopub.execute_input": "2024-05-11T03:07:26.745954Z",
     "iopub.status.busy": "2024-05-11T03:07:26.745954Z",
     "iopub.status.idle": "2024-05-11T03:07:39.494295Z",
     "shell.execute_reply": "2024-05-11T03:07:39.493288Z",
     "shell.execute_reply.started": "2024-05-11T03:07:26.745954Z"
    }
   },
   "outputs": [
    {
     "name": "stdin",
     "output_type": "stream",
     "text": [
      "Enter your birthday, in the form mmddyy:  0921\n"
     ]
    },
    {
     "name": "stdout",
     "output_type": "stream",
     "text": [
      "Your birthday appears in the first million digits of pil!\n"
     ]
    }
   ],
   "source": [
    "from pathlib import Path\n",
    "\n",
    "path = Path('pi_million_digits.txt')\n",
    "contents = path.read_text()\n",
    "\n",
    "lines = contents.splitlines()\n",
    "pi_string = ''\n",
    "for line in lines:\n",
    "    pi_string += line.strip()\n",
    "\n",
    "birthday = input('Enter your birthday, in the form mmddyy: ')\n",
    "if birthday in pi_string:\n",
    "    print('Your birthday appears in the first million digits of pil!')\n",
    "else:\n",
    "    print('Your birthday does not appear in the first million digits of pil!')"
   ]
  },
  {
   "cell_type": "markdown",
   "id": "5130c1a0-c400-4fa8-98eb-fbd754d2b77f",
   "metadata": {},
   "source": [
    "## **10.2 写入文件**"
   ]
  },
  {
   "cell_type": "markdown",
   "id": "180178ca-f2b8-49ae-9e9d-531cb097c5a1",
   "metadata": {},
   "source": [
    "### **10.2.1 写入一行**"
   ]
  },
  {
   "cell_type": "code",
   "execution_count": 13,
   "id": "ed5fa839-881e-40d1-b0d1-264894dc1075",
   "metadata": {
    "execution": {
     "iopub.execute_input": "2024-05-11T03:19:48.635796Z",
     "iopub.status.busy": "2024-05-11T03:19:48.635796Z",
     "iopub.status.idle": "2024-05-11T03:19:48.640821Z",
     "shell.execute_reply": "2024-05-11T03:19:48.640821Z",
     "shell.execute_reply.started": "2024-05-11T03:19:48.635796Z"
    }
   },
   "outputs": [
    {
     "data": {
      "text/plain": [
       "19"
      ]
     },
     "execution_count": 13,
     "metadata": {},
     "output_type": "execute_result"
    }
   ],
   "source": [
    "from pathlib import Path\n",
    "\n",
    "path = Path('programming.txt')\n",
    "path.write_text('I love programming.')"
   ]
  },
  {
   "cell_type": "markdown",
   "id": "f396622a-a82e-4838-a2e1-d9dc8bffa6e3",
   "metadata": {},
   "source": [
    "### **10.2.2 写入多行**"
   ]
  },
  {
   "cell_type": "code",
   "execution_count": 14,
   "id": "de7c6065-004d-4b8c-b776-cd95c652a94e",
   "metadata": {
    "execution": {
     "iopub.execute_input": "2024-05-11T03:30:27.085567Z",
     "iopub.status.busy": "2024-05-11T03:30:27.085567Z",
     "iopub.status.idle": "2024-05-11T03:30:27.094085Z",
     "shell.execute_reply": "2024-05-11T03:30:27.094085Z",
     "shell.execute_reply.started": "2024-05-11T03:30:27.085567Z"
    }
   },
   "outputs": [
    {
     "data": {
      "text/plain": [
       "78"
      ]
     },
     "execution_count": 14,
     "metadata": {},
     "output_type": "execute_result"
    }
   ],
   "source": [
    "from pathlib import Path\n",
    "\n",
    "contents = 'I love programming.\\n'\n",
    "contents += 'I love creating new games.\\n'\n",
    "contents += 'I also love working with data.\\n'\n",
    "\n",
    "path = Path('programming.txt')\n",
    "path.write_text(contents)"
   ]
  },
  {
   "cell_type": "markdown",
   "id": "130b681f-5a14-4c49-9a35-02dabc427e0d",
   "metadata": {},
   "source": [
    "## **10.3 异常**"
   ]
  },
  {
   "cell_type": "markdown",
   "id": "5f72e15f-f763-48f9-9535-01694b904676",
   "metadata": {},
   "source": [
    "### **10.3.1 处理ZeroDivisionError异常**"
   ]
  },
  {
   "cell_type": "code",
   "execution_count": 15,
   "id": "528c85fb-e830-4df4-8af3-96459ff3985d",
   "metadata": {
    "execution": {
     "iopub.execute_input": "2024-05-11T03:36:17.290201Z",
     "iopub.status.busy": "2024-05-11T03:36:17.290201Z",
     "iopub.status.idle": "2024-05-11T03:36:17.307136Z",
     "shell.execute_reply": "2024-05-11T03:36:17.307136Z",
     "shell.execute_reply.started": "2024-05-11T03:36:17.290201Z"
    }
   },
   "outputs": [
    {
     "ename": "ZeroDivisionError",
     "evalue": "division by zero",
     "output_type": "error",
     "traceback": [
      "\u001b[1;31m---------------------------------------------------------------------------\u001b[0m",
      "\u001b[1;31mZeroDivisionError\u001b[0m                         Traceback (most recent call last)",
      "Cell \u001b[1;32mIn[15], line 1\u001b[0m\n\u001b[1;32m----> 1\u001b[0m \u001b[38;5;28mprint\u001b[39m(\u001b[38;5;241m5\u001b[39m\u001b[38;5;241m/\u001b[39m\u001b[38;5;241m0\u001b[39m)\n",
      "\u001b[1;31mZeroDivisionError\u001b[0m: division by zero"
     ]
    }
   ],
   "source": [
    "print(5/0)"
   ]
  },
  {
   "cell_type": "markdown",
   "id": "633d9a8a-a983-423e-b494-3794a5742773",
   "metadata": {},
   "source": [
    "### **10.3.2 使用try-except代码块**"
   ]
  },
  {
   "cell_type": "code",
   "execution_count": 1,
   "id": "77a37d67-5843-4d20-a103-ecc5ed2fbc25",
   "metadata": {
    "execution": {
     "iopub.execute_input": "2024-05-15T01:07:41.621605Z",
     "iopub.status.busy": "2024-05-15T01:07:41.621605Z",
     "iopub.status.idle": "2024-05-15T01:07:41.631879Z",
     "shell.execute_reply": "2024-05-15T01:07:41.630876Z",
     "shell.execute_reply.started": "2024-05-15T01:07:41.621605Z"
    }
   },
   "outputs": [
    {
     "name": "stdout",
     "output_type": "stream",
     "text": [
      "You can't divide by zero!\n"
     ]
    }
   ],
   "source": [
    "#try-except代码块告诉程序在发生异常时该怎么办\n",
    "try:\n",
    "    print(5/0)\n",
    "except ZeroDivisionError:\n",
    "    print(\"You can't divide by zero!\")"
   ]
  },
  {
   "cell_type": "markdown",
   "id": "74a08818-ed80-4627-889b-a348364334a9",
   "metadata": {},
   "source": [
    "### **10.3.3 使用异常避免崩溃**"
   ]
  },
  {
   "cell_type": "code",
   "execution_count": 2,
   "id": "46f1cf9d-db55-4332-ac8a-ad428c390e0a",
   "metadata": {
    "execution": {
     "iopub.execute_input": "2024-05-15T01:12:14.746618Z",
     "iopub.status.busy": "2024-05-15T01:12:14.746618Z",
     "iopub.status.idle": "2024-05-15T01:15:15.597632Z",
     "shell.execute_reply": "2024-05-15T01:15:15.596620Z",
     "shell.execute_reply.started": "2024-05-15T01:12:14.746618Z"
    }
   },
   "outputs": [
    {
     "name": "stdout",
     "output_type": "stream",
     "text": [
      "Give me two numbers, and I'll divide them.\n",
      "Enter 'q' to quit.\n"
     ]
    },
    {
     "name": "stdin",
     "output_type": "stream",
     "text": [
      "\n",
      "First number: 5\n",
      "Second number: 0\n"
     ]
    },
    {
     "ename": "ZeroDivisionError",
     "evalue": "division by zero",
     "output_type": "error",
     "traceback": [
      "\u001b[1;31m---------------------------------------------------------------------------\u001b[0m",
      "\u001b[1;31mZeroDivisionError\u001b[0m                         Traceback (most recent call last)",
      "Cell \u001b[1;32mIn[2], line 14\u001b[0m\n\u001b[0;32m     12\u001b[0m     \u001b[38;5;28;01mbreak\u001b[39;00m\n\u001b[0;32m     13\u001b[0m \u001b[38;5;66;03m#输出答案，即第一个数除以第二个数\u001b[39;00m\n\u001b[1;32m---> 14\u001b[0m answer \u001b[38;5;241m=\u001b[39m \u001b[38;5;28mint\u001b[39m(first_number)\u001b[38;5;241m/\u001b[39m\u001b[38;5;28mint\u001b[39m(second_number)\n\u001b[0;32m     15\u001b[0m \u001b[38;5;28mprint\u001b[39m(answer)\n",
      "\u001b[1;31mZeroDivisionError\u001b[0m: division by zero"
     ]
    }
   ],
   "source": [
    "print(\"Give me two numbers, and I'll divide them.\")\n",
    "print(\"Enter 'q' to quit.\")\n",
    "\n",
    "while True:\n",
    "    #提示输入一个数，按q退出\n",
    "    first_number = input(\"\\nFirst number:\")\n",
    "    if first_number == 'q':\n",
    "        break\n",
    "    #输入第二个数，按q退出\n",
    "    second_number = input(\"Second number:\")\n",
    "    if second_number == 'q':\n",
    "        break\n",
    "    #输出答案，即第一个数除以第二个数\n",
    "    answer = int(first_number)/int(second_number)\n",
    "    print(answer)"
   ]
  },
  {
   "cell_type": "markdown",
   "id": "67994a38-4168-4a23-8cc3-db962fe4a436",
   "metadata": {},
   "source": [
    "### **10.3.4 else代码块**"
   ]
  },
  {
   "cell_type": "code",
   "execution_count": 4,
   "id": "e8baef41-fbde-4c8f-b8a3-7654ef1fd4ca",
   "metadata": {
    "execution": {
     "iopub.execute_input": "2024-05-15T01:22:18.298275Z",
     "iopub.status.busy": "2024-05-15T01:22:18.298275Z",
     "iopub.status.idle": "2024-05-15T01:22:28.942047Z",
     "shell.execute_reply": "2024-05-15T01:22:28.941098Z",
     "shell.execute_reply.started": "2024-05-15T01:22:18.298275Z"
    }
   },
   "outputs": [
    {
     "name": "stdout",
     "output_type": "stream",
     "text": [
      "Give me two numbers, and I'll divide them.\n",
      "Enter 'q' to quit.\n"
     ]
    },
    {
     "name": "stdin",
     "output_type": "stream",
     "text": [
      "\n",
      "First number: 5\n",
      "Second number: 4\n"
     ]
    },
    {
     "name": "stdout",
     "output_type": "stream",
     "text": [
      "1.25\n"
     ]
    },
    {
     "name": "stdin",
     "output_type": "stream",
     "text": [
      "\n",
      "First number: 5\n",
      "Second number: 0\n"
     ]
    },
    {
     "name": "stdout",
     "output_type": "stream",
     "text": [
      "You can't divide by 0!\n"
     ]
    },
    {
     "name": "stdin",
     "output_type": "stream",
     "text": [
      "\n",
      "First number: 1\n",
      "Second number: q\n"
     ]
    }
   ],
   "source": [
    "print(\"Give me two numbers, and I'll divide them.\")\n",
    "print(\"Enter 'q' to quit.\")\n",
    "\n",
    "while True:\n",
    "    #提示输入一个数，按q退出\n",
    "    first_number = input(\"\\nFirst number:\")\n",
    "    if first_number == 'q':\n",
    "        break\n",
    "    #输入第二个数，按q退出\n",
    "    second_number = input(\"Second number:\")\n",
    "    if second_number == 'q':\n",
    "        break\n",
    "    #输出答案，即第一个数除以第二个数\n",
    "    try:\n",
    "        answer = int(first_number)/int(second_number)\n",
    "    #可能引发错误的代码放在try-except\n",
    "    except ZeroDivisionError:\n",
    "        print(\"You can't divide by 0!\")\n",
    "    #try成功执行才需要继续执行的代码放在else\n",
    "    else:\n",
    "        print(answer)"
   ]
  },
  {
   "cell_type": "markdown",
   "id": "4dcef5b9-a638-4d61-a104-e98394be8f57",
   "metadata": {},
   "source": [
    "### **10.3.5 处理FileNotFoundError异常**"
   ]
  },
  {
   "cell_type": "code",
   "execution_count": 5,
   "id": "6a199557-e2eb-44eb-8d7e-a397e5baf7a8",
   "metadata": {
    "execution": {
     "iopub.execute_input": "2024-05-15T01:26:09.740783Z",
     "iopub.status.busy": "2024-05-15T01:26:09.739783Z",
     "iopub.status.idle": "2024-05-15T01:26:09.884590Z",
     "shell.execute_reply": "2024-05-15T01:26:09.883574Z",
     "shell.execute_reply.started": "2024-05-15T01:26:09.740783Z"
    }
   },
   "outputs": [
    {
     "ename": "FileNotFoundError",
     "evalue": "[Errno 2] No such file or directory: 'alice.txt'",
     "output_type": "error",
     "traceback": [
      "\u001b[1;31m---------------------------------------------------------------------------\u001b[0m",
      "\u001b[1;31mFileNotFoundError\u001b[0m                         Traceback (most recent call last)",
      "Cell \u001b[1;32mIn[5], line 4\u001b[0m\n\u001b[0;32m      1\u001b[0m \u001b[38;5;28;01mfrom\u001b[39;00m \u001b[38;5;21;01mpathlib\u001b[39;00m \u001b[38;5;28;01mimport\u001b[39;00m Path\n\u001b[0;32m      3\u001b[0m path \u001b[38;5;241m=\u001b[39m Path(\u001b[38;5;124m'\u001b[39m\u001b[38;5;124malice.txt\u001b[39m\u001b[38;5;124m'\u001b[39m)\n\u001b[1;32m----> 4\u001b[0m contents \u001b[38;5;241m=\u001b[39m path\u001b[38;5;241m.\u001b[39mread_text(encoding\u001b[38;5;241m=\u001b[39m\u001b[38;5;124m'\u001b[39m\u001b[38;5;124mutf-8\u001b[39m\u001b[38;5;124m'\u001b[39m)\n",
      "File \u001b[1;32mD:\\anaconda\\Lib\\pathlib.py:1058\u001b[0m, in \u001b[0;36mPath.read_text\u001b[1;34m(self, encoding, errors)\u001b[0m\n\u001b[0;32m   1054\u001b[0m \u001b[38;5;250m\u001b[39m\u001b[38;5;124;03m\"\"\"\u001b[39;00m\n\u001b[0;32m   1055\u001b[0m \u001b[38;5;124;03mOpen the file in text mode, read it, and close the file.\u001b[39;00m\n\u001b[0;32m   1056\u001b[0m \u001b[38;5;124;03m\"\"\"\u001b[39;00m\n\u001b[0;32m   1057\u001b[0m encoding \u001b[38;5;241m=\u001b[39m io\u001b[38;5;241m.\u001b[39mtext_encoding(encoding)\n\u001b[1;32m-> 1058\u001b[0m \u001b[38;5;28;01mwith\u001b[39;00m \u001b[38;5;28mself\u001b[39m\u001b[38;5;241m.\u001b[39mopen(mode\u001b[38;5;241m=\u001b[39m\u001b[38;5;124m'\u001b[39m\u001b[38;5;124mr\u001b[39m\u001b[38;5;124m'\u001b[39m, encoding\u001b[38;5;241m=\u001b[39mencoding, errors\u001b[38;5;241m=\u001b[39merrors) \u001b[38;5;28;01mas\u001b[39;00m f:\n\u001b[0;32m   1059\u001b[0m     \u001b[38;5;28;01mreturn\u001b[39;00m f\u001b[38;5;241m.\u001b[39mread()\n",
      "File \u001b[1;32mD:\\anaconda\\Lib\\pathlib.py:1044\u001b[0m, in \u001b[0;36mPath.open\u001b[1;34m(self, mode, buffering, encoding, errors, newline)\u001b[0m\n\u001b[0;32m   1042\u001b[0m \u001b[38;5;28;01mif\u001b[39;00m \u001b[38;5;124m\"\u001b[39m\u001b[38;5;124mb\u001b[39m\u001b[38;5;124m\"\u001b[39m \u001b[38;5;129;01mnot\u001b[39;00m \u001b[38;5;129;01min\u001b[39;00m mode:\n\u001b[0;32m   1043\u001b[0m     encoding \u001b[38;5;241m=\u001b[39m io\u001b[38;5;241m.\u001b[39mtext_encoding(encoding)\n\u001b[1;32m-> 1044\u001b[0m \u001b[38;5;28;01mreturn\u001b[39;00m io\u001b[38;5;241m.\u001b[39mopen(\u001b[38;5;28mself\u001b[39m, mode, buffering, encoding, errors, newline)\n",
      "\u001b[1;31mFileNotFoundError\u001b[0m: [Errno 2] No such file or directory: 'alice.txt'"
     ]
    }
   ],
   "source": [
    "from pathlib import Path\n",
    "\n",
    "path = Path('alice.txt')\n",
    "contents = path.read_text(encoding='utf-8')"
   ]
  },
  {
   "cell_type": "code",
   "execution_count": 6,
   "id": "9e273e87-9034-492c-9222-43d0055b8a7d",
   "metadata": {
    "execution": {
     "iopub.execute_input": "2024-05-15T01:32:28.112786Z",
     "iopub.status.busy": "2024-05-15T01:32:28.112786Z",
     "iopub.status.idle": "2024-05-15T01:32:28.117017Z",
     "shell.execute_reply": "2024-05-15T01:32:28.117017Z",
     "shell.execute_reply.started": "2024-05-15T01:32:28.112786Z"
    }
   },
   "outputs": [
    {
     "name": "stdout",
     "output_type": "stream",
     "text": [
      "Sorry, the file alice.txt does not exist\n"
     ]
    }
   ],
   "source": [
    "from pathlib import Path\n",
    "\n",
    "path = Path('alice.txt')\n",
    "try:\n",
    "    contents = path.read_text(encoding='utf-8')\n",
    "except FileNotFoundError:\n",
    "    print(f\"Sorry, the file {path} does not exist\")"
   ]
  },
  {
   "cell_type": "markdown",
   "id": "0b28a2d7-32a8-4e75-80bb-7b368f9a3bc6",
   "metadata": {},
   "source": [
    "### **10.3.6 分析文本**"
   ]
  },
  {
   "cell_type": "code",
   "execution_count": 7,
   "id": "2a6f0ec3-2b19-47c0-80d9-dabab886efe3",
   "metadata": {
    "execution": {
     "iopub.execute_input": "2024-05-15T01:40:55.141219Z",
     "iopub.status.busy": "2024-05-15T01:40:55.140218Z",
     "iopub.status.idle": "2024-05-15T01:40:55.151969Z",
     "shell.execute_reply": "2024-05-15T01:40:55.150965Z",
     "shell.execute_reply.started": "2024-05-15T01:40:55.141219Z"
    }
   },
   "outputs": [
    {
     "name": "stdout",
     "output_type": "stream",
     "text": [
      "The filealice.txt has about 29594 words.\n"
     ]
    }
   ],
   "source": [
    "from pathlib import Path\n",
    "\n",
    "path = Path('alice.txt')\n",
    "try:\n",
    "    contents = path.read_text(encoding='utf-8')\n",
    "except FileNotFoundError:\n",
    "    print(f\"Sorry, the file {path} does not exist\")\n",
    "else:\n",
    "    #计算文件大致包含多少个单词\n",
    "    words = contents.split()#split()方法默认以空白为分隔符将字符串拆分成多个部分\n",
    "    num_words = len(words)\n",
    "    print(f\"The file{path} has about {num_words} words.\")"
   ]
  },
  {
   "cell_type": "code",
   "execution_count": 8,
   "id": "a524571a-126b-4784-a906-d89831feb155",
   "metadata": {
    "execution": {
     "iopub.execute_input": "2024-05-15T01:41:16.696708Z",
     "iopub.status.busy": "2024-05-15T01:41:16.696708Z",
     "iopub.status.idle": "2024-05-15T01:41:16.707543Z",
     "shell.execute_reply": "2024-05-15T01:41:16.706538Z",
     "shell.execute_reply.started": "2024-05-15T01:41:16.696708Z"
    }
   },
   "outputs": [
    {
     "data": {
      "text/plain": [
       "['\\ufeffThe',\n",
       " 'Project',\n",
       " 'Gutenberg',\n",
       " 'eBook',\n",
       " 'of',\n",
       " 'Alice’s',\n",
       " 'Adventures',\n",
       " 'in',\n",
       " 'Wonderland,',\n",
       " 'by',\n",
       " 'Lewis',\n",
       " 'Carroll',\n",
       " 'This',\n",
       " 'eBook',\n",
       " 'is',\n",
       " 'for',\n",
       " 'the',\n",
       " 'use',\n",
       " 'of',\n",
       " 'anyone']"
      ]
     },
     "execution_count": 8,
     "metadata": {},
     "output_type": "execute_result"
    }
   ],
   "source": [
    "words[:20]"
   ]
  },
  {
   "cell_type": "markdown",
   "id": "fae1ca10-0d3b-4de6-802e-c4cb6ff949ef",
   "metadata": {},
   "source": [
    "### **10.3.7 使用多个文件**"
   ]
  },
  {
   "cell_type": "code",
   "execution_count": 9,
   "id": "94ed5a86-f2f9-442e-976d-126ac259a0db",
   "metadata": {
    "execution": {
     "iopub.execute_input": "2024-05-15T02:03:22.521707Z",
     "iopub.status.busy": "2024-05-15T02:03:22.521707Z",
     "iopub.status.idle": "2024-05-15T02:03:22.531992Z",
     "shell.execute_reply": "2024-05-15T02:03:22.530989Z",
     "shell.execute_reply.started": "2024-05-15T02:03:22.521707Z"
    }
   },
   "outputs": [
    {
     "name": "stdout",
     "output_type": "stream",
     "text": [
      "The filealice.txt has about 29594 words.\n"
     ]
    }
   ],
   "source": [
    "from pathlib import Path\n",
    "\n",
    "def count_words(path):\n",
    "    \"\"\"计算一个文件大致包含多少个单词\"\"\"\n",
    "    try:\n",
    "        contents = path.read_text(encoding='utf-8')\n",
    "    except FileNotFoundError:\n",
    "        print(f\"Sorry, the file {path} does not exist\")\n",
    "    else:\n",
    "        #计算文件大致包含多少个单词\n",
    "        words = contents.split()#split()方法默认以空白为分隔符将字符串拆分成多个部分\n",
    "        num_words = len(words)\n",
    "        print(f\"The file{path} has about {num_words} words.\")\n",
    "\n",
    "path = Path('alice.txt')\n",
    "count_words(path)"
   ]
  },
  {
   "cell_type": "code",
   "execution_count": 10,
   "id": "29d2106e-f153-461f-a4ee-9a70f8fbdf81",
   "metadata": {
    "execution": {
     "iopub.execute_input": "2024-05-15T02:10:10.428168Z",
     "iopub.status.busy": "2024-05-15T02:10:10.428168Z",
     "iopub.status.idle": "2024-05-15T02:10:10.485422Z",
     "shell.execute_reply": "2024-05-15T02:10:10.484368Z",
     "shell.execute_reply.started": "2024-05-15T02:10:10.428168Z"
    }
   },
   "outputs": [
    {
     "name": "stdout",
     "output_type": "stream",
     "text": [
      "The filealice.txt has about 29594 words.\n",
      "Sorry, the file siddhartha.txt does not exist\n",
      "The filemoby_dick.txt has about 215864 words.\n",
      "The filelittle_women.txt has about 189142 words.\n"
     ]
    }
   ],
   "source": [
    "from pathlib import Path\n",
    "\n",
    "def count_words(path):\n",
    "    \"\"\"计算一个文件大致包含多少个单词\"\"\"\n",
    "    try:\n",
    "        contents = path.read_text(encoding='utf-8')\n",
    "    except FileNotFoundError:\n",
    "        print(f\"Sorry, the file {path} does not exist\")\n",
    "    else:\n",
    "        #计算文件大致包含多少个单词\n",
    "        words = contents.split()#split()方法默认以空白为分隔符将字符串拆分成多个部分\n",
    "        num_words = len(words)\n",
    "        print(f\"The file{path} has about {num_words} words.\")\n",
    "\n",
    "filenames = ['alice.txt', 'siddhartha.txt', 'moby_dick.txt', 'little_women.txt']\n",
    "for filename in filenames:\n",
    "    path = Path(filename)\n",
    "    count_words(path)"
   ]
  },
  {
   "cell_type": "markdown",
   "id": "726e8870-ce77-4784-89c7-c33bbf45a128",
   "metadata": {},
   "source": [
    "### **10.3.8 静默失败**"
   ]
  },
  {
   "cell_type": "code",
   "execution_count": 11,
   "id": "6664ba17-145b-4679-bdf2-05cd3c9a94e1",
   "metadata": {
    "execution": {
     "iopub.execute_input": "2024-05-15T02:13:55.137047Z",
     "iopub.status.busy": "2024-05-15T02:13:55.137047Z",
     "iopub.status.idle": "2024-05-15T02:13:55.184947Z",
     "shell.execute_reply": "2024-05-15T02:13:55.183828Z",
     "shell.execute_reply.started": "2024-05-15T02:13:55.137047Z"
    }
   },
   "outputs": [
    {
     "name": "stdout",
     "output_type": "stream",
     "text": [
      "The filealice.txt has about 29594 words.\n",
      "The filemoby_dick.txt has about 215864 words.\n",
      "The filelittle_women.txt has about 189142 words.\n"
     ]
    }
   ],
   "source": [
    "from pathlib import Path\n",
    "\n",
    "def count_words(path):\n",
    "    \"\"\"计算一个文件大致包含多少个单词\"\"\"\n",
    "    try:\n",
    "        contents = path.read_text(encoding='utf-8')\n",
    "    except FileNotFoundError:\n",
    "        pass\n",
    "    else:\n",
    "        #计算文件大致包含多少个单词\n",
    "        words = contents.split()#split()方法默认以空白为分隔符将字符串拆分成多个部分\n",
    "        num_words = len(words)\n",
    "        print(f\"The file{path} has about {num_words} words.\")\n",
    "\n",
    "filenames = ['alice.txt', 'siddhartha.txt', 'moby_dick.txt', 'little_women.txt']\n",
    "for filename in filenames:\n",
    "    path = Path(filename)\n",
    "    count_words(path)"
   ]
  },
  {
   "cell_type": "markdown",
   "id": "c5bc937a-f11b-4fd8-9800-8c3dde6d5cdb",
   "metadata": {},
   "source": [
    "## **10.4 存储数据**"
   ]
  },
  {
   "cell_type": "markdown",
   "id": "a8238be0-9fab-44eb-9eb4-eed9f9d582ff",
   "metadata": {},
   "source": [
    "### **10.4.1 使用json.dumps()和json.loads()**"
   ]
  },
  {
   "cell_type": "code",
   "execution_count": 12,
   "id": "0eb0af54-b07f-490e-b762-c306c1c221ed",
   "metadata": {
    "execution": {
     "iopub.execute_input": "2024-05-15T02:31:41.921141Z",
     "iopub.status.busy": "2024-05-15T02:31:41.921141Z",
     "iopub.status.idle": "2024-05-15T02:31:41.926610Z",
     "shell.execute_reply": "2024-05-15T02:31:41.926610Z",
     "shell.execute_reply.started": "2024-05-15T02:31:41.921141Z"
    }
   },
   "outputs": [
    {
     "data": {
      "text/plain": [
       "20"
      ]
     },
     "execution_count": 12,
     "metadata": {},
     "output_type": "execute_result"
    }
   ],
   "source": [
    "from pathlib import Path\n",
    "import json\n",
    "\n",
    "numbers = [2, 4, 5, 8, 77, 78]\n",
    "\n",
    "#将数值列表存储到numbers.json中\n",
    "path = Path('numbers.json')\n",
    "#使用json.dumps()函数生成字符串，包含数据的JSON表现形式\n",
    "contents = json.dumps(numbers)\n",
    "path.write_text(contents)"
   ]
  },
  {
   "cell_type": "code",
   "execution_count": 14,
   "id": "dcb71e80-2ca2-41f9-8b96-2dbdc9462eec",
   "metadata": {
    "execution": {
     "iopub.execute_input": "2024-05-15T02:32:24.930166Z",
     "iopub.status.busy": "2024-05-15T02:32:24.930166Z",
     "iopub.status.idle": "2024-05-15T02:32:24.934432Z",
     "shell.execute_reply": "2024-05-15T02:32:24.933421Z",
     "shell.execute_reply.started": "2024-05-15T02:32:24.930166Z"
    }
   },
   "outputs": [
    {
     "name": "stdout",
     "output_type": "stream",
     "text": [
      "[2, 4, 5, 8, 77, 78]\n"
     ]
    }
   ],
   "source": [
    "print(contents)"
   ]
  },
  {
   "cell_type": "code",
   "execution_count": 15,
   "id": "2a1c7ecf-a91d-4e95-b05f-77abf3c3e0a4",
   "metadata": {
    "execution": {
     "iopub.execute_input": "2024-05-15T02:39:32.462657Z",
     "iopub.status.busy": "2024-05-15T02:39:32.461646Z",
     "iopub.status.idle": "2024-05-15T02:39:32.469902Z",
     "shell.execute_reply": "2024-05-15T02:39:32.469902Z",
     "shell.execute_reply.started": "2024-05-15T02:39:32.462657Z"
    }
   },
   "outputs": [
    {
     "name": "stdout",
     "output_type": "stream",
     "text": [
      "[2, 4, 5, 8, 77, 78]\n"
     ]
    }
   ],
   "source": [
    "from pathlib import Path\n",
    "import json\n",
    "\n",
    "path = Path('numbers.json')\n",
    "contents = path.read_text()\n",
    "numbers = json.loads(contents)\n",
    "\n",
    "print(numbers)"
   ]
  },
  {
   "cell_type": "code",
   "execution_count": 16,
   "id": "bfdea110-8f76-4a83-886a-ac5d6fc3afd3",
   "metadata": {
    "execution": {
     "iopub.execute_input": "2024-05-15T02:39:37.955269Z",
     "iopub.status.busy": "2024-05-15T02:39:37.955269Z",
     "iopub.status.idle": "2024-05-15T02:39:37.961349Z",
     "shell.execute_reply": "2024-05-15T02:39:37.960334Z",
     "shell.execute_reply.started": "2024-05-15T02:39:37.955269Z"
    }
   },
   "outputs": [
    {
     "data": {
      "text/plain": [
       "'[2, 4, 5, 8, 77, 78]'"
      ]
     },
     "execution_count": 16,
     "metadata": {},
     "output_type": "execute_result"
    }
   ],
   "source": [
    "contents"
   ]
  },
  {
   "cell_type": "markdown",
   "id": "80aaffdf-80b4-4479-92a4-542fc5395ff7",
   "metadata": {},
   "source": [
    "### **10.4.2 保存和读取用户生成的数据**"
   ]
  },
  {
   "cell_type": "code",
   "execution_count": 1,
   "id": "fe65e9fc-70f2-4309-9ac8-8d25ef804b2a",
   "metadata": {
    "execution": {
     "iopub.execute_input": "2024-05-17T02:08:59.662463Z",
     "iopub.status.busy": "2024-05-17T02:08:59.662463Z",
     "iopub.status.idle": "2024-05-17T02:09:05.133634Z",
     "shell.execute_reply": "2024-05-17T02:09:05.132867Z",
     "shell.execute_reply.started": "2024-05-17T02:08:59.662463Z"
    }
   },
   "outputs": [
    {
     "name": "stdin",
     "output_type": "stream",
     "text": [
      "What is your name? shabi\n"
     ]
    },
    {
     "name": "stdout",
     "output_type": "stream",
     "text": [
      "We will remember you when you come back, shabi!\n"
     ]
    }
   ],
   "source": [
    "from pathlib import Path\n",
    "import json\n",
    "\n",
    "username = input(\"What is your name?\")\n",
    "\n",
    "path = Path('username.json')\n",
    "contents = json.dumps(username)\n",
    "path.write_text(contents)\n",
    "\n",
    "print(f\"We will remember you when you come back, {username}!\")"
   ]
  },
  {
   "cell_type": "code",
   "execution_count": 2,
   "id": "a2e8238f-1eea-4ddb-84ed-436036392810",
   "metadata": {
    "execution": {
     "iopub.execute_input": "2024-05-17T02:12:15.224173Z",
     "iopub.status.busy": "2024-05-17T02:12:15.224173Z",
     "iopub.status.idle": "2024-05-17T02:12:15.237888Z",
     "shell.execute_reply": "2024-05-17T02:12:15.237888Z",
     "shell.execute_reply.started": "2024-05-17T02:12:15.224173Z"
    }
   },
   "outputs": [
    {
     "name": "stdout",
     "output_type": "stream",
     "text": [
      "Welcome back, shabi!\n"
     ]
    }
   ],
   "source": [
    "from pathlib import Path\n",
    "import json\n",
    "\n",
    "path = Path('username.json')\n",
    "contents = path.read_text()\n",
    "username = json.loads(contents)\n",
    "\n",
    "print(f\"Welcome back, {username}!\")"
   ]
  },
  {
   "cell_type": "code",
   "execution_count": 3,
   "id": "6ec8453f-c096-4508-a5c1-979e39fa7c7b",
   "metadata": {
    "execution": {
     "iopub.execute_input": "2024-05-17T02:12:35.063926Z",
     "iopub.status.busy": "2024-05-17T02:12:35.063926Z",
     "iopub.status.idle": "2024-05-17T02:12:35.073103Z",
     "shell.execute_reply": "2024-05-17T02:12:35.073103Z",
     "shell.execute_reply.started": "2024-05-17T02:12:35.063926Z"
    }
   },
   "outputs": [
    {
     "data": {
      "text/plain": [
       "'\"shabi\"'"
      ]
     },
     "execution_count": 3,
     "metadata": {},
     "output_type": "execute_result"
    }
   ],
   "source": [
    "contents"
   ]
  },
  {
   "cell_type": "code",
   "execution_count": 4,
   "id": "f4d59a12-d1e0-4e1e-977a-4c372a3e7832",
   "metadata": {
    "execution": {
     "iopub.execute_input": "2024-05-17T02:12:48.688491Z",
     "iopub.status.busy": "2024-05-17T02:12:48.688491Z",
     "iopub.status.idle": "2024-05-17T02:12:48.692938Z",
     "shell.execute_reply": "2024-05-17T02:12:48.692938Z",
     "shell.execute_reply.started": "2024-05-17T02:12:48.688491Z"
    }
   },
   "outputs": [
    {
     "data": {
      "text/plain": [
       "'shabi'"
      ]
     },
     "execution_count": 4,
     "metadata": {},
     "output_type": "execute_result"
    }
   ],
   "source": [
    "username"
   ]
  },
  {
   "cell_type": "code",
   "execution_count": 2,
   "id": "50909c27-246b-478e-92e5-0852eca877ec",
   "metadata": {
    "execution": {
     "iopub.execute_input": "2024-05-17T02:24:06.502683Z",
     "iopub.status.busy": "2024-05-17T02:24:06.502683Z",
     "iopub.status.idle": "2024-05-17T02:24:06.509036Z",
     "shell.execute_reply": "2024-05-17T02:24:06.508053Z",
     "shell.execute_reply.started": "2024-05-17T02:24:06.502683Z"
    }
   },
   "outputs": [
    {
     "name": "stdout",
     "output_type": "stream",
     "text": [
      "Welcome back, shabi!\n"
     ]
    }
   ],
   "source": [
    "from pathlib import Path\n",
    "import json\n",
    "\n",
    "path = Path('username.json')\n",
    "if path.exists():\n",
    "    contents = path.read_text()\n",
    "    username = json.loads(contents)\n",
    "    print(f\"Welcome back, {username}!\")\n",
    "else:\n",
    "    username = input(\"What is your name?\")\n",
    "    contents = json.dumps(username)\n",
    "    path.write_text(contents)\n",
    "    print(f\"We will remember you when you come back, {username}!\")"
   ]
  },
  {
   "cell_type": "markdown",
   "id": "b5e52aa6-9e44-45db-a33d-f2f914daecb8",
   "metadata": {},
   "source": [
    "### **10.4.3 重构**"
   ]
  },
  {
   "cell_type": "code",
   "execution_count": 4,
   "id": "c01589cc-36d1-4e05-81b8-dc08017c79b7",
   "metadata": {
    "execution": {
     "iopub.execute_input": "2024-05-17T02:38:27.340417Z",
     "iopub.status.busy": "2024-05-17T02:38:27.340417Z",
     "iopub.status.idle": "2024-05-17T02:38:27.346869Z",
     "shell.execute_reply": "2024-05-17T02:38:27.345831Z",
     "shell.execute_reply.started": "2024-05-17T02:38:27.340417Z"
    }
   },
   "outputs": [
    {
     "name": "stdout",
     "output_type": "stream",
     "text": [
      "Welcome back, shabi!\n"
     ]
    }
   ],
   "source": [
    "from pathlib import Path\n",
    "import json\n",
    "\n",
    "def greet_user():\n",
    "    \"\"\"问候用户，并指出其名字\"\"\"\n",
    "    path = Path('username.json')\n",
    "    if path.exists():#如果文件存在，则返回True\n",
    "        contents = path.read_text()#读取特殊格式的文本文件\n",
    "        username = json.loads(contents)#文件的内容传给函数，这个函数将json格式的字符串作为参数返回应该python对象\n",
    "        print(f\"Welcome back, {username}!\")\n",
    "    else:\n",
    "        username = input(\"What is your name?\")\n",
    "        contents = json.dumps(username)#dumps函数生成应该字符串\n",
    "        path.write_text(contents)#写入文件\n",
    "        print(f\"We will remember you when you come back, {username}!\")\n",
    "\n",
    "greet_user()"
   ]
  },
  {
   "cell_type": "code",
   "execution_count": 6,
   "id": "d1c0f63a-addd-4547-ab2e-36fbba9ae10b",
   "metadata": {
    "execution": {
     "iopub.execute_input": "2024-05-17T02:45:06.431377Z",
     "iopub.status.busy": "2024-05-17T02:45:06.431377Z",
     "iopub.status.idle": "2024-05-17T02:45:06.444061Z",
     "shell.execute_reply": "2024-05-17T02:45:06.444061Z",
     "shell.execute_reply.started": "2024-05-17T02:45:06.431377Z"
    }
   },
   "outputs": [
    {
     "name": "stdout",
     "output_type": "stream",
     "text": [
      "Welcome back, shabi!\n"
     ]
    }
   ],
   "source": [
    "from pathlib import Path\n",
    "import json\n",
    "\n",
    "def get_stored_username(path):\n",
    "    \"\"\"如果存储了用户名，就获取它\"\"\"\n",
    "    if path.exists():#如果文件存在，则返回True\n",
    "        contents = path.read_text()#读取特殊格式的文本文件\n",
    "        username = json.loads(contents)#文件的内容传给函数，这个函数将json格式的字符串作为参数返回应该python对象\n",
    "        return username\n",
    "    else:\n",
    "        return None\n",
    "\n",
    "def greet_user():\n",
    "    \"\"\"问候用户并指出其名字\"\"\"\n",
    "    path = Path('username.json')\n",
    "    username = get_stored_username(path)\n",
    "    if username:\n",
    "        print(f\"Welcome back, {username}!\")\n",
    "    else:\n",
    "        username = input(\"What is your name?\")\n",
    "        contents = json.dumps(username)#dumps函数生成应该字符串\n",
    "        path.write_text(contents)#写入文件\n",
    "        print(f\"We will remember you when you come back, {username}!\")\n",
    "\n",
    "greet_user()"
   ]
  },
  {
   "cell_type": "code",
   "execution_count": 7,
   "id": "4efbd6b2-42fe-4dfb-b30a-a528cd235fa1",
   "metadata": {
    "execution": {
     "iopub.execute_input": "2024-05-17T02:51:05.520154Z",
     "iopub.status.busy": "2024-05-17T02:51:05.518649Z",
     "iopub.status.idle": "2024-05-17T02:51:05.526066Z",
     "shell.execute_reply": "2024-05-17T02:51:05.526066Z",
     "shell.execute_reply.started": "2024-05-17T02:51:05.520154Z"
    }
   },
   "outputs": [
    {
     "name": "stdout",
     "output_type": "stream",
     "text": [
      "Welcome back, shabi!\n"
     ]
    }
   ],
   "source": [
    "from pathlib import Path\n",
    "import json\n",
    "\n",
    "def get_stored_username(path):\n",
    "    \"\"\"如果存储了用户名，就获取它\"\"\"\n",
    "    if path.exists():#如果文件存在，则返回True\n",
    "        contents = path.read_text()#读取特殊格式的文本文件\n",
    "        username = json.loads(contents)#文件的内容传给函数，这个函数将json格式的字符串作为参数返回应该python对象\n",
    "        return username\n",
    "    else:\n",
    "        return None\n",
    "\n",
    "def get_new_username(path):\n",
    "    \"\"\"提示用户输入用户名\"\"\"\n",
    "    username = input(\"What is your name?\")\n",
    "    contents = json.dumps(username)#dumps函数生成应该字符串\n",
    "    path.write_text(contents)#写入文件\n",
    "    return username\n",
    "    \n",
    "def greet_user():\n",
    "    \"\"\"问候用户并指出其名字\"\"\"\n",
    "    path = Path('username.json')\n",
    "    username = get_stored_username(path)\n",
    "    if username:\n",
    "        print(f\"Welcome back, {username}!\")\n",
    "    else:\n",
    "        username = get_new_username(path)\n",
    "        print(f\"We will remember you when you come back, {username}!\")\n",
    "\n",
    "greet_user()"
   ]
  },
  {
   "cell_type": "markdown",
   "id": "21778d17-428e-455c-ab76-ab1b77c7444d",
   "metadata": {},
   "source": [
    "# *练习*"
   ]
  },
  {
   "cell_type": "markdown",
   "id": "f72983a1-c763-4b20-ba61-c90dafa45d20",
   "metadata": {},
   "source": [
    "## *10.1 Python学习笔记*"
   ]
  },
  {
   "cell_type": "code",
   "execution_count": 1,
   "id": "ca672b6d-c100-4e0e-b1f0-5173a85f3b80",
   "metadata": {
    "execution": {
     "iopub.execute_input": "2024-05-17T03:52:03.937491Z",
     "iopub.status.busy": "2024-05-17T03:52:03.936284Z",
     "iopub.status.idle": "2024-05-17T03:52:03.951680Z",
     "shell.execute_reply": "2024-05-17T03:52:03.950675Z",
     "shell.execute_reply.started": "2024-05-17T03:52:03.937491Z"
    }
   },
   "outputs": [
    {
     "name": "stdout",
     "output_type": "stream",
     "text": [
      "In Python you can read a file.\n",
      "In Python you can write a file.\n",
      "In Python you can define your function.\n"
     ]
    }
   ],
   "source": [
    "from pathlib import Path\n",
    "\n",
    "path = Path('learning_python.txt')\n",
    "contents = path.read_text()\n",
    "print(contents)"
   ]
  },
  {
   "cell_type": "code",
   "execution_count": 3,
   "id": "58553ea8-4551-4b67-8ec1-bd6c7c9ba37d",
   "metadata": {
    "execution": {
     "iopub.execute_input": "2024-05-17T03:58:54.622899Z",
     "iopub.status.busy": "2024-05-17T03:58:54.622899Z",
     "iopub.status.idle": "2024-05-17T03:58:54.627645Z",
     "shell.execute_reply": "2024-05-17T03:58:54.627645Z",
     "shell.execute_reply.started": "2024-05-17T03:58:54.622899Z"
    }
   },
   "outputs": [
    {
     "name": "stdout",
     "output_type": "stream",
     "text": [
      "In Python you can read a file.\n",
      "In Python you can write a file.\n",
      "In Python you can define your function.\n",
      "['In Python you can read a file.', 'In Python you can write a file.', 'In Python you can define your function.']\n"
     ]
    }
   ],
   "source": [
    "from pathlib import Path\n",
    "\n",
    "path = Path('learning_python.txt')\n",
    "contents = path.read_text()\n",
    "\n",
    "lines = contents.splitlines()\n",
    "for line in lines:\n",
    "    print(line)\n",
    "\n",
    "print(lines)"
   ]
  },
  {
   "cell_type": "markdown",
   "id": "83f70ea0-fe7d-46f3-8f55-395769f22747",
   "metadata": {},
   "source": [
    "## *10.2 C语言学习笔记*"
   ]
  },
  {
   "cell_type": "code",
   "execution_count": 5,
   "id": "5aae046f-54ff-4240-b5d9-92749d07adb0",
   "metadata": {
    "execution": {
     "iopub.execute_input": "2024-05-18T04:22:03.965557Z",
     "iopub.status.busy": "2024-05-18T04:22:03.961555Z",
     "iopub.status.idle": "2024-05-18T04:22:03.971168Z",
     "shell.execute_reply": "2024-05-18T04:22:03.970169Z",
     "shell.execute_reply.started": "2024-05-18T04:22:03.965557Z"
    }
   },
   "outputs": [
    {
     "name": "stdout",
     "output_type": "stream",
     "text": [
      "In C you can read a file.\n",
      "In C you can write a file.\n",
      "In C you can define your function.\n"
     ]
    }
   ],
   "source": [
    "from pathlib import Path\n",
    "\n",
    "path = Path('learning_python.txt')\n",
    "contents = path.read_text()\n",
    "\n",
    "lines = contents.splitlines()\n",
    "for line in lines:\n",
    "    line = line.replace('Python', 'C')\n",
    "    print(line)"
   ]
  },
  {
   "cell_type": "markdown",
   "id": "8bff569b-6e32-4a74-8288-ba47613918e3",
   "metadata": {},
   "source": [
    "## *10.3 简化代码*"
   ]
  },
  {
   "cell_type": "code",
   "execution_count": 6,
   "id": "0c67c3c8-d61d-43b9-8dae-cfcf82151b8d",
   "metadata": {
    "execution": {
     "iopub.execute_input": "2024-05-18T04:24:00.920000Z",
     "iopub.status.busy": "2024-05-18T04:24:00.920000Z",
     "iopub.status.idle": "2024-05-18T04:24:00.925883Z",
     "shell.execute_reply": "2024-05-18T04:24:00.925377Z",
     "shell.execute_reply.started": "2024-05-18T04:24:00.920000Z"
    }
   },
   "outputs": [
    {
     "name": "stdout",
     "output_type": "stream",
     "text": [
      "In C you can read a file.\n",
      "In C you can write a file.\n",
      "In C you can define your function.\n"
     ]
    }
   ],
   "source": [
    "from pathlib import Path\n",
    "\n",
    "path = Path('learning_python.txt')\n",
    "contents = path.read_text()\n",
    "\n",
    "for line in contents.splitlines():\n",
    "    line = line.replace('Python', 'C')\n",
    "    print(line)"
   ]
  },
  {
   "cell_type": "markdown",
   "id": "efdc4fee-c9d2-4d7a-ad74-7555a43be78c",
   "metadata": {},
   "source": [
    "## *10.4 访客*"
   ]
  },
  {
   "cell_type": "code",
   "execution_count": 7,
   "id": "b4f40075-3f88-4508-96a3-8c912c894c58",
   "metadata": {
    "execution": {
     "iopub.execute_input": "2024-05-18T14:09:22.749807Z",
     "iopub.status.busy": "2024-05-18T14:09:22.749807Z",
     "iopub.status.idle": "2024-05-18T14:09:26.773794Z",
     "shell.execute_reply": "2024-05-18T14:09:26.772760Z",
     "shell.execute_reply.started": "2024-05-18T14:09:22.749807Z"
    }
   },
   "outputs": [
    {
     "name": "stdin",
     "output_type": "stream",
     "text": [
      "Enter your name: siwei\n"
     ]
    },
    {
     "data": {
      "text/plain": [
       "5"
      ]
     },
     "execution_count": 7,
     "metadata": {},
     "output_type": "execute_result"
    }
   ],
   "source": [
    "from pathlib import Path\n",
    "\n",
    "content = input(\"Enter your name:\")\n",
    "\n",
    "path = Path('guest.txt')\n",
    "path.write_text(content)"
   ]
  },
  {
   "cell_type": "markdown",
   "id": "67882958-e174-4764-a814-a2b6da0764dd",
   "metadata": {},
   "source": [
    "## *10.5 访客簿*"
   ]
  },
  {
   "cell_type": "code",
   "execution_count": 12,
   "id": "630f714c-ab49-4af8-9950-facdbcf904dc",
   "metadata": {
    "execution": {
     "iopub.execute_input": "2024-05-18T14:43:58.618982Z",
     "iopub.status.busy": "2024-05-18T14:43:58.618982Z",
     "iopub.status.idle": "2024-05-18T14:44:09.794169Z",
     "shell.execute_reply": "2024-05-18T14:44:09.793387Z",
     "shell.execute_reply.started": "2024-05-18T14:43:58.618982Z"
    }
   },
   "outputs": [
    {
     "name": "stdin",
     "output_type": "stream",
     "text": [
      "What is your name?Enter 'quit' to quit efh\n",
      "What is your name?Enter 'quit' to quit siwei\n",
      "What is your name?Enter 'quit' to quit hhh\n",
      "What is your name?Enter 'quit' to quit quit\n"
     ]
    },
    {
     "data": {
      "text/plain": [
       "14"
      ]
     },
     "execution_count": 12,
     "metadata": {},
     "output_type": "execute_result"
    }
   ],
   "source": [
    "from pathlib import Path\n",
    "\n",
    "#将提示词赋给变量prompt\n",
    "prompt = 'What is your name?'\n",
    "prompt += \"Enter 'quit' to quit\"\n",
    "\n",
    "names = []\n",
    "while True:\n",
    "    #提示用户输入名字并赋给name，加入列表names\n",
    "    name = input(prompt)\n",
    "    if name == 'quit':\n",
    "        break\n",
    "    else:\n",
    "        names.append(name)\n",
    "\n",
    "contents = ''\n",
    "path = Path('guest_book.txt')\n",
    "for name in names:\n",
    "    contents += f'{name}\\n'\n",
    "\n",
    "path.write_text(contents)"
   ]
  },
  {
   "cell_type": "markdown",
   "id": "928917d9-8e08-4ea0-9b24-f9a299c41d48",
   "metadata": {},
   "source": [
    "## *10.6 加法运算*"
   ]
  },
  {
   "cell_type": "code",
   "execution_count": 2,
   "id": "873bbe7e-a200-47bc-8f83-14d22f102aa2",
   "metadata": {
    "execution": {
     "iopub.execute_input": "2024-05-21T08:48:42.496697Z",
     "iopub.status.busy": "2024-05-21T08:48:42.496697Z",
     "iopub.status.idle": "2024-05-21T08:48:44.545669Z",
     "shell.execute_reply": "2024-05-21T08:48:44.545669Z",
     "shell.execute_reply.started": "2024-05-21T08:48:42.496697Z"
    }
   },
   "outputs": [
    {
     "name": "stdin",
     "output_type": "stream",
     "text": [
      "Please enter a number: 3\n",
      "Please enter another number: 4\n"
     ]
    },
    {
     "name": "stdout",
     "output_type": "stream",
     "text": [
      "The sum of 3 and 4 is 7.\n"
     ]
    }
   ],
   "source": [
    "try:\n",
    "    num_0 = input('Please enter a number:')\n",
    "    num_1 = input('Please enter another number:')\n",
    "    num_0 = int(num_0)\n",
    "    num_1 = int(num_1)\n",
    "except ValueError:\n",
    "    print('Sorry, your input is not a number.')\n",
    "else:\n",
    "    sum = num_0 + num_1\n",
    "    print(f'The sum of {num_0} and {num_1} is {sum}.')"
   ]
  },
  {
   "cell_type": "code",
   "execution_count": 3,
   "id": "a7469793-44f9-4b41-9bba-173db69e72d2",
   "metadata": {
    "execution": {
     "iopub.execute_input": "2024-05-21T08:48:57.286907Z",
     "iopub.status.busy": "2024-05-21T08:48:57.286907Z",
     "iopub.status.idle": "2024-05-21T08:49:01.313456Z",
     "shell.execute_reply": "2024-05-21T08:49:01.312401Z",
     "shell.execute_reply.started": "2024-05-21T08:48:57.286907Z"
    }
   },
   "outputs": [
    {
     "name": "stdin",
     "output_type": "stream",
     "text": [
      "Please enter a number: r\n",
      "Please enter another number: r\n"
     ]
    },
    {
     "name": "stdout",
     "output_type": "stream",
     "text": [
      "Sorry, your input is not a number.\n"
     ]
    }
   ],
   "source": [
    "try:\n",
    "    num_0 = input('Please enter a number:')\n",
    "    num_1 = input('Please enter another number:')\n",
    "    num_0 = int(num_0)\n",
    "    num_1 = int(num_1)\n",
    "except ValueError:\n",
    "    print('Sorry, your input is not a number.')\n",
    "else:\n",
    "    sum = num_0 + num_1\n",
    "    print(f'The sum of {num_0} and {num_1} is {sum}.')"
   ]
  },
  {
   "cell_type": "markdown",
   "id": "60f68cd5-6b7a-4a2d-ad09-53b2414fdbfa",
   "metadata": {},
   "source": [
    "## *10.7 加法计算器*"
   ]
  },
  {
   "cell_type": "code",
   "execution_count": 4,
   "id": "ef7203af-b6b0-4e71-a08d-ec8cdcb6c234",
   "metadata": {
    "execution": {
     "iopub.execute_input": "2024-05-21T08:53:15.057170Z",
     "iopub.status.busy": "2024-05-21T08:53:15.057170Z",
     "iopub.status.idle": "2024-05-21T08:53:31.361930Z",
     "shell.execute_reply": "2024-05-21T08:53:31.361930Z",
     "shell.execute_reply.started": "2024-05-21T08:53:15.057170Z"
    }
   },
   "outputs": [
    {
     "name": "stdout",
     "output_type": "stream",
     "text": [
      "Enter 'q' to quit at any time\n"
     ]
    },
    {
     "name": "stdin",
     "output_type": "stream",
     "text": [
      "Please enter a number: 2\n",
      "Please enter another number: 3\n"
     ]
    },
    {
     "name": "stdout",
     "output_type": "stream",
     "text": [
      "The sum of 2 and 3 is 5.\n"
     ]
    },
    {
     "name": "stdin",
     "output_type": "stream",
     "text": [
      "Please enter a number: d\n",
      "Please enter another number: e\n"
     ]
    },
    {
     "name": "stdout",
     "output_type": "stream",
     "text": [
      "Sorry, your input is not a number.\n"
     ]
    },
    {
     "name": "stdin",
     "output_type": "stream",
     "text": [
      "Please enter a number: q\n"
     ]
    }
   ],
   "source": [
    "print(\"Enter 'q' to quit at any time\") \n",
    "while True:\n",
    "    try:\n",
    "        num_0 = input('Please enter a number:')\n",
    "        if num_0 == 'q':\n",
    "            break\n",
    "        num_1 = input('Please enter another number:')\n",
    "        if num_1 == 'q':\n",
    "            break\n",
    "        num_0 = int(num_0)\n",
    "        num_1 = int(num_1)\n",
    "    except ValueError:\n",
    "        print('Sorry, your input is not a number.')\n",
    "    else:\n",
    "        sum = num_0 + num_1\n",
    "        print(f'The sum of {num_0} and {num_1} is {sum}.')"
   ]
  },
  {
   "cell_type": "markdown",
   "id": "5dea86f0-730a-45bc-a020-37f85cfcb825",
   "metadata": {},
   "source": [
    "## *10.8 猫和狗*"
   ]
  },
  {
   "cell_type": "code",
   "execution_count": 6,
   "id": "c49dc499-12f0-4565-8c01-17f09449e8e9",
   "metadata": {
    "execution": {
     "iopub.execute_input": "2024-05-21T09:06:38.377116Z",
     "iopub.status.busy": "2024-05-21T09:06:38.377116Z",
     "iopub.status.idle": "2024-05-21T09:06:38.384796Z",
     "shell.execute_reply": "2024-05-21T09:06:38.384796Z",
     "shell.execute_reply.started": "2024-05-21T09:06:38.377116Z"
    }
   },
   "outputs": [
    {
     "name": "stdout",
     "output_type": "stream",
     "text": [
      "willie\n",
      "annahootz\n",
      "summit\n",
      "Sorry, the file cats.txt does not exist.\n"
     ]
    }
   ],
   "source": [
    "from pathlib import Path\n",
    "\n",
    "files = ['dogs.txt', 'cats.txt']\n",
    "\n",
    "for file in files:\n",
    "    path = Path(file)\n",
    "    try:\n",
    "        contents = path.read_text()\n",
    "    except FileNotFoundError:\n",
    "        print(f'Sorry, the file {file} does not exist.')\n",
    "    else:\n",
    "        print(contents)"
   ]
  },
  {
   "cell_type": "markdown",
   "id": "37bb3d14-abcf-472f-b098-3be5fb72ffa1",
   "metadata": {},
   "source": [
    "## *10.9 静默的猫和狗*"
   ]
  },
  {
   "cell_type": "code",
   "execution_count": 7,
   "id": "7a17fb52-e952-4c3a-8260-aa8e7e953b41",
   "metadata": {
    "execution": {
     "iopub.execute_input": "2024-05-21T09:08:44.293207Z",
     "iopub.status.busy": "2024-05-21T09:08:44.293207Z",
     "iopub.status.idle": "2024-05-21T09:08:44.298212Z",
     "shell.execute_reply": "2024-05-21T09:08:44.298212Z",
     "shell.execute_reply.started": "2024-05-21T09:08:44.293207Z"
    }
   },
   "outputs": [
    {
     "name": "stdout",
     "output_type": "stream",
     "text": [
      "willie\n",
      "annahootz\n",
      "summit\n"
     ]
    }
   ],
   "source": [
    "from pathlib import Path\n",
    "\n",
    "files = ['dogs.txt', 'cats.txt']\n",
    "\n",
    "for file in files:\n",
    "    path = Path(file)\n",
    "    try:\n",
    "        contents = path.read_text()\n",
    "    except FileNotFoundError:\n",
    "        pass\n",
    "    else:\n",
    "        print(contents)"
   ]
  },
  {
   "cell_type": "markdown",
   "id": "89f65555-0358-49ad-96eb-75ab455cd09a",
   "metadata": {},
   "source": [
    "## *10.10 常见单词*"
   ]
  },
  {
   "cell_type": "code",
   "execution_count": 10,
   "id": "714adb89-296e-406e-8374-d3835cba66fc",
   "metadata": {
    "execution": {
     "iopub.execute_input": "2024-05-21T11:02:14.438300Z",
     "iopub.status.busy": "2024-05-21T11:02:14.438300Z",
     "iopub.status.idle": "2024-05-21T11:02:14.446298Z",
     "shell.execute_reply": "2024-05-21T11:02:14.445295Z",
     "shell.execute_reply.started": "2024-05-21T11:02:14.438300Z"
    }
   },
   "outputs": [
    {
     "name": "stdout",
     "output_type": "stream",
     "text": [
      "'the' appears about 2528 times in alice.txt.\n"
     ]
    }
   ],
   "source": [
    "from pathlib import Path\n",
    "\n",
    "def count_words(file, word):\n",
    "    \"\"\"数文本内特定单词出现的次数，可能会有误差\"\"\"\n",
    "    path = Path(file)\n",
    "    try:\n",
    "        contents = path.read_text(encoding='utf-8')\n",
    "    except FileNotFoundError:\n",
    "        pass\n",
    "    else:\n",
    "        count_words = contents.lower().count(word)\n",
    "        print(f\"'{word}' appears about {count_words} times in {file}.\")\n",
    "\n",
    "count_words('alice.txt', 'the')"
   ]
  },
  {
   "cell_type": "markdown",
   "id": "46a92fa2-dc7a-4d6d-b428-edaff0bad470",
   "metadata": {},
   "source": [
    "## *10.11 喜欢的数*"
   ]
  },
  {
   "cell_type": "code",
   "execution_count": 11,
   "id": "330e09de-ce83-4ebb-928c-572ad7f75994",
   "metadata": {
    "execution": {
     "iopub.execute_input": "2024-05-21T11:12:11.553345Z",
     "iopub.status.busy": "2024-05-21T11:12:11.552345Z",
     "iopub.status.idle": "2024-05-21T11:12:14.841041Z",
     "shell.execute_reply": "2024-05-21T11:12:14.841041Z",
     "shell.execute_reply.started": "2024-05-21T11:12:11.553345Z"
    }
   },
   "outputs": [
    {
     "name": "stdin",
     "output_type": "stream",
     "text": [
      "What is your favorite number? 3\n"
     ]
    },
    {
     "data": {
      "text/plain": [
       "3"
      ]
     },
     "execution_count": 11,
     "metadata": {},
     "output_type": "execute_result"
    }
   ],
   "source": [
    "from pathlib import Path\n",
    "import json\n",
    "\n",
    "f_num = input('What is your favorite number?')\n",
    "\n",
    "path = Path('favorite_number.json')\n",
    "contents = json.dumps(f_num)\n",
    "path.write_text(contents)"
   ]
  },
  {
   "cell_type": "code",
   "execution_count": 13,
   "id": "6c6bb787-c68a-435f-9b22-dd8ec49a9dbb",
   "metadata": {
    "execution": {
     "iopub.execute_input": "2024-05-21T11:13:38.548766Z",
     "iopub.status.busy": "2024-05-21T11:13:38.548766Z",
     "iopub.status.idle": "2024-05-21T11:13:38.554809Z",
     "shell.execute_reply": "2024-05-21T11:13:38.554809Z",
     "shell.execute_reply.started": "2024-05-21T11:13:38.548766Z"
    }
   },
   "outputs": [
    {
     "name": "stdout",
     "output_type": "stream",
     "text": [
      "I know your favorte number, it is 3.\n"
     ]
    }
   ],
   "source": [
    "number = json.loads(contents)\n",
    "print(f'I know your favorte number, it is {number}.')"
   ]
  },
  {
   "cell_type": "markdown",
   "id": "59d5a439-ae01-40f3-88c2-939c0793176e",
   "metadata": {},
   "source": [
    "## *10.12 记住喜欢的数*"
   ]
  },
  {
   "cell_type": "code",
   "execution_count": 14,
   "id": "af655e51-b67c-47e9-a105-237ea664da63",
   "metadata": {
    "execution": {
     "iopub.execute_input": "2024-05-21T11:20:45.495695Z",
     "iopub.status.busy": "2024-05-21T11:20:45.495695Z",
     "iopub.status.idle": "2024-05-21T11:20:45.500986Z",
     "shell.execute_reply": "2024-05-21T11:20:45.500986Z",
     "shell.execute_reply.started": "2024-05-21T11:20:45.495695Z"
    }
   },
   "outputs": [
    {
     "name": "stdout",
     "output_type": "stream",
     "text": [
      "I know your favorte number, it is 3.\n"
     ]
    }
   ],
   "source": [
    "from pathlib import Path\n",
    "import json\n",
    "\n",
    "path = Path('favorite_number.json')\n",
    "if path.exists():\n",
    "    contents = path.read_text()\n",
    "    number = json.loads(contents)\n",
    "    print(f'I know your favorte number, it is {number}.')\n",
    "else:\n",
    "    f_num = input('What is your favorite number?')\n",
    "    path = Path('favorite_number.json')\n",
    "    contents = json.dumps(f_num)\n",
    "    path.write_text(contents)\n",
    "    print('I will remember your favorite number.')"
   ]
  },
  {
   "cell_type": "markdown",
   "id": "afc2a7f3-026b-4208-a05d-8a5fbec5c36f",
   "metadata": {},
   "source": [
    "## *10.13 用户字典*"
   ]
  },
  {
   "cell_type": "code",
   "execution_count": 26,
   "id": "5dc1d612-239e-4a57-85e9-f220e5381bee",
   "metadata": {
    "execution": {
     "iopub.execute_input": "2024-05-21T11:50:07.059323Z",
     "iopub.status.busy": "2024-05-21T11:50:07.059323Z",
     "iopub.status.idle": "2024-05-21T11:50:07.072272Z",
     "shell.execute_reply": "2024-05-21T11:50:07.072272Z",
     "shell.execute_reply.started": "2024-05-21T11:50:07.059323Z"
    }
   },
   "outputs": [
    {
     "name": "stdout",
     "output_type": "stream",
     "text": [
      "Welcome back, siwei!\n",
      "I know your favorite number is 43.\n"
     ]
    }
   ],
   "source": [
    "from pathlib import Path\n",
    "import json\n",
    "\n",
    "def get_stored_info(path):\n",
    "    \"\"\"如果用户存储了信息，读取它\"\"\"\n",
    "    if path.exists():#如果文件存在，则返回True\n",
    "        contents = path.read_text()#读取特殊格式的文本文件\n",
    "        user_dict = json.loads(contents)#文件的内容传给函数，这个函数将json格式的字符串作为参数返回应该python对象\n",
    "        return user_dict\n",
    "    else:\n",
    "        return None\n",
    "\n",
    "def get_new_info(path):\n",
    "    \"\"\"提示用户输入信息\"\"\"\n",
    "    username = input(\"What is your name?\")\n",
    "    favorite_number = input(\"What is your favorite number?\")\n",
    "\n",
    "    user_dict = {'username':username, 'number':favorite_number}\n",
    "    contents = json.dumps(user_dict)#dumps函数生成应该字符串\n",
    "    path.write_text(contents)#写入文件\n",
    "    return user_dict\n",
    "    \n",
    "def greet_user():\n",
    "    \"\"\"问候用户并指出其信息\"\"\"\n",
    "    path = Path('user_info.json')\n",
    "    user_dict = get_stored_info(path)\n",
    "    if user_dict:\n",
    "        print(f\"Welcome back, {user_dict['username']}!\")\n",
    "        print(f\"I know your favorite number is {user_dict['number']}.\")\n",
    "    else:\n",
    "        user_dict = get_new_info(path)\n",
    "        print(f\"We will remember you when you come back, {user_dict['username']}!\")\n",
    "\n",
    "greet_user()"
   ]
  },
  {
   "cell_type": "markdown",
   "id": "df18e179-5858-43fe-93c0-9f7a3c78a74c",
   "metadata": {},
   "source": [
    "## *10.14 验证用户*"
   ]
  },
  {
   "cell_type": "code",
   "execution_count": 27,
   "id": "8143a1df-fd35-4dc2-9c14-74990b2c2129",
   "metadata": {
    "execution": {
     "iopub.execute_input": "2024-05-21T11:52:09.729234Z",
     "iopub.status.busy": "2024-05-21T11:52:09.729234Z",
     "iopub.status.idle": "2024-05-21T11:52:18.483938Z",
     "shell.execute_reply": "2024-05-21T11:52:18.483938Z",
     "shell.execute_reply.started": "2024-05-21T11:52:09.729234Z"
    }
   },
   "outputs": [
    {
     "name": "stdin",
     "output_type": "stream",
     "text": [
      "Are you shabi? (y/n)  y\n"
     ]
    },
    {
     "name": "stdout",
     "output_type": "stream",
     "text": [
      "Welcome back, shabi!\n"
     ]
    }
   ],
   "source": [
    "from pathlib import Path\n",
    "import json\n",
    "\n",
    "def get_stored_username(path):\n",
    "    \"\"\"Get stored username if available.\"\"\"\n",
    "    if path.exists():\n",
    "        contents = path.read_text()\n",
    "        username = json.loads(contents)\n",
    "        return username\n",
    "    else:\n",
    "        return None\n",
    "\n",
    "def get_new_username(path):\n",
    "    \"\"\"Prompt for a new username.\"\"\"\n",
    "    username = input(\"What is your name? \")\n",
    "    contents = json.dumps(username)\n",
    "    path.write_text(contents)\n",
    "    return username\n",
    "\n",
    "def greet_user():\n",
    "    \"\"\"Greet the user by name.\"\"\"\n",
    "    path = Path('username.json')\n",
    "    username = get_stored_username(path)\n",
    "    if username:\n",
    "        correct = input(f\"Are you {username}? (y/n) \")\n",
    "        if correct == 'y':\n",
    "            print(f\"Welcome back, {username}!\")\n",
    "        else:\n",
    "            username = get_new_username(path)\n",
    "            print(f\"We'll remember you when you come back, {username}!\")    \n",
    "    else:\n",
    "        username = get_new_username(path)\n",
    "        print(f\"We'll remember you when you come back, {username}!\")\n",
    "\n",
    "greet_user()"
   ]
  }
 ],
 "metadata": {
  "kernelspec": {
   "display_name": "Python 3 (ipykernel)",
   "language": "python",
   "name": "python3"
  },
  "language_info": {
   "codemirror_mode": {
    "name": "ipython",
    "version": 3
   },
   "file_extension": ".py",
   "mimetype": "text/x-python",
   "name": "python",
   "nbconvert_exporter": "python",
   "pygments_lexer": "ipython3",
   "version": "3.11.7"
  }
 },
 "nbformat": 4,
 "nbformat_minor": 5
}
